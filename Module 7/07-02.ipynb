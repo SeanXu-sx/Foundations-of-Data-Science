{
 "cells": [
  {
   "cell_type": "markdown",
   "metadata": {},
   "source": [
    "---\n",
    "# Module 7 Part 2: Time Series"
   ]
  },
  {
   "cell_type": "markdown",
   "metadata": {},
   "source": [
    "This module consists of 2 parts."
   ]
  },
  {
   "cell_type": "markdown",
   "metadata": {},
   "source": [
    "* Part 1 - Forecasting with Pandas\n",
    "* Part 2 - Time Series\n"
   ]
  },
  {
   "cell_type": "markdown",
   "metadata": {},
   "source": [
    "Each part is provided in a separate file. It is recommended that you follow the order of the files."
   ]
  },
  {
   "cell_type": "markdown",
   "metadata": {},
   "source": [
    "---\n",
    "# Setup"
   ]
  },
  {
   "cell_type": "markdown",
   "metadata": {},
   "source": [
    "To begin, we will import the following."
   ]
  },
  {
   "cell_type": "code",
   "execution_count": 1,
   "metadata": {},
   "outputs": [],
   "source": [
    "import numpy as np  # For computations\n",
    "import pandas as pd  # For indexing our data\n",
    "\n",
    "np.random.seed(12345)\n",
    "import matplotlib.pyplot as plt  # for visualizing our data\n",
    "\n",
    "plt.rc('figure', figsize=(10, 6))\n",
    "PREVIOUS_MAX_ROWS = pd.options.display.max_rows\n",
    "pd.options.display.max_rows = 20\n",
    "np.set_printoptions(precision=4, suppress=True)\n",
    "\n",
    "# Our temporal data types\n",
    "from datetime import datetime\n",
    "from datetime import timedelta\n",
    "\n",
    "# For grabbing data sets\n",
    "import requests"
   ]
  },
  {
   "cell_type": "markdown",
   "metadata": {},
   "source": [
    "---\n",
    "# Time Series"
   ]
  },
  {
   "cell_type": "markdown",
   "metadata": {},
   "source": [
    "A **time series** is a set of observations at different points in time. A time series can have a **fixed frequency** of measured points (i.e., monthly), or have **irregular frequency** data points which are irregularly spaced in time (i.e., whenever data is available).\n",
    "\n",
    "The time dimension in `pandas` objects can be marked and expressed in multiple ways."
   ]
  },
  {
   "cell_type": "markdown",
   "metadata": {},
   "source": [
    "| Marking Method | Example |\n",
    "| ---: | :--- |\n",
    "| Timestamps | December 13, 2017 at 11:22 EST |\n",
    "| Fixed periods | monthly |\n",
    "| Intervals | 2015-04-03 03:12 to 2015-04-14 11:11 |\n",
    "| Elapsed time | 45 mins. 32:05 secs. |"
   ]
  },
  {
   "cell_type": "markdown",
   "metadata": {},
   "source": [
    "**NOTE:** In `pandas`, time ranges can be utilized as an index. If a `Series` is created where the index is made from a list of `datetime` objects, the `Series` will become a `Timeseries`. We'll only focus on time dimension used with `Series`, but the methods discussed in this module can easily be adjusted for `DataFrames` and `Panels`."
   ]
  },
  {
   "cell_type": "code",
   "execution_count": 2,
   "metadata": {},
   "outputs": [
    {
     "data": {
      "text/plain": [
       "DatetimeIndex(['2007-07-07 00:00:00', '2007-07-07 01:00:00',\n",
       "               '2007-07-07 02:00:00', '2007-07-07 03:00:00',\n",
       "               '2007-07-07 04:00:00', '2007-07-07 05:00:00',\n",
       "               '2007-07-07 06:00:00'],\n",
       "              dtype='datetime64[ns]', freq='H')"
      ]
     },
     "execution_count": 2,
     "metadata": {},
     "output_type": "execute_result"
    }
   ],
   "source": [
    "\"\"\"\n",
    "Creating a datetime index.\n",
    "\n",
    "start : str or datetime-like, optional (Left bound for generating dates)\n",
    "end : str or datetime-like, optional (Right bound for generating dates)\n",
    "periods : integer, optional (Number of periods to generate)\n",
    "freq : str or DateOffset, default ‘D’ (calendar daily)\n",
    "    Frequency strings can have multiples, e.g. ‘5H’.\n",
    "\"\"\"\n",
    "timerange = pd.date_range('7/7/7', periods=7, freq='H') # Fixed frequency of hours\n",
    "timerange"
   ]
  },
  {
   "cell_type": "markdown",
   "metadata": {},
   "source": [
    "If a `Series` is created where the index is made from a list of `datetime` objects, the `Series` will become a `Timeseries`.\n",
    "\n",
    "We'll only focus on a time dimension used with `Series` for this module, but the methods discussed in this module can easily be adjusted for `DataFrames` and `Panels`.\n",
    "*Remember, the time dimension is simply a type of index, which can be similarly applied on a `Series`, `DataFrame`, or `Panel`. This is because `DataFrame`s are created from `Series`', and `Panel`s from `DataFrame`s.* "
   ]
  },
  {
   "cell_type": "code",
   "execution_count": 3,
   "metadata": {},
   "outputs": [
    {
     "data": {
      "text/plain": [
       "2007-07-07 00:00:00    0.795292\n",
       "2007-07-07 01:00:00    1.478943\n",
       "2007-07-07 02:00:00    0.480561\n",
       "2007-07-07 03:00:00    0.444270\n",
       "2007-07-07 04:00:00    2.965781\n",
       "2007-07-07 05:00:00    2.393406\n",
       "2007-07-07 06:00:00    1.092908\n",
       "Freq: H, dtype: float64"
      ]
     },
     "execution_count": 3,
     "metadata": {},
     "output_type": "execute_result"
    }
   ],
   "source": [
    "#creating an arbitrary time series with random numbers\n",
    "randomTimeSeries = pd.Series(np.random.randn(len(timerange)), index=timerange) + 1\n",
    "randomTimeSeries"
   ]
  },
  {
   "cell_type": "markdown",
   "metadata": {},
   "source": [
    "Unlike other index types, a unit of measure is now implicitly associated with the index. Additionally, time can be viewed at different granularities (i.e. Days, Weeks, Months). Thus, its important to know how to transform time scales, in order to align data points."
   ]
  },
  {
   "cell_type": "code",
   "execution_count": 4,
   "metadata": {},
   "outputs": [
    {
     "data": {
      "text/plain": [
       "2007-07-07 00:00:00    0.795292\n",
       "2007-07-07 00:30:00         NaN\n",
       "2007-07-07 01:00:00    1.478943\n",
       "2007-07-07 01:30:00         NaN\n",
       "2007-07-07 02:00:00    0.480561\n",
       "2007-07-07 02:30:00         NaN\n",
       "2007-07-07 03:00:00    0.444270\n",
       "2007-07-07 03:30:00         NaN\n",
       "2007-07-07 04:00:00    2.965781\n",
       "2007-07-07 04:30:00         NaN\n",
       "2007-07-07 05:00:00    2.393406\n",
       "2007-07-07 05:30:00         NaN\n",
       "2007-07-07 06:00:00    1.092908\n",
       "Freq: 30T, dtype: float64"
      ]
     },
     "execution_count": 4,
     "metadata": {},
     "output_type": "execute_result"
    }
   ],
   "source": [
    "# You can easily convert into different frequencies\n",
    "# asfreq() provides us with easy conversion methods to express our index with different frequencies.\n",
    "\"\"\"\n",
    "method : {‘backfill’/’bfill’, ‘pad’/’ffill’}, default None:\n",
    "    Method to use for filling holes when switching frequencies (note this does not fill NaNs that already were present)\n",
    "\n",
    "‘pad’ / ‘ffill’: use LAST valid observation to fill (propagate) forward to next valid observation\n",
    "‘backfill’ / ‘bfill’: use NEXT valid observation to fill (propagate) backwards to last valid observation\n",
    "\"\"\"\n",
    "randomTimeSeries.asfreq(freq='30Min')"
   ]
  },
  {
   "cell_type": "code",
   "execution_count": 5,
   "metadata": {},
   "outputs": [
    {
     "data": {
      "text/plain": [
       "2007-07-07 00:00:00    0.795292\n",
       "2007-07-07 00:30:00    0.795292\n",
       "2007-07-07 01:00:00    1.478943\n",
       "2007-07-07 01:30:00    1.478943\n",
       "2007-07-07 02:00:00    0.480561\n",
       "2007-07-07 02:30:00    0.480561\n",
       "2007-07-07 03:00:00    0.444270\n",
       "2007-07-07 03:30:00    0.444270\n",
       "2007-07-07 04:00:00    2.965781\n",
       "2007-07-07 04:30:00    2.965781\n",
       "2007-07-07 05:00:00    2.393406\n",
       "2007-07-07 05:30:00    2.393406\n",
       "2007-07-07 06:00:00    1.092908\n",
       "Freq: 30T, dtype: float64"
      ]
     },
     "execution_count": 5,
     "metadata": {},
     "output_type": "execute_result"
    }
   ],
   "source": [
    "# You can add value repetition forward (method= 'pad')\n",
    "# You could also try to fill backwards using method= 'bfill'\n",
    "# We can get a timeseries with or without value repitition forward or backward.\n",
    "# NOTE: use case is for when our values are continuous and not discrete bursts.\n",
    "randomTimeSeries.asfreq(freq='30Min', method='pad')"
   ]
  },
  {
   "cell_type": "markdown",
   "metadata": {},
   "source": [
    "Arithmetic between differently-indexed time series automatically align on the dates. The indexing, selection, and subsets work the way we've seen for `DataFrames` and `Series`, since time ranges conform to a type of `pandas` index with a few extra methods. Likewise, duplicate index timestamps are allowed similarly to regular indexes."
   ]
  },
  {
   "cell_type": "code",
   "execution_count": 6,
   "metadata": {},
   "outputs": [
    {
     "data": {
      "text/plain": [
       "2007-07-07 00:00:00    1.590585\n",
       "2007-07-07 01:00:00    2.957887\n",
       "2007-07-07 02:00:00    0.961123\n",
       "2007-07-07 03:00:00    0.888539\n",
       "2007-07-07 04:00:00    5.931561\n",
       "2007-07-07 05:00:00    4.786812\n",
       "2007-07-07 06:00:00    2.185816\n",
       "Freq: H, dtype: float64"
      ]
     },
     "execution_count": 6,
     "metadata": {},
     "output_type": "execute_result"
    }
   ],
   "source": [
    "# For example, we can apply simple operations to the time series, like so below.\n",
    "# Time Series behave similar to numpy ndarrays, series, and data frames \n",
    "# (i.e., list-like comprehensions when selecting and transforming).\n",
    "2 * randomTimeSeries"
   ]
  },
  {
   "cell_type": "code",
   "execution_count": 7,
   "metadata": {},
   "outputs": [
    {
     "data": {
      "text/plain": [
       "2007-07-07 00:00:00    1.590585\n",
       "2007-07-07 00:30:00         NaN\n",
       "2007-07-07 00:50:00         NaN\n",
       "2007-07-07 01:00:00         NaN\n",
       "2007-07-07 01:30:00         NaN\n",
       "2007-07-07 01:40:00         NaN\n",
       "2007-07-07 02:00:00         NaN\n",
       "2007-07-07 02:30:00    0.961123\n",
       "2007-07-07 03:00:00         NaN\n",
       "2007-07-07 03:20:00         NaN\n",
       "2007-07-07 03:30:00         NaN\n",
       "2007-07-07 04:00:00         NaN\n",
       "2007-07-07 04:10:00         NaN\n",
       "2007-07-07 04:30:00         NaN\n",
       "2007-07-07 05:00:00    4.786812\n",
       "2007-07-07 05:30:00         NaN\n",
       "2007-07-07 05:50:00         NaN\n",
       "2007-07-07 06:00:00         NaN\n",
       "dtype: float64"
      ]
     },
     "execution_count": 7,
     "metadata": {},
     "output_type": "execute_result"
    }
   ],
   "source": [
    "# But... changing frequencies to smaller periods adds a lot of `NaN` values (when without value padding)\n",
    "# So be mindful. The values might not transform the way you expect \n",
    "# (i.e., `NaN + 3 = NaN` and not `3`)\n",
    "randomTimeSeries.asfreq(freq='30Min', method='pad') + randomTimeSeries.asfreq(freq='50Min',  method='pad')"
   ]
  },
  {
   "cell_type": "code",
   "execution_count": 8,
   "metadata": {},
   "outputs": [
    {
     "data": {
      "text/plain": [
       "2007-07-07 00:00:00    0.281746\n",
       "2007-07-07 01:00:00    0.769023\n",
       "2007-07-07 02:00:00    1.246435\n",
       "2007-07-07 03:00:00    1.007189\n",
       "2007-07-07 04:00:00   -1.296221\n",
       "2007-07-07 05:00:00    0.274992\n",
       "2007-07-07 06:00:00    0.228913\n",
       "2007-07-07 00:00:00    1.352917\n",
       "2007-07-07 01:00:00    0.886429\n",
       "2007-07-07 02:00:00   -2.001637\n",
       "2007-07-07 03:00:00   -0.371843\n",
       "2007-07-07 04:00:00    1.669025\n",
       "2007-07-07 05:00:00   -0.438570\n",
       "2007-07-07 06:00:00   -0.539741\n",
       "dtype: float64"
      ]
     },
     "execution_count": 8,
     "metadata": {},
     "output_type": "execute_result"
    }
   ],
   "source": [
    "# Finally, index entries can have duplication, just like any other index.\n",
    "newTimerange = timerange.append(timerange)\n",
    "newTimeSeries = pd.Series(np.random.randn(len(newTimerange)), index=newTimerange)\n",
    "newTimeSeries"
   ]
  },
  {
   "cell_type": "markdown",
   "metadata": {},
   "source": [
    "However, unlike regular indexes, time ranges can be relabeled by shifting dates (i.e., adding a time offset) or resample (i.e., reconstructing a time series from itself)."
   ]
  },
  {
   "cell_type": "code",
   "execution_count": 9,
   "metadata": {},
   "outputs": [
    {
     "data": {
      "text/plain": [
       "DatetimeIndex(['2007-07-07 00:03:00', '2007-07-07 01:03:00',\n",
       "               '2007-07-07 02:03:00', '2007-07-07 03:03:00',\n",
       "               '2007-07-07 04:03:00', '2007-07-07 05:03:00',\n",
       "               '2007-07-07 06:03:00'],\n",
       "              dtype='datetime64[ns]', freq='H')"
      ]
     },
     "execution_count": 9,
     "metadata": {},
     "output_type": "execute_result"
    }
   ],
   "source": [
    "# Shifting time values with timedelta, without changing the index structure.\n",
    "# Pay attention to `freq` value. All values are shifted. The frequency is still the same.\n",
    "timerange + pd.Timedelta(\"3Min\")"
   ]
  },
  {
   "cell_type": "markdown",
   "metadata": {},
   "source": [
    "Additionally, both `Series` and `DataFrame` have a `shift()` method which shifts *data* without changing the index. The shift is specified as multiples of the frequency. The positive values shift past values forward."
   ]
  },
  {
   "cell_type": "code",
   "execution_count": 10,
   "metadata": {
    "scrolled": false
   },
   "outputs": [
    {
     "data": {
      "text/plain": [
       "{'beforeShift': 2007-07-07 00:00:00    0.795292\n",
       " 2007-07-07 01:00:00    1.478943\n",
       " 2007-07-07 02:00:00    0.480561\n",
       " 2007-07-07 03:00:00    0.444270\n",
       " 2007-07-07 04:00:00    2.965781\n",
       " 2007-07-07 05:00:00    2.393406\n",
       " 2007-07-07 06:00:00    1.092908\n",
       " Freq: H, dtype: float64, 'afterShift': 2007-07-07 00:00:00         NaN\n",
       " 2007-07-07 01:00:00    0.795292\n",
       " 2007-07-07 02:00:00    1.478943\n",
       " 2007-07-07 03:00:00    0.480561\n",
       " 2007-07-07 04:00:00    0.444270\n",
       " 2007-07-07 05:00:00    2.965781\n",
       " 2007-07-07 06:00:00    2.393406\n",
       " Freq: H, dtype: float64, 'factorTrend': 2007-07-07 00:00:00         NaN\n",
       " 2007-07-07 01:00:00    1.859622\n",
       " 2007-07-07 02:00:00    0.324936\n",
       " 2007-07-07 03:00:00    0.924481\n",
       " 2007-07-07 04:00:00    6.675631\n",
       " 2007-07-07 05:00:00    0.807007\n",
       " 2007-07-07 06:00:00    0.456633\n",
       " Freq: H, dtype: float64}"
      ]
     },
     "execution_count": 10,
     "metadata": {},
     "output_type": "execute_result"
    }
   ],
   "source": [
    "# With shift(), we can shift the `TimeSeries` (not the time range)\n",
    "{\"beforeShift\":randomTimeSeries, \"afterShift\" : randomTimeSeries.shift(1), \"factorTrend\" : randomTimeSeries / randomTimeSeries.shift(1)}\n",
    "\n",
    " "
   ]
  },
  {
   "cell_type": "markdown",
   "metadata": {},
   "source": [
    "For this Module, we will only consider time series that are observed at *regular intervals of time* (e.g., hourly, daily, weekly, monthly, quarterly, annually). The base frequency identifiers used to make time ranges in `pandas` have a lot of built-in knowledge about business calendars, allowing indexes to take into account business hours, holidays, weekends, etc. Inspect them carefully, as the right frequency can side step having to deal with  special calendar cases, such as leap years."
   ]
  },
  {
   "cell_type": "markdown",
   "metadata": {},
   "source": [
    "| ***Description of the frequency parameters in pandas*** |\n",
    "| :---: |\n",
    "|| **`freq=` parameter values for `pd.date_range()`** | **Description** ||\n",
    "|| B | business day frequency ||\n",
    "|| C | custom business day frequency ||\n",
    "|| D\t| calendar day frequency ||\n",
    "|| W | weekly frequency ||\n",
    "|| M | month end frequency ||\n",
    "|| SM | semi-month end frequency (15th and end of month) ||\n",
    "|| BM | business month end frequency ||\n",
    "|| CBM | custom business month end frequency ||\n",
    "|| MS | month start frequency ||\n",
    "|| SMS | semi-month start frequency (1st and 15th) ||\n",
    "|| BMS | business month start frequency ||\n",
    "|| CBMS | custom business month start frequency||\n",
    "|| Q | quarter end frequency ||\n",
    "|| BQ | business quarter end frequency ||\n",
    "|| QS | quarter start frequency ||\n",
    "|| BQS | business quarter start frequency ||\n",
    "||A, Y | year end frequency ||\n",
    "|| BA, BY | business year end frequency ||\n",
    "|| AS, YS | year start frequency ||\n",
    "|| BAS, BYS | business year start frequency ||\n",
    "|| BH | business hour frequency ||\n",
    "|| H | hourly frequency ||\n",
    "|| T, min | minutely frequency ||\n",
    "|| S | secondly frequency ||\n",
    "||L, ms | milliseconds ||\n",
    "||U, us | microseconds ||\n",
    "|| N | nanoseconds ||\n",
    "(Pandas Contributors, 2018)"
   ]
  },
  {
   "cell_type": "markdown",
   "metadata": {},
   "source": [
    "*Irregularly* spaced time series can also occur, but are beyond our scope of discussion. To avoid irregularity, we can convert an irregular time series to a fixed frequency where newly created observations for times without data will get values of `NaN`"
   ]
  },
  {
   "cell_type": "code",
   "execution_count": 11,
   "metadata": {},
   "outputs": [
    {
     "data": {
      "text/plain": [
       "{'original': 2007-07-07 00:00:00    0.281746\n",
       " 2007-07-07 01:00:00    0.769023\n",
       " 2007-07-07 02:00:00    1.246435\n",
       " 2007-07-07 03:00:00    1.007189\n",
       " 2007-07-07 04:00:00   -1.296221\n",
       " 2007-07-07 05:00:00    0.274992\n",
       " 2007-07-07 06:00:00    0.228913\n",
       " 2007-07-07 00:00:00    1.352917\n",
       " 2007-07-07 01:00:00    0.886429\n",
       " 2007-07-07 02:00:00   -2.001637\n",
       " 2007-07-07 03:00:00   -0.371843\n",
       " 2007-07-07 04:00:00    1.669025\n",
       " 2007-07-07 05:00:00   -0.438570\n",
       " 2007-07-07 06:00:00   -0.539741\n",
       " dtype: float64,\n",
       " 'resampled': DatetimeIndexResampler [freq=<30 * Minutes>, axis=0, closed=left, label=left, convention=start, base=0],\n",
       " 'aggregatedResample': 2007-07-07 00:00:00    1.634663\n",
       " 2007-07-07 00:30:00    0.000000\n",
       " 2007-07-07 01:00:00    1.655452\n",
       " 2007-07-07 01:30:00    0.000000\n",
       " 2007-07-07 02:00:00   -0.755203\n",
       " 2007-07-07 02:30:00    0.000000\n",
       " 2007-07-07 03:00:00    0.635347\n",
       " 2007-07-07 03:30:00    0.000000\n",
       " 2007-07-07 04:00:00    0.372804\n",
       " 2007-07-07 04:30:00    0.000000\n",
       " 2007-07-07 05:00:00   -0.163578\n",
       " 2007-07-07 05:30:00    0.000000\n",
       " 2007-07-07 06:00:00   -0.310829\n",
       " Freq: 30T, dtype: float64}"
      ]
     },
     "execution_count": 11,
     "metadata": {},
     "output_type": "execute_result"
    }
   ],
   "source": [
    "# Here we are resampling an irregular timeseries to force regularity. \n",
    "# **NOTE:** The aggregate sum() smoothens and regularizes the series.\n",
    "# **NOTE:** The duplicates were also affected by the aggregates\n",
    "{\n",
    "    \"original\":newTimeSeries,\n",
    "    \"resampled\":newTimeSeries.resample(\"30Min\"), # a function, not a Series \n",
    "    \"aggregatedResample\":newTimeSeries.resample(\"30Min\").sum() #aggregate to compute resampled series\n",
    "} "
   ]
  },
  {
   "cell_type": "markdown",
   "metadata": {},
   "source": [
    "#  Additional Resources\n",
    "\n",
    "* Brodersen, H., Gallusser, F., Kay, H. & Keohler, J. (2015). _Inferring causal impact using bayesian structural time-series models_'', Annals of Applied Statistics, vol. 9, number , pp. 247-274.  [online](https://ai.google/research/pubs/pub41854)\n",
    "* Broderson, H. & Kay, H. (2014). _Causalimpact: a new open-source package for estimating causal effects in time series | google open source blog_.  [online](https://opensource.googleblog.com/2014/09/causalimpact-new-open-source-package.html)\n",
    "* Hilpisch, Y. (2014). _Python for finance: analyze big financial data_.\n",
    "* Natrella, M. (2013).  ``_Nist/sematech e-handbook of statistical methods_'', October 2013.  [online](https://www.itl.nist.gov/div898/handbook/eda/section3/autocopl.htm)\n",
    "* Sargent, T. & Stachurski, J. (2017). ``_Quantitative economics_'',  2017.  [online](https://lectures.quantecon.org/py/index.html)\n",
    "* Shumway, R.H. & Stoffer, D.S. (2017). _Time series analysis using the r statistical package._ [online](http://www.stat.pitt.edu/stoffer/tsa4/tsaEZ.pdf)\n",
    "* Srivastava, T. (2015). _A Complete Tutorial on Time Series Modeling in R._ [online](https://www.analyticsvidhya.com/blog/2015/12/complete-tutorial-time-series-modeling/)\n",
    "* Ulrich, J. (2018). ``_Foss trading_''.  [online](http://blog.fosstrading.com/)\n"
   ]
  },
  {
   "cell_type": "markdown",
   "metadata": {},
   "source": [
    "# References\n",
    "\n",
    "Hyndman, R.J. & Athanasopoulos, G. (2018). _Forecasting: principles and practice, 2nd Ed._.  [online](https://www.otexts.org/fpp2)\n",
    "\n",
    "Pandas Contributors (2018). Time series / date functionality — pandas 0.23.3 documentation.  [online](https://pandas.pydata.org/pandas-docs/stable/timeseries.html)\n"
   ]
  },
  {
   "cell_type": "code",
   "execution_count": null,
   "metadata": {},
   "outputs": [],
   "source": []
  }
 ],
 "metadata": {
  "kernelspec": {
   "display_name": "Python 3",
   "language": "python",
   "name": "python3"
  },
  "language_info": {
   "codemirror_mode": {
    "name": "ipython",
    "version": 3
   },
   "file_extension": ".py",
   "mimetype": "text/x-python",
   "name": "python",
   "nbconvert_exporter": "python",
   "pygments_lexer": "ipython3",
   "version": "3.6.0"
  },
  "latex_envs": {
   "LaTeX_envs_menu_present": true,
   "autoclose": false,
   "autocomplete": false,
   "bibliofile": "biblio.bib",
   "cite_by": "apalike",
   "current_citInitial": 1,
   "eqLabelWithNumbers": true,
   "eqNumInitial": 1,
   "hotkeys": {
    "equation": "Ctrl-E",
    "itemize": "Ctrl-I"
   },
   "labels_anchors": false,
   "latex_user_defs": false,
   "report_style_numbering": false,
   "user_envs_cfg": false
  },
  "nbTranslate": {
   "displayLangs": [],
   "hotkey": "alt-t",
   "langInMainMenu": true,
   "sourceLang": "en",
   "targetLang": "fr",
   "useGoogleTranslate": true
  },
  "toc": {
   "base_numbering": 1,
   "nav_menu": {},
   "number_sections": true,
   "sideBar": true,
   "skip_h1_title": false,
   "title_cell": "Table of Contents",
   "title_sidebar": "Contents",
   "toc_cell": true,
   "toc_position": {
    "height": "calc(100% - 180px)",
    "left": "10px",
    "top": "150px",
    "width": "291px"
   },
   "toc_section_display": true,
   "toc_window_display": true
  },
  "varInspector": {
   "cols": {
    "lenName": 16,
    "lenType": 16,
    "lenVar": 40
   },
   "kernels_config": {
    "python": {
     "delete_cmd_postfix": "",
     "delete_cmd_prefix": "del ",
     "library": "var_list.py",
     "varRefreshCmd": "print(var_dic_list())"
    },
    "r": {
     "delete_cmd_postfix": ") ",
     "delete_cmd_prefix": "rm(",
     "library": "var_list.r",
     "varRefreshCmd": "cat(var_dic_list()) "
    }
   },
   "types_to_exclude": [
    "module",
    "function",
    "builtin_function_or_method",
    "instance",
    "_Feature"
   ],
   "window_display": false
  }
 },
 "nbformat": 4,
 "nbformat_minor": 2
}
