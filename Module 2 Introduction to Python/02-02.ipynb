{
 "cells": [
  {
   "cell_type": "markdown",
   "metadata": {},
   "source": [
    "# Module 2 Part 2: Python Strings and Lists"
   ]
  },
  {
   "cell_type": "markdown",
   "metadata": {},
   "source": [
    "This module consists of 3 parts:\n",
    "\n",
    "- **Part 1** - Introduction to Python.\n",
    "- **Part 2** - Python Strings and Lists.\n",
    "- **Part 3** - Python Tuples, Dictionaries, Reading data from a file, Formatting print output.\n",
    "\n",
    "Each part is in a separate notebook. It is recommended to follow the order of the notebooks from Part 1 to Part 3."
   ]
  },
  {
   "cell_type": "markdown",
   "metadata": {},
   "source": [
    "## Strings"
   ]
  },
  {
   "cell_type": "markdown",
   "metadata": {},
   "source": [
    "A __string__ is a sequence of characters. This type is called __str__. In Python, a string is enclosed with a single (') or double (\") quotes. Also, in Python, triple quotes (''') can be used to enclose strings that span multiple lines. Strings can contain letters, numbers or special characters. They can also be empty, e.g. `\"\"`, or contain a space character `\" \"`. A string is an ordered sequence of characters. Individual characters in a string can be accessed using the character's index with the first character having an index value of 0.\n",
    "\n",
    "The string characters can be accessed with a negative index. Negative indices count from the right-hand side with the last character at index -1, the second last at index -2 and so on. "
   ]
  },
  {
   "cell_type": "code",
   "execution_count": 3,
   "metadata": {},
   "outputs": [
    {
     "name": "stdout",
     "output_type": "stream",
     "text": [
      "P\n",
      "y\n"
     ]
    },
    {
     "data": {
      "text/plain": [
       "'g'"
      ]
     },
     "execution_count": 3,
     "metadata": {},
     "output_type": "execute_result"
    }
   ],
   "source": [
    "s1 = \"Python is the Number 1 choice for social media hacking\"\n",
    "print(s1[0])\n",
    "print(s1[1])\n",
    "s1[-1]"
   ]
  },
  {
   "cell_type": "markdown",
   "metadata": {},
   "source": [
    "Python provides many useful methods (or built-in functions) to work with strings. One of them is `len()`, which returns the number of characters in a string."
   ]
  },
  {
   "cell_type": "code",
   "execution_count": 20,
   "metadata": {},
   "outputs": [
    {
     "data": {
      "text/plain": [
       "54"
      ]
     },
     "execution_count": 20,
     "metadata": {},
     "output_type": "execute_result"
    }
   ],
   "source": [
    "len(s1)"
   ]
  },
  {
   "cell_type": "markdown",
   "metadata": {},
   "source": [
    "### Slicing."
   ]
  },
  {
   "cell_type": "markdown",
   "metadata": {},
   "source": [
    "Slice is a segment of a string from the start index up to but not including the end index."
   ]
  },
  {
   "cell_type": "code",
   "execution_count": 21,
   "metadata": {},
   "outputs": [
    {
     "data": {
      "text/plain": [
       "'thon'"
      ]
     },
     "execution_count": 21,
     "metadata": {},
     "output_type": "execute_result"
    }
   ],
   "source": [
    "s1[2:6]"
   ]
  },
  {
   "cell_type": "markdown",
   "metadata": {},
   "source": [
    "The end index can be omitted in which case it defaults to `len(str)`. For example, `s1[2:]` is equivalent to `s1[2:len(s1)]` substring from index 2 to the end of string. Similarly, if the start index is omitted the string will be sliced from index 0."
   ]
  },
  {
   "cell_type": "code",
   "execution_count": 22,
   "metadata": {},
   "outputs": [
    {
     "data": {
      "text/plain": [
       "'Py'"
      ]
     },
     "execution_count": 22,
     "metadata": {},
     "output_type": "execute_result"
    }
   ],
   "source": [
    "s1[:2]"
   ]
  },
  {
   "cell_type": "markdown",
   "metadata": {},
   "source": [
    "In Python, strings are __immutable__ - once created, strings cannot be changed. Instead, a new string must be created, which may contain a slice or slices of the existing string. For example, the string `'get'` cannot be changed to `'got'`. The `\"I learn Python\"` cannot be changed to `\"I learnt Python\"` by an in-place change."
   ]
  },
  {
   "cell_type": "code",
   "execution_count": 23,
   "metadata": {},
   "outputs": [
    {
     "ename": "TypeError",
     "evalue": "'str' object does not support item assignment",
     "output_type": "error",
     "traceback": [
      "\u001b[0;31m---------------------------------------------------------------------------\u001b[0m",
      "\u001b[0;31mTypeError\u001b[0m                                 Traceback (most recent call last)",
      "\u001b[0;32m<ipython-input-23-021ee7f27fa0>\u001b[0m in \u001b[0;36m<module>\u001b[0;34m()\u001b[0m\n\u001b[1;32m      1\u001b[0m \u001b[0ms2\u001b[0m \u001b[0;34m=\u001b[0m \u001b[0;34m\"get\"\u001b[0m\u001b[0;34m\u001b[0m\u001b[0;34m\u001b[0m\u001b[0m\n\u001b[0;32m----> 2\u001b[0;31m \u001b[0ms2\u001b[0m\u001b[0;34m[\u001b[0m\u001b[0;36m1\u001b[0m\u001b[0;34m]\u001b[0m \u001b[0;34m=\u001b[0m \u001b[0;34m\"o\"\u001b[0m\u001b[0;34m\u001b[0m\u001b[0;34m\u001b[0m\u001b[0m\n\u001b[0m",
      "\u001b[0;31mTypeError\u001b[0m: 'str' object does not support item assignment"
     ]
    }
   ],
   "source": [
    "s2 = \"get\"\n",
    "s2[1] = \"o\""
   ]
  },
  {
   "cell_type": "code",
   "execution_count": 25,
   "metadata": {},
   "outputs": [
    {
     "data": {
      "text/plain": [
       "'got'"
      ]
     },
     "execution_count": 25,
     "metadata": {},
     "output_type": "execute_result"
    }
   ],
   "source": [
    "s2.replace('e', 'o')\n",
    "\n",
    "# Note, that this does not change the s2 variable.\n",
    "# Instead, the new object is returned,\n",
    "# which can be assigned to new variable."
   ]
  },
  {
   "cell_type": "code",
   "execution_count": 26,
   "metadata": {},
   "outputs": [
    {
     "name": "stdout",
     "output_type": "stream",
     "text": [
      "got\n",
      "get\n"
     ]
    },
    {
     "data": {
      "text/plain": [
       "'I learnt Python'"
      ]
     },
     "execution_count": 26,
     "metadata": {},
     "output_type": "execute_result"
    }
   ],
   "source": [
    "s3 = s2[0] + \"o\" + s2[2]\n",
    "print(s3)\n",
    "\n",
    "# Note that s2 was not modified'''\n",
    "\n",
    "print(s2)\n",
    "\n",
    "# Similarly\n",
    "learn_str = \"I learn Python\"\n",
    "learn_str[:7] + \"t\" + \" \" + learn_str[8:]"
   ]
  },
  {
   "cell_type": "markdown",
   "metadata": {},
   "source": [
    "### String operators"
   ]
  },
  {
   "cell_type": "markdown",
   "metadata": {},
   "source": [
    "In the last example, the '+' operator was used. This operator, when used between two strings, __concatenates__ them: `\"abc123\" + \"def456'` returns `\"abc123def456\"`. Also, a string can be multiplied by an integer, `str * int` will concatenate `int` number of copies of `str`. But a string cannot be multiplied by another string. All other mathematical operators will also result in a `TypeError`.\n",
    "\n",
    "Strings can be __compared__ using the equality (`==`) and inequality (`!=`) operators. Operators `'>'` and `'<'` compare two strings by alphabetical or dictionary order, not by length. `'a' < 'b'` returns `True` and `'aaaaa' < 'bbb'` is also `True`. The capital letters are \"less\" than lowercase letters.\n",
    "\n",
    "The operator `in` returns `True` if a substring appears anywhere inside a string.\n"
   ]
  },
  {
   "cell_type": "code",
   "execution_count": 8,
   "metadata": {},
   "outputs": [
    {
     "name": "stdout",
     "output_type": "stream",
     "text": [
      "False\n",
      "True\n"
     ]
    },
    {
     "data": {
      "text/plain": [
       "True"
      ]
     },
     "execution_count": 8,
     "metadata": {},
     "output_type": "execute_result"
    }
   ],
   "source": [
    "print('a'<'A')\n",
    "print('b' > 'aaaaa')\n",
    "'on' in 'Python'"
   ]
  },
  {
   "cell_type": "markdown",
   "metadata": {},
   "source": [
    "We have seen method `len()` above. To find other methods for string, the function `dir(str)` can be used. This function will output a list of all methods available:"
   ]
  },
  {
   "cell_type": "code",
   "execution_count": 9,
   "metadata": {},
   "outputs": [
    {
     "name": "stdout",
     "output_type": "stream",
     "text": [
      "['__add__', '__class__', '__contains__', '__delattr__', '__dir__', '__doc__', '__eq__', '__format__', '__ge__', '__getattribute__', '__getitem__', '__getnewargs__', '__gt__', '__hash__', '__init__', '__init_subclass__', '__iter__', '__le__', '__len__', '__lt__', '__mod__', '__mul__', '__ne__', '__new__', '__reduce__', '__reduce_ex__', '__repr__', '__rmod__', '__rmul__', '__setattr__', '__sizeof__', '__str__', '__subclasshook__', 'capitalize', 'casefold', 'center', 'count', 'encode', 'endswith', 'expandtabs', 'find', 'format', 'format_map', 'index', 'isalnum', 'isalpha', 'isdecimal', 'isdigit', 'isidentifier', 'islower', 'isnumeric', 'isprintable', 'isspace', 'istitle', 'isupper', 'join', 'ljust', 'lower', 'lstrip', 'maketrans', 'partition', 'replace', 'rfind', 'rindex', 'rjust', 'rpartition', 'rsplit', 'rstrip', 'split', 'splitlines', 'startswith', 'strip', 'swapcase', 'title', 'translate', 'upper', 'zfill']\n"
     ]
    }
   ],
   "source": [
    "'''print() function is used for a better printout formatting'''\n",
    "\n",
    "print(dir(str))"
   ]
  },
  {
   "cell_type": "markdown",
   "metadata": {},
   "source": [
    "To learn more about a particular function, the `help` function can be used or ? typed before the name of the function.  \n",
    "\n",
    "For example, to find information about the `find` method, one can call the `help()` function: `help(str.find)` or type `?str.find`. Here, `str` indicates that we are looking for the method applicable to string objects."
   ]
  },
  {
   "cell_type": "code",
   "execution_count": 10,
   "metadata": {},
   "outputs": [
    {
     "name": "stdout",
     "output_type": "stream",
     "text": [
      "Help on method_descriptor:\n",
      "\n",
      "find(...)\n",
      "    S.find(sub[, start[, end]]) -> int\n",
      "    \n",
      "    Return the lowest index in S where substring sub is found,\n",
      "    such that sub is contained within S[start:end].  Optional\n",
      "    arguments start and end are interpreted as in slice notation.\n",
      "    \n",
      "    Return -1 on failure.\n",
      "\n"
     ]
    }
   ],
   "source": [
    "help(str.find)"
   ]
  },
  {
   "cell_type": "markdown",
   "metadata": {},
   "source": [
    "__NOTE:__ Square brackets around the description of the function indicate optional arguments.  In the description of the `find` method, the start and end indices are optional. Moreover, this function can be called with the start index only, omitting the end index, as indicated by the second pair of square brackets."
   ]
  },
  {
   "cell_type": "markdown",
   "metadata": {},
   "source": [
    "### Traversing a string."
   ]
  },
  {
   "cell_type": "markdown",
   "metadata": {},
   "source": [
    "Often we need to access all the items in a string exactly once each.\n",
    "The `for` loop allows for compact traversal structures. In the example below, `for` loop selects each character in string `s1` and executes the body of the loop for each character."
   ]
  },
  {
   "cell_type": "code",
   "execution_count": 11,
   "metadata": {},
   "outputs": [
    {
     "name": "stdout",
     "output_type": "stream",
     "text": [
      "o\n",
      "i\n",
      "e\n",
      "u\n",
      "e\n",
      "o\n",
      "i\n",
      "e\n",
      "o\n",
      "o\n",
      "i\n",
      "a\n",
      "e\n",
      "i\n",
      "a\n",
      "a\n",
      "i\n"
     ]
    }
   ],
   "source": [
    "'''Traversing a string'''\n",
    "\n",
    "for item in s1:\n",
    "    if item in 'aeiouAEIOU':\n",
    "        print(item)"
   ]
  },
  {
   "cell_type": "code",
   "execution_count": 12,
   "metadata": {},
   "outputs": [
    {
     "name": "stdout",
     "output_type": "stream",
     "text": [
      "Help on method_descriptor:\n",
      "\n",
      "split(...)\n",
      "    S.split(sep=None, maxsplit=-1) -> list of strings\n",
      "    \n",
      "    Return a list of the words in S, using sep as the\n",
      "    delimiter string.  If maxsplit is given, at most maxsplit\n",
      "    splits are done. If sep is not specified or is None, any\n",
      "    whitespace string is a separator and empty strings are\n",
      "    removed from the result.\n",
      "\n"
     ]
    }
   ],
   "source": [
    "help(str.split)"
   ]
  },
  {
   "cell_type": "markdown",
   "metadata": {},
   "source": [
    "### **EXERCISE 2:** Index of the second occurrence."
   ]
  },
  {
   "cell_type": "markdown",
   "metadata": {},
   "source": [
    "The method `find` can be used in an expression like `s1.find(s4)` to find the index of the first occurrence of the substring `s4` in the string `s1`.  \n",
    "\n",
    "This method also takes an optional start argument, and the expression `s1.find(s4, start)` will return the first occurrence of the `s4` substring after the start index.\n",
    "\n",
    "Write an expression to produce the second occurrence of the `s4` substring in the `s1` string. "
   ]
  },
  {
   "cell_type": "code",
   "execution_count": 4,
   "metadata": {},
   "outputs": [
    {
     "name": "stdout",
     "output_type": "stream",
     "text": [
      "Python is the Number 1 choice for social media hacking\n",
      "ia\n"
     ]
    }
   ],
   "source": [
    "# Let's check s1 and define s4:\n",
    "print(s1)\n",
    "s4 = 'ia'\n",
    "print(s4)"
   ]
  },
  {
   "cell_type": "code",
   "execution_count": 7,
   "metadata": {},
   "outputs": [
    {
     "data": {
      "text/plain": [
       "44"
      ]
     },
     "execution_count": 7,
     "metadata": {},
     "output_type": "execute_result"
    }
   ],
   "source": [
    "'''Type your code here'''\n",
    "\n",
    "\n",
    "first_occurence = s1.find(s4)\n",
    "second_occurence = s1.find(s4, first_occurence + 1)\n",
    "second_occurence\n",
    "\n",
    "\n",
    "\n",
    "\n",
    "\n",
    "\n",
    "\n",
    "\n",
    "\n",
    "\n",
    "\n"
   ]
  },
  {
   "cell_type": "code",
   "execution_count": 28,
   "metadata": {},
   "outputs": [
    {
     "data": {
      "text/plain": [
       "37"
      ]
     },
     "execution_count": 28,
     "metadata": {},
     "output_type": "execute_result"
    }
   ],
   "source": [
    "'''Exercise 2 solution:'''\n",
    "\n",
    "'''First, let's find the first occurence of the s4 substring.'''\n",
    "\n",
    "first_occurence = s1.find(s4)\n",
    "first_occurence"
   ]
  },
  {
   "cell_type": "code",
   "execution_count": 29,
   "metadata": {},
   "outputs": [
    {
     "data": {
      "text/plain": [
       "44"
      ]
     },
     "execution_count": 29,
     "metadata": {},
     "output_type": "execute_result"
    }
   ],
   "source": [
    "'''Next, to find the second occurence we should start after the first occurence.'''\n",
    "\n",
    "s1.find(s4, first_occurence + 1)"
   ]
  },
  {
   "cell_type": "code",
   "execution_count": 30,
   "metadata": {},
   "outputs": [
    {
     "data": {
      "text/plain": [
       "44"
      ]
     },
     "execution_count": 30,
     "metadata": {},
     "output_type": "execute_result"
    }
   ],
   "source": [
    "'''Or these two expressions can be combined into one.'''\n",
    "\n",
    "s1.find(s4, s1.find(s4)+1)"
   ]
  },
  {
   "cell_type": "markdown",
   "metadata": {},
   "source": [
    "## Lists"
   ]
  },
  {
   "cell_type": "markdown",
   "metadata": {},
   "source": [
    "The last method mentioned in the previous subsections introduced list. **List** is a sequence of values similar to a string. If a string is a sequence of characters, list is a collection of values of any type. The values in a list are called __elements__ or __items__. Lists are versatile, and are sometimes called the \"workhorses\" of Python. \n",
    "\n",
    "Lists can even contain other lists as an element thereby nesting lists. The easiest way to create a list is to enclose the sequence of values in square brackets `[  ]`. Just like strings, lists can be empty. Working with lists is similar to working with strings. For example, method `len()` will return the length of the list. Indexing and slicing of a list is also very similar to strings."
   ]
  },
  {
   "cell_type": "code",
   "execution_count": 17,
   "metadata": {},
   "outputs": [],
   "source": [
    "'''List examples'''\n",
    "\n",
    "empty_list = []\n",
    "list_of_numbers = [1, 2.3, 4.5, 6]\n",
    "list_of_strings = [\"\"]"
   ]
  },
  {
   "cell_type": "code",
   "execution_count": 18,
   "metadata": {},
   "outputs": [
    {
     "data": {
      "text/plain": [
       "['Python',\n",
       " 'is',\n",
       " 'the',\n",
       " 'Number',\n",
       " '1',\n",
       " 'choice',\n",
       " 'for',\n",
       " 'social',\n",
       " 'media',\n",
       " 'hacking']"
      ]
     },
     "execution_count": 18,
     "metadata": {},
     "output_type": "execute_result"
    }
   ],
   "source": [
    "'''A string can be split into a list with `split` method.\n",
    "For the string 's1' a space (\" \") can be used as a separator.'''\n",
    "\n",
    "s1.split(\" \")"
   ]
  },
  {
   "cell_type": "code",
   "execution_count": 8,
   "metadata": {},
   "outputs": [
    {
     "data": {
      "text/plain": [
       "['__add__',\n",
       " '__class__',\n",
       " '__contains__',\n",
       " '__delattr__',\n",
       " '__delitem__',\n",
       " '__dir__',\n",
       " '__doc__',\n",
       " '__eq__',\n",
       " '__format__',\n",
       " '__ge__',\n",
       " '__getattribute__',\n",
       " '__getitem__',\n",
       " '__gt__',\n",
       " '__hash__',\n",
       " '__iadd__',\n",
       " '__imul__',\n",
       " '__init__',\n",
       " '__init_subclass__',\n",
       " '__iter__',\n",
       " '__le__',\n",
       " '__len__',\n",
       " '__lt__',\n",
       " '__mul__',\n",
       " '__ne__',\n",
       " '__new__',\n",
       " '__reduce__',\n",
       " '__reduce_ex__',\n",
       " '__repr__',\n",
       " '__reversed__',\n",
       " '__rmul__',\n",
       " '__setattr__',\n",
       " '__setitem__',\n",
       " '__sizeof__',\n",
       " '__str__',\n",
       " '__subclasshook__',\n",
       " 'append',\n",
       " 'clear',\n",
       " 'copy',\n",
       " 'count',\n",
       " 'extend',\n",
       " 'index',\n",
       " 'insert',\n",
       " 'pop',\n",
       " 'remove',\n",
       " 'reverse',\n",
       " 'sort']"
      ]
     },
     "execution_count": 8,
     "metadata": {},
     "output_type": "execute_result"
    }
   ],
   "source": [
    "'''Please uncomment the line below and execute this command to see a list\n",
    "of all methods available for a list object.'''\n",
    "\n",
    "dir(list)"
   ]
  },
  {
   "cell_type": "markdown",
   "metadata": {},
   "source": [
    "Unlike strings, lists are __mutable__. Any item in a list can be changed; see example below: "
   ]
  },
  {
   "cell_type": "code",
   "execution_count": 20,
   "metadata": {},
   "outputs": [
    {
     "data": {
      "text/plain": [
       "[1, 2.3, 100, 6]"
      ]
     },
     "execution_count": 20,
     "metadata": {},
     "output_type": "execute_result"
    }
   ],
   "source": [
    "list_of_numbers[2] = 100\n",
    "list_of_numbers"
   ]
  },
  {
   "cell_type": "markdown",
   "metadata": {},
   "source": [
    "Python provides several methods that modify lists:    \n",
    "\n",
    "|__method__     |__Description__        |\n",
    "|:--- |:---|\n",
    "| list.append(item)    | Append an _item_ to the end of the list.                                                           |\n",
    "| list.extend(list_1)    | Append the _items_ in the `list_1` to the list.                                       |\n",
    "| list.pop([index])    | Remove the item with that _index_ from the list or at the end of the list if an index is not given.|\n",
    "| list.remove(item)    | Remove the first occurrence of the item.                                                     |\n",
    "| list.reverse( )      | Reverse the list.                                                                           |\n",
    "| list.insert(int, item)| Insert an item at the given index, following items are shifted to the right. |"
   ]
  },
  {
   "cell_type": "code",
   "execution_count": 21,
   "metadata": {},
   "outputs": [
    {
     "data": {
      "text/plain": [
       "[5, 4, 3, 2, 1]"
      ]
     },
     "execution_count": 21,
     "metadata": {},
     "output_type": "execute_result"
    }
   ],
   "source": [
    "list1 = [1,2,3,4]\n",
    "list1.append(5)\n",
    "list1.sort(reverse=True)\n",
    "list1\n"
   ]
  },
  {
   "cell_type": "code",
   "execution_count": 22,
   "metadata": {},
   "outputs": [],
   "source": [
    "list1.remove(3)"
   ]
  },
  {
   "cell_type": "code",
   "execution_count": 23,
   "metadata": {},
   "outputs": [
    {
     "data": {
      "text/plain": [
       "[5, 4, 2, 1]"
      ]
     },
     "execution_count": 23,
     "metadata": {},
     "output_type": "execute_result"
    }
   ],
   "source": [
    "list1"
   ]
  },
  {
   "cell_type": "code",
   "execution_count": 24,
   "metadata": {},
   "outputs": [
    {
     "data": {
      "text/plain": [
       "[5, 4, 2, 1, 11, 12]"
      ]
     },
     "execution_count": 24,
     "metadata": {},
     "output_type": "execute_result"
    }
   ],
   "source": [
    "list2 = [11, 12]\n",
    "list1.extend(list2)\n",
    "list1"
   ]
  },
  {
   "cell_type": "markdown",
   "metadata": {},
   "source": [
    "### Traversing a list"
   ]
  },
  {
   "cell_type": "markdown",
   "metadata": {},
   "source": [
    "The `for` loop can be used to access each item in a list, one at a time.  \n",
    "\n",
    "The structure of the code:\n",
    "\n",
    "    for elem in list_A:     \n",
    "        ...\n",
    "\n",
    "Also, one can traverse over a list using indices. This can be done with two built-in functions: `len()` and `range()`.  \n",
    "\n",
    "The documentation for `range()` states that the syntax for the function is as follows (Python Software Foundation, 2018):\n",
    "\n",
    "    range([start,] stop[, step])\n",
    "    \n",
    "The `range()` returns a virtual sequence of numbers from `start` to `stop` with the `step`.\n",
    "\n",
    "Thus, the `range()` function is useful for iteration over a sequence of numbers. The start and steps are optional, the function call with only one parameter will return a sequence from 0 up to but not including the stop value.\n",
    "* `range(5)` returns the sequence 0, 1, 2, 3, and 4;\n",
    "* `range(1,4)` returns 1, 2, 3;\n",
    "* `range(1, 10, 3)` returns 1, 4, 7.\n",
    "\n",
    "Combining `range()` and `len()` functions we can build a structure looping over a list by indices:\n",
    "\n",
    "    for i in range(len(list)):     \n",
    "        ..."
   ]
  },
  {
   "cell_type": "markdown",
   "metadata": {},
   "source": [
    "### __EXERCISE 3:__  Lists"
   ]
  },
  {
   "cell_type": "markdown",
   "metadata": {},
   "source": [
    "1). Generate a list of integers from 0 to 5, reverse the list and print it out. Explain how you reversed the list.     \n",
    "**Hint:** the `append()` function will help you to generate the list by adding one integer to the list at a time"
   ]
  },
  {
   "cell_type": "code",
   "execution_count": 24,
   "metadata": {},
   "outputs": [
    {
     "data": {
      "text/plain": [
       "[5, 4, 3, 2, 1, 0]"
      ]
     },
     "execution_count": 24,
     "metadata": {},
     "output_type": "execute_result"
    }
   ],
   "source": [
    "'''Type your code here'''\n",
    "\n",
    "\n",
    "list_int = []\n",
    "for i in range(0, 6):\n",
    "    list_int.append(i)\n",
    "list_int.reverse()\n",
    "list_int\n",
    "\n",
    "\n",
    "\n",
    "\n",
    "\n",
    "\n"
   ]
  },
  {
   "cell_type": "markdown",
   "metadata": {},
   "source": [
    "2). Generate a list of strings. Add the items from the list of strings to the list of integers from part 1.\n",
    "Explain your choice of string method. "
   ]
  },
  {
   "cell_type": "code",
   "execution_count": 22,
   "metadata": {},
   "outputs": [
    {
     "data": {
      "text/plain": [
       "[5, 4, 3, 2, 1, 0, 'list', 'strings']"
      ]
     },
     "execution_count": 22,
     "metadata": {},
     "output_type": "execute_result"
    }
   ],
   "source": [
    "'''Type your code here'''\n",
    "\n",
    "\n",
    "list_strings = ['list', 'strings']\n",
    "list_int.extend(list_strings)\n",
    "list_int\n",
    "\n",
    "\n",
    "\n",
    "\n",
    "\n",
    "\n",
    "\n"
   ]
  },
  {
   "cell_type": "code",
   "execution_count": 25,
   "metadata": {},
   "outputs": [
    {
     "data": {
      "text/plain": [
       "[5, 4, 3, 2, 1, 0, 'list', 'strings']"
      ]
     },
     "execution_count": 25,
     "metadata": {},
     "output_type": "execute_result"
    }
   ],
   "source": [
    "for item in list_strings:\n",
    "    list_int.append(item)\n",
    "list_int"
   ]
  },
  {
   "cell_type": "code",
   "execution_count": 27,
   "metadata": {},
   "outputs": [
    {
     "name": "stdout",
     "output_type": "stream",
     "text": [
      "[0, 1, 2, 3, 4, 5]\n",
      "0\n",
      "1\n",
      "2\n",
      "3\n",
      "4\n",
      "5\n"
     ]
    }
   ],
   "source": [
    "'''Exercise 3 Solution:'''\n",
    "\n",
    "'''1). An empty list can be created first.'''\n",
    "list_integers = []\n",
    "\n",
    "'''Than integers can be added to the list.'''\n",
    "for i in range(0,6):\n",
    "    list_integers.append(i)\n",
    "\n",
    "'''Printing out the whole list:'''\n",
    "print(list_integers)\n",
    "\n",
    "'''or by elements:'''\n",
    "for n in list_integers:\n",
    "    print(n)"
   ]
  },
  {
   "cell_type": "code",
   "execution_count": 28,
   "metadata": {},
   "outputs": [
    {
     "name": "stdout",
     "output_type": "stream",
     "text": [
      "[5, 4, 3, 2, 1, 0]\n",
      "[0, 1, 2, 3, 4, 5]\n"
     ]
    }
   ],
   "source": [
    "'''1(a). To reverse the list 'reversed()' function can be used.\n",
    "This function returns an iterator, which accesses the list in reversed order.'''\n",
    "rev_iterator = reversed(list_integers)\n",
    "\n",
    "'''To return the list we need to add list() in front.'''\n",
    "print(list(rev_iterator))\n",
    "\n",
    "'''These operations did not change our oringinal list:'''\n",
    "print(list_integers)"
   ]
  },
  {
   "cell_type": "code",
   "execution_count": 29,
   "metadata": {},
   "outputs": [
    {
     "name": "stdout",
     "output_type": "stream",
     "text": [
      "Reversed list:\n",
      "[5, 4, 3, 2, 1, 0]\n",
      "This is the original list:\n",
      "[0, 1, 2, 3, 4, 5]\n"
     ]
    }
   ],
   "source": [
    "'''1(b). Another way is to slice the list to reverse it.\n",
    "Syntax [start:stop:step]'''\n",
    "reversed_list_2 = list_integers[::-1]\n",
    "\n",
    "'''To make a copy of the whole list the start and stop are omitted.\n",
    "Here negative step will slice over the list in reverse.'''\n",
    "print('Reversed list:')\n",
    "print(reversed_list_2)\n",
    "\n",
    "'''Slice does not modify the original list, it returns a new list.'''\n",
    "print('This is the original list:')\n",
    "print(list_integers)"
   ]
  },
  {
   "cell_type": "code",
   "execution_count": 30,
   "metadata": {},
   "outputs": [
    {
     "name": "stdout",
     "output_type": "stream",
     "text": [
      "Using reverse() function:\n",
      "[5, 4, 3, 2, 1, 0]\n"
     ]
    }
   ],
   "source": [
    "'''1(c). The 'reverse()' will reverse the list in place:'''\n",
    "list_integers.reverse()\n",
    "\n",
    "print (\"Using reverse() function:\")\n",
    "print (list_integers)\n",
    "\n",
    "'''The original list is reversed'''"
   ]
  },
  {
   "cell_type": "code",
   "execution_count": 31,
   "metadata": {},
   "outputs": [],
   "source": [
    "'''2). The list of strings is created:'''\n",
    "\n",
    "sequences = ['string', 'list']"
   ]
  },
  {
   "cell_type": "code",
   "execution_count": 32,
   "metadata": {},
   "outputs": [
    {
     "data": {
      "text/plain": [
       "[5, 4, 3, 2, 1, 0, 'string', 'list']"
      ]
     },
     "execution_count": 32,
     "metadata": {},
     "output_type": "execute_result"
    }
   ],
   "source": [
    "'''2(a). The method 'extend()' takes a list and appends all the elements from the second list,\n",
    "not the second list itself.'''\n",
    "\n",
    "list_integers.extend(sequences)\n",
    "list_integers"
   ]
  },
  {
   "cell_type": "code",
   "execution_count": 33,
   "metadata": {},
   "outputs": [
    {
     "data": {
      "text/plain": [
       "[5, 4, 3, 2, 1, 0, 'string', 'list', ['string', 'list']]"
      ]
     },
     "execution_count": 33,
     "metadata": {},
     "output_type": "execute_result"
    }
   ],
   "source": [
    "'''2(b). The method 'append()' adds an object to the end of a list:'''\n",
    "\n",
    "list_integers.append(sequences)\n",
    "list_integers"
   ]
  },
  {
   "cell_type": "markdown",
   "metadata": {},
   "source": [
    "### List Comprehension"
   ]
  },
  {
   "cell_type": "markdown",
   "metadata": {},
   "source": [
    "**List comprehension** in Python provides an easy and elegant way of creating a new list. A common application of list comprehension is to create a new list based on an existing sequence(s), e.g. one or more lists. While creating a new list with list comprehension, we might want to include only certain elements that satisfy a certain condition, or transform elements of an original list using an operation, or a calculation, applied to these elements.\n",
    "\n",
    "For example, we might have a list of numbers, `nums`. We need to create a new list, let's call it `squares`, where each element is a square of the corresponding element from the list `nums`. We can write a `for` loop which will look as follows:"
   ]
  },
  {
   "cell_type": "code",
   "execution_count": 34,
   "metadata": {},
   "outputs": [
    {
     "name": "stdout",
     "output_type": "stream",
     "text": [
      "[0, 1, 4, 9, 16, 25, 36, 49]\n"
     ]
    }
   ],
   "source": [
    "nums = [0, 1, 2, 3, 4, 5, 6, 7]\n",
    "squares = []\n",
    "for x in nums:\n",
    "    squares.append(x ** 2)\n",
    "print(squares) "
   ]
  },
  {
   "cell_type": "markdown",
   "metadata": {},
   "source": [
    "However, a more simple and elegant way would be to write the same loop in one line of code using list comprehension:"
   ]
  },
  {
   "cell_type": "code",
   "execution_count": 35,
   "metadata": {},
   "outputs": [
    {
     "name": "stdout",
     "output_type": "stream",
     "text": [
      "[0, 1, 4, 9, 16, 25, 36, 49]\n"
     ]
    }
   ],
   "source": [
    "squares = [x ** 2 for x in nums]\n",
    "print(squares)"
   ]
  },
  {
   "cell_type": "code",
   "execution_count": 36,
   "metadata": {},
   "outputs": [
    {
     "name": "stdout",
     "output_type": "stream",
     "text": [
      "[83, 1234]\n"
     ]
    }
   ],
   "source": [
    "'''Another example: create a new list from 2 lists,\n",
    "where condition is - use only those numbers that are common in both lists, listA and listB'''\n",
    "\n",
    "listA = [15, 35, 76, 83, 910, 1234]\n",
    "listB = [1234, 234, 83, 3, 4, 5]\n",
    "\n",
    "new_list = []\n",
    "\n",
    "for a in listA:\n",
    "    for b in listB:\n",
    "        if a == b: \n",
    "            new_list.append(a)\n",
    "\n",
    "print(new_list) "
   ]
  },
  {
   "cell_type": "code",
   "execution_count": 37,
   "metadata": {},
   "outputs": [
    {
     "data": {
      "text/plain": [
       "[83, 1234]"
      ]
     },
     "execution_count": 37,
     "metadata": {},
     "output_type": "execute_result"
    }
   ],
   "source": [
    "'''The same result achieved using list comprehension:'''\n",
    "\n",
    "[a for a in listA for b in listB if a == b]"
   ]
  },
  {
   "cell_type": "code",
   "execution_count": 38,
   "metadata": {},
   "outputs": [
    {
     "data": {
      "text/plain": [
       "[30, 70, 166]"
      ]
     },
     "execution_count": 38,
     "metadata": {},
     "output_type": "execute_result"
    }
   ],
   "source": [
    "'''Another example:\n",
    "return a list of doubled numbers only if the number is an odd number'''\n",
    "\n",
    "[n * 2 for n in listA if n % 2 == 1]"
   ]
  },
  {
   "cell_type": "markdown",
   "metadata": {},
   "source": [
    "The general structure of a list comprehension can be written as follows:\n",
    "\n",
    "    [<output expression> <loop expression <input expression>> <optional predicate expression>]\n",
    "    \n",
    "A list comprehension is always enclosed in brackets. It starts with an expression followed by a `for` expression, then zero or more `for` or `if` clauses. "
   ]
  },
  {
   "cell_type": "markdown",
   "metadata": {},
   "source": [
    "The list comprehension can return a list of pairs, or tuples. We will learn about tuples in the next section of this module. For now, and to wrap up the discussion about the list comprehension, here is how to create a list of numbers paired with their square:"
   ]
  },
  {
   "cell_type": "code",
   "execution_count": 39,
   "metadata": {},
   "outputs": [
    {
     "data": {
      "text/plain": [
       "[(0, 0), (1, 1), (2, 4), (3, 9), (4, 16), (5, 25)]"
      ]
     },
     "execution_count": 39,
     "metadata": {},
     "output_type": "execute_result"
    }
   ],
   "source": [
    "[(x, x**2) for x in range(6)]"
   ]
  },
  {
   "cell_type": "markdown",
   "metadata": {},
   "source": [
    "__End of Part 2.__\n",
    "\n",
    "\n",
    "This notebook makes up one part of this module. Now that you have completed this part, please proceed to the next notebook in this module.\n",
    "\n",
    "If you have any questions, please reach out to your peers using the discussion boards. If you and your peers are unable to come to a suitable conclusion, do not hesitate to reach out to your instructor on the designated discussion board.\n"
   ]
  },
  {
   "cell_type": "markdown",
   "metadata": {},
   "source": [
    "__References__\n",
    "\n",
    "\n",
    "McKinney, W. (2017). Python for Data Analysis: Data Wrangling with Pandas, NumPy, and IPython (pp. 15-50). O'Reilly Media.\n",
    "\n",
    "Python Software Foundation, (2018). Built-in Functions. Retrieved from (https://docs.python.org/3/library/functions.html#func-range)."
   ]
  }
 ],
 "metadata": {
  "kernelspec": {
   "display_name": "Python 3",
   "language": "python",
   "name": "python3"
  },
  "language_info": {
   "codemirror_mode": {
    "name": "ipython",
    "version": 3
   },
   "file_extension": ".py",
   "mimetype": "text/x-python",
   "name": "python",
   "nbconvert_exporter": "python",
   "pygments_lexer": "ipython3",
   "version": "3.7.6"
  },
  "toc": {
   "base_numbering": 1,
   "nav_menu": {},
   "number_sections": false,
   "sideBar": true,
   "skip_h1_title": false,
   "title_cell": "Table of Contents",
   "title_sidebar": "Contents",
   "toc_cell": false,
   "toc_position": {},
   "toc_section_display": true,
   "toc_window_display": false
  }
 },
 "nbformat": 4,
 "nbformat_minor": 2
}
