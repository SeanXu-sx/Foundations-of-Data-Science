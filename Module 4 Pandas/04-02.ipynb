{
 "cells": [
  {
   "cell_type": "markdown",
   "metadata": {},
   "source": [
    "# Module 4 Part 2: Introduction to Pandas"
   ]
  },
  {
   "cell_type": "markdown",
   "metadata": {},
   "source": [
    "This module consists of 3 parts:\n",
    "\n",
    "- **Part 1** - Object-Oriented Programming with Python and Additional Python Functions\n",
    "- **Part 2** - Introduction to pandas\n",
    "- **Part 3** - Modifying a DataFrame, data aggregation and grouping, Case Studies\n",
    "\n",
    "Each part is provided in a separate notebook file. It is recommended that you follow the order of the notebooks.\n",
    "\n",
    "This notebook contains **Part 2 - Introduction to Pandas**"
   ]
  },
  {
   "cell_type": "markdown",
   "metadata": {
    "collapsed": true
   },
   "source": [
    "## Readings and Resources"
   ]
  },
  {
   "cell_type": "markdown",
   "metadata": {},
   "source": [
    "The majority of the notebook content borrows from the recommended readings. We invite you to further supplement this notebook with the following recommended texts:\n",
    "\n",
    "McKinney, W. (2017). *Python for Data Analysis*. O-Reilly: Boston"
   ]
  },
  {
   "cell_type": "markdown",
   "metadata": {},
   "source": [
    "## Pandas"
   ]
  },
  {
   "cell_type": "markdown",
   "metadata": {},
   "source": [
    "### Prepare the Data: Pandas"
   ]
  },
  {
   "cell_type": "markdown",
   "metadata": {},
   "source": [
    "<figure>\n",
    "    <img src=\"dataScienceProcess.png\" alt=\"This image shows the stages of creating a model from start to finish.\" style=\"width: 100%;\"> (Course Authors, 2018)\n",
    "    <figcaption><em>This image shows the stages of creating a model from start to finish.</em></figcaption>\n",
    "</figure>\n",
    "\n",
    "In the last module, you learned how to create matrices and arrays using the NumPy library and received a brief introduction to applying basic mathematical functions to your data. In this module, we will learn about the Pandas library available in Python. \n",
    "\n",
    "In this phase of the analytics methodology - preparing the data - we want to ensure the data is not only organized appropriately, but also labelled in a logical manner so we can understand what data points constitue our sample or population, and so we can conduct preliminary analyses on our data. The Pandas library allows us to organize our data in a Data Frame. You can think of a Data Frame as a chart with column and row headings. Structuring our data this way will enable us to understand basic characteristics for big data sets. For example, we can easily identify how many empty values there are, or how the data is segmented.\n",
    "\n",
    "This is also referred to as data exploration. Prior to creating predictive or prescriptive models, it is critical to explore your data and ensure there is no obvious bias, or significant amounts of missing data points that may skew your results. After all, you will be training your model based on a portion of your data set, so it is critical to have a data that is representative of your population, and as complete and accurate as possible."
   ]
  },
  {
   "cell_type": "markdown",
   "metadata": {},
   "source": [
    "Pandas is a data analysis package created by Wes McKinney. It brings the equivalent of the R Data Frame to Python. Pandas is a powerful package that defines data structures and tools for easy and intuitive data analysis.\n",
    "\n",
    "Pandas gets its name from the term \"panel data\" which used to refer to multi-dimensional structured data sets.\n",
    "\n",
    "Pandas was built on NumPy, which, as we know from the previous module, stores the data in arrays. The main difference is that NumPy mostly works with homogeneous numerical array while pandas works with heterogeneous or tabular data."
   ]
  },
  {
   "cell_type": "markdown",
   "metadata": {},
   "source": [
    "To start working with `pandas` package, we will be importing it as follows:"
   ]
  },
  {
   "cell_type": "code",
   "execution_count": 1,
   "metadata": {},
   "outputs": [],
   "source": [
    "import pandas as pd"
   ]
  },
  {
   "cell_type": "markdown",
   "metadata": {},
   "source": [
    "**Series** and **DataFrame** are two major data structures that we will explain in this module."
   ]
  },
  {
   "cell_type": "markdown",
   "metadata": {},
   "source": [
    "### Series"
   ]
  },
  {
   "cell_type": "markdown",
   "metadata": {},
   "source": [
    "Pandas **Series** is *a one-dimensional array that can hold indexed data of any type (integers, strings, floating point numbers, Python objects, etc.)*. Series can be created using: \n",
    "\n",
    "* Python dictionary\n",
    "* NumPy ndarray\n",
    "* Scalar value\n",
    "* List\n",
    "\n",
    "Let's start by creating a pandas Series using a list:"
   ]
  },
  {
   "cell_type": "code",
   "execution_count": 2,
   "metadata": {},
   "outputs": [],
   "source": [
    "list_ser = [45, 123, 67, 1, 14]"
   ]
  },
  {
   "cell_type": "code",
   "execution_count": 3,
   "metadata": {},
   "outputs": [
    {
     "data": {
      "text/plain": [
       "0     45\n",
       "1    123\n",
       "2     67\n",
       "3      1\n",
       "4     14\n",
       "dtype: int64"
      ]
     },
     "execution_count": 3,
     "metadata": {},
     "output_type": "execute_result"
    }
   ],
   "source": [
    "serA = pd.Series(list_ser)\n",
    "serA"
   ]
  },
  {
   "cell_type": "code",
   "execution_count": 4,
   "metadata": {},
   "outputs": [
    {
     "data": {
      "text/plain": [
       "pandas.core.series.Series"
      ]
     },
     "execution_count": 4,
     "metadata": {},
     "output_type": "execute_result"
    }
   ],
   "source": [
    "type(serA)"
   ]
  },
  {
   "cell_type": "markdown",
   "metadata": {},
   "source": [
    "Pandas created a `Series` using the list `list_ser`, the `dtype` of the `Series` is `int64`. The type of data was inferred since we didn't provide a parameter and didn't specify explicitly what type of the data we are planning to use. `pandas` determined that all numbers in the original list were integers, making the resulting `Series` a 64-bit integer.\n",
    "\n",
    "The first column of numbers from 0 to 4 is the **index**. When we created a `Series`, we didn't specify if we want an index to be something specific, hence `pandas` used default values. \n",
    "\n",
    "**NOTE:** The default index in pandas **always starts with 0 (zero)**.\n",
    "\n",
    "We can inspect an index by using the following command:"
   ]
  },
  {
   "cell_type": "code",
   "execution_count": 5,
   "metadata": {},
   "outputs": [
    {
     "data": {
      "text/plain": [
       "RangeIndex(start=0, stop=5, step=1)"
      ]
     },
     "execution_count": 5,
     "metadata": {},
     "output_type": "execute_result"
    }
   ],
   "source": [
    "serA.index"
   ]
  },
  {
   "cell_type": "markdown",
   "metadata": {},
   "source": [
    "In this example, the index is a range of integers from 0 to 5 (excluding) with a step of 1.\n",
    "\n",
    "While creating a `Series`, in addition to the data source, we can specify the index, set the name of the `Series` and explicitly define the type of data: "
   ]
  },
  {
   "cell_type": "markdown",
   "metadata": {
    "collapsed": true
   },
   "source": [
    "```\n",
    "pandas.Series(data=None, index=None, dtype=None, name=None, copy=False, fastpath=False)\n",
    "```"
   ]
  },
  {
   "cell_type": "markdown",
   "metadata": {
    "collapsed": true
   },
   "source": [
    "The [`Series` documentation](https://pandas.pydata.org/pandas-docs/stable/generated/pandas.Series.html) is a handy reference. You may want to bookmark it for future reference.\n",
    "\n",
    "In the next example, we will create a `Series` using the same list as above, but we will define an index, data type and `Series` name:"
   ]
  },
  {
   "cell_type": "code",
   "execution_count": 6,
   "metadata": {},
   "outputs": [
    {
     "data": {
      "text/plain": [
       "Num1     45.0\n",
       "Num2    123.0\n",
       "Num3     67.0\n",
       "Num4      1.0\n",
       "Num5     14.0\n",
       "Name: Numbers, dtype: float64"
      ]
     },
     "execution_count": 6,
     "metadata": {},
     "output_type": "execute_result"
    }
   ],
   "source": [
    "serB = pd.Series(list_ser, \n",
    "                 index=['Num1','Num2','Num3','Num4','Num5'],  # indices can be strings\n",
    "                 dtype='float',     # even though the list contains integers, we want the Series to be floating point\n",
    "                 name='Numbers')\n",
    "serB"
   ]
  },
  {
   "cell_type": "markdown",
   "metadata": {},
   "source": [
    "Each data point in `serB` has a label associated with it:"
   ]
  },
  {
   "cell_type": "code",
   "execution_count": 7,
   "metadata": {},
   "outputs": [
    {
     "data": {
      "text/plain": [
       "Index(['Num1', 'Num2', 'Num3', 'Num4', 'Num5'], dtype='object')"
      ]
     },
     "execution_count": 7,
     "metadata": {},
     "output_type": "execute_result"
    }
   ],
   "source": [
    "serB.index"
   ]
  },
  {
   "cell_type": "code",
   "execution_count": 8,
   "metadata": {},
   "outputs": [
    {
     "data": {
      "text/plain": [
       "array([ 45., 123.,  67.,   1.,  14.])"
      ]
     },
     "execution_count": 8,
     "metadata": {},
     "output_type": "execute_result"
    }
   ],
   "source": [
    "serB.values"
   ]
  },
  {
   "cell_type": "markdown",
   "metadata": {},
   "source": [
    "In the next example we will create a `Series` from a dictionary. We will use population of the top 5 Canadian provinces (retrieved from [Statistics Canada](https://www150.statcan.gc.ca/n1/pub/12-581-x/2018000/pop-eng.htm) web site, we used the 2017 column of data):"
   ]
  },
  {
   "cell_type": "code",
   "execution_count": 7,
   "metadata": {},
   "outputs": [
    {
     "data": {
      "text/plain": [
       "ON    14193384\n",
       "QC     8394034\n",
       "BC     4817160\n",
       "AB     4286134\n",
       "MB     1338109\n",
       "Name: Top 5 provinces by population, dtype: int64"
      ]
     },
     "execution_count": 7,
     "metadata": {},
     "output_type": "execute_result"
    }
   ],
   "source": [
    "population_dict = {'ON': 14193384, 'QC': 8394034, 'BC': 4817160, 'AB': 4286134, 'MB': 1338109}\n",
    "\n",
    "provinces_population = pd.Series(population_dict, name='Top 5 provinces by population')\n",
    "provinces_population"
   ]
  },
  {
   "cell_type": "markdown",
   "metadata": {},
   "source": [
    "When dictionary is used to create a `Series`, dictionary keys become indices. You can also notice that `pandas` sorted the elements of the series alphabetically by the key value. We can override this default behaviour by passing the index values in the order we want them to appear. In our case, we want the elements to be sorted by the population:"
   ]
  },
  {
   "cell_type": "code",
   "execution_count": 8,
   "metadata": {},
   "outputs": [
    {
     "data": {
      "text/plain": [
       "ON    14193384\n",
       "QC     8394034\n",
       "BC     4817160\n",
       "AB     4286134\n",
       "MB     1338109\n",
       "Name: Top 5 provinces by population, dtype: int64"
      ]
     },
     "execution_count": 8,
     "metadata": {},
     "output_type": "execute_result"
    }
   ],
   "source": [
    "provinces = ['ON', 'QC', 'BC', 'AB', 'MB']\n",
    "\n",
    "provinces_population = pd.Series(population_dict, index = provinces, name='Top 5 provinces by population')\n",
    "provinces_population"
   ]
  },
  {
   "cell_type": "markdown",
   "metadata": {},
   "source": [
    "The index of a `Series` can be represented by dates. In this case, we are talking about time series. We will talk about time series later in the course."
   ]
  },
  {
   "cell_type": "markdown",
   "metadata": {},
   "source": [
    "We can use the index to select values from a `Series`. Here are several examples:"
   ]
  },
  {
   "cell_type": "code",
   "execution_count": 11,
   "metadata": {},
   "outputs": [
    {
     "data": {
      "text/plain": [
       "14193384"
      ]
     },
     "execution_count": 11,
     "metadata": {},
     "output_type": "execute_result"
    }
   ],
   "source": [
    "# Population of Ontario\n",
    "provinces_population['ON']"
   ]
  },
  {
   "cell_type": "code",
   "execution_count": 12,
   "metadata": {},
   "outputs": [
    {
     "data": {
      "text/plain": [
       "ON    14193384\n",
       "QC     8394034\n",
       "Name: Top 5 provinces by population, dtype: int64"
      ]
     },
     "execution_count": 12,
     "metadata": {},
     "output_type": "execute_result"
    }
   ],
   "source": [
    "# Selecting only provinces with population greater than 5 million.\n",
    "# This type of selection is called boolean indexing:\n",
    "\n",
    "provinces_population[provinces_population > 5000000]"
   ]
  },
  {
   "cell_type": "code",
   "execution_count": 13,
   "metadata": {},
   "outputs": [
    {
     "data": {
      "text/plain": [
       "BC    4817160\n",
       "AB    4286134\n",
       "Name: Top 5 provinces by population, dtype: int64"
      ]
     },
     "execution_count": 13,
     "metadata": {},
     "output_type": "execute_result"
    }
   ],
   "source": [
    "# Entries with index positions of 2 and 3, should return British Columbia and Alberta:\n",
    "provinces_population[2:4]"
   ]
  },
  {
   "cell_type": "markdown",
   "metadata": {},
   "source": [
    "As you can see, even though the indices are strings, `pandas` allows us to use the integer position of an index key. Please remember that integer position starts with zero.\n",
    "\n",
    "If we use the index keys for a slice operation, both parameters are inclusive and the value for Manitoba is returned."
   ]
  },
  {
   "cell_type": "code",
   "execution_count": 14,
   "metadata": {},
   "outputs": [
    {
     "data": {
      "text/plain": [
       "BC    4817160\n",
       "AB    4286134\n",
       "MB    1338109\n",
       "Name: Top 5 provinces by population, dtype: int64"
      ]
     },
     "execution_count": 14,
     "metadata": {},
     "output_type": "execute_result"
    }
   ],
   "source": [
    "# The result of this command should be 3 provinces,\n",
    "# British Columbia, Alberta and Manitoba\n",
    "\n",
    "provinces_population['BC':'MB']"
   ]
  },
  {
   "cell_type": "markdown",
   "metadata": {},
   "source": [
    "We can check if the `Series` has specific values we are looking for. For example, we might check if Quebec is within the top 5 provinces (by population):"
   ]
  },
  {
   "cell_type": "code",
   "execution_count": 15,
   "metadata": {},
   "outputs": [
    {
     "data": {
      "text/plain": [
       "True"
      ]
     },
     "execution_count": 15,
     "metadata": {},
     "output_type": "execute_result"
    }
   ],
   "source": [
    "'QC' in provinces_population"
   ]
  },
  {
   "cell_type": "code",
   "execution_count": 16,
   "metadata": {},
   "outputs": [
    {
     "data": {
      "text/plain": [
       "False"
      ]
     },
     "execution_count": 16,
     "metadata": {},
     "output_type": "execute_result"
    }
   ],
   "source": [
    "# And what about Nova Scotia:\n",
    "\n",
    "'NS' in provinces_population"
   ]
  },
  {
   "cell_type": "markdown",
   "metadata": {},
   "source": [
    "Pandas series has several built-in functions that allow us to do mathematical operations on the elements within the series. For example, we can summarize all the elements within a series with the `sum()` function, or calculate the mean with `mean()` function:"
   ]
  },
  {
   "cell_type": "code",
   "execution_count": 17,
   "metadata": {},
   "outputs": [
    {
     "data": {
      "text/plain": [
       "33028821"
      ]
     },
     "execution_count": 17,
     "metadata": {},
     "output_type": "execute_result"
    }
   ],
   "source": [
    "provinces_population.sum()"
   ]
  },
  {
   "cell_type": "code",
   "execution_count": 18,
   "metadata": {},
   "outputs": [
    {
     "data": {
      "text/plain": [
       "6605764.2"
      ]
     },
     "execution_count": 18,
     "metadata": {},
     "output_type": "execute_result"
    }
   ],
   "source": [
    "provinces_population.mean()"
   ]
  },
  {
   "cell_type": "markdown",
   "metadata": {
    "collapsed": true
   },
   "source": [
    "#### **EXERCISE 2:** Series manipulation "
   ]
  },
  {
   "cell_type": "markdown",
   "metadata": {},
   "source": [
    "**Task 1**: Create a new `Series` object which will contain population of Nova Scotia and New Brunswick. Use the data from the [Statistics Canada website](https://www150.statcan.gc.ca/n1/pub/12-581-x/2018000/pop-eng.htm)."
   ]
  },
  {
   "cell_type": "code",
   "execution_count": 19,
   "metadata": {
    "collapsed": true
   },
   "outputs": [],
   "source": [
    "# Type your code here"
   ]
  },
  {
   "cell_type": "code",
   "execution_count": 5,
   "metadata": {},
   "outputs": [
    {
     "data": {
      "text/plain": [
       "NS    953869\n",
       "NB    759655\n",
       "dtype: int64"
      ]
     },
     "execution_count": 5,
     "metadata": {},
     "output_type": "execute_result"
    }
   ],
   "source": [
    "new_provinces_population = pd.Series({'NS' : 953869 , 'NB' : 759655})\n",
    "new_provinces_population"
   ]
  },
  {
   "cell_type": "code",
   "execution_count": null,
   "metadata": {
    "collapsed": true
   },
   "outputs": [],
   "source": []
  },
  {
   "cell_type": "code",
   "execution_count": null,
   "metadata": {
    "collapsed": true
   },
   "outputs": [],
   "source": []
  },
  {
   "cell_type": "markdown",
   "metadata": {},
   "source": [
    "**Task 2:** Merge your new `Series` and the `provinces_population` into a single `Series` object. Use the [`append()` function](https://pandas.pydata.org/pandas-docs/stable/generated/pandas.Series.append.html)"
   ]
  },
  {
   "cell_type": "code",
   "execution_count": 20,
   "metadata": {
    "collapsed": true
   },
   "outputs": [],
   "source": [
    "# Type your code here"
   ]
  },
  {
   "cell_type": "code",
   "execution_count": 10,
   "metadata": {},
   "outputs": [
    {
     "data": {
      "text/plain": [
       "ON    14193384\n",
       "QC     8394034\n",
       "BC     4817160\n",
       "AB     4286134\n",
       "MB     1338109\n",
       "NS      953869\n",
       "NB      759655\n",
       "dtype: int64"
      ]
     },
     "execution_count": 10,
     "metadata": {},
     "output_type": "execute_result"
    }
   ],
   "source": [
    "all_provinces_population = provinces_population.append(new_provinces_population)\n",
    "all_provinces_population"
   ]
  },
  {
   "cell_type": "code",
   "execution_count": null,
   "metadata": {
    "collapsed": true
   },
   "outputs": [],
   "source": []
  },
  {
   "cell_type": "code",
   "execution_count": null,
   "metadata": {
    "collapsed": true
   },
   "outputs": [],
   "source": []
  },
  {
   "cell_type": "code",
   "execution_count": null,
   "metadata": {
    "collapsed": true
   },
   "outputs": [],
   "source": []
  },
  {
   "cell_type": "markdown",
   "metadata": {},
   "source": [
    "**Solutions - Task 1**. We can create a new `Series` object as we did above, using a dictionary:"
   ]
  },
  {
   "cell_type": "code",
   "execution_count": 19,
   "metadata": {},
   "outputs": [
    {
     "data": {
      "text/plain": [
       "NS    953869\n",
       "NB    759655\n",
       "dtype: int64"
      ]
     },
     "execution_count": 19,
     "metadata": {},
     "output_type": "execute_result"
    }
   ],
   "source": [
    "NS_NB_dict = {'NS': 953869, 'NB': 759655}\n",
    "\n",
    "NS_NB_population = pd.Series(NS_NB_dict)\n",
    "NS_NB_population"
   ]
  },
  {
   "cell_type": "markdown",
   "metadata": {},
   "source": [
    "**Solutions - Task 2**. Appending `NS_NB_population` Series to `provinces_population`:"
   ]
  },
  {
   "cell_type": "code",
   "execution_count": 20,
   "metadata": {},
   "outputs": [
    {
     "data": {
      "text/plain": [
       "ON    14193384\n",
       "QC     8394034\n",
       "BC     4817160\n",
       "AB     4286134\n",
       "MB     1338109\n",
       "NS      953869\n",
       "NB      759655\n",
       "dtype: int64"
      ]
     },
     "execution_count": 20,
     "metadata": {},
     "output_type": "execute_result"
    }
   ],
   "source": [
    "provinces_population = provinces_population.append(NS_NB_population)\n",
    "provinces_population"
   ]
  },
  {
   "cell_type": "markdown",
   "metadata": {
    "collapsed": true
   },
   "source": [
    "### DataFrames"
   ]
  },
  {
   "cell_type": "markdown",
   "metadata": {
    "collapsed": true
   },
   "source": [
    "A pandas **DataFrame** is a *2-dimensional tabular data structure with labeled columns and rows*. Columns in `DataFrame` can be of different data types. \n",
    "\n",
    "You can think of a `DataFrame` as a group of `pandas` `Series` where each `Series` represents a column of data. You can also think of a `DataFrame` as a collection of columns with the same index rather than a collection of rows. This view will also help in understanding some of `pandas` `DataFrame` functionality."
   ]
  },
  {
   "cell_type": "markdown",
   "metadata": {},
   "source": [
    "#### Creating a DataFrame"
   ]
  },
  {
   "cell_type": "markdown",
   "metadata": {},
   "source": [
    "A `DataFrame` can be created from:\n",
    "\n",
    "- Dictionary of 1-D structures (`ndarray`s, `list`s, dictionaries, tuples or `Series`)\n",
    "- List of 1-D structures\n",
    "- 2-D NumPy `ndarray`\n",
    "- A `Series`\n",
    "- Another `DataFrame`\n",
    "\n",
    "As an example, here is how we would create a `DataFrame` from a 2-dimensional list:"
   ]
  },
  {
   "cell_type": "code",
   "execution_count": 21,
   "metadata": {},
   "outputs": [],
   "source": [
    "df = pd.DataFrame(data=[[8, 128, 27.5],\n",
    "                        [10, 138.9, 34.5],\n",
    "                        [16, 157.3, 91.1],\n",
    "                        [6, 116.6, 21.4],\n",
    "                        [14, 159.2, 54.4]],\n",
    "                  columns=['Age', 'Height', 'Weight'])"
   ]
  },
  {
   "cell_type": "code",
   "execution_count": 22,
   "metadata": {},
   "outputs": [
    {
     "data": {
      "text/html": [
       "<div>\n",
       "<style scoped>\n",
       "    .dataframe tbody tr th:only-of-type {\n",
       "        vertical-align: middle;\n",
       "    }\n",
       "\n",
       "    .dataframe tbody tr th {\n",
       "        vertical-align: top;\n",
       "    }\n",
       "\n",
       "    .dataframe thead th {\n",
       "        text-align: right;\n",
       "    }\n",
       "</style>\n",
       "<table border=\"1\" class=\"dataframe\">\n",
       "  <thead>\n",
       "    <tr style=\"text-align: right;\">\n",
       "      <th></th>\n",
       "      <th>Age</th>\n",
       "      <th>Height</th>\n",
       "      <th>Weight</th>\n",
       "    </tr>\n",
       "  </thead>\n",
       "  <tbody>\n",
       "    <tr>\n",
       "      <th>0</th>\n",
       "      <td>8</td>\n",
       "      <td>128.0</td>\n",
       "      <td>27.5</td>\n",
       "    </tr>\n",
       "    <tr>\n",
       "      <th>1</th>\n",
       "      <td>10</td>\n",
       "      <td>138.9</td>\n",
       "      <td>34.5</td>\n",
       "    </tr>\n",
       "    <tr>\n",
       "      <th>2</th>\n",
       "      <td>16</td>\n",
       "      <td>157.3</td>\n",
       "      <td>91.1</td>\n",
       "    </tr>\n",
       "    <tr>\n",
       "      <th>3</th>\n",
       "      <td>6</td>\n",
       "      <td>116.6</td>\n",
       "      <td>21.4</td>\n",
       "    </tr>\n",
       "    <tr>\n",
       "      <th>4</th>\n",
       "      <td>14</td>\n",
       "      <td>159.2</td>\n",
       "      <td>54.4</td>\n",
       "    </tr>\n",
       "  </tbody>\n",
       "</table>\n",
       "</div>"
      ],
      "text/plain": [
       "   Age  Height  Weight\n",
       "0    8   128.0    27.5\n",
       "1   10   138.9    34.5\n",
       "2   16   157.3    91.1\n",
       "3    6   116.6    21.4\n",
       "4   14   159.2    54.4"
      ]
     },
     "execution_count": 22,
     "metadata": {},
     "output_type": "execute_result"
    }
   ],
   "source": [
    "df"
   ]
  },
  {
   "cell_type": "markdown",
   "metadata": {
    "collapsed": true
   },
   "source": [
    "Since we didn't provide any index values for rows, `pandas` used default index, from 0 to 4. The column labels were defined by the `columns` parameter.\n",
    "\n",
    "We can inspect the `DataFrame` and use `info()` function to output the summary information about the `DataFrame`:"
   ]
  },
  {
   "cell_type": "code",
   "execution_count": 23,
   "metadata": {},
   "outputs": [
    {
     "name": "stdout",
     "output_type": "stream",
     "text": [
      "<class 'pandas.core.frame.DataFrame'>\n",
      "RangeIndex: 5 entries, 0 to 4\n",
      "Data columns (total 3 columns):\n",
      "Age       5 non-null int64\n",
      "Height    5 non-null float64\n",
      "Weight    5 non-null float64\n",
      "dtypes: float64(2), int64(1)\n",
      "memory usage: 200.0 bytes\n"
     ]
    }
   ],
   "source": [
    "df.info()"
   ]
  },
  {
   "cell_type": "markdown",
   "metadata": {},
   "source": [
    "This method allows us to quickly examine the `DataFrame` and determine the following:"
   ]
  },
  {
   "cell_type": "markdown",
   "metadata": {},
   "source": [
    "- there are 5 rows of data in the `DataFrame` with the index as a range of integers from 0 to 4\n",
    "- the `DataFrame` has 3 columns of data, column names are `Age`, `Height` and `Weight`\n",
    "- all columns have 5 records, there are no Null values in any of the columns\n",
    "- the first column, `Age`, is a column of integers, the second and third columns, `Height` and `Weight`, are floating point numbers, which is also stated in the `dtypes: float64(2), int64(1)` line\n",
    "- the last line will show approximately how many bytes of memory are used by `pandas` to store this `DataFrame`"
   ]
  },
  {
   "cell_type": "markdown",
   "metadata": {},
   "source": [
    "We can also use the following methods to further examine the `DataFrame`:"
   ]
  },
  {
   "cell_type": "code",
   "execution_count": 24,
   "metadata": {},
   "outputs": [
    {
     "data": {
      "text/plain": [
       "RangeIndex(start=0, stop=5, step=1)"
      ]
     },
     "execution_count": 24,
     "metadata": {},
     "output_type": "execute_result"
    }
   ],
   "source": [
    "# Index labels\n",
    "df.index"
   ]
  },
  {
   "cell_type": "code",
   "execution_count": 25,
   "metadata": {},
   "outputs": [
    {
     "data": {
      "text/plain": [
       "Index(['Age', 'Height', 'Weight'], dtype='object')"
      ]
     },
     "execution_count": 25,
     "metadata": {},
     "output_type": "execute_result"
    }
   ],
   "source": [
    "# Columns labels\n",
    "df.columns"
   ]
  },
  {
   "cell_type": "markdown",
   "metadata": {},
   "source": [
    "To create a `DataFrame` from a dictionary, let's start with a simple dictionary which will contain the data for the land and water areas for the same five Canadian provinces that we worked with in the previous example (i.e. Ontario, Quebec, British Columbia, Alberta and Manitoba). We will retrieve our data from a [Wikipedia page](https://en.wikipedia.org/wiki/Provinces_and_territories_of_Canada)."
   ]
  },
  {
   "cell_type": "code",
   "execution_count": 26,
   "metadata": {},
   "outputs": [],
   "source": [
    "area = {'province':['ON', 'QC', 'BC', 'AB', 'MB'],\n",
    "        'area_land': [917741, 1356128, 925186, 642317, 553556],\n",
    "        'area_water': [158654, 185928, 19549, 19531, 94241]}"
   ]
  },
  {
   "cell_type": "markdown",
   "metadata": {},
   "source": [
    "The easiest way now to create a `DataFrame` would be to use the `area` dictionary as the only parameter:"
   ]
  },
  {
   "cell_type": "code",
   "execution_count": 27,
   "metadata": {},
   "outputs": [
    {
     "data": {
      "text/html": [
       "<div>\n",
       "<style scoped>\n",
       "    .dataframe tbody tr th:only-of-type {\n",
       "        vertical-align: middle;\n",
       "    }\n",
       "\n",
       "    .dataframe tbody tr th {\n",
       "        vertical-align: top;\n",
       "    }\n",
       "\n",
       "    .dataframe thead th {\n",
       "        text-align: right;\n",
       "    }\n",
       "</style>\n",
       "<table border=\"1\" class=\"dataframe\">\n",
       "  <thead>\n",
       "    <tr style=\"text-align: right;\">\n",
       "      <th></th>\n",
       "      <th>province</th>\n",
       "      <th>area_land</th>\n",
       "      <th>area_water</th>\n",
       "    </tr>\n",
       "  </thead>\n",
       "  <tbody>\n",
       "    <tr>\n",
       "      <th>0</th>\n",
       "      <td>ON</td>\n",
       "      <td>917741</td>\n",
       "      <td>158654</td>\n",
       "    </tr>\n",
       "    <tr>\n",
       "      <th>1</th>\n",
       "      <td>QC</td>\n",
       "      <td>1356128</td>\n",
       "      <td>185928</td>\n",
       "    </tr>\n",
       "    <tr>\n",
       "      <th>2</th>\n",
       "      <td>BC</td>\n",
       "      <td>925186</td>\n",
       "      <td>19549</td>\n",
       "    </tr>\n",
       "    <tr>\n",
       "      <th>3</th>\n",
       "      <td>AB</td>\n",
       "      <td>642317</td>\n",
       "      <td>19531</td>\n",
       "    </tr>\n",
       "    <tr>\n",
       "      <th>4</th>\n",
       "      <td>MB</td>\n",
       "      <td>553556</td>\n",
       "      <td>94241</td>\n",
       "    </tr>\n",
       "  </tbody>\n",
       "</table>\n",
       "</div>"
      ],
      "text/plain": [
       "  province  area_land  area_water\n",
       "0       ON     917741      158654\n",
       "1       QC    1356128      185928\n",
       "2       BC     925186       19549\n",
       "3       AB     642317       19531\n",
       "4       MB     553556       94241"
      ]
     },
     "execution_count": 27,
     "metadata": {},
     "output_type": "execute_result"
    }
   ],
   "source": [
    "provinces_area = pd.DataFrame(area)\n",
    "provinces_area"
   ]
  },
  {
   "cell_type": "markdown",
   "metadata": {},
   "source": [
    "As you can see, `pandas` created a new `DataFrame` with 3 columns and index being the default range of integers from 0 to 4. If we want the `province` to be an index for this `DataFrame`, we need to use method `set_index()`:"
   ]
  },
  {
   "cell_type": "code",
   "execution_count": 28,
   "metadata": {},
   "outputs": [
    {
     "data": {
      "text/html": [
       "<div>\n",
       "<style scoped>\n",
       "    .dataframe tbody tr th:only-of-type {\n",
       "        vertical-align: middle;\n",
       "    }\n",
       "\n",
       "    .dataframe tbody tr th {\n",
       "        vertical-align: top;\n",
       "    }\n",
       "\n",
       "    .dataframe thead th {\n",
       "        text-align: right;\n",
       "    }\n",
       "</style>\n",
       "<table border=\"1\" class=\"dataframe\">\n",
       "  <thead>\n",
       "    <tr style=\"text-align: right;\">\n",
       "      <th></th>\n",
       "      <th>area_land</th>\n",
       "      <th>area_water</th>\n",
       "    </tr>\n",
       "    <tr>\n",
       "      <th>province</th>\n",
       "      <th></th>\n",
       "      <th></th>\n",
       "    </tr>\n",
       "  </thead>\n",
       "  <tbody>\n",
       "    <tr>\n",
       "      <th>ON</th>\n",
       "      <td>917741</td>\n",
       "      <td>158654</td>\n",
       "    </tr>\n",
       "    <tr>\n",
       "      <th>QC</th>\n",
       "      <td>1356128</td>\n",
       "      <td>185928</td>\n",
       "    </tr>\n",
       "    <tr>\n",
       "      <th>BC</th>\n",
       "      <td>925186</td>\n",
       "      <td>19549</td>\n",
       "    </tr>\n",
       "    <tr>\n",
       "      <th>AB</th>\n",
       "      <td>642317</td>\n",
       "      <td>19531</td>\n",
       "    </tr>\n",
       "    <tr>\n",
       "      <th>MB</th>\n",
       "      <td>553556</td>\n",
       "      <td>94241</td>\n",
       "    </tr>\n",
       "  </tbody>\n",
       "</table>\n",
       "</div>"
      ],
      "text/plain": [
       "          area_land  area_water\n",
       "province                       \n",
       "ON           917741      158654\n",
       "QC          1356128      185928\n",
       "BC           925186       19549\n",
       "AB           642317       19531\n",
       "MB           553556       94241"
      ]
     },
     "execution_count": 28,
     "metadata": {},
     "output_type": "execute_result"
    }
   ],
   "source": [
    "provinces_area = provinces_area.set_index('province')\n",
    "provinces_area"
   ]
  },
  {
   "cell_type": "markdown",
   "metadata": {},
   "source": [
    "In the next section, we will talk about reading data from a file into a `DataFrame` and writing data from a `DataFrame` to a file."
   ]
  },
  {
   "cell_type": "markdown",
   "metadata": {},
   "source": [
    "### Loading/Saving DataFrames\n",
    "\n",
    "During your career as a data scientists, you will be analysing the data that will come from different systems, you will receive the data stored in many different formats. Some datasets will be stored in `csv` format or as plain text (`.txt` or no extension plain text), data will be in Excel files (i.e., `.xlsx `), sometimes it will be even stored as documents in `.doc` or `.pdf` formats. You will be retrieving the data from relational and noSQL datastores. \n",
    "\n",
    "Most of the time, regardless of the source of the data and its current format, one of the first steps in the data analysis would be to load the data into a `pandas` `DataFrame` and perform exploratory analysis.\n",
    "\n",
    "In this section, we will learn how to read the data stored in `.csv` format and load it into a `DataFrame`. We will also learn how to save a `DataFrame` to `.csv` format after the processing of the data is complete."
   ]
  },
  {
   "cell_type": "markdown",
   "metadata": {},
   "source": [
    "#### Loading DataFrames\n",
    "\n",
    "For this exercise, we will continue looking into the data that describes Canadian provinces. This time, we will use the data of the last 3 years of [Federal Support to all Canadian Provinces and Territories](https://www.fin.gc.ca/fedprov/mtp-eng.asp). All numbers are in millions of dollars.\n",
    "\n",
    "Pandas has a `read_csv()` function which we will use. There are quite a few parameters that can be specified to either filter out the characters or even lines within the file which are not relevant or make sure that the data is read in a proper format. For example, by default, the `read_csv()` function expects the column separator to be a comma, but you can change that using the `sep=` parameter, or you can skip rows with `skiprows=` parameter. A complete list of all parameter can be found on the corresponding documentation page for [`read_csv()` function](https://pandas.pydata.org/pandas-docs/stable/generated/pandas.read_csv.html).\n",
    "\n",
    "The dataset that we are planning to use in this section is stored in the `pandas_ex1.csv` file, we assume that the file is in the same folder as the notebook working directory. You can open the file in any text editor, which you have installed on your system, and validate the data. The first six rows will look as follows: "
   ]
  },
  {
   "cell_type": "markdown",
   "metadata": {},
   "source": [
    "```\n",
    "Canadian Provinces and Territories,Two-Letter Abbreviation,2016-17,2017-18,2018-19\n",
    "Newfoundland and Labrador,NL,724,734,750\n",
    "Prince Edward Island,PE,584,601,638\n",
    "Nova Scotia,NS,3060,3138,3201\n",
    "New Brunswick,NB,2741,2814,2956\n",
    "Quebec,QC,21372,22720,23749\n",
    "```"
   ]
  },
  {
   "cell_type": "markdown",
   "metadata": {},
   "source": [
    "As you can see, the data is formatted perfectly, it contains what looks like a header row and the fields are separated by comma. In this case, we can simply specify the name of the file, and have only one more parameter, separator `sep=`, to make sure that the Python interpreter reads the data correctly:"
   ]
  },
  {
   "cell_type": "code",
   "execution_count": 29,
   "metadata": {},
   "outputs": [
    {
     "data": {
      "text/html": [
       "<div>\n",
       "<style scoped>\n",
       "    .dataframe tbody tr th:only-of-type {\n",
       "        vertical-align: middle;\n",
       "    }\n",
       "\n",
       "    .dataframe tbody tr th {\n",
       "        vertical-align: top;\n",
       "    }\n",
       "\n",
       "    .dataframe thead th {\n",
       "        text-align: right;\n",
       "    }\n",
       "</style>\n",
       "<table border=\"1\" class=\"dataframe\">\n",
       "  <thead>\n",
       "    <tr style=\"text-align: right;\">\n",
       "      <th></th>\n",
       "      <th>Canadian Provinces and Territories</th>\n",
       "      <th>Two-Letter Abbreviation</th>\n",
       "      <th>2016-17</th>\n",
       "      <th>2017-18</th>\n",
       "      <th>2018-19</th>\n",
       "    </tr>\n",
       "  </thead>\n",
       "  <tbody>\n",
       "    <tr>\n",
       "      <th>0</th>\n",
       "      <td>Newfoundland and Labrador</td>\n",
       "      <td>NL</td>\n",
       "      <td>724</td>\n",
       "      <td>734</td>\n",
       "      <td>750</td>\n",
       "    </tr>\n",
       "    <tr>\n",
       "      <th>1</th>\n",
       "      <td>Prince Edward Island</td>\n",
       "      <td>PE</td>\n",
       "      <td>584</td>\n",
       "      <td>601</td>\n",
       "      <td>638</td>\n",
       "    </tr>\n",
       "    <tr>\n",
       "      <th>2</th>\n",
       "      <td>Nova Scotia</td>\n",
       "      <td>NS</td>\n",
       "      <td>3060</td>\n",
       "      <td>3138</td>\n",
       "      <td>3201</td>\n",
       "    </tr>\n",
       "    <tr>\n",
       "      <th>3</th>\n",
       "      <td>New Brunswick</td>\n",
       "      <td>NB</td>\n",
       "      <td>2741</td>\n",
       "      <td>2814</td>\n",
       "      <td>2956</td>\n",
       "    </tr>\n",
       "    <tr>\n",
       "      <th>4</th>\n",
       "      <td>Quebec</td>\n",
       "      <td>QC</td>\n",
       "      <td>21372</td>\n",
       "      <td>22720</td>\n",
       "      <td>23749</td>\n",
       "    </tr>\n",
       "    <tr>\n",
       "      <th>5</th>\n",
       "      <td>Ontario</td>\n",
       "      <td>ON</td>\n",
       "      <td>21347</td>\n",
       "      <td>21101</td>\n",
       "      <td>21420</td>\n",
       "    </tr>\n",
       "    <tr>\n",
       "      <th>6</th>\n",
       "      <td>Manitoba</td>\n",
       "      <td>MB</td>\n",
       "      <td>3531</td>\n",
       "      <td>3675</td>\n",
       "      <td>3965</td>\n",
       "    </tr>\n",
       "    <tr>\n",
       "      <th>7</th>\n",
       "      <td>Saskatchewan</td>\n",
       "      <td>SK</td>\n",
       "      <td>1565</td>\n",
       "      <td>1613</td>\n",
       "      <td>1673</td>\n",
       "    </tr>\n",
       "    <tr>\n",
       "      <th>8</th>\n",
       "      <td>Alberta</td>\n",
       "      <td>AB</td>\n",
       "      <td>5772</td>\n",
       "      <td>5943</td>\n",
       "      <td>6157</td>\n",
       "    </tr>\n",
       "    <tr>\n",
       "      <th>9</th>\n",
       "      <td>British Columbia</td>\n",
       "      <td>BC</td>\n",
       "      <td>6482</td>\n",
       "      <td>6680</td>\n",
       "      <td>6925</td>\n",
       "    </tr>\n",
       "    <tr>\n",
       "      <th>10</th>\n",
       "      <td>Yukon</td>\n",
       "      <td>YT</td>\n",
       "      <td>946</td>\n",
       "      <td>973</td>\n",
       "      <td>1006</td>\n",
       "    </tr>\n",
       "    <tr>\n",
       "      <th>11</th>\n",
       "      <td>Northwest Territories</td>\n",
       "      <td>NT</td>\n",
       "      <td>1281</td>\n",
       "      <td>1294</td>\n",
       "      <td>1319</td>\n",
       "    </tr>\n",
       "    <tr>\n",
       "      <th>12</th>\n",
       "      <td>Nunavut</td>\n",
       "      <td>NU</td>\n",
       "      <td>1539</td>\n",
       "      <td>1583</td>\n",
       "      <td>1634</td>\n",
       "    </tr>\n",
       "  </tbody>\n",
       "</table>\n",
       "</div>"
      ],
      "text/plain": [
       "   Canadian Provinces and Territories Two-Letter Abbreviation  2016-17  \\\n",
       "0           Newfoundland and Labrador                      NL      724   \n",
       "1                Prince Edward Island                      PE      584   \n",
       "2                         Nova Scotia                      NS     3060   \n",
       "3                       New Brunswick                      NB     2741   \n",
       "4                              Quebec                      QC    21372   \n",
       "5                             Ontario                      ON    21347   \n",
       "6                            Manitoba                      MB     3531   \n",
       "7                        Saskatchewan                      SK     1565   \n",
       "8                             Alberta                      AB     5772   \n",
       "9                    British Columbia                      BC     6482   \n",
       "10                              Yukon                      YT      946   \n",
       "11              Northwest Territories                      NT     1281   \n",
       "12                            Nunavut                      NU     1539   \n",
       "\n",
       "    2017-18  2018-19  \n",
       "0       734      750  \n",
       "1       601      638  \n",
       "2      3138     3201  \n",
       "3      2814     2956  \n",
       "4     22720    23749  \n",
       "5     21101    21420  \n",
       "6      3675     3965  \n",
       "7      1613     1673  \n",
       "8      5943     6157  \n",
       "9      6680     6925  \n",
       "10      973     1006  \n",
       "11     1294     1319  \n",
       "12     1583     1634  "
      ]
     },
     "execution_count": 29,
     "metadata": {},
     "output_type": "execute_result"
    }
   ],
   "source": [
    "# Reading a csv\n",
    "prov_support = pd.read_csv('pandas_ex1.csv', sep=',') \n",
    "prov_support"
   ]
  },
  {
   "cell_type": "markdown",
   "metadata": {},
   "source": [
    "What do you see in this `DataFrame`? \n",
    "\n",
    "1. The first row in the file was indeed a header row\n",
    "2. Pandas created a `DataFrame` with the index from 0 to 12\n",
    "\n",
    "Let's check the summary information of the `DataFrame` object:"
   ]
  },
  {
   "cell_type": "code",
   "execution_count": 30,
   "metadata": {},
   "outputs": [
    {
     "name": "stdout",
     "output_type": "stream",
     "text": [
      "<class 'pandas.core.frame.DataFrame'>\n",
      "RangeIndex: 13 entries, 0 to 12\n",
      "Data columns (total 5 columns):\n",
      "Canadian Provinces and Territories    13 non-null object\n",
      "Two-Letter Abbreviation               13 non-null object\n",
      "2016-17                               13 non-null int64\n",
      "2017-18                               13 non-null int64\n",
      "2018-19                               13 non-null int64\n",
      "dtypes: int64(3), object(2)\n",
      "memory usage: 600.0+ bytes\n"
     ]
    }
   ],
   "source": [
    "prov_support.info()"
   ]
  },
  {
   "cell_type": "markdown",
   "metadata": {},
   "source": [
    "We can see that the `DataFrame` object has 5 columns of data, 3 columns are integers and 2 columns are of `object` data type. In pandas, \"object\" usually means `string`. We can also use method `dtypes` to check data types for each column of data:"
   ]
  },
  {
   "cell_type": "code",
   "execution_count": 31,
   "metadata": {},
   "outputs": [
    {
     "data": {
      "text/plain": [
       "Canadian Provinces and Territories    object\n",
       "Two-Letter Abbreviation               object\n",
       "2016-17                                int64\n",
       "2017-18                                int64\n",
       "2018-19                                int64\n",
       "dtype: object"
      ]
     },
     "execution_count": 31,
     "metadata": {},
     "output_type": "execute_result"
    }
   ],
   "source": [
    "prov_support.dtypes"
   ]
  },
  {
   "cell_type": "markdown",
   "metadata": {},
   "source": [
    "When creating a `DataFrame`, `pandas` attempts to infer type and automatically do data conversion on read.  This includes user-defined value conversions including custom values for missing value markers. \n",
    "\n",
    "**Type inference** is one of the most important features of `pandas`.  It means *you do not have to specify which columns are numeric, integer, Boolean, or string*.  Pandas will inspect and specify for you the types.  However, this can lead to problems if not following good practices. \n",
    "\n",
    "For example, suppose  a data set uses numbers to represent nominal category levels instead of string labels.  When trying to do an analysis, most statistical packages would default to treating the levels as a numeric, unintentionally implying an ordering and quantity.  If these Python analysis packages also make inferences from the data, then it is also possible that the package would default to another methodology.  Simple time saving features can quickly spiral into more problems.\n",
    "\n",
    "Therefore, it is a good practice to always check if `pandas` has read the data correctly.  One common problem is when the numeric fields in the data file to be read has leading or trailing spaces, or if the numeric fields contain special characters, for example dollar signs, or thousands separators.  Pandas will read such numeric fields as strings.  You might run into problems with this data if you try to do any calculations on these columns, or use them in visualizations or models\n",
    "\n",
    "We can set more parameters while reading the file.  In the previous section, while creating the `DataFrame` from the dictionary, we decided to use one of the columns as an index.  We can do the same here and use the column with province abbreviations as index for the `DataFrame`.  Of course, we can always update the `DataFrame` afterwards using `set_index()` function, but `read_csv()` has a parameter that accomplishes this when reading the data.\n",
    "\n",
    "We might also decide to not use the header row from the file as it is too verbose, and specify different names for the columns.  We will demonstrate below how to add column names, because you might not always have a header in the data file, and you will need to specify a header yourself.  It is possible to add it later, but you can also name the columns within `read_csv()`.  Let us see how:"
   ]
  },
  {
   "cell_type": "code",
   "execution_count": 19,
   "metadata": {},
   "outputs": [
    {
     "data": {
      "text/html": [
       "<div>\n",
       "<style scoped>\n",
       "    .dataframe tbody tr th:only-of-type {\n",
       "        vertical-align: middle;\n",
       "    }\n",
       "\n",
       "    .dataframe tbody tr th {\n",
       "        vertical-align: top;\n",
       "    }\n",
       "\n",
       "    .dataframe thead th {\n",
       "        text-align: right;\n",
       "    }\n",
       "</style>\n",
       "<table border=\"1\" class=\"dataframe\">\n",
       "  <thead>\n",
       "    <tr style=\"text-align: right;\">\n",
       "      <th></th>\n",
       "      <th>province_name</th>\n",
       "      <th>2016</th>\n",
       "      <th>2017</th>\n",
       "      <th>2018</th>\n",
       "    </tr>\n",
       "    <tr>\n",
       "      <th>province</th>\n",
       "      <th></th>\n",
       "      <th></th>\n",
       "      <th></th>\n",
       "      <th></th>\n",
       "    </tr>\n",
       "  </thead>\n",
       "  <tbody>\n",
       "    <tr>\n",
       "      <th>NL</th>\n",
       "      <td>Newfoundland and Labrador</td>\n",
       "      <td>724</td>\n",
       "      <td>734</td>\n",
       "      <td>750</td>\n",
       "    </tr>\n",
       "    <tr>\n",
       "      <th>PE</th>\n",
       "      <td>Prince Edward Island</td>\n",
       "      <td>584</td>\n",
       "      <td>601</td>\n",
       "      <td>638</td>\n",
       "    </tr>\n",
       "    <tr>\n",
       "      <th>NS</th>\n",
       "      <td>Nova Scotia</td>\n",
       "      <td>3060</td>\n",
       "      <td>3138</td>\n",
       "      <td>3201</td>\n",
       "    </tr>\n",
       "    <tr>\n",
       "      <th>NB</th>\n",
       "      <td>New Brunswick</td>\n",
       "      <td>2741</td>\n",
       "      <td>2814</td>\n",
       "      <td>2956</td>\n",
       "    </tr>\n",
       "    <tr>\n",
       "      <th>QC</th>\n",
       "      <td>Quebec</td>\n",
       "      <td>21372</td>\n",
       "      <td>22720</td>\n",
       "      <td>23749</td>\n",
       "    </tr>\n",
       "    <tr>\n",
       "      <th>ON</th>\n",
       "      <td>Ontario</td>\n",
       "      <td>21347</td>\n",
       "      <td>21101</td>\n",
       "      <td>21420</td>\n",
       "    </tr>\n",
       "    <tr>\n",
       "      <th>MB</th>\n",
       "      <td>Manitoba</td>\n",
       "      <td>3531</td>\n",
       "      <td>3675</td>\n",
       "      <td>3965</td>\n",
       "    </tr>\n",
       "    <tr>\n",
       "      <th>SK</th>\n",
       "      <td>Saskatchewan</td>\n",
       "      <td>1565</td>\n",
       "      <td>1613</td>\n",
       "      <td>1673</td>\n",
       "    </tr>\n",
       "    <tr>\n",
       "      <th>AB</th>\n",
       "      <td>Alberta</td>\n",
       "      <td>5772</td>\n",
       "      <td>5943</td>\n",
       "      <td>6157</td>\n",
       "    </tr>\n",
       "    <tr>\n",
       "      <th>BC</th>\n",
       "      <td>British Columbia</td>\n",
       "      <td>6482</td>\n",
       "      <td>6680</td>\n",
       "      <td>6925</td>\n",
       "    </tr>\n",
       "    <tr>\n",
       "      <th>YT</th>\n",
       "      <td>Yukon</td>\n",
       "      <td>946</td>\n",
       "      <td>973</td>\n",
       "      <td>1006</td>\n",
       "    </tr>\n",
       "    <tr>\n",
       "      <th>NT</th>\n",
       "      <td>Northwest Territories</td>\n",
       "      <td>1281</td>\n",
       "      <td>1294</td>\n",
       "      <td>1319</td>\n",
       "    </tr>\n",
       "    <tr>\n",
       "      <th>NU</th>\n",
       "      <td>Nunavut</td>\n",
       "      <td>1539</td>\n",
       "      <td>1583</td>\n",
       "      <td>1634</td>\n",
       "    </tr>\n",
       "  </tbody>\n",
       "</table>\n",
       "</div>"
      ],
      "text/plain": [
       "                      province_name   2016   2017   2018\n",
       "province                                                \n",
       "NL        Newfoundland and Labrador    724    734    750\n",
       "PE             Prince Edward Island    584    601    638\n",
       "NS                      Nova Scotia   3060   3138   3201\n",
       "NB                    New Brunswick   2741   2814   2956\n",
       "QC                           Quebec  21372  22720  23749\n",
       "ON                          Ontario  21347  21101  21420\n",
       "MB                         Manitoba   3531   3675   3965\n",
       "SK                     Saskatchewan   1565   1613   1673\n",
       "AB                          Alberta   5772   5943   6157\n",
       "BC                 British Columbia   6482   6680   6925\n",
       "YT                            Yukon    946    973   1006\n",
       "NT            Northwest Territories   1281   1294   1319\n",
       "NU                          Nunavut   1539   1583   1634"
      ]
     },
     "execution_count": 19,
     "metadata": {},
     "output_type": "execute_result"
    }
   ],
   "source": [
    "prov_support = pd.read_csv('pandas_ex1.csv', \n",
    "                           sep=',', \n",
    "                           skiprows=1,   # skipping one row\n",
    "                           header=None,  # we are telling pandas that there is no header in the file, as we skipped the first row\n",
    "                           names=['province_name','province','2016','2017','2018'], # names of columns\n",
    "                           index_col='province')   # use column 'province' as index\n",
    "\n",
    "prov_support"
   ]
  },
  {
   "cell_type": "markdown",
   "metadata": {},
   "source": [
    "We now know how to set both row and column indexes and load the data from the `csv` file into the `DataFrame`."
   ]
  },
  {
   "cell_type": "markdown",
   "metadata": {},
   "source": [
    "#### Saving DataFrames\n",
    "\n",
    "We now understand how to read data. In this section we will discuss how to write and save data once we've finished preparing data for an analysis. \n",
    "\n",
    "In `pandas`, we utilize the `to_csv()` function for writing out `DataFrame` data to `csv` format. It is similar to the reading function, except now the parameters are used for formatting output instead of parsing input formatting."
   ]
  },
  {
   "cell_type": "code",
   "execution_count": 33,
   "metadata": {},
   "outputs": [
    {
     "data": {
      "text/plain": [
       "'province,province_name,2016,2017,2018\\nNL,Newfoundland and Labrador,724,734,750\\nPE,Prince Edward Island,584,601,638\\nNS,Nova Scotia,3060,3138,3201\\nNB,New Brunswick,2741,2814,2956\\nQC,Quebec,21372,22720,23749\\nON,Ontario,21347,21101,21420\\nMB,Manitoba,3531,3675,3965\\nSK,Saskatchewan,1565,1613,1673\\nAB,Alberta,5772,5943,6157\\nBC,British Columbia,6482,6680,6925\\nYT,Yukon,946,973,1006\\nNT,Northwest Territories,1281,1294,1319\\nNU,Nunavut,1539,1583,1634\\n'"
      ]
     },
     "execution_count": 33,
     "metadata": {},
     "output_type": "execute_result"
    }
   ],
   "source": [
    "csv_out = prov_support.to_csv()\n",
    "csv_out"
   ]
  },
  {
   "cell_type": "code",
   "execution_count": 34,
   "metadata": {},
   "outputs": [],
   "source": [
    "# writing to a file\n",
    "prov_support.to_csv('csv_out1.csv')"
   ]
  },
  {
   "cell_type": "markdown",
   "metadata": {},
   "source": [
    "We can also make a more elaborate call and specify if we want to include a header row and index, and what character should be used as a column separator:"
   ]
  },
  {
   "cell_type": "code",
   "execution_count": 15,
   "metadata": {},
   "outputs": [],
   "source": [
    "prov_support.to_csv('csv_out2.csv',\n",
    "                    sep='\\t',       #the seperator used for the columns\n",
    "                    index=True,     #whether to include indexes in output\n",
    "                    header=True)    #whether to include headers in output"
   ]
  },
  {
   "cell_type": "markdown",
   "metadata": {},
   "source": [
    "We can find the files on the file system, open them in any text editor and validate the data. The data in the first file, `csv_out1.csv` should be formated as follows:"
   ]
  },
  {
   "cell_type": "markdown",
   "metadata": {},
   "source": [
    "```\n",
    "province,province_name,2016,2017,2018\n",
    "NL,Newfoundland and Labrador,724,734,750\n",
    "PE,Prince Edward Island,584,601,638\n",
    "NS,Nova Scotia,3060,3138,3201\n",
    "NB,New Brunswick,2741,2814,2956\n",
    "```"
   ]
  },
  {
   "cell_type": "markdown",
   "metadata": {},
   "source": [
    "Format of the second file, `csv_out2.csv`, will look as follows, the columns are separated by tabs instead of commas:"
   ]
  },
  {
   "cell_type": "markdown",
   "metadata": {},
   "source": [
    "```\n",
    "province\tprovince_name\t2016\t2017\t2018\n",
    "NL\tNewfoundland and Labrador\t724\t734\t750\n",
    "PE\tPrince Edward Island\t584\t601\t638\n",
    "NS\tNova Scotia\t3060\t3138\t3201\n",
    "NB\tNew Brunswick\t2741\t2814\t2956\n",
    "```"
   ]
  },
  {
   "cell_type": "markdown",
   "metadata": {},
   "source": [
    "#### Renaming DataFrame columns"
   ]
  },
  {
   "cell_type": "markdown",
   "metadata": {},
   "source": [
    "Quite often, after you have read the file and created a `DataFrame`, you realize that the column names are either too long, or contain special characters, or not descriptive enough. \n",
    "\n",
    "In our example, we might decide to shorten the names of the first and second columns. We might want to rename \"Canadian Provinces and Territories\" into \"Province Name\" and \"Two-Letter Abbreviation\" into \"Province Abbreviation\". We also might want to rename the numeric columns to display only one year instead of the range of years. For example, rename `\"2016-17\"` to be `\"2016\"` and so on.\n",
    "\n",
    "Let's load the data into the `DataFrame` one more time without specifying any parameters for the `read_csv()` function, like we did in the beginning of this section:"
   ]
  },
  {
   "cell_type": "code",
   "execution_count": 36,
   "metadata": {},
   "outputs": [
    {
     "data": {
      "text/html": [
       "<div>\n",
       "<style scoped>\n",
       "    .dataframe tbody tr th:only-of-type {\n",
       "        vertical-align: middle;\n",
       "    }\n",
       "\n",
       "    .dataframe tbody tr th {\n",
       "        vertical-align: top;\n",
       "    }\n",
       "\n",
       "    .dataframe thead th {\n",
       "        text-align: right;\n",
       "    }\n",
       "</style>\n",
       "<table border=\"1\" class=\"dataframe\">\n",
       "  <thead>\n",
       "    <tr style=\"text-align: right;\">\n",
       "      <th></th>\n",
       "      <th>Canadian Provinces and Territories</th>\n",
       "      <th>Two-Letter Abbreviation</th>\n",
       "      <th>2016-17</th>\n",
       "      <th>2017-18</th>\n",
       "      <th>2018-19</th>\n",
       "    </tr>\n",
       "  </thead>\n",
       "  <tbody>\n",
       "    <tr>\n",
       "      <th>0</th>\n",
       "      <td>Newfoundland and Labrador</td>\n",
       "      <td>NL</td>\n",
       "      <td>724</td>\n",
       "      <td>734</td>\n",
       "      <td>750</td>\n",
       "    </tr>\n",
       "    <tr>\n",
       "      <th>1</th>\n",
       "      <td>Prince Edward Island</td>\n",
       "      <td>PE</td>\n",
       "      <td>584</td>\n",
       "      <td>601</td>\n",
       "      <td>638</td>\n",
       "    </tr>\n",
       "    <tr>\n",
       "      <th>2</th>\n",
       "      <td>Nova Scotia</td>\n",
       "      <td>NS</td>\n",
       "      <td>3060</td>\n",
       "      <td>3138</td>\n",
       "      <td>3201</td>\n",
       "    </tr>\n",
       "    <tr>\n",
       "      <th>3</th>\n",
       "      <td>New Brunswick</td>\n",
       "      <td>NB</td>\n",
       "      <td>2741</td>\n",
       "      <td>2814</td>\n",
       "      <td>2956</td>\n",
       "    </tr>\n",
       "    <tr>\n",
       "      <th>4</th>\n",
       "      <td>Quebec</td>\n",
       "      <td>QC</td>\n",
       "      <td>21372</td>\n",
       "      <td>22720</td>\n",
       "      <td>23749</td>\n",
       "    </tr>\n",
       "    <tr>\n",
       "      <th>5</th>\n",
       "      <td>Ontario</td>\n",
       "      <td>ON</td>\n",
       "      <td>21347</td>\n",
       "      <td>21101</td>\n",
       "      <td>21420</td>\n",
       "    </tr>\n",
       "    <tr>\n",
       "      <th>6</th>\n",
       "      <td>Manitoba</td>\n",
       "      <td>MB</td>\n",
       "      <td>3531</td>\n",
       "      <td>3675</td>\n",
       "      <td>3965</td>\n",
       "    </tr>\n",
       "    <tr>\n",
       "      <th>7</th>\n",
       "      <td>Saskatchewan</td>\n",
       "      <td>SK</td>\n",
       "      <td>1565</td>\n",
       "      <td>1613</td>\n",
       "      <td>1673</td>\n",
       "    </tr>\n",
       "    <tr>\n",
       "      <th>8</th>\n",
       "      <td>Alberta</td>\n",
       "      <td>AB</td>\n",
       "      <td>5772</td>\n",
       "      <td>5943</td>\n",
       "      <td>6157</td>\n",
       "    </tr>\n",
       "    <tr>\n",
       "      <th>9</th>\n",
       "      <td>British Columbia</td>\n",
       "      <td>BC</td>\n",
       "      <td>6482</td>\n",
       "      <td>6680</td>\n",
       "      <td>6925</td>\n",
       "    </tr>\n",
       "    <tr>\n",
       "      <th>10</th>\n",
       "      <td>Yukon</td>\n",
       "      <td>YT</td>\n",
       "      <td>946</td>\n",
       "      <td>973</td>\n",
       "      <td>1006</td>\n",
       "    </tr>\n",
       "    <tr>\n",
       "      <th>11</th>\n",
       "      <td>Northwest Territories</td>\n",
       "      <td>NT</td>\n",
       "      <td>1281</td>\n",
       "      <td>1294</td>\n",
       "      <td>1319</td>\n",
       "    </tr>\n",
       "    <tr>\n",
       "      <th>12</th>\n",
       "      <td>Nunavut</td>\n",
       "      <td>NU</td>\n",
       "      <td>1539</td>\n",
       "      <td>1583</td>\n",
       "      <td>1634</td>\n",
       "    </tr>\n",
       "  </tbody>\n",
       "</table>\n",
       "</div>"
      ],
      "text/plain": [
       "   Canadian Provinces and Territories Two-Letter Abbreviation  2016-17  \\\n",
       "0           Newfoundland and Labrador                      NL      724   \n",
       "1                Prince Edward Island                      PE      584   \n",
       "2                         Nova Scotia                      NS     3060   \n",
       "3                       New Brunswick                      NB     2741   \n",
       "4                              Quebec                      QC    21372   \n",
       "5                             Ontario                      ON    21347   \n",
       "6                            Manitoba                      MB     3531   \n",
       "7                        Saskatchewan                      SK     1565   \n",
       "8                             Alberta                      AB     5772   \n",
       "9                    British Columbia                      BC     6482   \n",
       "10                              Yukon                      YT      946   \n",
       "11              Northwest Territories                      NT     1281   \n",
       "12                            Nunavut                      NU     1539   \n",
       "\n",
       "    2017-18  2018-19  \n",
       "0       734      750  \n",
       "1       601      638  \n",
       "2      3138     3201  \n",
       "3      2814     2956  \n",
       "4     22720    23749  \n",
       "5     21101    21420  \n",
       "6      3675     3965  \n",
       "7      1613     1673  \n",
       "8      5943     6157  \n",
       "9      6680     6925  \n",
       "10      973     1006  \n",
       "11     1294     1319  \n",
       "12     1583     1634  "
      ]
     },
     "execution_count": 36,
     "metadata": {},
     "output_type": "execute_result"
    }
   ],
   "source": [
    "fed_sup = pd.read_csv('pandas_ex1.csv', sep=',') \n",
    "fed_sup"
   ]
  },
  {
   "cell_type": "markdown",
   "metadata": {},
   "source": [
    "Pandas allows us to easily rename the columns in one line of code. All we need to do is to use `.columns` attribute and pass to it a list of new column names:"
   ]
  },
  {
   "cell_type": "code",
   "execution_count": 37,
   "metadata": {},
   "outputs": [
    {
     "data": {
      "text/html": [
       "<div>\n",
       "<style scoped>\n",
       "    .dataframe tbody tr th:only-of-type {\n",
       "        vertical-align: middle;\n",
       "    }\n",
       "\n",
       "    .dataframe tbody tr th {\n",
       "        vertical-align: top;\n",
       "    }\n",
       "\n",
       "    .dataframe thead th {\n",
       "        text-align: right;\n",
       "    }\n",
       "</style>\n",
       "<table border=\"1\" class=\"dataframe\">\n",
       "  <thead>\n",
       "    <tr style=\"text-align: right;\">\n",
       "      <th></th>\n",
       "      <th>Province Name</th>\n",
       "      <th>Province Abbreviation</th>\n",
       "      <th>2016</th>\n",
       "      <th>2017</th>\n",
       "      <th>2018</th>\n",
       "    </tr>\n",
       "  </thead>\n",
       "  <tbody>\n",
       "    <tr>\n",
       "      <th>0</th>\n",
       "      <td>Newfoundland and Labrador</td>\n",
       "      <td>NL</td>\n",
       "      <td>724</td>\n",
       "      <td>734</td>\n",
       "      <td>750</td>\n",
       "    </tr>\n",
       "    <tr>\n",
       "      <th>1</th>\n",
       "      <td>Prince Edward Island</td>\n",
       "      <td>PE</td>\n",
       "      <td>584</td>\n",
       "      <td>601</td>\n",
       "      <td>638</td>\n",
       "    </tr>\n",
       "    <tr>\n",
       "      <th>2</th>\n",
       "      <td>Nova Scotia</td>\n",
       "      <td>NS</td>\n",
       "      <td>3060</td>\n",
       "      <td>3138</td>\n",
       "      <td>3201</td>\n",
       "    </tr>\n",
       "    <tr>\n",
       "      <th>3</th>\n",
       "      <td>New Brunswick</td>\n",
       "      <td>NB</td>\n",
       "      <td>2741</td>\n",
       "      <td>2814</td>\n",
       "      <td>2956</td>\n",
       "    </tr>\n",
       "    <tr>\n",
       "      <th>4</th>\n",
       "      <td>Quebec</td>\n",
       "      <td>QC</td>\n",
       "      <td>21372</td>\n",
       "      <td>22720</td>\n",
       "      <td>23749</td>\n",
       "    </tr>\n",
       "    <tr>\n",
       "      <th>5</th>\n",
       "      <td>Ontario</td>\n",
       "      <td>ON</td>\n",
       "      <td>21347</td>\n",
       "      <td>21101</td>\n",
       "      <td>21420</td>\n",
       "    </tr>\n",
       "    <tr>\n",
       "      <th>6</th>\n",
       "      <td>Manitoba</td>\n",
       "      <td>MB</td>\n",
       "      <td>3531</td>\n",
       "      <td>3675</td>\n",
       "      <td>3965</td>\n",
       "    </tr>\n",
       "    <tr>\n",
       "      <th>7</th>\n",
       "      <td>Saskatchewan</td>\n",
       "      <td>SK</td>\n",
       "      <td>1565</td>\n",
       "      <td>1613</td>\n",
       "      <td>1673</td>\n",
       "    </tr>\n",
       "    <tr>\n",
       "      <th>8</th>\n",
       "      <td>Alberta</td>\n",
       "      <td>AB</td>\n",
       "      <td>5772</td>\n",
       "      <td>5943</td>\n",
       "      <td>6157</td>\n",
       "    </tr>\n",
       "    <tr>\n",
       "      <th>9</th>\n",
       "      <td>British Columbia</td>\n",
       "      <td>BC</td>\n",
       "      <td>6482</td>\n",
       "      <td>6680</td>\n",
       "      <td>6925</td>\n",
       "    </tr>\n",
       "    <tr>\n",
       "      <th>10</th>\n",
       "      <td>Yukon</td>\n",
       "      <td>YT</td>\n",
       "      <td>946</td>\n",
       "      <td>973</td>\n",
       "      <td>1006</td>\n",
       "    </tr>\n",
       "    <tr>\n",
       "      <th>11</th>\n",
       "      <td>Northwest Territories</td>\n",
       "      <td>NT</td>\n",
       "      <td>1281</td>\n",
       "      <td>1294</td>\n",
       "      <td>1319</td>\n",
       "    </tr>\n",
       "    <tr>\n",
       "      <th>12</th>\n",
       "      <td>Nunavut</td>\n",
       "      <td>NU</td>\n",
       "      <td>1539</td>\n",
       "      <td>1583</td>\n",
       "      <td>1634</td>\n",
       "    </tr>\n",
       "  </tbody>\n",
       "</table>\n",
       "</div>"
      ],
      "text/plain": [
       "                Province Name Province Abbreviation   2016   2017   2018\n",
       "0   Newfoundland and Labrador                    NL    724    734    750\n",
       "1        Prince Edward Island                    PE    584    601    638\n",
       "2                 Nova Scotia                    NS   3060   3138   3201\n",
       "3               New Brunswick                    NB   2741   2814   2956\n",
       "4                      Quebec                    QC  21372  22720  23749\n",
       "5                     Ontario                    ON  21347  21101  21420\n",
       "6                    Manitoba                    MB   3531   3675   3965\n",
       "7                Saskatchewan                    SK   1565   1613   1673\n",
       "8                     Alberta                    AB   5772   5943   6157\n",
       "9            British Columbia                    BC   6482   6680   6925\n",
       "10                      Yukon                    YT    946    973   1006\n",
       "11      Northwest Territories                    NT   1281   1294   1319\n",
       "12                    Nunavut                    NU   1539   1583   1634"
      ]
     },
     "execution_count": 37,
     "metadata": {},
     "output_type": "execute_result"
    }
   ],
   "source": [
    "fed_sup.columns = ['Province Name', 'Province Abbreviation', '2016', '2017', '2018']\n",
    "fed_sup"
   ]
  },
  {
   "cell_type": "markdown",
   "metadata": {},
   "source": [
    "Now, what if we decide that we don't want to have spaces in the column names (we will discuss in the next section the advantages of having column names without spaces). In this case, we can use `pandas`' `rename()` function:"
   ]
  },
  {
   "cell_type": "code",
   "execution_count": 38,
   "metadata": {},
   "outputs": [
    {
     "data": {
      "text/html": [
       "<div>\n",
       "<style scoped>\n",
       "    .dataframe tbody tr th:only-of-type {\n",
       "        vertical-align: middle;\n",
       "    }\n",
       "\n",
       "    .dataframe tbody tr th {\n",
       "        vertical-align: top;\n",
       "    }\n",
       "\n",
       "    .dataframe thead th {\n",
       "        text-align: right;\n",
       "    }\n",
       "</style>\n",
       "<table border=\"1\" class=\"dataframe\">\n",
       "  <thead>\n",
       "    <tr style=\"text-align: right;\">\n",
       "      <th></th>\n",
       "      <th>province_name</th>\n",
       "      <th>province</th>\n",
       "      <th>2016</th>\n",
       "      <th>2017</th>\n",
       "      <th>2018</th>\n",
       "    </tr>\n",
       "  </thead>\n",
       "  <tbody>\n",
       "    <tr>\n",
       "      <th>0</th>\n",
       "      <td>Newfoundland and Labrador</td>\n",
       "      <td>NL</td>\n",
       "      <td>724</td>\n",
       "      <td>734</td>\n",
       "      <td>750</td>\n",
       "    </tr>\n",
       "    <tr>\n",
       "      <th>1</th>\n",
       "      <td>Prince Edward Island</td>\n",
       "      <td>PE</td>\n",
       "      <td>584</td>\n",
       "      <td>601</td>\n",
       "      <td>638</td>\n",
       "    </tr>\n",
       "    <tr>\n",
       "      <th>2</th>\n",
       "      <td>Nova Scotia</td>\n",
       "      <td>NS</td>\n",
       "      <td>3060</td>\n",
       "      <td>3138</td>\n",
       "      <td>3201</td>\n",
       "    </tr>\n",
       "    <tr>\n",
       "      <th>3</th>\n",
       "      <td>New Brunswick</td>\n",
       "      <td>NB</td>\n",
       "      <td>2741</td>\n",
       "      <td>2814</td>\n",
       "      <td>2956</td>\n",
       "    </tr>\n",
       "    <tr>\n",
       "      <th>4</th>\n",
       "      <td>Quebec</td>\n",
       "      <td>QC</td>\n",
       "      <td>21372</td>\n",
       "      <td>22720</td>\n",
       "      <td>23749</td>\n",
       "    </tr>\n",
       "    <tr>\n",
       "      <th>5</th>\n",
       "      <td>Ontario</td>\n",
       "      <td>ON</td>\n",
       "      <td>21347</td>\n",
       "      <td>21101</td>\n",
       "      <td>21420</td>\n",
       "    </tr>\n",
       "    <tr>\n",
       "      <th>6</th>\n",
       "      <td>Manitoba</td>\n",
       "      <td>MB</td>\n",
       "      <td>3531</td>\n",
       "      <td>3675</td>\n",
       "      <td>3965</td>\n",
       "    </tr>\n",
       "    <tr>\n",
       "      <th>7</th>\n",
       "      <td>Saskatchewan</td>\n",
       "      <td>SK</td>\n",
       "      <td>1565</td>\n",
       "      <td>1613</td>\n",
       "      <td>1673</td>\n",
       "    </tr>\n",
       "    <tr>\n",
       "      <th>8</th>\n",
       "      <td>Alberta</td>\n",
       "      <td>AB</td>\n",
       "      <td>5772</td>\n",
       "      <td>5943</td>\n",
       "      <td>6157</td>\n",
       "    </tr>\n",
       "    <tr>\n",
       "      <th>9</th>\n",
       "      <td>British Columbia</td>\n",
       "      <td>BC</td>\n",
       "      <td>6482</td>\n",
       "      <td>6680</td>\n",
       "      <td>6925</td>\n",
       "    </tr>\n",
       "    <tr>\n",
       "      <th>10</th>\n",
       "      <td>Yukon</td>\n",
       "      <td>YT</td>\n",
       "      <td>946</td>\n",
       "      <td>973</td>\n",
       "      <td>1006</td>\n",
       "    </tr>\n",
       "    <tr>\n",
       "      <th>11</th>\n",
       "      <td>Northwest Territories</td>\n",
       "      <td>NT</td>\n",
       "      <td>1281</td>\n",
       "      <td>1294</td>\n",
       "      <td>1319</td>\n",
       "    </tr>\n",
       "    <tr>\n",
       "      <th>12</th>\n",
       "      <td>Nunavut</td>\n",
       "      <td>NU</td>\n",
       "      <td>1539</td>\n",
       "      <td>1583</td>\n",
       "      <td>1634</td>\n",
       "    </tr>\n",
       "  </tbody>\n",
       "</table>\n",
       "</div>"
      ],
      "text/plain": [
       "                province_name province   2016   2017   2018\n",
       "0   Newfoundland and Labrador       NL    724    734    750\n",
       "1        Prince Edward Island       PE    584    601    638\n",
       "2                 Nova Scotia       NS   3060   3138   3201\n",
       "3               New Brunswick       NB   2741   2814   2956\n",
       "4                      Quebec       QC  21372  22720  23749\n",
       "5                     Ontario       ON  21347  21101  21420\n",
       "6                    Manitoba       MB   3531   3675   3965\n",
       "7                Saskatchewan       SK   1565   1613   1673\n",
       "8                     Alberta       AB   5772   5943   6157\n",
       "9            British Columbia       BC   6482   6680   6925\n",
       "10                      Yukon       YT    946    973   1006\n",
       "11      Northwest Territories       NT   1281   1294   1319\n",
       "12                    Nunavut       NU   1539   1583   1634"
      ]
     },
     "execution_count": 38,
     "metadata": {},
     "output_type": "execute_result"
    }
   ],
   "source": [
    "fed_sup = fed_sup.rename(columns={'Province Name':'province_name', 'Province Abbreviation':'province'})\n",
    "fed_sup"
   ]
  },
  {
   "cell_type": "markdown",
   "metadata": {},
   "source": [
    "The advantage of using the `rename()` function is that you can include only those column names that require the change and be specific about what column names you want to rename."
   ]
  },
  {
   "cell_type": "markdown",
   "metadata": {},
   "source": [
    "### Working with DataFrames"
   ]
  },
  {
   "cell_type": "markdown",
   "metadata": {},
   "source": [
    "In this section, we will learn how to access, select and manipulate data in `pandas` `DataFrame`.\n",
    "\n",
    "We have read the data from the file and loaded it into the `DataFrame`. If you have thousands or even millions of rows of data, you might want to look at the small sample of the data within the notebook. Pandas has two very convenient methods to do that, `head()` and `tail()`. Both functions, by default, will display only 5 rows of data, the first or the last 5 rows, correspondingly. "
   ]
  },
  {
   "cell_type": "code",
   "execution_count": 16,
   "metadata": {},
   "outputs": [
    {
     "data": {
      "text/html": [
       "<div>\n",
       "<style scoped>\n",
       "    .dataframe tbody tr th:only-of-type {\n",
       "        vertical-align: middle;\n",
       "    }\n",
       "\n",
       "    .dataframe tbody tr th {\n",
       "        vertical-align: top;\n",
       "    }\n",
       "\n",
       "    .dataframe thead th {\n",
       "        text-align: right;\n",
       "    }\n",
       "</style>\n",
       "<table border=\"1\" class=\"dataframe\">\n",
       "  <thead>\n",
       "    <tr style=\"text-align: right;\">\n",
       "      <th></th>\n",
       "      <th>province_name</th>\n",
       "      <th>2016</th>\n",
       "      <th>2017</th>\n",
       "      <th>2018</th>\n",
       "    </tr>\n",
       "    <tr>\n",
       "      <th>province</th>\n",
       "      <th></th>\n",
       "      <th></th>\n",
       "      <th></th>\n",
       "      <th></th>\n",
       "    </tr>\n",
       "  </thead>\n",
       "  <tbody>\n",
       "    <tr>\n",
       "      <th>NL</th>\n",
       "      <td>Newfoundland and Labrador</td>\n",
       "      <td>724</td>\n",
       "      <td>734</td>\n",
       "      <td>750</td>\n",
       "    </tr>\n",
       "    <tr>\n",
       "      <th>PE</th>\n",
       "      <td>Prince Edward Island</td>\n",
       "      <td>584</td>\n",
       "      <td>601</td>\n",
       "      <td>638</td>\n",
       "    </tr>\n",
       "    <tr>\n",
       "      <th>NS</th>\n",
       "      <td>Nova Scotia</td>\n",
       "      <td>3060</td>\n",
       "      <td>3138</td>\n",
       "      <td>3201</td>\n",
       "    </tr>\n",
       "    <tr>\n",
       "      <th>NB</th>\n",
       "      <td>New Brunswick</td>\n",
       "      <td>2741</td>\n",
       "      <td>2814</td>\n",
       "      <td>2956</td>\n",
       "    </tr>\n",
       "    <tr>\n",
       "      <th>QC</th>\n",
       "      <td>Quebec</td>\n",
       "      <td>21372</td>\n",
       "      <td>22720</td>\n",
       "      <td>23749</td>\n",
       "    </tr>\n",
       "  </tbody>\n",
       "</table>\n",
       "</div>"
      ],
      "text/plain": [
       "                      province_name   2016   2017   2018\n",
       "province                                                \n",
       "NL        Newfoundland and Labrador    724    734    750\n",
       "PE             Prince Edward Island    584    601    638\n",
       "NS                      Nova Scotia   3060   3138   3201\n",
       "NB                    New Brunswick   2741   2814   2956\n",
       "QC                           Quebec  21372  22720  23749"
      ]
     },
     "execution_count": 16,
     "metadata": {},
     "output_type": "execute_result"
    }
   ],
   "source": [
    "# first 5 rows of the DataFrame\n",
    "prov_support.head()"
   ]
  },
  {
   "cell_type": "code",
   "execution_count": 40,
   "metadata": {},
   "outputs": [
    {
     "data": {
      "text/html": [
       "<div>\n",
       "<style scoped>\n",
       "    .dataframe tbody tr th:only-of-type {\n",
       "        vertical-align: middle;\n",
       "    }\n",
       "\n",
       "    .dataframe tbody tr th {\n",
       "        vertical-align: top;\n",
       "    }\n",
       "\n",
       "    .dataframe thead th {\n",
       "        text-align: right;\n",
       "    }\n",
       "</style>\n",
       "<table border=\"1\" class=\"dataframe\">\n",
       "  <thead>\n",
       "    <tr style=\"text-align: right;\">\n",
       "      <th></th>\n",
       "      <th>province_name</th>\n",
       "      <th>2016</th>\n",
       "      <th>2017</th>\n",
       "      <th>2018</th>\n",
       "    </tr>\n",
       "    <tr>\n",
       "      <th>province</th>\n",
       "      <th></th>\n",
       "      <th></th>\n",
       "      <th></th>\n",
       "      <th></th>\n",
       "    </tr>\n",
       "  </thead>\n",
       "  <tbody>\n",
       "    <tr>\n",
       "      <th>AB</th>\n",
       "      <td>Alberta</td>\n",
       "      <td>5772</td>\n",
       "      <td>5943</td>\n",
       "      <td>6157</td>\n",
       "    </tr>\n",
       "    <tr>\n",
       "      <th>BC</th>\n",
       "      <td>British Columbia</td>\n",
       "      <td>6482</td>\n",
       "      <td>6680</td>\n",
       "      <td>6925</td>\n",
       "    </tr>\n",
       "    <tr>\n",
       "      <th>YT</th>\n",
       "      <td>Yukon</td>\n",
       "      <td>946</td>\n",
       "      <td>973</td>\n",
       "      <td>1006</td>\n",
       "    </tr>\n",
       "    <tr>\n",
       "      <th>NT</th>\n",
       "      <td>Northwest Territories</td>\n",
       "      <td>1281</td>\n",
       "      <td>1294</td>\n",
       "      <td>1319</td>\n",
       "    </tr>\n",
       "    <tr>\n",
       "      <th>NU</th>\n",
       "      <td>Nunavut</td>\n",
       "      <td>1539</td>\n",
       "      <td>1583</td>\n",
       "      <td>1634</td>\n",
       "    </tr>\n",
       "  </tbody>\n",
       "</table>\n",
       "</div>"
      ],
      "text/plain": [
       "                  province_name  2016  2017  2018\n",
       "province                                         \n",
       "AB                      Alberta  5772  5943  6157\n",
       "BC             British Columbia  6482  6680  6925\n",
       "YT                        Yukon   946   973  1006\n",
       "NT        Northwest Territories  1281  1294  1319\n",
       "NU                      Nunavut  1539  1583  1634"
      ]
     },
     "execution_count": 40,
     "metadata": {},
     "output_type": "execute_result"
    }
   ],
   "source": [
    "# last 5 rows\n",
    "prov_support.tail()"
   ]
  },
  {
   "cell_type": "code",
   "execution_count": 41,
   "metadata": {},
   "outputs": [
    {
     "data": {
      "text/html": [
       "<div>\n",
       "<style scoped>\n",
       "    .dataframe tbody tr th:only-of-type {\n",
       "        vertical-align: middle;\n",
       "    }\n",
       "\n",
       "    .dataframe tbody tr th {\n",
       "        vertical-align: top;\n",
       "    }\n",
       "\n",
       "    .dataframe thead th {\n",
       "        text-align: right;\n",
       "    }\n",
       "</style>\n",
       "<table border=\"1\" class=\"dataframe\">\n",
       "  <thead>\n",
       "    <tr style=\"text-align: right;\">\n",
       "      <th></th>\n",
       "      <th>province_name</th>\n",
       "      <th>2016</th>\n",
       "      <th>2017</th>\n",
       "      <th>2018</th>\n",
       "    </tr>\n",
       "    <tr>\n",
       "      <th>province</th>\n",
       "      <th></th>\n",
       "      <th></th>\n",
       "      <th></th>\n",
       "      <th></th>\n",
       "    </tr>\n",
       "  </thead>\n",
       "  <tbody>\n",
       "    <tr>\n",
       "      <th>NL</th>\n",
       "      <td>Newfoundland and Labrador</td>\n",
       "      <td>724</td>\n",
       "      <td>734</td>\n",
       "      <td>750</td>\n",
       "    </tr>\n",
       "    <tr>\n",
       "      <th>PE</th>\n",
       "      <td>Prince Edward Island</td>\n",
       "      <td>584</td>\n",
       "      <td>601</td>\n",
       "      <td>638</td>\n",
       "    </tr>\n",
       "    <tr>\n",
       "      <th>NS</th>\n",
       "      <td>Nova Scotia</td>\n",
       "      <td>3060</td>\n",
       "      <td>3138</td>\n",
       "      <td>3201</td>\n",
       "    </tr>\n",
       "  </tbody>\n",
       "</table>\n",
       "</div>"
      ],
      "text/plain": [
       "                      province_name  2016  2017  2018\n",
       "province                                             \n",
       "NL        Newfoundland and Labrador   724   734   750\n",
       "PE             Prince Edward Island   584   601   638\n",
       "NS                      Nova Scotia  3060  3138  3201"
      ]
     },
     "execution_count": 41,
     "metadata": {},
     "output_type": "execute_result"
    }
   ],
   "source": [
    "# It is possible to specify how many rows of data we want to see:\n",
    "\n",
    "prov_support.head(3)"
   ]
  },
  {
   "cell_type": "markdown",
   "metadata": {},
   "source": [
    "#### Axes and indexes"
   ]
  },
  {
   "cell_type": "markdown",
   "metadata": {},
   "source": [
    "To see the dimensions of the `DataFrame`, we can use method `shape`, it returns a tuple in the form (number of rows, number of columns):"
   ]
  },
  {
   "cell_type": "code",
   "execution_count": 42,
   "metadata": {},
   "outputs": [
    {
     "data": {
      "text/plain": [
       "(13, 4)"
      ]
     },
     "execution_count": 42,
     "metadata": {},
     "output_type": "execute_result"
    }
   ],
   "source": [
    "prov_support.shape"
   ]
  },
  {
   "cell_type": "markdown",
   "metadata": {},
   "source": [
    "Method `columns` returns a list of all columns from a `DataFrame`, and method `index` returns a `DataFrame`'s index:"
   ]
  },
  {
   "cell_type": "code",
   "execution_count": 43,
   "metadata": {},
   "outputs": [
    {
     "data": {
      "text/plain": [
       "Index(['province_name', '2016', '2017', '2018'], dtype='object')"
      ]
     },
     "execution_count": 43,
     "metadata": {},
     "output_type": "execute_result"
    }
   ],
   "source": [
    "prov_support.columns"
   ]
  },
  {
   "cell_type": "code",
   "execution_count": 44,
   "metadata": {},
   "outputs": [
    {
     "data": {
      "text/plain": [
       "Index(['NL', 'PE', 'NS', 'NB', 'QC', 'ON', 'MB', 'SK', 'AB', 'BC', 'YT', 'NT',\n",
       "       'NU'],\n",
       "      dtype='object', name='province')"
      ]
     },
     "execution_count": 44,
     "metadata": {},
     "output_type": "execute_result"
    }
   ],
   "source": [
    "prov_support.index"
   ]
  },
  {
   "cell_type": "markdown",
   "metadata": {},
   "source": [
    "One of the important concepts used in `pandas` is the concept of **`DataFrame` axes**. In the `DataFrame`, axes are indexes, where `axis=0` is the rows index, and `axis=1` is columns names. \n",
    "\n",
    "`DataFrame` definition of axes is the same as the corresponding definition of [axes in NumPy](https://docs.scipy.org/doc/numpy/glossary.html), which is: \"A 2-dimensional array has two corresponding axes: the first running vertically downwards across rows (axis 0), and the second running horizontally across columns (axis 1).\"\n",
    "\n",
    "<img src='.\\files\\AxesPandas.png' width=\"500\" height=\"500\" alt=\"DataFrame axes\">\n",
    "\n",
    "\n",
    "**Picture 9.** DataFrame axes.\n",
    "\n",
    "DataFrame's method `axes` can be used to output both axes, the rows index (`axis = 0`) first, then column names (`axis=1`). "
   ]
  },
  {
   "cell_type": "code",
   "execution_count": 45,
   "metadata": {},
   "outputs": [
    {
     "data": {
      "text/plain": [
       "[Index(['NL', 'PE', 'NS', 'NB', 'QC', 'ON', 'MB', 'SK', 'AB', 'BC', 'YT', 'NT',\n",
       "        'NU'],\n",
       "       dtype='object', name='province'),\n",
       " Index(['province_name', '2016', '2017', '2018'], dtype='object')]"
      ]
     },
     "execution_count": 45,
     "metadata": {},
     "output_type": "execute_result"
    }
   ],
   "source": [
    "prov_support.axes"
   ]
  },
  {
   "cell_type": "markdown",
   "metadata": {},
   "source": [
    "Multiple methods in `pandas` are using `axis` as a parameter. Let's see an example. Pandas has method `sort_index()` which will sort a `DataFrame` based on either index or column headers.\n",
    "\n",
    "The code below will sort a `DataFrame` based on the index (`axis = 0`). The default order is ascending, which means in our case - alphabetical order, since our index is of a *string* type. We can change the sort order using the `ascending=` parameter."
   ]
  },
  {
   "cell_type": "code",
   "execution_count": 46,
   "metadata": {},
   "outputs": [
    {
     "data": {
      "text/html": [
       "<div>\n",
       "<style scoped>\n",
       "    .dataframe tbody tr th:only-of-type {\n",
       "        vertical-align: middle;\n",
       "    }\n",
       "\n",
       "    .dataframe tbody tr th {\n",
       "        vertical-align: top;\n",
       "    }\n",
       "\n",
       "    .dataframe thead th {\n",
       "        text-align: right;\n",
       "    }\n",
       "</style>\n",
       "<table border=\"1\" class=\"dataframe\">\n",
       "  <thead>\n",
       "    <tr style=\"text-align: right;\">\n",
       "      <th></th>\n",
       "      <th>province_name</th>\n",
       "      <th>2016</th>\n",
       "      <th>2017</th>\n",
       "      <th>2018</th>\n",
       "    </tr>\n",
       "    <tr>\n",
       "      <th>province</th>\n",
       "      <th></th>\n",
       "      <th></th>\n",
       "      <th></th>\n",
       "      <th></th>\n",
       "    </tr>\n",
       "  </thead>\n",
       "  <tbody>\n",
       "    <tr>\n",
       "      <th>AB</th>\n",
       "      <td>Alberta</td>\n",
       "      <td>5772</td>\n",
       "      <td>5943</td>\n",
       "      <td>6157</td>\n",
       "    </tr>\n",
       "    <tr>\n",
       "      <th>BC</th>\n",
       "      <td>British Columbia</td>\n",
       "      <td>6482</td>\n",
       "      <td>6680</td>\n",
       "      <td>6925</td>\n",
       "    </tr>\n",
       "    <tr>\n",
       "      <th>MB</th>\n",
       "      <td>Manitoba</td>\n",
       "      <td>3531</td>\n",
       "      <td>3675</td>\n",
       "      <td>3965</td>\n",
       "    </tr>\n",
       "    <tr>\n",
       "      <th>NB</th>\n",
       "      <td>New Brunswick</td>\n",
       "      <td>2741</td>\n",
       "      <td>2814</td>\n",
       "      <td>2956</td>\n",
       "    </tr>\n",
       "    <tr>\n",
       "      <th>NL</th>\n",
       "      <td>Newfoundland and Labrador</td>\n",
       "      <td>724</td>\n",
       "      <td>734</td>\n",
       "      <td>750</td>\n",
       "    </tr>\n",
       "    <tr>\n",
       "      <th>NS</th>\n",
       "      <td>Nova Scotia</td>\n",
       "      <td>3060</td>\n",
       "      <td>3138</td>\n",
       "      <td>3201</td>\n",
       "    </tr>\n",
       "    <tr>\n",
       "      <th>NT</th>\n",
       "      <td>Northwest Territories</td>\n",
       "      <td>1281</td>\n",
       "      <td>1294</td>\n",
       "      <td>1319</td>\n",
       "    </tr>\n",
       "    <tr>\n",
       "      <th>NU</th>\n",
       "      <td>Nunavut</td>\n",
       "      <td>1539</td>\n",
       "      <td>1583</td>\n",
       "      <td>1634</td>\n",
       "    </tr>\n",
       "    <tr>\n",
       "      <th>ON</th>\n",
       "      <td>Ontario</td>\n",
       "      <td>21347</td>\n",
       "      <td>21101</td>\n",
       "      <td>21420</td>\n",
       "    </tr>\n",
       "    <tr>\n",
       "      <th>PE</th>\n",
       "      <td>Prince Edward Island</td>\n",
       "      <td>584</td>\n",
       "      <td>601</td>\n",
       "      <td>638</td>\n",
       "    </tr>\n",
       "    <tr>\n",
       "      <th>QC</th>\n",
       "      <td>Quebec</td>\n",
       "      <td>21372</td>\n",
       "      <td>22720</td>\n",
       "      <td>23749</td>\n",
       "    </tr>\n",
       "    <tr>\n",
       "      <th>SK</th>\n",
       "      <td>Saskatchewan</td>\n",
       "      <td>1565</td>\n",
       "      <td>1613</td>\n",
       "      <td>1673</td>\n",
       "    </tr>\n",
       "    <tr>\n",
       "      <th>YT</th>\n",
       "      <td>Yukon</td>\n",
       "      <td>946</td>\n",
       "      <td>973</td>\n",
       "      <td>1006</td>\n",
       "    </tr>\n",
       "  </tbody>\n",
       "</table>\n",
       "</div>"
      ],
      "text/plain": [
       "                      province_name   2016   2017   2018\n",
       "province                                                \n",
       "AB                          Alberta   5772   5943   6157\n",
       "BC                 British Columbia   6482   6680   6925\n",
       "MB                         Manitoba   3531   3675   3965\n",
       "NB                    New Brunswick   2741   2814   2956\n",
       "NL        Newfoundland and Labrador    724    734    750\n",
       "NS                      Nova Scotia   3060   3138   3201\n",
       "NT            Northwest Territories   1281   1294   1319\n",
       "NU                          Nunavut   1539   1583   1634\n",
       "ON                          Ontario  21347  21101  21420\n",
       "PE             Prince Edward Island    584    601    638\n",
       "QC                           Quebec  21372  22720  23749\n",
       "SK                     Saskatchewan   1565   1613   1673\n",
       "YT                            Yukon    946    973   1006"
      ]
     },
     "execution_count": 46,
     "metadata": {},
     "output_type": "execute_result"
    }
   ],
   "source": [
    "prov_support.sort_index(axis=0, ascending=True) "
   ]
  },
  {
   "cell_type": "code",
   "execution_count": 47,
   "metadata": {},
   "outputs": [
    {
     "data": {
      "text/html": [
       "<div>\n",
       "<style scoped>\n",
       "    .dataframe tbody tr th:only-of-type {\n",
       "        vertical-align: middle;\n",
       "    }\n",
       "\n",
       "    .dataframe tbody tr th {\n",
       "        vertical-align: top;\n",
       "    }\n",
       "\n",
       "    .dataframe thead th {\n",
       "        text-align: right;\n",
       "    }\n",
       "</style>\n",
       "<table border=\"1\" class=\"dataframe\">\n",
       "  <thead>\n",
       "    <tr style=\"text-align: right;\">\n",
       "      <th></th>\n",
       "      <th>2016</th>\n",
       "      <th>2017</th>\n",
       "      <th>2018</th>\n",
       "      <th>province_name</th>\n",
       "    </tr>\n",
       "    <tr>\n",
       "      <th>province</th>\n",
       "      <th></th>\n",
       "      <th></th>\n",
       "      <th></th>\n",
       "      <th></th>\n",
       "    </tr>\n",
       "  </thead>\n",
       "  <tbody>\n",
       "    <tr>\n",
       "      <th>NL</th>\n",
       "      <td>724</td>\n",
       "      <td>734</td>\n",
       "      <td>750</td>\n",
       "      <td>Newfoundland and Labrador</td>\n",
       "    </tr>\n",
       "    <tr>\n",
       "      <th>PE</th>\n",
       "      <td>584</td>\n",
       "      <td>601</td>\n",
       "      <td>638</td>\n",
       "      <td>Prince Edward Island</td>\n",
       "    </tr>\n",
       "    <tr>\n",
       "      <th>NS</th>\n",
       "      <td>3060</td>\n",
       "      <td>3138</td>\n",
       "      <td>3201</td>\n",
       "      <td>Nova Scotia</td>\n",
       "    </tr>\n",
       "    <tr>\n",
       "      <th>NB</th>\n",
       "      <td>2741</td>\n",
       "      <td>2814</td>\n",
       "      <td>2956</td>\n",
       "      <td>New Brunswick</td>\n",
       "    </tr>\n",
       "    <tr>\n",
       "      <th>QC</th>\n",
       "      <td>21372</td>\n",
       "      <td>22720</td>\n",
       "      <td>23749</td>\n",
       "      <td>Quebec</td>\n",
       "    </tr>\n",
       "    <tr>\n",
       "      <th>ON</th>\n",
       "      <td>21347</td>\n",
       "      <td>21101</td>\n",
       "      <td>21420</td>\n",
       "      <td>Ontario</td>\n",
       "    </tr>\n",
       "    <tr>\n",
       "      <th>MB</th>\n",
       "      <td>3531</td>\n",
       "      <td>3675</td>\n",
       "      <td>3965</td>\n",
       "      <td>Manitoba</td>\n",
       "    </tr>\n",
       "    <tr>\n",
       "      <th>SK</th>\n",
       "      <td>1565</td>\n",
       "      <td>1613</td>\n",
       "      <td>1673</td>\n",
       "      <td>Saskatchewan</td>\n",
       "    </tr>\n",
       "    <tr>\n",
       "      <th>AB</th>\n",
       "      <td>5772</td>\n",
       "      <td>5943</td>\n",
       "      <td>6157</td>\n",
       "      <td>Alberta</td>\n",
       "    </tr>\n",
       "    <tr>\n",
       "      <th>BC</th>\n",
       "      <td>6482</td>\n",
       "      <td>6680</td>\n",
       "      <td>6925</td>\n",
       "      <td>British Columbia</td>\n",
       "    </tr>\n",
       "    <tr>\n",
       "      <th>YT</th>\n",
       "      <td>946</td>\n",
       "      <td>973</td>\n",
       "      <td>1006</td>\n",
       "      <td>Yukon</td>\n",
       "    </tr>\n",
       "    <tr>\n",
       "      <th>NT</th>\n",
       "      <td>1281</td>\n",
       "      <td>1294</td>\n",
       "      <td>1319</td>\n",
       "      <td>Northwest Territories</td>\n",
       "    </tr>\n",
       "    <tr>\n",
       "      <th>NU</th>\n",
       "      <td>1539</td>\n",
       "      <td>1583</td>\n",
       "      <td>1634</td>\n",
       "      <td>Nunavut</td>\n",
       "    </tr>\n",
       "  </tbody>\n",
       "</table>\n",
       "</div>"
      ],
      "text/plain": [
       "           2016   2017   2018              province_name\n",
       "province                                                \n",
       "NL          724    734    750  Newfoundland and Labrador\n",
       "PE          584    601    638       Prince Edward Island\n",
       "NS         3060   3138   3201                Nova Scotia\n",
       "NB         2741   2814   2956              New Brunswick\n",
       "QC        21372  22720  23749                     Quebec\n",
       "ON        21347  21101  21420                    Ontario\n",
       "MB         3531   3675   3965                   Manitoba\n",
       "SK         1565   1613   1673               Saskatchewan\n",
       "AB         5772   5943   6157                    Alberta\n",
       "BC         6482   6680   6925           British Columbia\n",
       "YT          946    973   1006                      Yukon\n",
       "NT         1281   1294   1319      Northwest Territories\n",
       "NU         1539   1583   1634                    Nunavut"
      ]
     },
     "execution_count": 47,
     "metadata": {},
     "output_type": "execute_result"
    }
   ],
   "source": [
    "# Sorting by column names:\n",
    "\n",
    "prov_support.sort_index(axis=1, ascending=True) "
   ]
  },
  {
   "cell_type": "markdown",
   "metadata": {},
   "source": [
    "**NOTE:** `Series` have only one axis and it is a row axis.\n",
    "\n",
    "You can also see that indexes are of `pandas` **`Index`** object type:"
   ]
  },
  {
   "cell_type": "code",
   "execution_count": 48,
   "metadata": {},
   "outputs": [
    {
     "data": {
      "text/plain": [
       "pandas.core.indexes.base.Index"
      ]
     },
     "execution_count": 48,
     "metadata": {},
     "output_type": "execute_result"
    }
   ],
   "source": [
    "obj1 = prov_support.index\n",
    "type(obj1)"
   ]
  },
  {
   "cell_type": "code",
   "execution_count": 49,
   "metadata": {},
   "outputs": [
    {
     "data": {
      "text/plain": [
       "pandas.core.indexes.base.Index"
      ]
     },
     "execution_count": 49,
     "metadata": {},
     "output_type": "execute_result"
    }
   ],
   "source": [
    "obj2 = prov_support.columns\n",
    "type(obj2)"
   ]
  },
  {
   "cell_type": "code",
   "execution_count": 50,
   "metadata": {},
   "outputs": [
    {
     "name": "stdout",
     "output_type": "stream",
     "text": [
      "Index(['NL', 'PE', 'NS', 'NB', 'QC', 'ON', 'MB', 'SK', 'AB', 'BC', 'YT', 'NT',\n",
      "       'NU'],\n",
      "      dtype='object', name='province')\n",
      "Index(['province_name', '2016', '2017', '2018'], dtype='object')\n"
     ]
    }
   ],
   "source": [
    "print(obj1); print(obj2)"
   ]
  },
  {
   "cell_type": "markdown",
   "metadata": {},
   "source": [
    "#### Hierarchical indexes in DataFrames"
   ]
  },
  {
   "cell_type": "markdown",
   "metadata": {},
   "source": [
    "Pandas supports hierarchical indexes, or multi-level index. Hierarchical index allows us to manipulate the data with any number of dimensions within a two-dimensional `DataFrame`. Please refer to [`pandas` documentation](https://pandas.pydata.org/pandas-docs/stable/advanced.html) for more details. We will come back to hierarchical indexes in Part 3 of this module, where we are going to talk about aggregating the data in the `DataFrame`.\n",
    "\n",
    "To introduce the concept, here is a simple example:"
   ]
  },
  {
   "cell_type": "code",
   "execution_count": 51,
   "metadata": {},
   "outputs": [],
   "source": [
    "df_hierarch = pd.DataFrame(data=[4, 7, 2, 5, 6],\n",
    "                           columns=['Data'],\n",
    "                           index= \n",
    "                           [['a', 'a', 'b', 'b', 'a'],\n",
    "                            ['x', 'y', 'x', 'y', 'x']])"
   ]
  },
  {
   "cell_type": "code",
   "execution_count": 52,
   "metadata": {},
   "outputs": [
    {
     "data": {
      "text/html": [
       "<div>\n",
       "<style scoped>\n",
       "    .dataframe tbody tr th:only-of-type {\n",
       "        vertical-align: middle;\n",
       "    }\n",
       "\n",
       "    .dataframe tbody tr th {\n",
       "        vertical-align: top;\n",
       "    }\n",
       "\n",
       "    .dataframe thead th {\n",
       "        text-align: right;\n",
       "    }\n",
       "</style>\n",
       "<table border=\"1\" class=\"dataframe\">\n",
       "  <thead>\n",
       "    <tr style=\"text-align: right;\">\n",
       "      <th></th>\n",
       "      <th></th>\n",
       "      <th>Data</th>\n",
       "    </tr>\n",
       "  </thead>\n",
       "  <tbody>\n",
       "    <tr>\n",
       "      <th rowspan=\"2\" valign=\"top\">a</th>\n",
       "      <th>x</th>\n",
       "      <td>4</td>\n",
       "    </tr>\n",
       "    <tr>\n",
       "      <th>y</th>\n",
       "      <td>7</td>\n",
       "    </tr>\n",
       "    <tr>\n",
       "      <th rowspan=\"2\" valign=\"top\">b</th>\n",
       "      <th>x</th>\n",
       "      <td>2</td>\n",
       "    </tr>\n",
       "    <tr>\n",
       "      <th>y</th>\n",
       "      <td>5</td>\n",
       "    </tr>\n",
       "    <tr>\n",
       "      <th>a</th>\n",
       "      <th>x</th>\n",
       "      <td>6</td>\n",
       "    </tr>\n",
       "  </tbody>\n",
       "</table>\n",
       "</div>"
      ],
      "text/plain": [
       "     Data\n",
       "a x     4\n",
       "  y     7\n",
       "b x     2\n",
       "  y     5\n",
       "a x     6"
      ]
     },
     "execution_count": 52,
     "metadata": {},
     "output_type": "execute_result"
    }
   ],
   "source": [
    "df_hierarch"
   ]
  },
  {
   "cell_type": "code",
   "execution_count": 53,
   "metadata": {},
   "outputs": [
    {
     "data": {
      "text/plain": [
       "MultiIndex(levels=[['a', 'b'], ['x', 'y']],\n",
       "           codes=[[0, 0, 1, 1, 0], [0, 1, 0, 1, 0]])"
      ]
     },
     "execution_count": 53,
     "metadata": {},
     "output_type": "execute_result"
    }
   ],
   "source": [
    "df_hierarch.index"
   ]
  },
  {
   "cell_type": "markdown",
   "metadata": {},
   "source": [
    "As you can see, the index of this `DataFrame` has 2 levels, one level has indexes `'a'` and `'b'`, and the second level, - `'x'` and `'y'`. The type of this index is `MultiIndex`."
   ]
  },
  {
   "cell_type": "markdown",
   "metadata": {},
   "source": [
    "Now that we understand axes and indexes, let's talk about selecting data, indexing and slicing."
   ]
  },
  {
   "cell_type": "markdown",
   "metadata": {},
   "source": [
    "#### Selecting data from a DataFrame, indexing and slicing:"
   ]
  },
  {
   "cell_type": "markdown",
   "metadata": {},
   "source": [
    "A column in a `DataFrame` can be retrieved either by dictionary-like notation using column's name, or by attribute:"
   ]
  },
  {
   "cell_type": "code",
   "execution_count": 54,
   "metadata": {},
   "outputs": [
    {
     "data": {
      "text/plain": [
       "province\n",
       "NL    Newfoundland and Labrador\n",
       "PE         Prince Edward Island\n",
       "NS                  Nova Scotia\n",
       "NB                New Brunswick\n",
       "QC                       Quebec\n",
       "ON                      Ontario\n",
       "MB                     Manitoba\n",
       "SK                 Saskatchewan\n",
       "AB                      Alberta\n",
       "BC             British Columbia\n",
       "YT                        Yukon\n",
       "NT        Northwest Territories\n",
       "NU                      Nunavut\n",
       "Name: province_name, dtype: object"
      ]
     },
     "execution_count": 54,
     "metadata": {},
     "output_type": "execute_result"
    }
   ],
   "source": [
    "# Here we are using a column name\n",
    "\n",
    "prov_support['province_name']"
   ]
  },
  {
   "cell_type": "code",
   "execution_count": 55,
   "metadata": {},
   "outputs": [
    {
     "data": {
      "text/plain": [
       "province\n",
       "NL    Newfoundland and Labrador\n",
       "PE         Prince Edward Island\n",
       "NS                  Nova Scotia\n",
       "NB                New Brunswick\n",
       "QC                       Quebec\n",
       "ON                      Ontario\n",
       "MB                     Manitoba\n",
       "SK                 Saskatchewan\n",
       "AB                      Alberta\n",
       "BC             British Columbia\n",
       "YT                        Yukon\n",
       "NT        Northwest Territories\n",
       "NU                      Nunavut\n",
       "Name: province_name, dtype: object"
      ]
     },
     "execution_count": 55,
     "metadata": {},
     "output_type": "execute_result"
    }
   ],
   "source": [
    "# Here we are using an attribute\n",
    "\n",
    "prov_support.province_name"
   ]
  },
  {
   "cell_type": "markdown",
   "metadata": {},
   "source": [
    "The result is the same, in both cases the data is retrieved as a `Series` object, and in both cases it is exactly the same object. We can confirm it as follows:"
   ]
  },
  {
   "cell_type": "code",
   "execution_count": 56,
   "metadata": {},
   "outputs": [
    {
     "data": {
      "text/plain": [
       "True"
      ]
     },
     "execution_count": 56,
     "metadata": {},
     "output_type": "execute_result"
    }
   ],
   "source": [
    "prov_support['province_name'] is prov_support.province_name"
   ]
  },
  {
   "cell_type": "code",
   "execution_count": 57,
   "metadata": {},
   "outputs": [
    {
     "name": "stdout",
     "output_type": "stream",
     "text": [
      "<class 'pandas.core.series.Series'>\n",
      "<class 'pandas.core.series.Series'>\n"
     ]
    }
   ],
   "source": [
    "print(type(prov_support['province_name']))\n",
    "print(type(prov_support.province_name))"
   ]
  },
  {
   "cell_type": "markdown",
   "metadata": {},
   "source": [
    "**NOTE**: Please note that retrieving the data using column name, `prov_support['province_name']`, works for any column name, but getting the data by attribute will work only if the column name does not contain any spaces and is, in general, a valid Python variable. This means that we cannot use this method to access columns with year as a column name because it starts with a number:"
   ]
  },
  {
   "cell_type": "code",
   "execution_count": 17,
   "metadata": {},
   "outputs": [
    {
     "ename": "SyntaxError",
     "evalue": "invalid syntax (<ipython-input-17-f161fe1197c2>, line 4)",
     "output_type": "error",
     "traceback": [
      "\u001b[0;36m  File \u001b[0;32m\"<ipython-input-17-f161fe1197c2>\"\u001b[0;36m, line \u001b[0;32m4\u001b[0m\n\u001b[0;31m    prov_support.2016\u001b[0m\n\u001b[0m                    ^\u001b[0m\n\u001b[0;31mSyntaxError\u001b[0m\u001b[0;31m:\u001b[0m invalid syntax\n"
     ]
    }
   ],
   "source": [
    "# This will return an error because a number is not a valid Python variable name\n",
    "# We know that Python variables cannot start with a number\n",
    "\n",
    "prov_support.2016"
   ]
  },
  {
   "cell_type": "code",
   "execution_count": 59,
   "metadata": {},
   "outputs": [
    {
     "data": {
      "text/plain": [
       "province\n",
       "NL      724\n",
       "PE      584\n",
       "NS     3060\n",
       "NB     2741\n",
       "QC    21372\n",
       "ON    21347\n",
       "MB     3531\n",
       "SK     1565\n",
       "AB     5772\n",
       "BC     6482\n",
       "YT      946\n",
       "NT     1281\n",
       "NU     1539\n",
       "Name: 2016, dtype: int64"
      ]
     },
     "execution_count": 59,
     "metadata": {},
     "output_type": "execute_result"
    }
   ],
   "source": [
    "# This will always work:\n",
    "\n",
    "prov_support['2016']"
   ]
  },
  {
   "cell_type": "markdown",
   "metadata": {},
   "source": [
    "To select multiple columns of data, we need to pass a list of columns. The output will be a `DataFrame`:"
   ]
  },
  {
   "cell_type": "code",
   "execution_count": 60,
   "metadata": {},
   "outputs": [
    {
     "data": {
      "text/html": [
       "<div>\n",
       "<style scoped>\n",
       "    .dataframe tbody tr th:only-of-type {\n",
       "        vertical-align: middle;\n",
       "    }\n",
       "\n",
       "    .dataframe tbody tr th {\n",
       "        vertical-align: top;\n",
       "    }\n",
       "\n",
       "    .dataframe thead th {\n",
       "        text-align: right;\n",
       "    }\n",
       "</style>\n",
       "<table border=\"1\" class=\"dataframe\">\n",
       "  <thead>\n",
       "    <tr style=\"text-align: right;\">\n",
       "      <th></th>\n",
       "      <th>province_name</th>\n",
       "      <th>2018</th>\n",
       "    </tr>\n",
       "    <tr>\n",
       "      <th>province</th>\n",
       "      <th></th>\n",
       "      <th></th>\n",
       "    </tr>\n",
       "  </thead>\n",
       "  <tbody>\n",
       "    <tr>\n",
       "      <th>NL</th>\n",
       "      <td>Newfoundland and Labrador</td>\n",
       "      <td>750</td>\n",
       "    </tr>\n",
       "    <tr>\n",
       "      <th>PE</th>\n",
       "      <td>Prince Edward Island</td>\n",
       "      <td>638</td>\n",
       "    </tr>\n",
       "    <tr>\n",
       "      <th>NS</th>\n",
       "      <td>Nova Scotia</td>\n",
       "      <td>3201</td>\n",
       "    </tr>\n",
       "    <tr>\n",
       "      <th>NB</th>\n",
       "      <td>New Brunswick</td>\n",
       "      <td>2956</td>\n",
       "    </tr>\n",
       "    <tr>\n",
       "      <th>QC</th>\n",
       "      <td>Quebec</td>\n",
       "      <td>23749</td>\n",
       "    </tr>\n",
       "    <tr>\n",
       "      <th>ON</th>\n",
       "      <td>Ontario</td>\n",
       "      <td>21420</td>\n",
       "    </tr>\n",
       "    <tr>\n",
       "      <th>MB</th>\n",
       "      <td>Manitoba</td>\n",
       "      <td>3965</td>\n",
       "    </tr>\n",
       "    <tr>\n",
       "      <th>SK</th>\n",
       "      <td>Saskatchewan</td>\n",
       "      <td>1673</td>\n",
       "    </tr>\n",
       "    <tr>\n",
       "      <th>AB</th>\n",
       "      <td>Alberta</td>\n",
       "      <td>6157</td>\n",
       "    </tr>\n",
       "    <tr>\n",
       "      <th>BC</th>\n",
       "      <td>British Columbia</td>\n",
       "      <td>6925</td>\n",
       "    </tr>\n",
       "    <tr>\n",
       "      <th>YT</th>\n",
       "      <td>Yukon</td>\n",
       "      <td>1006</td>\n",
       "    </tr>\n",
       "    <tr>\n",
       "      <th>NT</th>\n",
       "      <td>Northwest Territories</td>\n",
       "      <td>1319</td>\n",
       "    </tr>\n",
       "    <tr>\n",
       "      <th>NU</th>\n",
       "      <td>Nunavut</td>\n",
       "      <td>1634</td>\n",
       "    </tr>\n",
       "  </tbody>\n",
       "</table>\n",
       "</div>"
      ],
      "text/plain": [
       "                      province_name   2018\n",
       "province                                  \n",
       "NL        Newfoundland and Labrador    750\n",
       "PE             Prince Edward Island    638\n",
       "NS                      Nova Scotia   3201\n",
       "NB                    New Brunswick   2956\n",
       "QC                           Quebec  23749\n",
       "ON                          Ontario  21420\n",
       "MB                         Manitoba   3965\n",
       "SK                     Saskatchewan   1673\n",
       "AB                          Alberta   6157\n",
       "BC                 British Columbia   6925\n",
       "YT                            Yukon   1006\n",
       "NT            Northwest Territories   1319\n",
       "NU                          Nunavut   1634"
      ]
     },
     "execution_count": 60,
     "metadata": {},
     "output_type": "execute_result"
    }
   ],
   "source": [
    "prov_support[['province_name','2018']]"
   ]
  },
  {
   "cell_type": "markdown",
   "metadata": {},
   "source": [
    "To select rows from the `DataFrame`, use the indexing operators `.loc` or `.iloc`:"
   ]
  },
  {
   "cell_type": "markdown",
   "metadata": {},
   "source": [
    "- `.loc` is used to select rows by index labels\n",
    "- `.iloc` is used to select rows by integer index, by position"
   ]
  },
  {
   "cell_type": "markdown",
   "metadata": {},
   "source": [
    "Here are examples of both methods:"
   ]
  },
  {
   "cell_type": "code",
   "execution_count": 61,
   "metadata": {},
   "outputs": [
    {
     "data": {
      "text/plain": [
       "province_name    Ontario\n",
       "2016               21347\n",
       "2017               21101\n",
       "2018               21420\n",
       "Name: ON, dtype: object"
      ]
     },
     "execution_count": 61,
     "metadata": {},
     "output_type": "execute_result"
    }
   ],
   "source": [
    "# Select data for Ontario by the label 'ON':\n",
    "prov_support.loc['ON']"
   ]
  },
  {
   "cell_type": "code",
   "execution_count": 62,
   "metadata": {},
   "outputs": [
    {
     "data": {
      "text/html": [
       "<div>\n",
       "<style scoped>\n",
       "    .dataframe tbody tr th:only-of-type {\n",
       "        vertical-align: middle;\n",
       "    }\n",
       "\n",
       "    .dataframe tbody tr th {\n",
       "        vertical-align: top;\n",
       "    }\n",
       "\n",
       "    .dataframe thead th {\n",
       "        text-align: right;\n",
       "    }\n",
       "</style>\n",
       "<table border=\"1\" class=\"dataframe\">\n",
       "  <thead>\n",
       "    <tr style=\"text-align: right;\">\n",
       "      <th></th>\n",
       "      <th>province_name</th>\n",
       "      <th>2016</th>\n",
       "      <th>2017</th>\n",
       "      <th>2018</th>\n",
       "    </tr>\n",
       "    <tr>\n",
       "      <th>province</th>\n",
       "      <th></th>\n",
       "      <th></th>\n",
       "      <th></th>\n",
       "      <th></th>\n",
       "    </tr>\n",
       "  </thead>\n",
       "  <tbody>\n",
       "    <tr>\n",
       "      <th>ON</th>\n",
       "      <td>Ontario</td>\n",
       "      <td>21347</td>\n",
       "      <td>21101</td>\n",
       "      <td>21420</td>\n",
       "    </tr>\n",
       "    <tr>\n",
       "      <th>BC</th>\n",
       "      <td>British Columbia</td>\n",
       "      <td>6482</td>\n",
       "      <td>6680</td>\n",
       "      <td>6925</td>\n",
       "    </tr>\n",
       "    <tr>\n",
       "      <th>QC</th>\n",
       "      <td>Quebec</td>\n",
       "      <td>21372</td>\n",
       "      <td>22720</td>\n",
       "      <td>23749</td>\n",
       "    </tr>\n",
       "  </tbody>\n",
       "</table>\n",
       "</div>"
      ],
      "text/plain": [
       "             province_name   2016   2017   2018\n",
       "province                                       \n",
       "ON                 Ontario  21347  21101  21420\n",
       "BC        British Columbia   6482   6680   6925\n",
       "QC                  Quebec  21372  22720  23749"
      ]
     },
     "execution_count": 62,
     "metadata": {},
     "output_type": "execute_result"
    }
   ],
   "source": [
    "# Selecting data for Ontario, British Columbia and Quebec by labels:\n",
    "\n",
    "prov_support.loc[['ON', 'BC', 'QC']]"
   ]
  },
  {
   "cell_type": "code",
   "execution_count": 63,
   "metadata": {},
   "outputs": [
    {
     "data": {
      "text/plain": [
       "province_name    Ontario\n",
       "2016               21347\n",
       "2017               21101\n",
       "2018               21420\n",
       "Name: ON, dtype: object"
      ]
     },
     "execution_count": 63,
     "metadata": {},
     "output_type": "execute_result"
    }
   ],
   "source": [
    "# Selecting Ontario by position using .iloc method:\n",
    "\n",
    "prov_support.iloc[5]"
   ]
  },
  {
   "cell_type": "code",
   "execution_count": 64,
   "metadata": {},
   "outputs": [
    {
     "data": {
      "text/html": [
       "<div>\n",
       "<style scoped>\n",
       "    .dataframe tbody tr th:only-of-type {\n",
       "        vertical-align: middle;\n",
       "    }\n",
       "\n",
       "    .dataframe tbody tr th {\n",
       "        vertical-align: top;\n",
       "    }\n",
       "\n",
       "    .dataframe thead th {\n",
       "        text-align: right;\n",
       "    }\n",
       "</style>\n",
       "<table border=\"1\" class=\"dataframe\">\n",
       "  <thead>\n",
       "    <tr style=\"text-align: right;\">\n",
       "      <th></th>\n",
       "      <th>province_name</th>\n",
       "      <th>2016</th>\n",
       "      <th>2017</th>\n",
       "      <th>2018</th>\n",
       "    </tr>\n",
       "    <tr>\n",
       "      <th>province</th>\n",
       "      <th></th>\n",
       "      <th></th>\n",
       "      <th></th>\n",
       "      <th></th>\n",
       "    </tr>\n",
       "  </thead>\n",
       "  <tbody>\n",
       "    <tr>\n",
       "      <th>ON</th>\n",
       "      <td>Ontario</td>\n",
       "      <td>21347</td>\n",
       "      <td>21101</td>\n",
       "      <td>21420</td>\n",
       "    </tr>\n",
       "    <tr>\n",
       "      <th>BC</th>\n",
       "      <td>British Columbia</td>\n",
       "      <td>6482</td>\n",
       "      <td>6680</td>\n",
       "      <td>6925</td>\n",
       "    </tr>\n",
       "    <tr>\n",
       "      <th>QC</th>\n",
       "      <td>Quebec</td>\n",
       "      <td>21372</td>\n",
       "      <td>22720</td>\n",
       "      <td>23749</td>\n",
       "    </tr>\n",
       "  </tbody>\n",
       "</table>\n",
       "</div>"
      ],
      "text/plain": [
       "             province_name   2016   2017   2018\n",
       "province                                       \n",
       "ON                 Ontario  21347  21101  21420\n",
       "BC        British Columbia   6482   6680   6925\n",
       "QC                  Quebec  21372  22720  23749"
      ]
     },
     "execution_count": 64,
     "metadata": {},
     "output_type": "execute_result"
    }
   ],
   "source": [
    "# Selecting data for Ontario, British Columbia and Quebec by position:\n",
    "\n",
    "prov_support.iloc[[5,9,4]]"
   ]
  },
  {
   "cell_type": "markdown",
   "metadata": {},
   "source": [
    "We can select a range, or a slice, of rows by specifying the start and end row position or index label. If we use row position, `.iloc[start:end]`, then the row identified by `end` position is not included in the resulting output."
   ]
  },
  {
   "cell_type": "code",
   "execution_count": 65,
   "metadata": {},
   "outputs": [
    {
     "data": {
      "text/html": [
       "<div>\n",
       "<style scoped>\n",
       "    .dataframe tbody tr th:only-of-type {\n",
       "        vertical-align: middle;\n",
       "    }\n",
       "\n",
       "    .dataframe tbody tr th {\n",
       "        vertical-align: top;\n",
       "    }\n",
       "\n",
       "    .dataframe thead th {\n",
       "        text-align: right;\n",
       "    }\n",
       "</style>\n",
       "<table border=\"1\" class=\"dataframe\">\n",
       "  <thead>\n",
       "    <tr style=\"text-align: right;\">\n",
       "      <th></th>\n",
       "      <th>province_name</th>\n",
       "      <th>2016</th>\n",
       "      <th>2017</th>\n",
       "      <th>2018</th>\n",
       "    </tr>\n",
       "    <tr>\n",
       "      <th>province</th>\n",
       "      <th></th>\n",
       "      <th></th>\n",
       "      <th></th>\n",
       "      <th></th>\n",
       "    </tr>\n",
       "  </thead>\n",
       "  <tbody>\n",
       "    <tr>\n",
       "      <th>NL</th>\n",
       "      <td>Newfoundland and Labrador</td>\n",
       "      <td>724</td>\n",
       "      <td>734</td>\n",
       "      <td>750</td>\n",
       "    </tr>\n",
       "    <tr>\n",
       "      <th>PE</th>\n",
       "      <td>Prince Edward Island</td>\n",
       "      <td>584</td>\n",
       "      <td>601</td>\n",
       "      <td>638</td>\n",
       "    </tr>\n",
       "    <tr>\n",
       "      <th>NS</th>\n",
       "      <td>Nova Scotia</td>\n",
       "      <td>3060</td>\n",
       "      <td>3138</td>\n",
       "      <td>3201</td>\n",
       "    </tr>\n",
       "  </tbody>\n",
       "</table>\n",
       "</div>"
      ],
      "text/plain": [
       "                      province_name  2016  2017  2018\n",
       "province                                             \n",
       "NL        Newfoundland and Labrador   724   734   750\n",
       "PE             Prince Edward Island   584   601   638\n",
       "NS                      Nova Scotia  3060  3138  3201"
      ]
     },
     "execution_count": 65,
     "metadata": {},
     "output_type": "execute_result"
    }
   ],
   "source": [
    "prov_support.iloc[:3]   # rows with position 0, 1 and 2, but not 3"
   ]
  },
  {
   "cell_type": "markdown",
   "metadata": {},
   "source": [
    "However, when we use index labels, both the start and the end positions are included:"
   ]
  },
  {
   "cell_type": "code",
   "execution_count": 66,
   "metadata": {},
   "outputs": [
    {
     "data": {
      "text/html": [
       "<div>\n",
       "<style scoped>\n",
       "    .dataframe tbody tr th:only-of-type {\n",
       "        vertical-align: middle;\n",
       "    }\n",
       "\n",
       "    .dataframe tbody tr th {\n",
       "        vertical-align: top;\n",
       "    }\n",
       "\n",
       "    .dataframe thead th {\n",
       "        text-align: right;\n",
       "    }\n",
       "</style>\n",
       "<table border=\"1\" class=\"dataframe\">\n",
       "  <thead>\n",
       "    <tr style=\"text-align: right;\">\n",
       "      <th></th>\n",
       "      <th>province_name</th>\n",
       "      <th>2016</th>\n",
       "      <th>2017</th>\n",
       "      <th>2018</th>\n",
       "    </tr>\n",
       "    <tr>\n",
       "      <th>province</th>\n",
       "      <th></th>\n",
       "      <th></th>\n",
       "      <th></th>\n",
       "      <th></th>\n",
       "    </tr>\n",
       "  </thead>\n",
       "  <tbody>\n",
       "    <tr>\n",
       "      <th>NL</th>\n",
       "      <td>Newfoundland and Labrador</td>\n",
       "      <td>724</td>\n",
       "      <td>734</td>\n",
       "      <td>750</td>\n",
       "    </tr>\n",
       "    <tr>\n",
       "      <th>PE</th>\n",
       "      <td>Prince Edward Island</td>\n",
       "      <td>584</td>\n",
       "      <td>601</td>\n",
       "      <td>638</td>\n",
       "    </tr>\n",
       "    <tr>\n",
       "      <th>NS</th>\n",
       "      <td>Nova Scotia</td>\n",
       "      <td>3060</td>\n",
       "      <td>3138</td>\n",
       "      <td>3201</td>\n",
       "    </tr>\n",
       "  </tbody>\n",
       "</table>\n",
       "</div>"
      ],
      "text/plain": [
       "                      province_name  2016  2017  2018\n",
       "province                                             \n",
       "NL        Newfoundland and Labrador   724   734   750\n",
       "PE             Prince Edward Island   584   601   638\n",
       "NS                      Nova Scotia  3060  3138  3201"
      ]
     },
     "execution_count": 66,
     "metadata": {},
     "output_type": "execute_result"
    }
   ],
   "source": [
    "prov_support.loc[:'NS'] "
   ]
  },
  {
   "cell_type": "code",
   "execution_count": 67,
   "metadata": {},
   "outputs": [
    {
     "data": {
      "text/html": [
       "<div>\n",
       "<style scoped>\n",
       "    .dataframe tbody tr th:only-of-type {\n",
       "        vertical-align: middle;\n",
       "    }\n",
       "\n",
       "    .dataframe tbody tr th {\n",
       "        vertical-align: top;\n",
       "    }\n",
       "\n",
       "    .dataframe thead th {\n",
       "        text-align: right;\n",
       "    }\n",
       "</style>\n",
       "<table border=\"1\" class=\"dataframe\">\n",
       "  <thead>\n",
       "    <tr style=\"text-align: right;\">\n",
       "      <th></th>\n",
       "      <th>2016</th>\n",
       "      <th>2017</th>\n",
       "      <th>2018</th>\n",
       "    </tr>\n",
       "    <tr>\n",
       "      <th>province</th>\n",
       "      <th></th>\n",
       "      <th></th>\n",
       "      <th></th>\n",
       "    </tr>\n",
       "  </thead>\n",
       "  <tbody>\n",
       "    <tr>\n",
       "      <th>NL</th>\n",
       "      <td>724</td>\n",
       "      <td>734</td>\n",
       "      <td>750</td>\n",
       "    </tr>\n",
       "    <tr>\n",
       "      <th>PE</th>\n",
       "      <td>584</td>\n",
       "      <td>601</td>\n",
       "      <td>638</td>\n",
       "    </tr>\n",
       "    <tr>\n",
       "      <th>NS</th>\n",
       "      <td>3060</td>\n",
       "      <td>3138</td>\n",
       "      <td>3201</td>\n",
       "    </tr>\n",
       "    <tr>\n",
       "      <th>NB</th>\n",
       "      <td>2741</td>\n",
       "      <td>2814</td>\n",
       "      <td>2956</td>\n",
       "    </tr>\n",
       "    <tr>\n",
       "      <th>QC</th>\n",
       "      <td>21372</td>\n",
       "      <td>22720</td>\n",
       "      <td>23749</td>\n",
       "    </tr>\n",
       "    <tr>\n",
       "      <th>ON</th>\n",
       "      <td>21347</td>\n",
       "      <td>21101</td>\n",
       "      <td>21420</td>\n",
       "    </tr>\n",
       "    <tr>\n",
       "      <th>MB</th>\n",
       "      <td>3531</td>\n",
       "      <td>3675</td>\n",
       "      <td>3965</td>\n",
       "    </tr>\n",
       "    <tr>\n",
       "      <th>SK</th>\n",
       "      <td>1565</td>\n",
       "      <td>1613</td>\n",
       "      <td>1673</td>\n",
       "    </tr>\n",
       "    <tr>\n",
       "      <th>AB</th>\n",
       "      <td>5772</td>\n",
       "      <td>5943</td>\n",
       "      <td>6157</td>\n",
       "    </tr>\n",
       "    <tr>\n",
       "      <th>BC</th>\n",
       "      <td>6482</td>\n",
       "      <td>6680</td>\n",
       "      <td>6925</td>\n",
       "    </tr>\n",
       "    <tr>\n",
       "      <th>YT</th>\n",
       "      <td>946</td>\n",
       "      <td>973</td>\n",
       "      <td>1006</td>\n",
       "    </tr>\n",
       "    <tr>\n",
       "      <th>NT</th>\n",
       "      <td>1281</td>\n",
       "      <td>1294</td>\n",
       "      <td>1319</td>\n",
       "    </tr>\n",
       "    <tr>\n",
       "      <th>NU</th>\n",
       "      <td>1539</td>\n",
       "      <td>1583</td>\n",
       "      <td>1634</td>\n",
       "    </tr>\n",
       "  </tbody>\n",
       "</table>\n",
       "</div>"
      ],
      "text/plain": [
       "           2016   2017   2018\n",
       "province                     \n",
       "NL          724    734    750\n",
       "PE          584    601    638\n",
       "NS         3060   3138   3201\n",
       "NB         2741   2814   2956\n",
       "QC        21372  22720  23749\n",
       "ON        21347  21101  21420\n",
       "MB         3531   3675   3965\n",
       "SK         1565   1613   1673\n",
       "AB         5772   5943   6157\n",
       "BC         6482   6680   6925\n",
       "YT          946    973   1006\n",
       "NT         1281   1294   1319\n",
       "NU         1539   1583   1634"
      ]
     },
     "execution_count": 67,
     "metadata": {},
     "output_type": "execute_result"
    }
   ],
   "source": [
    "# Only numeric columns:\n",
    "\n",
    "prov_support[['2016', '2017', '2018']]"
   ]
  },
  {
   "cell_type": "code",
   "execution_count": 68,
   "metadata": {},
   "outputs": [
    {
     "data": {
      "text/html": [
       "<div>\n",
       "<style scoped>\n",
       "    .dataframe tbody tr th:only-of-type {\n",
       "        vertical-align: middle;\n",
       "    }\n",
       "\n",
       "    .dataframe tbody tr th {\n",
       "        vertical-align: top;\n",
       "    }\n",
       "\n",
       "    .dataframe thead th {\n",
       "        text-align: right;\n",
       "    }\n",
       "</style>\n",
       "<table border=\"1\" class=\"dataframe\">\n",
       "  <thead>\n",
       "    <tr style=\"text-align: right;\">\n",
       "      <th></th>\n",
       "      <th>2016</th>\n",
       "      <th>2017</th>\n",
       "      <th>2018</th>\n",
       "    </tr>\n",
       "    <tr>\n",
       "      <th>province</th>\n",
       "      <th></th>\n",
       "      <th></th>\n",
       "      <th></th>\n",
       "    </tr>\n",
       "  </thead>\n",
       "  <tbody>\n",
       "    <tr>\n",
       "      <th>NL</th>\n",
       "      <td>724</td>\n",
       "      <td>734</td>\n",
       "      <td>750</td>\n",
       "    </tr>\n",
       "    <tr>\n",
       "      <th>PE</th>\n",
       "      <td>584</td>\n",
       "      <td>601</td>\n",
       "      <td>638</td>\n",
       "    </tr>\n",
       "    <tr>\n",
       "      <th>NS</th>\n",
       "      <td>3060</td>\n",
       "      <td>3138</td>\n",
       "      <td>3201</td>\n",
       "    </tr>\n",
       "    <tr>\n",
       "      <th>NB</th>\n",
       "      <td>2741</td>\n",
       "      <td>2814</td>\n",
       "      <td>2956</td>\n",
       "    </tr>\n",
       "    <tr>\n",
       "      <th>QC</th>\n",
       "      <td>21372</td>\n",
       "      <td>22720</td>\n",
       "      <td>23749</td>\n",
       "    </tr>\n",
       "    <tr>\n",
       "      <th>ON</th>\n",
       "      <td>21347</td>\n",
       "      <td>21101</td>\n",
       "      <td>21420</td>\n",
       "    </tr>\n",
       "    <tr>\n",
       "      <th>MB</th>\n",
       "      <td>3531</td>\n",
       "      <td>3675</td>\n",
       "      <td>3965</td>\n",
       "    </tr>\n",
       "    <tr>\n",
       "      <th>SK</th>\n",
       "      <td>1565</td>\n",
       "      <td>1613</td>\n",
       "      <td>1673</td>\n",
       "    </tr>\n",
       "    <tr>\n",
       "      <th>AB</th>\n",
       "      <td>5772</td>\n",
       "      <td>5943</td>\n",
       "      <td>6157</td>\n",
       "    </tr>\n",
       "    <tr>\n",
       "      <th>BC</th>\n",
       "      <td>6482</td>\n",
       "      <td>6680</td>\n",
       "      <td>6925</td>\n",
       "    </tr>\n",
       "    <tr>\n",
       "      <th>YT</th>\n",
       "      <td>946</td>\n",
       "      <td>973</td>\n",
       "      <td>1006</td>\n",
       "    </tr>\n",
       "    <tr>\n",
       "      <th>NT</th>\n",
       "      <td>1281</td>\n",
       "      <td>1294</td>\n",
       "      <td>1319</td>\n",
       "    </tr>\n",
       "    <tr>\n",
       "      <th>NU</th>\n",
       "      <td>1539</td>\n",
       "      <td>1583</td>\n",
       "      <td>1634</td>\n",
       "    </tr>\n",
       "  </tbody>\n",
       "</table>\n",
       "</div>"
      ],
      "text/plain": [
       "           2016   2017   2018\n",
       "province                     \n",
       "NL          724    734    750\n",
       "PE          584    601    638\n",
       "NS         3060   3138   3201\n",
       "NB         2741   2814   2956\n",
       "QC        21372  22720  23749\n",
       "ON        21347  21101  21420\n",
       "MB         3531   3675   3965\n",
       "SK         1565   1613   1673\n",
       "AB         5772   5943   6157\n",
       "BC         6482   6680   6925\n",
       "YT          946    973   1006\n",
       "NT         1281   1294   1319\n",
       "NU         1539   1583   1634"
      ]
     },
     "execution_count": 68,
     "metadata": {},
     "output_type": "execute_result"
    }
   ],
   "source": [
    "# We can achieve the same result using .iloc()\n",
    "\n",
    "prov_support.iloc[:, 1:]"
   ]
  },
  {
   "cell_type": "markdown",
   "metadata": {},
   "source": [
    "As we just saw, we can select a slice (subset) of rows and columns. In the example below we are selecting the first 3 rows and the first 2 columns only:"
   ]
  },
  {
   "cell_type": "code",
   "execution_count": 69,
   "metadata": {},
   "outputs": [
    {
     "data": {
      "text/html": [
       "<div>\n",
       "<style scoped>\n",
       "    .dataframe tbody tr th:only-of-type {\n",
       "        vertical-align: middle;\n",
       "    }\n",
       "\n",
       "    .dataframe tbody tr th {\n",
       "        vertical-align: top;\n",
       "    }\n",
       "\n",
       "    .dataframe thead th {\n",
       "        text-align: right;\n",
       "    }\n",
       "</style>\n",
       "<table border=\"1\" class=\"dataframe\">\n",
       "  <thead>\n",
       "    <tr style=\"text-align: right;\">\n",
       "      <th></th>\n",
       "      <th>province_name</th>\n",
       "      <th>2016</th>\n",
       "    </tr>\n",
       "    <tr>\n",
       "      <th>province</th>\n",
       "      <th></th>\n",
       "      <th></th>\n",
       "    </tr>\n",
       "  </thead>\n",
       "  <tbody>\n",
       "    <tr>\n",
       "      <th>NL</th>\n",
       "      <td>Newfoundland and Labrador</td>\n",
       "      <td>724</td>\n",
       "    </tr>\n",
       "    <tr>\n",
       "      <th>PE</th>\n",
       "      <td>Prince Edward Island</td>\n",
       "      <td>584</td>\n",
       "    </tr>\n",
       "    <tr>\n",
       "      <th>NS</th>\n",
       "      <td>Nova Scotia</td>\n",
       "      <td>3060</td>\n",
       "    </tr>\n",
       "  </tbody>\n",
       "</table>\n",
       "</div>"
      ],
      "text/plain": [
       "                      province_name  2016\n",
       "province                                 \n",
       "NL        Newfoundland and Labrador   724\n",
       "PE             Prince Edward Island   584\n",
       "NS                      Nova Scotia  3060"
      ]
     },
     "execution_count": 69,
     "metadata": {},
     "output_type": "execute_result"
    }
   ],
   "source": [
    "prov_support.iloc[:3, :2]"
   ]
  },
  {
   "cell_type": "code",
   "execution_count": 70,
   "metadata": {},
   "outputs": [
    {
     "data": {
      "text/html": [
       "<div>\n",
       "<style scoped>\n",
       "    .dataframe tbody tr th:only-of-type {\n",
       "        vertical-align: middle;\n",
       "    }\n",
       "\n",
       "    .dataframe tbody tr th {\n",
       "        vertical-align: top;\n",
       "    }\n",
       "\n",
       "    .dataframe thead th {\n",
       "        text-align: right;\n",
       "    }\n",
       "</style>\n",
       "<table border=\"1\" class=\"dataframe\">\n",
       "  <thead>\n",
       "    <tr style=\"text-align: right;\">\n",
       "      <th></th>\n",
       "      <th>province_name</th>\n",
       "      <th>2016</th>\n",
       "    </tr>\n",
       "    <tr>\n",
       "      <th>province</th>\n",
       "      <th></th>\n",
       "      <th></th>\n",
       "    </tr>\n",
       "  </thead>\n",
       "  <tbody>\n",
       "    <tr>\n",
       "      <th>NL</th>\n",
       "      <td>Newfoundland and Labrador</td>\n",
       "      <td>724</td>\n",
       "    </tr>\n",
       "    <tr>\n",
       "      <th>PE</th>\n",
       "      <td>Prince Edward Island</td>\n",
       "      <td>584</td>\n",
       "    </tr>\n",
       "    <tr>\n",
       "      <th>NS</th>\n",
       "      <td>Nova Scotia</td>\n",
       "      <td>3060</td>\n",
       "    </tr>\n",
       "  </tbody>\n",
       "</table>\n",
       "</div>"
      ],
      "text/plain": [
       "                      province_name  2016\n",
       "province                                 \n",
       "NL        Newfoundland and Labrador   724\n",
       "PE             Prince Edward Island   584\n",
       "NS                      Nova Scotia  3060"
      ]
     },
     "execution_count": 70,
     "metadata": {},
     "output_type": "execute_result"
    }
   ],
   "source": [
    "# Same, but using row and column labels\n",
    "\n",
    "prov_support.loc[:'NS', :'2016']"
   ]
  },
  {
   "cell_type": "markdown",
   "metadata": {},
   "source": [
    "Sometimes there is a need to select data based on the condition, for example, select all rows where federal support in 2018 is greater than 3000. This is called **Boolean indexing**:"
   ]
  },
  {
   "cell_type": "code",
   "execution_count": 71,
   "metadata": {},
   "outputs": [
    {
     "data": {
      "text/html": [
       "<div>\n",
       "<style scoped>\n",
       "    .dataframe tbody tr th:only-of-type {\n",
       "        vertical-align: middle;\n",
       "    }\n",
       "\n",
       "    .dataframe tbody tr th {\n",
       "        vertical-align: top;\n",
       "    }\n",
       "\n",
       "    .dataframe thead th {\n",
       "        text-align: right;\n",
       "    }\n",
       "</style>\n",
       "<table border=\"1\" class=\"dataframe\">\n",
       "  <thead>\n",
       "    <tr style=\"text-align: right;\">\n",
       "      <th></th>\n",
       "      <th>province_name</th>\n",
       "      <th>2016</th>\n",
       "      <th>2017</th>\n",
       "      <th>2018</th>\n",
       "    </tr>\n",
       "    <tr>\n",
       "      <th>province</th>\n",
       "      <th></th>\n",
       "      <th></th>\n",
       "      <th></th>\n",
       "      <th></th>\n",
       "    </tr>\n",
       "  </thead>\n",
       "  <tbody>\n",
       "    <tr>\n",
       "      <th>NS</th>\n",
       "      <td>Nova Scotia</td>\n",
       "      <td>3060</td>\n",
       "      <td>3138</td>\n",
       "      <td>3201</td>\n",
       "    </tr>\n",
       "    <tr>\n",
       "      <th>QC</th>\n",
       "      <td>Quebec</td>\n",
       "      <td>21372</td>\n",
       "      <td>22720</td>\n",
       "      <td>23749</td>\n",
       "    </tr>\n",
       "    <tr>\n",
       "      <th>ON</th>\n",
       "      <td>Ontario</td>\n",
       "      <td>21347</td>\n",
       "      <td>21101</td>\n",
       "      <td>21420</td>\n",
       "    </tr>\n",
       "    <tr>\n",
       "      <th>MB</th>\n",
       "      <td>Manitoba</td>\n",
       "      <td>3531</td>\n",
       "      <td>3675</td>\n",
       "      <td>3965</td>\n",
       "    </tr>\n",
       "    <tr>\n",
       "      <th>AB</th>\n",
       "      <td>Alberta</td>\n",
       "      <td>5772</td>\n",
       "      <td>5943</td>\n",
       "      <td>6157</td>\n",
       "    </tr>\n",
       "    <tr>\n",
       "      <th>BC</th>\n",
       "      <td>British Columbia</td>\n",
       "      <td>6482</td>\n",
       "      <td>6680</td>\n",
       "      <td>6925</td>\n",
       "    </tr>\n",
       "  </tbody>\n",
       "</table>\n",
       "</div>"
      ],
      "text/plain": [
       "             province_name   2016   2017   2018\n",
       "province                                       \n",
       "NS             Nova Scotia   3060   3138   3201\n",
       "QC                  Quebec  21372  22720  23749\n",
       "ON                 Ontario  21347  21101  21420\n",
       "MB                Manitoba   3531   3675   3965\n",
       "AB                 Alberta   5772   5943   6157\n",
       "BC        British Columbia   6482   6680   6925"
      ]
     },
     "execution_count": 71,
     "metadata": {},
     "output_type": "execute_result"
    }
   ],
   "source": [
    "prov_support[prov_support['2018'] > 3000]"
   ]
  },
  {
   "cell_type": "markdown",
   "metadata": {},
   "source": [
    "If there is a list of values that we are looking for within the `DataFrame`, we can use `isin()` function. In the example below, we are looking for rows with indexes 'AB', 'ON' and 'BC':"
   ]
  },
  {
   "cell_type": "code",
   "execution_count": 72,
   "metadata": {},
   "outputs": [
    {
     "data": {
      "text/html": [
       "<div>\n",
       "<style scoped>\n",
       "    .dataframe tbody tr th:only-of-type {\n",
       "        vertical-align: middle;\n",
       "    }\n",
       "\n",
       "    .dataframe tbody tr th {\n",
       "        vertical-align: top;\n",
       "    }\n",
       "\n",
       "    .dataframe thead th {\n",
       "        text-align: right;\n",
       "    }\n",
       "</style>\n",
       "<table border=\"1\" class=\"dataframe\">\n",
       "  <thead>\n",
       "    <tr style=\"text-align: right;\">\n",
       "      <th></th>\n",
       "      <th>province_name</th>\n",
       "      <th>2016</th>\n",
       "      <th>2017</th>\n",
       "      <th>2018</th>\n",
       "    </tr>\n",
       "    <tr>\n",
       "      <th>province</th>\n",
       "      <th></th>\n",
       "      <th></th>\n",
       "      <th></th>\n",
       "      <th></th>\n",
       "    </tr>\n",
       "  </thead>\n",
       "  <tbody>\n",
       "    <tr>\n",
       "      <th>ON</th>\n",
       "      <td>Ontario</td>\n",
       "      <td>21347</td>\n",
       "      <td>21101</td>\n",
       "      <td>21420</td>\n",
       "    </tr>\n",
       "    <tr>\n",
       "      <th>AB</th>\n",
       "      <td>Alberta</td>\n",
       "      <td>5772</td>\n",
       "      <td>5943</td>\n",
       "      <td>6157</td>\n",
       "    </tr>\n",
       "    <tr>\n",
       "      <th>BC</th>\n",
       "      <td>British Columbia</td>\n",
       "      <td>6482</td>\n",
       "      <td>6680</td>\n",
       "      <td>6925</td>\n",
       "    </tr>\n",
       "  </tbody>\n",
       "</table>\n",
       "</div>"
      ],
      "text/plain": [
       "             province_name   2016   2017   2018\n",
       "province                                       \n",
       "ON                 Ontario  21347  21101  21420\n",
       "AB                 Alberta   5772   5943   6157\n",
       "BC        British Columbia   6482   6680   6925"
      ]
     },
     "execution_count": 72,
     "metadata": {},
     "output_type": "execute_result"
    }
   ],
   "source": [
    "prov_support[prov_support.index.isin(['AB', 'ON', 'BC'])]"
   ]
  },
  {
   "cell_type": "code",
   "execution_count": 73,
   "metadata": {},
   "outputs": [
    {
     "data": {
      "text/html": [
       "<div>\n",
       "<style scoped>\n",
       "    .dataframe tbody tr th:only-of-type {\n",
       "        vertical-align: middle;\n",
       "    }\n",
       "\n",
       "    .dataframe tbody tr th {\n",
       "        vertical-align: top;\n",
       "    }\n",
       "\n",
       "    .dataframe thead th {\n",
       "        text-align: right;\n",
       "    }\n",
       "</style>\n",
       "<table border=\"1\" class=\"dataframe\">\n",
       "  <thead>\n",
       "    <tr style=\"text-align: right;\">\n",
       "      <th></th>\n",
       "      <th>province_name</th>\n",
       "      <th>2016</th>\n",
       "      <th>2017</th>\n",
       "      <th>2018</th>\n",
       "    </tr>\n",
       "    <tr>\n",
       "      <th>province</th>\n",
       "      <th></th>\n",
       "      <th></th>\n",
       "      <th></th>\n",
       "      <th></th>\n",
       "    </tr>\n",
       "  </thead>\n",
       "  <tbody>\n",
       "    <tr>\n",
       "      <th>QC</th>\n",
       "      <td>Quebec</td>\n",
       "      <td>21372</td>\n",
       "      <td>22720</td>\n",
       "      <td>23749</td>\n",
       "    </tr>\n",
       "    <tr>\n",
       "      <th>ON</th>\n",
       "      <td>Ontario</td>\n",
       "      <td>21347</td>\n",
       "      <td>21101</td>\n",
       "      <td>21420</td>\n",
       "    </tr>\n",
       "  </tbody>\n",
       "</table>\n",
       "</div>"
      ],
      "text/plain": [
       "         province_name   2016   2017   2018\n",
       "province                                   \n",
       "QC              Quebec  21372  22720  23749\n",
       "ON             Ontario  21347  21101  21420"
      ]
     },
     "execution_count": 73,
     "metadata": {},
     "output_type": "execute_result"
    }
   ],
   "source": [
    "prov_support[prov_support['2017'].isin(['22720', '21101'])]"
   ]
  },
  {
   "cell_type": "markdown",
   "metadata": {},
   "source": [
    "If we need to combine multiple conditions, we can use `and` operator `&`:"
   ]
  },
  {
   "cell_type": "code",
   "execution_count": 74,
   "metadata": {},
   "outputs": [
    {
     "data": {
      "text/html": [
       "<div>\n",
       "<style scoped>\n",
       "    .dataframe tbody tr th:only-of-type {\n",
       "        vertical-align: middle;\n",
       "    }\n",
       "\n",
       "    .dataframe tbody tr th {\n",
       "        vertical-align: top;\n",
       "    }\n",
       "\n",
       "    .dataframe thead th {\n",
       "        text-align: right;\n",
       "    }\n",
       "</style>\n",
       "<table border=\"1\" class=\"dataframe\">\n",
       "  <thead>\n",
       "    <tr style=\"text-align: right;\">\n",
       "      <th></th>\n",
       "      <th>province_name</th>\n",
       "      <th>2016</th>\n",
       "      <th>2017</th>\n",
       "      <th>2018</th>\n",
       "    </tr>\n",
       "    <tr>\n",
       "      <th>province</th>\n",
       "      <th></th>\n",
       "      <th></th>\n",
       "      <th></th>\n",
       "      <th></th>\n",
       "    </tr>\n",
       "  </thead>\n",
       "  <tbody>\n",
       "    <tr>\n",
       "      <th>ON</th>\n",
       "      <td>Ontario</td>\n",
       "      <td>21347</td>\n",
       "      <td>21101</td>\n",
       "      <td>21420</td>\n",
       "    </tr>\n",
       "    <tr>\n",
       "      <th>BC</th>\n",
       "      <td>British Columbia</td>\n",
       "      <td>6482</td>\n",
       "      <td>6680</td>\n",
       "      <td>6925</td>\n",
       "    </tr>\n",
       "  </tbody>\n",
       "</table>\n",
       "</div>"
      ],
      "text/plain": [
       "             province_name   2016   2017   2018\n",
       "province                                       \n",
       "ON                 Ontario  21347  21101  21420\n",
       "BC        British Columbia   6482   6680   6925"
      ]
     },
     "execution_count": 74,
     "metadata": {},
     "output_type": "execute_result"
    }
   ],
   "source": [
    "prov_support[(prov_support['2017'] > 6000) & (prov_support.index.isin(['AB', 'ON', 'BC']))]"
   ]
  },
  {
   "cell_type": "markdown",
   "metadata": {},
   "source": [
    "\"Is not\" can be coded using `~` operator:"
   ]
  },
  {
   "cell_type": "code",
   "execution_count": 18,
   "metadata": {},
   "outputs": [
    {
     "data": {
      "text/html": [
       "<div>\n",
       "<style scoped>\n",
       "    .dataframe tbody tr th:only-of-type {\n",
       "        vertical-align: middle;\n",
       "    }\n",
       "\n",
       "    .dataframe tbody tr th {\n",
       "        vertical-align: top;\n",
       "    }\n",
       "\n",
       "    .dataframe thead th {\n",
       "        text-align: right;\n",
       "    }\n",
       "</style>\n",
       "<table border=\"1\" class=\"dataframe\">\n",
       "  <thead>\n",
       "    <tr style=\"text-align: right;\">\n",
       "      <th></th>\n",
       "      <th>province_name</th>\n",
       "      <th>2016</th>\n",
       "      <th>2017</th>\n",
       "      <th>2018</th>\n",
       "    </tr>\n",
       "    <tr>\n",
       "      <th>province</th>\n",
       "      <th></th>\n",
       "      <th></th>\n",
       "      <th></th>\n",
       "      <th></th>\n",
       "    </tr>\n",
       "  </thead>\n",
       "  <tbody>\n",
       "    <tr>\n",
       "      <th>NL</th>\n",
       "      <td>Newfoundland and Labrador</td>\n",
       "      <td>724</td>\n",
       "      <td>734</td>\n",
       "      <td>750</td>\n",
       "    </tr>\n",
       "    <tr>\n",
       "      <th>PE</th>\n",
       "      <td>Prince Edward Island</td>\n",
       "      <td>584</td>\n",
       "      <td>601</td>\n",
       "      <td>638</td>\n",
       "    </tr>\n",
       "    <tr>\n",
       "      <th>NS</th>\n",
       "      <td>Nova Scotia</td>\n",
       "      <td>3060</td>\n",
       "      <td>3138</td>\n",
       "      <td>3201</td>\n",
       "    </tr>\n",
       "    <tr>\n",
       "      <th>NB</th>\n",
       "      <td>New Brunswick</td>\n",
       "      <td>2741</td>\n",
       "      <td>2814</td>\n",
       "      <td>2956</td>\n",
       "    </tr>\n",
       "    <tr>\n",
       "      <th>QC</th>\n",
       "      <td>Quebec</td>\n",
       "      <td>21372</td>\n",
       "      <td>22720</td>\n",
       "      <td>23749</td>\n",
       "    </tr>\n",
       "    <tr>\n",
       "      <th>ON</th>\n",
       "      <td>Ontario</td>\n",
       "      <td>21347</td>\n",
       "      <td>21101</td>\n",
       "      <td>21420</td>\n",
       "    </tr>\n",
       "    <tr>\n",
       "      <th>MB</th>\n",
       "      <td>Manitoba</td>\n",
       "      <td>3531</td>\n",
       "      <td>3675</td>\n",
       "      <td>3965</td>\n",
       "    </tr>\n",
       "    <tr>\n",
       "      <th>SK</th>\n",
       "      <td>Saskatchewan</td>\n",
       "      <td>1565</td>\n",
       "      <td>1613</td>\n",
       "      <td>1673</td>\n",
       "    </tr>\n",
       "    <tr>\n",
       "      <th>AB</th>\n",
       "      <td>Alberta</td>\n",
       "      <td>5772</td>\n",
       "      <td>5943</td>\n",
       "      <td>6157</td>\n",
       "    </tr>\n",
       "    <tr>\n",
       "      <th>YT</th>\n",
       "      <td>Yukon</td>\n",
       "      <td>946</td>\n",
       "      <td>973</td>\n",
       "      <td>1006</td>\n",
       "    </tr>\n",
       "    <tr>\n",
       "      <th>NT</th>\n",
       "      <td>Northwest Territories</td>\n",
       "      <td>1281</td>\n",
       "      <td>1294</td>\n",
       "      <td>1319</td>\n",
       "    </tr>\n",
       "    <tr>\n",
       "      <th>NU</th>\n",
       "      <td>Nunavut</td>\n",
       "      <td>1539</td>\n",
       "      <td>1583</td>\n",
       "      <td>1634</td>\n",
       "    </tr>\n",
       "  </tbody>\n",
       "</table>\n",
       "</div>"
      ],
      "text/plain": [
       "                      province_name   2016   2017   2018\n",
       "province                                                \n",
       "NL        Newfoundland and Labrador    724    734    750\n",
       "PE             Prince Edward Island    584    601    638\n",
       "NS                      Nova Scotia   3060   3138   3201\n",
       "NB                    New Brunswick   2741   2814   2956\n",
       "QC                           Quebec  21372  22720  23749\n",
       "ON                          Ontario  21347  21101  21420\n",
       "MB                         Manitoba   3531   3675   3965\n",
       "SK                     Saskatchewan   1565   1613   1673\n",
       "AB                          Alberta   5772   5943   6157\n",
       "YT                            Yukon    946    973   1006\n",
       "NT            Northwest Territories   1281   1294   1319\n",
       "NU                          Nunavut   1539   1583   1634"
      ]
     },
     "execution_count": 18,
     "metadata": {},
     "output_type": "execute_result"
    }
   ],
   "source": [
    "# Selecting rows where support in 2017 does not equal to 6680:\n",
    "prov_support[~(prov_support['2017'] == 6680)]  # returns all rows except British Columbia"
   ]
  },
  {
   "cell_type": "code",
   "execution_count": 22,
   "metadata": {},
   "outputs": [
    {
     "data": {
      "text/html": [
       "<div>\n",
       "<style scoped>\n",
       "    .dataframe tbody tr th:only-of-type {\n",
       "        vertical-align: middle;\n",
       "    }\n",
       "\n",
       "    .dataframe tbody tr th {\n",
       "        vertical-align: top;\n",
       "    }\n",
       "\n",
       "    .dataframe thead th {\n",
       "        text-align: right;\n",
       "    }\n",
       "</style>\n",
       "<table border=\"1\" class=\"dataframe\">\n",
       "  <thead>\n",
       "    <tr style=\"text-align: right;\">\n",
       "      <th></th>\n",
       "      <th>province_name</th>\n",
       "      <th>2016</th>\n",
       "      <th>2017</th>\n",
       "      <th>2018</th>\n",
       "    </tr>\n",
       "    <tr>\n",
       "      <th>province</th>\n",
       "      <th></th>\n",
       "      <th></th>\n",
       "      <th></th>\n",
       "      <th></th>\n",
       "    </tr>\n",
       "  </thead>\n",
       "  <tbody>\n",
       "    <tr>\n",
       "      <th>NL</th>\n",
       "      <td>Newfoundland and Labrador</td>\n",
       "      <td>724</td>\n",
       "      <td>734</td>\n",
       "      <td>750</td>\n",
       "    </tr>\n",
       "    <tr>\n",
       "      <th>PE</th>\n",
       "      <td>Prince Edward Island</td>\n",
       "      <td>584</td>\n",
       "      <td>601</td>\n",
       "      <td>638</td>\n",
       "    </tr>\n",
       "    <tr>\n",
       "      <th>NS</th>\n",
       "      <td>Nova Scotia</td>\n",
       "      <td>3060</td>\n",
       "      <td>3138</td>\n",
       "      <td>3201</td>\n",
       "    </tr>\n",
       "    <tr>\n",
       "      <th>NB</th>\n",
       "      <td>New Brunswick</td>\n",
       "      <td>2741</td>\n",
       "      <td>2814</td>\n",
       "      <td>2956</td>\n",
       "    </tr>\n",
       "    <tr>\n",
       "      <th>QC</th>\n",
       "      <td>Quebec</td>\n",
       "      <td>21372</td>\n",
       "      <td>22720</td>\n",
       "      <td>23749</td>\n",
       "    </tr>\n",
       "    <tr>\n",
       "      <th>ON</th>\n",
       "      <td>Ontario</td>\n",
       "      <td>21347</td>\n",
       "      <td>21101</td>\n",
       "      <td>21420</td>\n",
       "    </tr>\n",
       "    <tr>\n",
       "      <th>MB</th>\n",
       "      <td>Manitoba</td>\n",
       "      <td>3531</td>\n",
       "      <td>3675</td>\n",
       "      <td>3965</td>\n",
       "    </tr>\n",
       "    <tr>\n",
       "      <th>SK</th>\n",
       "      <td>Saskatchewan</td>\n",
       "      <td>1565</td>\n",
       "      <td>1613</td>\n",
       "      <td>1673</td>\n",
       "    </tr>\n",
       "    <tr>\n",
       "      <th>AB</th>\n",
       "      <td>Alberta</td>\n",
       "      <td>5772</td>\n",
       "      <td>5943</td>\n",
       "      <td>6157</td>\n",
       "    </tr>\n",
       "    <tr>\n",
       "      <th>YT</th>\n",
       "      <td>Yukon</td>\n",
       "      <td>946</td>\n",
       "      <td>973</td>\n",
       "      <td>1006</td>\n",
       "    </tr>\n",
       "    <tr>\n",
       "      <th>NT</th>\n",
       "      <td>Northwest Territories</td>\n",
       "      <td>1281</td>\n",
       "      <td>1294</td>\n",
       "      <td>1319</td>\n",
       "    </tr>\n",
       "    <tr>\n",
       "      <th>NU</th>\n",
       "      <td>Nunavut</td>\n",
       "      <td>1539</td>\n",
       "      <td>1583</td>\n",
       "      <td>1634</td>\n",
       "    </tr>\n",
       "  </tbody>\n",
       "</table>\n",
       "</div>"
      ],
      "text/plain": [
       "                      province_name   2016   2017   2018\n",
       "province                                                \n",
       "NL        Newfoundland and Labrador    724    734    750\n",
       "PE             Prince Edward Island    584    601    638\n",
       "NS                      Nova Scotia   3060   3138   3201\n",
       "NB                    New Brunswick   2741   2814   2956\n",
       "QC                           Quebec  21372  22720  23749\n",
       "ON                          Ontario  21347  21101  21420\n",
       "MB                         Manitoba   3531   3675   3965\n",
       "SK                     Saskatchewan   1565   1613   1673\n",
       "AB                          Alberta   5772   5943   6157\n",
       "YT                            Yukon    946    973   1006\n",
       "NT            Northwest Territories   1281   1294   1319\n",
       "NU                          Nunavut   1539   1583   1634"
      ]
     },
     "execution_count": 22,
     "metadata": {},
     "output_type": "execute_result"
    }
   ],
   "source": [
    "#Alternatives for above:\n",
    "prov_support[prov_support['2017'] != 6680]"
   ]
  },
  {
   "cell_type": "code",
   "execution_count": 76,
   "metadata": {},
   "outputs": [
    {
     "data": {
      "text/html": [
       "<div>\n",
       "<style scoped>\n",
       "    .dataframe tbody tr th:only-of-type {\n",
       "        vertical-align: middle;\n",
       "    }\n",
       "\n",
       "    .dataframe tbody tr th {\n",
       "        vertical-align: top;\n",
       "    }\n",
       "\n",
       "    .dataframe thead th {\n",
       "        text-align: right;\n",
       "    }\n",
       "</style>\n",
       "<table border=\"1\" class=\"dataframe\">\n",
       "  <thead>\n",
       "    <tr style=\"text-align: right;\">\n",
       "      <th></th>\n",
       "      <th>province_name</th>\n",
       "      <th>2016</th>\n",
       "      <th>2017</th>\n",
       "      <th>2018</th>\n",
       "    </tr>\n",
       "    <tr>\n",
       "      <th>province</th>\n",
       "      <th></th>\n",
       "      <th></th>\n",
       "      <th></th>\n",
       "      <th></th>\n",
       "    </tr>\n",
       "  </thead>\n",
       "  <tbody>\n",
       "    <tr>\n",
       "      <th>NL</th>\n",
       "      <td>Newfoundland and Labrador</td>\n",
       "      <td>724</td>\n",
       "      <td>734</td>\n",
       "      <td>750</td>\n",
       "    </tr>\n",
       "    <tr>\n",
       "      <th>PE</th>\n",
       "      <td>Prince Edward Island</td>\n",
       "      <td>584</td>\n",
       "      <td>601</td>\n",
       "      <td>638</td>\n",
       "    </tr>\n",
       "    <tr>\n",
       "      <th>NS</th>\n",
       "      <td>Nova Scotia</td>\n",
       "      <td>3060</td>\n",
       "      <td>3138</td>\n",
       "      <td>3201</td>\n",
       "    </tr>\n",
       "    <tr>\n",
       "      <th>NB</th>\n",
       "      <td>New Brunswick</td>\n",
       "      <td>2741</td>\n",
       "      <td>2814</td>\n",
       "      <td>2956</td>\n",
       "    </tr>\n",
       "    <tr>\n",
       "      <th>QC</th>\n",
       "      <td>Quebec</td>\n",
       "      <td>21372</td>\n",
       "      <td>22720</td>\n",
       "      <td>23749</td>\n",
       "    </tr>\n",
       "    <tr>\n",
       "      <th>ON</th>\n",
       "      <td>Ontario</td>\n",
       "      <td>21347</td>\n",
       "      <td>21101</td>\n",
       "      <td>21420</td>\n",
       "    </tr>\n",
       "    <tr>\n",
       "      <th>MB</th>\n",
       "      <td>Manitoba</td>\n",
       "      <td>3531</td>\n",
       "      <td>3675</td>\n",
       "      <td>3965</td>\n",
       "    </tr>\n",
       "    <tr>\n",
       "      <th>SK</th>\n",
       "      <td>Saskatchewan</td>\n",
       "      <td>1565</td>\n",
       "      <td>1613</td>\n",
       "      <td>1673</td>\n",
       "    </tr>\n",
       "    <tr>\n",
       "      <th>AB</th>\n",
       "      <td>Alberta</td>\n",
       "      <td>5772</td>\n",
       "      <td>5943</td>\n",
       "      <td>6157</td>\n",
       "    </tr>\n",
       "    <tr>\n",
       "      <th>YT</th>\n",
       "      <td>Yukon</td>\n",
       "      <td>946</td>\n",
       "      <td>973</td>\n",
       "      <td>1006</td>\n",
       "    </tr>\n",
       "    <tr>\n",
       "      <th>NT</th>\n",
       "      <td>Northwest Territories</td>\n",
       "      <td>1281</td>\n",
       "      <td>1294</td>\n",
       "      <td>1319</td>\n",
       "    </tr>\n",
       "    <tr>\n",
       "      <th>NU</th>\n",
       "      <td>Nunavut</td>\n",
       "      <td>1539</td>\n",
       "      <td>1583</td>\n",
       "      <td>1634</td>\n",
       "    </tr>\n",
       "  </tbody>\n",
       "</table>\n",
       "</div>"
      ],
      "text/plain": [
       "                      province_name   2016   2017   2018\n",
       "province                                                \n",
       "NL        Newfoundland and Labrador    724    734    750\n",
       "PE             Prince Edward Island    584    601    638\n",
       "NS                      Nova Scotia   3060   3138   3201\n",
       "NB                    New Brunswick   2741   2814   2956\n",
       "QC                           Quebec  21372  22720  23749\n",
       "ON                          Ontario  21347  21101  21420\n",
       "MB                         Manitoba   3531   3675   3965\n",
       "SK                     Saskatchewan   1565   1613   1673\n",
       "AB                          Alberta   5772   5943   6157\n",
       "YT                            Yukon    946    973   1006\n",
       "NT            Northwest Territories   1281   1294   1319\n",
       "NU                          Nunavut   1539   1583   1634"
      ]
     },
     "execution_count": 76,
     "metadata": {},
     "output_type": "execute_result"
    }
   ],
   "source": [
    "# Another way of doing the same thing:\n",
    "\n",
    "prov_support[prov_support['2017'] != 6680] "
   ]
  },
  {
   "cell_type": "markdown",
   "metadata": {},
   "source": [
    "#### Pandas string methods"
   ]
  },
  {
   "cell_type": "markdown",
   "metadata": {},
   "source": [
    "We can use all `string` methods in `pandas` `DataFrame` through `str()` method. For example, here is how we can convert all province names to lower case:"
   ]
  },
  {
   "cell_type": "code",
   "execution_count": 77,
   "metadata": {},
   "outputs": [
    {
     "data": {
      "text/plain": [
       "province\n",
       "NL    newfoundland and labrador\n",
       "PE         prince edward island\n",
       "NS                  nova scotia\n",
       "NB                new brunswick\n",
       "QC                       quebec\n",
       "ON                      ontario\n",
       "MB                     manitoba\n",
       "SK                 saskatchewan\n",
       "AB                      alberta\n",
       "BC             british columbia\n",
       "YT                        yukon\n",
       "NT        northwest territories\n",
       "NU                      nunavut\n",
       "Name: province_name, dtype: object"
      ]
     },
     "execution_count": 77,
     "metadata": {},
     "output_type": "execute_result"
    }
   ],
   "source": [
    "prov_support.province_name.str.lower()"
   ]
  },
  {
   "cell_type": "code",
   "execution_count": 78,
   "metadata": {},
   "outputs": [
    {
     "data": {
      "text/html": [
       "<div>\n",
       "<style scoped>\n",
       "    .dataframe tbody tr th:only-of-type {\n",
       "        vertical-align: middle;\n",
       "    }\n",
       "\n",
       "    .dataframe tbody tr th {\n",
       "        vertical-align: top;\n",
       "    }\n",
       "\n",
       "    .dataframe thead th {\n",
       "        text-align: right;\n",
       "    }\n",
       "</style>\n",
       "<table border=\"1\" class=\"dataframe\">\n",
       "  <thead>\n",
       "    <tr style=\"text-align: right;\">\n",
       "      <th></th>\n",
       "      <th>province_name</th>\n",
       "      <th>2016</th>\n",
       "      <th>2017</th>\n",
       "      <th>2018</th>\n",
       "    </tr>\n",
       "    <tr>\n",
       "      <th>province</th>\n",
       "      <th></th>\n",
       "      <th></th>\n",
       "      <th></th>\n",
       "      <th></th>\n",
       "    </tr>\n",
       "  </thead>\n",
       "  <tbody>\n",
       "    <tr>\n",
       "      <th>BC</th>\n",
       "      <td>British Columbia</td>\n",
       "      <td>6482</td>\n",
       "      <td>6680</td>\n",
       "      <td>6925</td>\n",
       "    </tr>\n",
       "  </tbody>\n",
       "</table>\n",
       "</div>"
      ],
      "text/plain": [
       "             province_name  2016  2017  2018\n",
       "province                                    \n",
       "BC        British Columbia  6482  6680  6925"
      ]
     },
     "execution_count": 78,
     "metadata": {},
     "output_type": "execute_result"
    }
   ],
   "source": [
    "# Selecting all rows where province name contains character 'm'\n",
    "prov_support[prov_support.province_name.str.contains('m')]"
   ]
  },
  {
   "cell_type": "code",
   "execution_count": 79,
   "metadata": {},
   "outputs": [
    {
     "data": {
      "text/html": [
       "<div>\n",
       "<style scoped>\n",
       "    .dataframe tbody tr th:only-of-type {\n",
       "        vertical-align: middle;\n",
       "    }\n",
       "\n",
       "    .dataframe tbody tr th {\n",
       "        vertical-align: top;\n",
       "    }\n",
       "\n",
       "    .dataframe thead th {\n",
       "        text-align: right;\n",
       "    }\n",
       "</style>\n",
       "<table border=\"1\" class=\"dataframe\">\n",
       "  <thead>\n",
       "    <tr style=\"text-align: right;\">\n",
       "      <th></th>\n",
       "      <th>province_name</th>\n",
       "      <th>2016</th>\n",
       "      <th>2017</th>\n",
       "      <th>2018</th>\n",
       "    </tr>\n",
       "    <tr>\n",
       "      <th>province</th>\n",
       "      <th></th>\n",
       "      <th></th>\n",
       "      <th></th>\n",
       "      <th></th>\n",
       "    </tr>\n",
       "  </thead>\n",
       "  <tbody>\n",
       "    <tr>\n",
       "      <th>MB</th>\n",
       "      <td>Manitoba</td>\n",
       "      <td>3531</td>\n",
       "      <td>3675</td>\n",
       "      <td>3965</td>\n",
       "    </tr>\n",
       "    <tr>\n",
       "      <th>BC</th>\n",
       "      <td>British Columbia</td>\n",
       "      <td>6482</td>\n",
       "      <td>6680</td>\n",
       "      <td>6925</td>\n",
       "    </tr>\n",
       "  </tbody>\n",
       "</table>\n",
       "</div>"
      ],
      "text/plain": [
       "             province_name  2016  2017  2018\n",
       "province                                    \n",
       "MB                Manitoba  3531  3675  3965\n",
       "BC        British Columbia  6482  6680  6925"
      ]
     },
     "execution_count": 79,
     "metadata": {},
     "output_type": "execute_result"
    }
   ],
   "source": [
    "# In the result set, we don't see Manitoba because the name of the province\n",
    "# starts with the upper-case 'M'. Let's fix it:\n",
    "\n",
    "prov_support[prov_support.province_name.str.lower().str.contains('m')]"
   ]
  },
  {
   "cell_type": "code",
   "execution_count": 80,
   "metadata": {},
   "outputs": [
    {
     "data": {
      "text/html": [
       "<div>\n",
       "<style scoped>\n",
       "    .dataframe tbody tr th:only-of-type {\n",
       "        vertical-align: middle;\n",
       "    }\n",
       "\n",
       "    .dataframe tbody tr th {\n",
       "        vertical-align: top;\n",
       "    }\n",
       "\n",
       "    .dataframe thead th {\n",
       "        text-align: right;\n",
       "    }\n",
       "</style>\n",
       "<table border=\"1\" class=\"dataframe\">\n",
       "  <thead>\n",
       "    <tr style=\"text-align: right;\">\n",
       "      <th></th>\n",
       "      <th>province_name</th>\n",
       "    </tr>\n",
       "    <tr>\n",
       "      <th>province</th>\n",
       "      <th></th>\n",
       "    </tr>\n",
       "  </thead>\n",
       "  <tbody>\n",
       "    <tr>\n",
       "      <th>MB</th>\n",
       "      <td>Manitoba</td>\n",
       "    </tr>\n",
       "    <tr>\n",
       "      <th>BC</th>\n",
       "      <td>British Columbia</td>\n",
       "    </tr>\n",
       "  </tbody>\n",
       "</table>\n",
       "</div>"
      ],
      "text/plain": [
       "             province_name\n",
       "province                  \n",
       "MB                Manitoba\n",
       "BC        British Columbia"
      ]
     },
     "execution_count": 80,
     "metadata": {},
     "output_type": "execute_result"
    }
   ],
   "source": [
    "# Same result as above, but we want only a column with province names:\n",
    "prov_support.loc[prov_support.province_name.str.lower().str.contains('m'), ['province_name']]"
   ]
  },
  {
   "cell_type": "code",
   "execution_count": 20,
   "metadata": {},
   "outputs": [
    {
     "data": {
      "text/html": [
       "<div>\n",
       "<style scoped>\n",
       "    .dataframe tbody tr th:only-of-type {\n",
       "        vertical-align: middle;\n",
       "    }\n",
       "\n",
       "    .dataframe tbody tr th {\n",
       "        vertical-align: top;\n",
       "    }\n",
       "\n",
       "    .dataframe thead th {\n",
       "        text-align: right;\n",
       "    }\n",
       "</style>\n",
       "<table border=\"1\" class=\"dataframe\">\n",
       "  <thead>\n",
       "    <tr style=\"text-align: right;\">\n",
       "      <th></th>\n",
       "      <th>province_name</th>\n",
       "    </tr>\n",
       "    <tr>\n",
       "      <th>province</th>\n",
       "      <th></th>\n",
       "    </tr>\n",
       "  </thead>\n",
       "  <tbody>\n",
       "    <tr>\n",
       "      <th>MB</th>\n",
       "      <td>Manitoba</td>\n",
       "    </tr>\n",
       "    <tr>\n",
       "      <th>BC</th>\n",
       "      <td>British Columbia</td>\n",
       "    </tr>\n",
       "  </tbody>\n",
       "</table>\n",
       "</div>"
      ],
      "text/plain": [
       "             province_name\n",
       "province                  \n",
       "MB                Manitoba\n",
       "BC        British Columbia"
      ]
     },
     "execution_count": 20,
     "metadata": {},
     "output_type": "execute_result"
    }
   ],
   "source": [
    "#Alternatives:\n",
    "prov_support[prov_support['province_name'].str.lower().str.contains('m')][['province_name']]"
   ]
  },
  {
   "cell_type": "markdown",
   "metadata": {},
   "source": [
    "**NOTE:** We can use all built-in Python string methods in `pandas`. Their application is not limited to the methods we used in this section."
   ]
  },
  {
   "cell_type": "markdown",
   "metadata": {},
   "source": [
    "#### **EXERCISE 3:** Loading data into DataFrame, exploring"
   ]
  },
  {
   "cell_type": "markdown",
   "metadata": {},
   "source": [
    "For this exercise, we will take the Chocolate Bar Ratings dataset. We have downloaded the data from [Kaggle](https://www.kaggle.com/rtatman/chocolate-bar-ratings), \"Data\" tab. The dataset contains expert ratings of over 1,700 individual chocolate bars, along with information on their regional origin, percentage of cocoa, the variety of chocolate bean used and where the beans were grown.\n",
    "\n",
    "You can read about the data either on the \"Overview\" page of the dataset on Kaggle web site, or go to the [Flavors of Cacao](http://flavorsofcacao.com/index.html) website where the data originally [came from](http://flavorsofcacao.com/chocolate_database.html), and read about the rating system used in this dataset, overview of factors that contribute to the chocolate flavour and other useful and interesting information about chocolate.\n",
    "\n",
    "The dataset contains the following data attributes:"
   ]
  },
  {
   "cell_type": "markdown",
   "metadata": {},
   "source": [
    "| ***Attribute*** | ***Description*** |\n",
    "| ---: | :--- |\n",
    "| **Company (Maker-if known)** | Name of the company manufacturing the bar. |\n",
    "| **Specific Bean Origin or Bar Name** | The specific geo-region of origin for the bar. |\n",
    "| **REF** | Reference number, a value linked to when the review was entered in the database. Higher = more recent. |\n",
    "| **Review Date** | Date of publication of the review. |\n",
    "| **Cocoa Percent** | Cocoa percentage (darkness) of the chocolate bar being reviewed. |\n",
    "| **Company Location** | Manufacturer base country. |\n",
    "| **Rating** | Expert rating for the bar. |\n",
    "| **Bean Type** | The variety of bean used, if provided. |\n",
    "| **Broad Bean Origin** | The broad geo-region of origin for the bean. |\n",
    "|||"
   ]
  },
  {
   "cell_type": "markdown",
   "metadata": {},
   "source": [
    "**Task 1** - Load the data from `flavors_of_cacao.csv` file into the `DataFrame`, assume that the file is in the same folder as the notebook. If the file is in different directory on your system, make sure you include the full path to the file. \n",
    "\n",
    "Answer the following questions:\n",
    "- How many entries are there in the dataset?\n",
    "- What is the `dtype` of the data in the `Rating` column?"
   ]
  },
  {
   "cell_type": "code",
   "execution_count": 83,
   "metadata": {
    "collapsed": true
   },
   "outputs": [],
   "source": [
    "# Type your code here"
   ]
  },
  {
   "cell_type": "code",
   "execution_count": 54,
   "metadata": {},
   "outputs": [
    {
     "name": "stdout",
     "output_type": "stream",
     "text": [
      "<class 'pandas.core.frame.DataFrame'>\n",
      "RangeIndex: 1795 entries, 0 to 1794\n",
      "Data columns (total 9 columns):\n",
      " #   Column                            Non-Null Count  Dtype  \n",
      "---  ------                            --------------  -----  \n",
      " 0   Company \n",
      "(Maker-if known)         1795 non-null   object \n",
      " 1   Specific Bean Origin\n",
      "or Bar Name  1795 non-null   object \n",
      " 2   REF                               1795 non-null   int64  \n",
      " 3   Review\n",
      "Date                       1795 non-null   int64  \n",
      " 4   Cocoa\n",
      "Percent                     1795 non-null   object \n",
      " 5   Company\n",
      "Location                  1795 non-null   object \n",
      " 6   Rating                            1795 non-null   float64\n",
      " 7   Bean\n",
      "Type                         1794 non-null   object \n",
      " 8   Broad Bean\n",
      "Origin                 1794 non-null   object \n",
      "dtypes: float64(1), int64(2), object(6)\n",
      "memory usage: 126.3+ KB\n"
     ]
    }
   ],
   "source": [
    "ratings = pd.read_csv('flavors_of_cacao.csv', sep = ',')\n",
    "ratings.info()"
   ]
  },
  {
   "cell_type": "code",
   "execution_count": 12,
   "metadata": {},
   "outputs": [
    {
     "data": {
      "text/plain": [
       "(1795, 9)"
      ]
     },
     "execution_count": 12,
     "metadata": {},
     "output_type": "execute_result"
    }
   ],
   "source": [
    "ratings.shape"
   ]
  },
  {
   "cell_type": "code",
   "execution_count": 23,
   "metadata": {},
   "outputs": [
    {
     "name": "stdout",
     "output_type": "stream",
     "text": [
      "<class 'pandas.core.frame.DataFrame'>\n",
      "RangeIndex: 1795 entries, 0 to 1794\n",
      "Data columns (total 1 columns):\n",
      " #   Column  Non-Null Count  Dtype  \n",
      "---  ------  --------------  -----  \n",
      " 0   Rating  1795 non-null   float64\n",
      "dtypes: float64(1)\n",
      "memory usage: 14.1 KB\n"
     ]
    }
   ],
   "source": [
    "ratings[['Rating']].info()"
   ]
  },
  {
   "cell_type": "code",
   "execution_count": 35,
   "metadata": {},
   "outputs": [
    {
     "data": {
      "text/html": [
       "<div>\n",
       "<style scoped>\n",
       "    .dataframe tbody tr th:only-of-type {\n",
       "        vertical-align: middle;\n",
       "    }\n",
       "\n",
       "    .dataframe tbody tr th {\n",
       "        vertical-align: top;\n",
       "    }\n",
       "\n",
       "    .dataframe thead th {\n",
       "        text-align: right;\n",
       "    }\n",
       "</style>\n",
       "<table border=\"1\" class=\"dataframe\">\n",
       "  <thead>\n",
       "    <tr style=\"text-align: right;\">\n",
       "      <th></th>\n",
       "      <th>Company \\n(Maker-if known)</th>\n",
       "      <th>Specific Bean Origin\\nor Bar Name</th>\n",
       "      <th>REF</th>\n",
       "      <th>Review\\nDate</th>\n",
       "      <th>Cocoa\\nPercent</th>\n",
       "      <th>Company\\nLocation</th>\n",
       "      <th>Rating</th>\n",
       "      <th>Bean\\nType</th>\n",
       "      <th>Broad Bean\\nOrigin</th>\n",
       "    </tr>\n",
       "  </thead>\n",
       "  <tbody>\n",
       "    <tr>\n",
       "      <th>0</th>\n",
       "      <td>A. Morin</td>\n",
       "      <td>Agua Grande</td>\n",
       "      <td>1876</td>\n",
       "      <td>2016</td>\n",
       "      <td>63%</td>\n",
       "      <td>France</td>\n",
       "      <td>3.75</td>\n",
       "      <td></td>\n",
       "      <td>Sao Tome</td>\n",
       "    </tr>\n",
       "    <tr>\n",
       "      <th>1</th>\n",
       "      <td>A. Morin</td>\n",
       "      <td>Kpime</td>\n",
       "      <td>1676</td>\n",
       "      <td>2015</td>\n",
       "      <td>70%</td>\n",
       "      <td>France</td>\n",
       "      <td>2.75</td>\n",
       "      <td></td>\n",
       "      <td>Togo</td>\n",
       "    </tr>\n",
       "    <tr>\n",
       "      <th>2</th>\n",
       "      <td>A. Morin</td>\n",
       "      <td>Atsane</td>\n",
       "      <td>1676</td>\n",
       "      <td>2015</td>\n",
       "      <td>70%</td>\n",
       "      <td>France</td>\n",
       "      <td>3.00</td>\n",
       "      <td></td>\n",
       "      <td>Togo</td>\n",
       "    </tr>\n",
       "    <tr>\n",
       "      <th>3</th>\n",
       "      <td>A. Morin</td>\n",
       "      <td>Akata</td>\n",
       "      <td>1680</td>\n",
       "      <td>2015</td>\n",
       "      <td>70%</td>\n",
       "      <td>France</td>\n",
       "      <td>3.50</td>\n",
       "      <td></td>\n",
       "      <td>Togo</td>\n",
       "    </tr>\n",
       "    <tr>\n",
       "      <th>4</th>\n",
       "      <td>A. Morin</td>\n",
       "      <td>Quilla</td>\n",
       "      <td>1704</td>\n",
       "      <td>2015</td>\n",
       "      <td>70%</td>\n",
       "      <td>France</td>\n",
       "      <td>3.50</td>\n",
       "      <td></td>\n",
       "      <td>Peru</td>\n",
       "    </tr>\n",
       "  </tbody>\n",
       "</table>\n",
       "</div>"
      ],
      "text/plain": [
       "  Company \\n(Maker-if known) Specific Bean Origin\\nor Bar Name   REF  \\\n",
       "0                   A. Morin                       Agua Grande  1876   \n",
       "1                   A. Morin                             Kpime  1676   \n",
       "2                   A. Morin                            Atsane  1676   \n",
       "3                   A. Morin                             Akata  1680   \n",
       "4                   A. Morin                            Quilla  1704   \n",
       "\n",
       "   Review\\nDate Cocoa\\nPercent Company\\nLocation  Rating Bean\\nType  \\\n",
       "0          2016            63%            France    3.75              \n",
       "1          2015            70%            France    2.75              \n",
       "2          2015            70%            France    3.00              \n",
       "3          2015            70%            France    3.50              \n",
       "4          2015            70%            France    3.50              \n",
       "\n",
       "  Broad Bean\\nOrigin  \n",
       "0           Sao Tome  \n",
       "1               Togo  \n",
       "2               Togo  \n",
       "3               Togo  \n",
       "4               Peru  "
      ]
     },
     "execution_count": 35,
     "metadata": {},
     "output_type": "execute_result"
    }
   ],
   "source": [
    "ratings.head()"
   ]
  },
  {
   "cell_type": "markdown",
   "metadata": {},
   "source": [
    "**Task 2 -** In this task, we want to take a look at the header row of the `DataFrame` with column names. We also want to investigate \"Bean Type\" column.\n",
    "\n",
    "- Print out the column names. What can you tell about the format of the column names?\n",
    "- Update column names, assign names that are easy to work with. You can update all column names or only some of them, and you can assign any new names.\n",
    "- Explore \"Bean Type\" column. How many entries are there in this column? Are there any empty values?"
   ]
  },
  {
   "cell_type": "code",
   "execution_count": 84,
   "metadata": {
    "collapsed": true
   },
   "outputs": [],
   "source": [
    "# Type your code here\n"
   ]
  },
  {
   "cell_type": "code",
   "execution_count": 10,
   "metadata": {},
   "outputs": [
    {
     "data": {
      "text/plain": [
       "Index(['Company \\n(Maker-if known)', 'Specific Bean Origin\\nor Bar Name',\n",
       "       'REF', 'Review\\nDate', 'Cocoa\\nPercent', 'Company\\nLocation', 'Rating',\n",
       "       'Bean\\nType', 'Broad Bean\\nOrigin'],\n",
       "      dtype='object')"
      ]
     },
     "execution_count": 10,
     "metadata": {},
     "output_type": "execute_result"
    }
   ],
   "source": [
    "ratings.columns"
   ]
  },
  {
   "cell_type": "code",
   "execution_count": 55,
   "metadata": {},
   "outputs": [
    {
     "data": {
      "text/html": [
       "<div>\n",
       "<style scoped>\n",
       "    .dataframe tbody tr th:only-of-type {\n",
       "        vertical-align: middle;\n",
       "    }\n",
       "\n",
       "    .dataframe tbody tr th {\n",
       "        vertical-align: top;\n",
       "    }\n",
       "\n",
       "    .dataframe thead th {\n",
       "        text-align: right;\n",
       "    }\n",
       "</style>\n",
       "<table border=\"1\" class=\"dataframe\">\n",
       "  <thead>\n",
       "    <tr style=\"text-align: right;\">\n",
       "      <th></th>\n",
       "      <th>company</th>\n",
       "      <th>bar_name</th>\n",
       "      <th>REF</th>\n",
       "      <th>review_date</th>\n",
       "      <th>cocoa_per</th>\n",
       "      <th>company_location</th>\n",
       "      <th>rating</th>\n",
       "      <th>bean_type</th>\n",
       "      <th>bean_origin</th>\n",
       "    </tr>\n",
       "  </thead>\n",
       "  <tbody>\n",
       "    <tr>\n",
       "      <th>0</th>\n",
       "      <td>A. Morin</td>\n",
       "      <td>Agua Grande</td>\n",
       "      <td>1876</td>\n",
       "      <td>2016</td>\n",
       "      <td>63%</td>\n",
       "      <td>France</td>\n",
       "      <td>3.75</td>\n",
       "      <td></td>\n",
       "      <td>Sao Tome</td>\n",
       "    </tr>\n",
       "    <tr>\n",
       "      <th>1</th>\n",
       "      <td>A. Morin</td>\n",
       "      <td>Kpime</td>\n",
       "      <td>1676</td>\n",
       "      <td>2015</td>\n",
       "      <td>70%</td>\n",
       "      <td>France</td>\n",
       "      <td>2.75</td>\n",
       "      <td></td>\n",
       "      <td>Togo</td>\n",
       "    </tr>\n",
       "    <tr>\n",
       "      <th>2</th>\n",
       "      <td>A. Morin</td>\n",
       "      <td>Atsane</td>\n",
       "      <td>1676</td>\n",
       "      <td>2015</td>\n",
       "      <td>70%</td>\n",
       "      <td>France</td>\n",
       "      <td>3.00</td>\n",
       "      <td></td>\n",
       "      <td>Togo</td>\n",
       "    </tr>\n",
       "    <tr>\n",
       "      <th>3</th>\n",
       "      <td>A. Morin</td>\n",
       "      <td>Akata</td>\n",
       "      <td>1680</td>\n",
       "      <td>2015</td>\n",
       "      <td>70%</td>\n",
       "      <td>France</td>\n",
       "      <td>3.50</td>\n",
       "      <td></td>\n",
       "      <td>Togo</td>\n",
       "    </tr>\n",
       "    <tr>\n",
       "      <th>4</th>\n",
       "      <td>A. Morin</td>\n",
       "      <td>Quilla</td>\n",
       "      <td>1704</td>\n",
       "      <td>2015</td>\n",
       "      <td>70%</td>\n",
       "      <td>France</td>\n",
       "      <td>3.50</td>\n",
       "      <td></td>\n",
       "      <td>Peru</td>\n",
       "    </tr>\n",
       "  </tbody>\n",
       "</table>\n",
       "</div>"
      ],
      "text/plain": [
       "    company     bar_name   REF  review_date cocoa_per company_location  \\\n",
       "0  A. Morin  Agua Grande  1876         2016       63%           France   \n",
       "1  A. Morin        Kpime  1676         2015       70%           France   \n",
       "2  A. Morin       Atsane  1676         2015       70%           France   \n",
       "3  A. Morin        Akata  1680         2015       70%           France   \n",
       "4  A. Morin       Quilla  1704         2015       70%           France   \n",
       "\n",
       "   rating bean_type bean_origin  \n",
       "0    3.75              Sao Tome  \n",
       "1    2.75                  Togo  \n",
       "2    3.00                  Togo  \n",
       "3    3.50                  Togo  \n",
       "4    3.50                  Peru  "
      ]
     },
     "execution_count": 55,
     "metadata": {},
     "output_type": "execute_result"
    }
   ],
   "source": [
    "ratings.columns = ['company', 'bar_name', 'REF', 'review_date', \n",
    "                     'cocoa_per', 'company_location', 'rating','bean_type', 'bean_origin']\n",
    "ratings.head()"
   ]
  },
  {
   "cell_type": "code",
   "execution_count": 56,
   "metadata": {},
   "outputs": [
    {
     "data": {
      "text/plain": [
       "array(['\\xa0', 'Criollo', 'Trinitario', 'Forastero (Arriba)', 'Forastero',\n",
       "       'Forastero (Nacional)', 'Criollo, Trinitario',\n",
       "       'Criollo (Porcelana)', 'Blend', 'Trinitario (85% Criollo)',\n",
       "       'Forastero (Catongo)', 'Forastero (Parazinho)',\n",
       "       'Trinitario, Criollo', 'CCN51', 'Criollo (Ocumare)', 'Nacional',\n",
       "       'Criollo (Ocumare 61)', 'Criollo (Ocumare 77)',\n",
       "       'Criollo (Ocumare 67)', 'Criollo (Wild)', 'Beniano', 'Amazon mix',\n",
       "       'Trinitario, Forastero', 'Forastero (Arriba) ASS', 'Criollo, +',\n",
       "       'Amazon', 'Amazon, ICS', 'EET', 'Blend-Forastero,Criollo',\n",
       "       'Trinitario (Scavina)', 'Criollo, Forastero', 'Matina',\n",
       "       'Forastero(Arriba, CCN)', 'Nacional (Arriba)',\n",
       "       'Forastero (Arriba) ASSS', 'Forastero, Trinitario',\n",
       "       'Forastero (Amelonado)', nan, 'Trinitario, Nacional',\n",
       "       'Trinitario (Amelonado)', 'Trinitario, TCGA', 'Criollo (Amarru)'],\n",
       "      dtype=object)"
      ]
     },
     "execution_count": 56,
     "metadata": {},
     "output_type": "execute_result"
    }
   ],
   "source": [
    "ratings['bean_type'].unique()"
   ]
  },
  {
   "cell_type": "code",
   "execution_count": 57,
   "metadata": {},
   "outputs": [
    {
     "name": "stdout",
     "output_type": "stream",
     "text": [
      "<class 'pandas.core.frame.DataFrame'>\n",
      "RangeIndex: 1795 entries, 0 to 1794\n",
      "Data columns (total 1 columns):\n",
      " #   Column     Non-Null Count  Dtype \n",
      "---  ------     --------------  ----- \n",
      " 0   bean_type  907 non-null    object\n",
      "dtypes: object(1)\n",
      "memory usage: 14.1+ KB\n"
     ]
    }
   ],
   "source": [
    "import numpy as np\n",
    "\n",
    "ratings['bean_type'].replace(u'\\xa0', np.nan, inplace = True)\n",
    "ratings[['bean_type']].info()"
   ]
  },
  {
   "cell_type": "code",
   "execution_count": null,
   "metadata": {},
   "outputs": [],
   "source": []
  },
  {
   "cell_type": "code",
   "execution_count": null,
   "metadata": {
    "collapsed": true
   },
   "outputs": [],
   "source": []
  },
  {
   "cell_type": "markdown",
   "metadata": {},
   "source": [
    "**Solutions**\n",
    "\n",
    "**Task 1**."
   ]
  },
  {
   "cell_type": "code",
   "execution_count": 81,
   "metadata": {},
   "outputs": [
    {
     "data": {
      "text/html": [
       "<div>\n",
       "<style scoped>\n",
       "    .dataframe tbody tr th:only-of-type {\n",
       "        vertical-align: middle;\n",
       "    }\n",
       "\n",
       "    .dataframe tbody tr th {\n",
       "        vertical-align: top;\n",
       "    }\n",
       "\n",
       "    .dataframe thead th {\n",
       "        text-align: right;\n",
       "    }\n",
       "</style>\n",
       "<table border=\"1\" class=\"dataframe\">\n",
       "  <thead>\n",
       "    <tr style=\"text-align: right;\">\n",
       "      <th></th>\n",
       "      <th>Company \n",
       "(Maker-if known)</th>\n",
       "      <th>Specific Bean Origin\n",
       "or Bar Name</th>\n",
       "      <th>REF</th>\n",
       "      <th>Review\n",
       "Date</th>\n",
       "      <th>Cocoa\n",
       "Percent</th>\n",
       "      <th>Company\n",
       "Location</th>\n",
       "      <th>Rating</th>\n",
       "      <th>Bean\n",
       "Type</th>\n",
       "      <th>Broad Bean\n",
       "Origin</th>\n",
       "    </tr>\n",
       "  </thead>\n",
       "  <tbody>\n",
       "    <tr>\n",
       "      <th>0</th>\n",
       "      <td>A. Morin</td>\n",
       "      <td>Agua Grande</td>\n",
       "      <td>1876</td>\n",
       "      <td>2016</td>\n",
       "      <td>63%</td>\n",
       "      <td>France</td>\n",
       "      <td>3.75</td>\n",
       "      <td></td>\n",
       "      <td>Sao Tome</td>\n",
       "    </tr>\n",
       "    <tr>\n",
       "      <th>1</th>\n",
       "      <td>A. Morin</td>\n",
       "      <td>Kpime</td>\n",
       "      <td>1676</td>\n",
       "      <td>2015</td>\n",
       "      <td>70%</td>\n",
       "      <td>France</td>\n",
       "      <td>2.75</td>\n",
       "      <td></td>\n",
       "      <td>Togo</td>\n",
       "    </tr>\n",
       "    <tr>\n",
       "      <th>2</th>\n",
       "      <td>A. Morin</td>\n",
       "      <td>Atsane</td>\n",
       "      <td>1676</td>\n",
       "      <td>2015</td>\n",
       "      <td>70%</td>\n",
       "      <td>France</td>\n",
       "      <td>3.00</td>\n",
       "      <td></td>\n",
       "      <td>Togo</td>\n",
       "    </tr>\n",
       "    <tr>\n",
       "      <th>3</th>\n",
       "      <td>A. Morin</td>\n",
       "      <td>Akata</td>\n",
       "      <td>1680</td>\n",
       "      <td>2015</td>\n",
       "      <td>70%</td>\n",
       "      <td>France</td>\n",
       "      <td>3.50</td>\n",
       "      <td></td>\n",
       "      <td>Togo</td>\n",
       "    </tr>\n",
       "    <tr>\n",
       "      <th>4</th>\n",
       "      <td>A. Morin</td>\n",
       "      <td>Quilla</td>\n",
       "      <td>1704</td>\n",
       "      <td>2015</td>\n",
       "      <td>70%</td>\n",
       "      <td>France</td>\n",
       "      <td>3.50</td>\n",
       "      <td></td>\n",
       "      <td>Peru</td>\n",
       "    </tr>\n",
       "    <tr>\n",
       "      <th>5</th>\n",
       "      <td>A. Morin</td>\n",
       "      <td>Carenero</td>\n",
       "      <td>1315</td>\n",
       "      <td>2014</td>\n",
       "      <td>70%</td>\n",
       "      <td>France</td>\n",
       "      <td>2.75</td>\n",
       "      <td>Criollo</td>\n",
       "      <td>Venezuela</td>\n",
       "    </tr>\n",
       "    <tr>\n",
       "      <th>6</th>\n",
       "      <td>A. Morin</td>\n",
       "      <td>Cuba</td>\n",
       "      <td>1315</td>\n",
       "      <td>2014</td>\n",
       "      <td>70%</td>\n",
       "      <td>France</td>\n",
       "      <td>3.50</td>\n",
       "      <td></td>\n",
       "      <td>Cuba</td>\n",
       "    </tr>\n",
       "    <tr>\n",
       "      <th>7</th>\n",
       "      <td>A. Morin</td>\n",
       "      <td>Sur del Lago</td>\n",
       "      <td>1315</td>\n",
       "      <td>2014</td>\n",
       "      <td>70%</td>\n",
       "      <td>France</td>\n",
       "      <td>3.50</td>\n",
       "      <td>Criollo</td>\n",
       "      <td>Venezuela</td>\n",
       "    </tr>\n",
       "    <tr>\n",
       "      <th>8</th>\n",
       "      <td>A. Morin</td>\n",
       "      <td>Puerto Cabello</td>\n",
       "      <td>1319</td>\n",
       "      <td>2014</td>\n",
       "      <td>70%</td>\n",
       "      <td>France</td>\n",
       "      <td>3.75</td>\n",
       "      <td>Criollo</td>\n",
       "      <td>Venezuela</td>\n",
       "    </tr>\n",
       "    <tr>\n",
       "      <th>9</th>\n",
       "      <td>A. Morin</td>\n",
       "      <td>Pablino</td>\n",
       "      <td>1319</td>\n",
       "      <td>2014</td>\n",
       "      <td>70%</td>\n",
       "      <td>France</td>\n",
       "      <td>4.00</td>\n",
       "      <td></td>\n",
       "      <td>Peru</td>\n",
       "    </tr>\n",
       "  </tbody>\n",
       "</table>\n",
       "</div>"
      ],
      "text/plain": [
       "  Company \\n(Maker-if known) Specific Bean Origin\\nor Bar Name   REF  \\\n",
       "0                   A. Morin                       Agua Grande  1876   \n",
       "1                   A. Morin                             Kpime  1676   \n",
       "2                   A. Morin                            Atsane  1676   \n",
       "3                   A. Morin                             Akata  1680   \n",
       "4                   A. Morin                            Quilla  1704   \n",
       "5                   A. Morin                          Carenero  1315   \n",
       "6                   A. Morin                              Cuba  1315   \n",
       "7                   A. Morin                      Sur del Lago  1315   \n",
       "8                   A. Morin                    Puerto Cabello  1319   \n",
       "9                   A. Morin                           Pablino  1319   \n",
       "\n",
       "   Review\\nDate Cocoa\\nPercent Company\\nLocation  Rating Bean\\nType  \\\n",
       "0          2016            63%            France    3.75              \n",
       "1          2015            70%            France    2.75              \n",
       "2          2015            70%            France    3.00              \n",
       "3          2015            70%            France    3.50              \n",
       "4          2015            70%            France    3.50              \n",
       "5          2014            70%            France    2.75    Criollo   \n",
       "6          2014            70%            France    3.50              \n",
       "7          2014            70%            France    3.50    Criollo   \n",
       "8          2014            70%            France    3.75    Criollo   \n",
       "9          2014            70%            France    4.00              \n",
       "\n",
       "  Broad Bean\\nOrigin  \n",
       "0           Sao Tome  \n",
       "1               Togo  \n",
       "2               Togo  \n",
       "3               Togo  \n",
       "4               Peru  \n",
       "5          Venezuela  \n",
       "6               Cuba  \n",
       "7          Venezuela  \n",
       "8          Venezuela  \n",
       "9               Peru  "
      ]
     },
     "execution_count": 81,
     "metadata": {},
     "output_type": "execute_result"
    }
   ],
   "source": [
    "# We can simply load all the data without specifying any parameters at this point\n",
    "\n",
    "chocolate = pd.read_csv('flavors_of_cacao.csv')\n",
    "chocolate.head(10)"
   ]
  },
  {
   "cell_type": "markdown",
   "metadata": {},
   "source": [
    "In order to answer the questions, all we can do is to use `info()` method to explore the dataset:"
   ]
  },
  {
   "cell_type": "code",
   "execution_count": 82,
   "metadata": {},
   "outputs": [
    {
     "name": "stdout",
     "output_type": "stream",
     "text": [
      "<class 'pandas.core.frame.DataFrame'>\n",
      "RangeIndex: 1795 entries, 0 to 1794\n",
      "Data columns (total 9 columns):\n",
      "Company \n",
      "(Maker-if known)           1795 non-null object\n",
      "Specific Bean Origin\n",
      "or Bar Name    1795 non-null object\n",
      "REF                                 1795 non-null int64\n",
      "Review\n",
      "Date                         1795 non-null int64\n",
      "Cocoa\n",
      "Percent                       1795 non-null object\n",
      "Company\n",
      "Location                    1795 non-null object\n",
      "Rating                              1795 non-null float64\n",
      "Bean\n",
      "Type                           1794 non-null object\n",
      "Broad Bean\n",
      "Origin                   1794 non-null object\n",
      "dtypes: float64(1), int64(2), object(6)\n",
      "memory usage: 126.3+ KB\n"
     ]
    }
   ],
   "source": [
    "chocolate.info()"
   ]
  },
  {
   "cell_type": "code",
   "execution_count": 83,
   "metadata": {},
   "outputs": [
    {
     "data": {
      "text/plain": [
       "(1795, 9)"
      ]
     },
     "execution_count": 83,
     "metadata": {},
     "output_type": "execute_result"
    }
   ],
   "source": [
    "# We can also use `.shape` attribute\n",
    "# it will output 2 numbers, the number of rows and number of columns\n",
    "# this will give us an answer to the first question only\n",
    "\n",
    "chocolate.shape"
   ]
  },
  {
   "cell_type": "markdown",
   "metadata": {},
   "source": [
    "Q1: How many entries are there in the dataset?\n",
    "\n",
    "Answer: There are 1795 entries in the dataset, we can see it from the second line: "
   ]
  },
  {
   "cell_type": "markdown",
   "metadata": {},
   "source": [
    "```\n",
    "RangeIndex: 1795 entries, 0 to 1794\n",
    "```"
   ]
  },
  {
   "cell_type": "markdown",
   "metadata": {},
   "source": [
    "Q2: What is the `dtype` of the data in the `Rating` column?\n",
    "\n",
    "Answer: we can answer this question by looking at the output of the `info()` above. The `Rating` column has `float64` dtype. We can also retrieve information about this column as follows:"
   ]
  },
  {
   "cell_type": "code",
   "execution_count": 84,
   "metadata": {},
   "outputs": [
    {
     "name": "stdout",
     "output_type": "stream",
     "text": [
      "<class 'pandas.core.frame.DataFrame'>\n",
      "RangeIndex: 1795 entries, 0 to 1794\n",
      "Data columns (total 1 columns):\n",
      "Rating    1795 non-null float64\n",
      "dtypes: float64(1)\n",
      "memory usage: 14.1 KB\n"
     ]
    }
   ],
   "source": [
    "chocolate[['Rating']].info()"
   ]
  },
  {
   "cell_type": "code",
   "execution_count": 85,
   "metadata": {},
   "outputs": [
    {
     "data": {
      "text/plain": [
       "dtype('float64')"
      ]
     },
     "execution_count": 85,
     "metadata": {},
     "output_type": "execute_result"
    }
   ],
   "source": [
    "(chocolate['Rating']).dtypes"
   ]
  },
  {
   "cell_type": "markdown",
   "metadata": {},
   "source": [
    "**Task 2**. Let's print out the names of the columns:"
   ]
  },
  {
   "cell_type": "code",
   "execution_count": 86,
   "metadata": {},
   "outputs": [
    {
     "data": {
      "text/plain": [
       "Index(['Company \\n(Maker-if known)', 'Specific Bean Origin\\nor Bar Name',\n",
       "       'REF', 'Review\\nDate', 'Cocoa\\nPercent', 'Company\\nLocation', 'Rating',\n",
       "       'Bean\\nType', 'Broad Bean\\nOrigin'],\n",
       "      dtype='object')"
      ]
     },
     "execution_count": 86,
     "metadata": {},
     "output_type": "execute_result"
    }
   ],
   "source": [
    "chocolate.columns"
   ]
  },
  {
   "cell_type": "markdown",
   "metadata": {},
   "source": [
    "You can see that almost every column name contains a special character, `\\n`, which is a newline character. Also, some of the column names are quite long, e.g. `'Company \\n(Maker-if known)'`. To simplify the data manipulation, we suggest renaming the columns:"
   ]
  },
  {
   "cell_type": "code",
   "execution_count": 87,
   "metadata": {},
   "outputs": [
    {
     "data": {
      "text/html": [
       "<div>\n",
       "<style scoped>\n",
       "    .dataframe tbody tr th:only-of-type {\n",
       "        vertical-align: middle;\n",
       "    }\n",
       "\n",
       "    .dataframe tbody tr th {\n",
       "        vertical-align: top;\n",
       "    }\n",
       "\n",
       "    .dataframe thead th {\n",
       "        text-align: right;\n",
       "    }\n",
       "</style>\n",
       "<table border=\"1\" class=\"dataframe\">\n",
       "  <thead>\n",
       "    <tr style=\"text-align: right;\">\n",
       "      <th></th>\n",
       "      <th>company</th>\n",
       "      <th>bar_name</th>\n",
       "      <th>REF</th>\n",
       "      <th>review_date</th>\n",
       "      <th>cocoa_per</th>\n",
       "      <th>company_location</th>\n",
       "      <th>rating</th>\n",
       "      <th>bean_type</th>\n",
       "      <th>bean_origin</th>\n",
       "    </tr>\n",
       "  </thead>\n",
       "  <tbody>\n",
       "    <tr>\n",
       "      <th>0</th>\n",
       "      <td>A. Morin</td>\n",
       "      <td>Agua Grande</td>\n",
       "      <td>1876</td>\n",
       "      <td>2016</td>\n",
       "      <td>63%</td>\n",
       "      <td>France</td>\n",
       "      <td>3.75</td>\n",
       "      <td></td>\n",
       "      <td>Sao Tome</td>\n",
       "    </tr>\n",
       "    <tr>\n",
       "      <th>1</th>\n",
       "      <td>A. Morin</td>\n",
       "      <td>Kpime</td>\n",
       "      <td>1676</td>\n",
       "      <td>2015</td>\n",
       "      <td>70%</td>\n",
       "      <td>France</td>\n",
       "      <td>2.75</td>\n",
       "      <td></td>\n",
       "      <td>Togo</td>\n",
       "    </tr>\n",
       "    <tr>\n",
       "      <th>2</th>\n",
       "      <td>A. Morin</td>\n",
       "      <td>Atsane</td>\n",
       "      <td>1676</td>\n",
       "      <td>2015</td>\n",
       "      <td>70%</td>\n",
       "      <td>France</td>\n",
       "      <td>3.00</td>\n",
       "      <td></td>\n",
       "      <td>Togo</td>\n",
       "    </tr>\n",
       "    <tr>\n",
       "      <th>3</th>\n",
       "      <td>A. Morin</td>\n",
       "      <td>Akata</td>\n",
       "      <td>1680</td>\n",
       "      <td>2015</td>\n",
       "      <td>70%</td>\n",
       "      <td>France</td>\n",
       "      <td>3.50</td>\n",
       "      <td></td>\n",
       "      <td>Togo</td>\n",
       "    </tr>\n",
       "    <tr>\n",
       "      <th>4</th>\n",
       "      <td>A. Morin</td>\n",
       "      <td>Quilla</td>\n",
       "      <td>1704</td>\n",
       "      <td>2015</td>\n",
       "      <td>70%</td>\n",
       "      <td>France</td>\n",
       "      <td>3.50</td>\n",
       "      <td></td>\n",
       "      <td>Peru</td>\n",
       "    </tr>\n",
       "    <tr>\n",
       "      <th>5</th>\n",
       "      <td>A. Morin</td>\n",
       "      <td>Carenero</td>\n",
       "      <td>1315</td>\n",
       "      <td>2014</td>\n",
       "      <td>70%</td>\n",
       "      <td>France</td>\n",
       "      <td>2.75</td>\n",
       "      <td>Criollo</td>\n",
       "      <td>Venezuela</td>\n",
       "    </tr>\n",
       "    <tr>\n",
       "      <th>6</th>\n",
       "      <td>A. Morin</td>\n",
       "      <td>Cuba</td>\n",
       "      <td>1315</td>\n",
       "      <td>2014</td>\n",
       "      <td>70%</td>\n",
       "      <td>France</td>\n",
       "      <td>3.50</td>\n",
       "      <td></td>\n",
       "      <td>Cuba</td>\n",
       "    </tr>\n",
       "    <tr>\n",
       "      <th>7</th>\n",
       "      <td>A. Morin</td>\n",
       "      <td>Sur del Lago</td>\n",
       "      <td>1315</td>\n",
       "      <td>2014</td>\n",
       "      <td>70%</td>\n",
       "      <td>France</td>\n",
       "      <td>3.50</td>\n",
       "      <td>Criollo</td>\n",
       "      <td>Venezuela</td>\n",
       "    </tr>\n",
       "    <tr>\n",
       "      <th>8</th>\n",
       "      <td>A. Morin</td>\n",
       "      <td>Puerto Cabello</td>\n",
       "      <td>1319</td>\n",
       "      <td>2014</td>\n",
       "      <td>70%</td>\n",
       "      <td>France</td>\n",
       "      <td>3.75</td>\n",
       "      <td>Criollo</td>\n",
       "      <td>Venezuela</td>\n",
       "    </tr>\n",
       "    <tr>\n",
       "      <th>9</th>\n",
       "      <td>A. Morin</td>\n",
       "      <td>Pablino</td>\n",
       "      <td>1319</td>\n",
       "      <td>2014</td>\n",
       "      <td>70%</td>\n",
       "      <td>France</td>\n",
       "      <td>4.00</td>\n",
       "      <td></td>\n",
       "      <td>Peru</td>\n",
       "    </tr>\n",
       "  </tbody>\n",
       "</table>\n",
       "</div>"
      ],
      "text/plain": [
       "    company        bar_name   REF  review_date cocoa_per company_location  \\\n",
       "0  A. Morin     Agua Grande  1876         2016       63%           France   \n",
       "1  A. Morin           Kpime  1676         2015       70%           France   \n",
       "2  A. Morin          Atsane  1676         2015       70%           France   \n",
       "3  A. Morin           Akata  1680         2015       70%           France   \n",
       "4  A. Morin          Quilla  1704         2015       70%           France   \n",
       "5  A. Morin        Carenero  1315         2014       70%           France   \n",
       "6  A. Morin            Cuba  1315         2014       70%           France   \n",
       "7  A. Morin    Sur del Lago  1315         2014       70%           France   \n",
       "8  A. Morin  Puerto Cabello  1319         2014       70%           France   \n",
       "9  A. Morin         Pablino  1319         2014       70%           France   \n",
       "\n",
       "   rating bean_type bean_origin  \n",
       "0    3.75              Sao Tome  \n",
       "1    2.75                  Togo  \n",
       "2    3.00                  Togo  \n",
       "3    3.50                  Togo  \n",
       "4    3.50                  Peru  \n",
       "5    2.75   Criollo   Venezuela  \n",
       "6    3.50                  Cuba  \n",
       "7    3.50   Criollo   Venezuela  \n",
       "8    3.75   Criollo   Venezuela  \n",
       "9    4.00                  Peru  "
      ]
     },
     "execution_count": 87,
     "metadata": {},
     "output_type": "execute_result"
    }
   ],
   "source": [
    "chocolate.columns = ['company', 'bar_name', 'REF', 'review_date', \n",
    "                     'cocoa_per', 'company_location', 'rating','bean_type', 'bean_origin']\n",
    "chocolate.head(10)"
   ]
  },
  {
   "cell_type": "markdown",
   "metadata": {},
   "source": [
    "The answer to the last question requires a little investigation. If you look at the output of the `info()` function, you will notice that there are 1974 entries in this column, but in the output of the `.head(10)` function we can see that only 3 out of 10 rows have values populated. This means that other rows contain some special characters which `pandas` treat as values. Let's pick a row and look closer at the `bean_type` value:"
   ]
  },
  {
   "cell_type": "code",
   "execution_count": 88,
   "metadata": {},
   "outputs": [
    {
     "data": {
      "text/plain": [
       "'\\xa0'"
      ]
     },
     "execution_count": 88,
     "metadata": {},
     "output_type": "execute_result"
    }
   ],
   "source": [
    "chocolate.bean_type[2]"
   ]
  },
  {
   "cell_type": "markdown",
   "metadata": {},
   "source": [
    "The `\\xa0` is a symbol for [non-breaking space](https://en.wikipedia.org/wiki/Non-breaking_space). We can check unique values in this column and see if there are other special characters in the data:"
   ]
  },
  {
   "cell_type": "code",
   "execution_count": 89,
   "metadata": {},
   "outputs": [
    {
     "data": {
      "text/plain": [
       "array(['\\xa0', 'Criollo', 'Trinitario', 'Forastero (Arriba)', 'Forastero',\n",
       "       'Forastero (Nacional)', 'Criollo, Trinitario',\n",
       "       'Criollo (Porcelana)', 'Blend', 'Trinitario (85% Criollo)',\n",
       "       'Forastero (Catongo)', 'Forastero (Parazinho)',\n",
       "       'Trinitario, Criollo', 'CCN51', 'Criollo (Ocumare)', 'Nacional',\n",
       "       'Criollo (Ocumare 61)', 'Criollo (Ocumare 77)',\n",
       "       'Criollo (Ocumare 67)', 'Criollo (Wild)', 'Beniano', 'Amazon mix',\n",
       "       'Trinitario, Forastero', 'Forastero (Arriba) ASS', 'Criollo, +',\n",
       "       'Amazon', 'Amazon, ICS', 'EET', 'Blend-Forastero,Criollo',\n",
       "       'Trinitario (Scavina)', 'Criollo, Forastero', 'Matina',\n",
       "       'Forastero(Arriba, CCN)', 'Nacional (Arriba)',\n",
       "       'Forastero (Arriba) ASSS', 'Forastero, Trinitario',\n",
       "       'Forastero (Amelonado)', nan, 'Trinitario, Nacional',\n",
       "       'Trinitario (Amelonado)', 'Trinitario, TCGA', 'Criollo (Amarru)'],\n",
       "      dtype=object)"
      ]
     },
     "execution_count": 89,
     "metadata": {},
     "output_type": "execute_result"
    }
   ],
   "source": [
    "chocolate.bean_type.unique()"
   ]
  },
  {
   "cell_type": "markdown",
   "metadata": {},
   "source": [
    "You will learn in the next modules (starting from Module 5) how to deal with the empty/missing values and how to clean your data and prepare it for further analysis. For now, we will provide you with a quick solution to clean `bean_type` column:"
   ]
  },
  {
   "cell_type": "code",
   "execution_count": 90,
   "metadata": {},
   "outputs": [
    {
     "name": "stdout",
     "output_type": "stream",
     "text": [
      "<class 'pandas.core.frame.DataFrame'>\n",
      "RangeIndex: 1795 entries, 0 to 1794\n",
      "Data columns (total 9 columns):\n",
      "company             1795 non-null object\n",
      "bar_name            1795 non-null object\n",
      "REF                 1795 non-null int64\n",
      "review_date         1795 non-null int64\n",
      "cocoa_per           1795 non-null object\n",
      "company_location    1795 non-null object\n",
      "rating              1795 non-null float64\n",
      "bean_type           907 non-null object\n",
      "bean_origin         1721 non-null object\n",
      "dtypes: float64(1), int64(2), object(6)\n",
      "memory usage: 126.3+ KB\n"
     ]
    }
   ],
   "source": [
    "import numpy as np\n",
    "\n",
    "chocolate.replace(u'\\xa0', np.nan, regex=True, inplace=True)\n",
    "chocolate.info()"
   ]
  },
  {
   "cell_type": "markdown",
   "metadata": {},
   "source": [
    "We simply replaced the `'\\xa0'` character with `NaN` values. As you can see, now the `bean_type` column contains only 907 values.\n",
    "\n",
    "**NOTE**: The `u` character in front of the `'\\xa0'` indicates that we ask Python to treat this character as a Unicode string. For more information on Unicode please refer to Python Documentation [Unicode HOWTO](https://docs.python.org/3/howto/unicode.html).\n",
    "\n",
    "Another way to clean the non-breaking spaces from the data set is to use `na_values='\\xa0'` parameter in the `read_csv()` function and remove these special characters at the time we read the `.csv` file and create the `DataFrame`:"
   ]
  },
  {
   "cell_type": "code",
   "execution_count": 91,
   "metadata": {},
   "outputs": [
    {
     "name": "stdout",
     "output_type": "stream",
     "text": [
      "<class 'pandas.core.frame.DataFrame'>\n",
      "RangeIndex: 1795 entries, 0 to 1794\n",
      "Data columns (total 9 columns):\n",
      "Company \n",
      "(Maker-if known)           1795 non-null object\n",
      "Specific Bean Origin\n",
      "or Bar Name    1795 non-null object\n",
      "REF                                 1795 non-null int64\n",
      "Review\n",
      "Date                         1795 non-null int64\n",
      "Cocoa\n",
      "Percent                       1795 non-null object\n",
      "Company\n",
      "Location                    1795 non-null object\n",
      "Rating                              1795 non-null float64\n",
      "Bean\n",
      "Type                           907 non-null object\n",
      "Broad Bean\n",
      "Origin                   1721 non-null object\n",
      "dtypes: float64(1), int64(2), object(6)\n",
      "memory usage: 126.3+ KB\n"
     ]
    }
   ],
   "source": [
    "chocolate = pd.read_csv('flavors_of_cacao.csv', na_values='\\xa0')\n",
    "chocolate.info()"
   ]
  },
  {
   "cell_type": "markdown",
   "metadata": {},
   "source": [
    "You will learn more about Null values handling in the next module."
   ]
  },
  {
   "cell_type": "markdown",
   "metadata": {},
   "source": [
    "---\n",
    "**End of Part 2.**\n",
    "\n",
    "\n",
    "This notebook makes up one part of this module. Now that you have completed this part, please proceed to the next notebook in this module.\n",
    "\n",
    "If you have any questions, please reach out to your peers using the discussion boards. If you and your peers are unable to come to a suitable conclusion, do not hesitate to reach out to your instructor on the designated discussion board.\n",
    "\n",
    "---"
   ]
  },
  {
   "cell_type": "markdown",
   "metadata": {
    "collapsed": true
   },
   "source": [
    "## References"
   ]
  },
  {
   "cell_type": "markdown",
   "metadata": {
    "collapsed": true
   },
   "source": [
    "Pandas 0.23.4 documentation. API Reference. (2018). `pandas.Series`. Retrieved from [https://pandas.pydata.org/pandas-docs/stable/generated/pandas.Series.html](https://pandas.pydata.org/pandas-docs/stable/generated/pandas.Series.html)\n",
    "\n",
    "Statistics Canada. (2018). Canada at a Glance 2018. Population. Retrieved from [https://www150.statcan.gc.ca/n1/pub/12-581-x/2018000/pop-eng.htm](https://www150.statcan.gc.ca/n1/pub/12-581-x/2018000/pop-eng.htm)\n",
    "\n",
    "Pandas 0.23.4 documentation. API Reference. (2018). `pandas.Series.append`. Retrieved from [https://pandas.pydata.org/pandas-docs/stable/generated/pandas.Series.append.html](https://pandas.pydata.org/pandas-docs/stable/generated/pandas.Series.append.html)\n",
    "\n",
    "Wikipedia. (2018). Provinces and territories of Canada. Retrieved from [https://en.wikipedia.org/wiki/Provinces_and_territories_of_Canada](https://en.wikipedia.org/wiki/Provinces_and_territories_of_Canada)\n",
    "\n",
    "Department of Finance Canada. (2018). Federal Support to Provinces and Territories, 2018-19. Retrieved from [https://www.fin.gc.ca/fedprov/mtp-eng.asp](https://www.fin.gc.ca/fedprov/mtp-eng.asp)\n",
    "\n",
    "Pandas 0.23.4 documentation. API Reference. (2018). `pandas.read_csv`. Retrieved from [https://pandas.pydata.org/pandas-docs/stable/generated/pandas.read_csv.html](https://pandas.pydata.org/pandas-docs/stable/generated/pandas.read_csv.html)\n",
    "\n",
    "SciPy Community at SciPy.org. (2018). Glossary, topic \"along an axis\". Retrieved from [https://docs.scipy.org/doc/numpy/glossary.html](https://docs.scipy.org/doc/numpy/glossary.html)\n",
    "\n",
    "Pandas 0.23.4 documentation. (2018). MultiIndex / Advanced Indexing. Retrieved from [https://pandas.pydata.org/pandas-docs/stable/advanced.html](https://pandas.pydata.org/pandas-docs/stable/advanced.html)\n",
    "\n",
    "Kaggle. (2017). Chocolate Bar Ratings dataset. Retrieved from [https://www.kaggle.com/rtatman/chocolate-bar-ratings](https://www.kaggle.com/rtatman/chocolate-bar-ratings)\n",
    "\n",
    "Flavors of Cacao (2018). Website URL is [http://flavorsofcacao.com/index.html](http://flavorsofcacao.com/index.html)\n",
    "\n",
    "Wikipedia (2018). Non-breaking space. Retrieved from [https://en.wikipedia.org/wiki/Non-breaking_space](https://en.wikipedia.org/wiki/Non-breaking_space)\n",
    "\n",
    "Python Documentation. Python HOWTOs. (2018). Unicode HOWTO. Retrieved from [https://docs.python.org/3/howto/unicode.html](https://docs.python.org/3/howto/unicode.html).\n"
   ]
  }
 ],
 "metadata": {
  "kernelspec": {
   "display_name": "Python 3",
   "language": "python",
   "name": "python3"
  },
  "language_info": {
   "codemirror_mode": {
    "name": "ipython",
    "version": 3
   },
   "file_extension": ".py",
   "mimetype": "text/x-python",
   "name": "python",
   "nbconvert_exporter": "python",
   "pygments_lexer": "ipython3",
   "version": "3.7.6"
  },
  "latex_envs": {
   "LaTeX_envs_menu_present": true,
   "autoclose": false,
   "autocomplete": true,
   "bibliofile": "biblio.bib",
   "cite_by": "apalike",
   "current_citInitial": 1,
   "eqLabelWithNumbers": true,
   "eqNumInitial": 1,
   "hotkeys": {
    "equation": "Ctrl-E",
    "itemize": "Ctrl-I"
   },
   "labels_anchors": false,
   "latex_user_defs": false,
   "report_style_numbering": false,
   "user_envs_cfg": false
  },
  "nbTranslate": {
   "displayLangs": [
    "*"
   ],
   "hotkey": "alt-t",
   "langInMainMenu": true,
   "sourceLang": "en",
   "targetLang": "fr",
   "useGoogleTranslate": true
  },
  "toc": {
   "base_numbering": 1,
   "nav_menu": {},
   "number_sections": true,
   "sideBar": true,
   "skip_h1_title": true,
   "title_cell": "Table of Contents",
   "title_sidebar": "Contents",
   "toc_cell": true,
   "toc_position": {},
   "toc_section_display": true,
   "toc_window_display": true
  },
  "varInspector": {
   "cols": {
    "lenName": 16,
    "lenType": 16,
    "lenVar": 40
   },
   "kernels_config": {
    "python": {
     "delete_cmd_postfix": "",
     "delete_cmd_prefix": "del ",
     "library": "var_list.py",
     "varRefreshCmd": "print(var_dic_list())"
    },
    "r": {
     "delete_cmd_postfix": ") ",
     "delete_cmd_prefix": "rm(",
     "library": "var_list.r",
     "varRefreshCmd": "cat(var_dic_list()) "
    }
   },
   "types_to_exclude": [
    "module",
    "function",
    "builtin_function_or_method",
    "instance",
    "_Feature"
   ],
   "window_display": false
  }
 },
 "nbformat": 4,
 "nbformat_minor": 1
}
