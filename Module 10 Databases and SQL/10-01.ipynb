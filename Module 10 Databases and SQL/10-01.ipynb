{
 "cells": [
  {
   "cell_type": "markdown",
   "metadata": {},
   "source": [
    "# Module 10 Part 1: Databases & SQL Basics"
   ]
  },
  {
   "cell_type": "markdown",
   "metadata": {},
   "source": [
    "## Introduction"
   ]
  },
  {
   "cell_type": "markdown",
   "metadata": {},
   "source": [
    "In this module, we will be covering the topic of databases, how they can be used, and the concepts and benefits surrounding their use. \n",
    "\n",
    "Then we will review the basics of **Structured Query Language (SQL)** which is used to access and manipulate databases. We will learn SQL commands and how they can be used with Python to query and modify tables within the database."
   ]
  },
  {
   "cell_type": "markdown",
   "metadata": {},
   "source": [
    "## Learning Outcomes"
   ]
  },
  {
   "cell_type": "markdown",
   "metadata": {},
   "source": [
    "Throughout the module, we will discuss relational database management systems. In doing so, we will have to touch on the theory underlying databases as relations, and describe the concept of a schema. Once the theory is understood, the SQL commands to manipulate and retrieve data will become analogous to the theory."
   ]
  },
  {
   "cell_type": "markdown",
   "metadata": {},
   "source": [
    "In this module, you will learn the following topics:\n",
    "\n",
    "* What is a Relational Database? \n",
    "* Schemas\n",
    "* Overview of databases that use SQL\n",
    "* Brief History of SQL\n",
    "* Learn to write simple SQL queries\n",
    "* Basic SQL commands to create, read, update, delete records\n",
    "\n",
    "\n",
    "\n",
    "\n",
    "This module consists of 2 parts:\n",
    "\n",
    "- **Part 1** - Databases and SQL Basics\n",
    "- **Part 2** - Detailed look at SQL Queries, SQL Joins, and Manipulating Tables\n",
    "\n",
    "Each part is provided in a separate notebook file. It is recommended that you follow the order of the notebooks.\n",
    "\n",
    "\n",
    "## Readings and Resources\n",
    "\n",
    "The majority of the first section draws from the book:\n",
    "\n",
    "Silberschatz, A., Korth, H.F., & Sudarshan, S. (2010) [_Database System Concepts_](https://books.google.ca/books?id=oKXEoAEACAAJ). McGraw Hill Higher Education.\n",
    "\n",
    "*In their book, the authors go much further in depth than **SQL** and cover algorithms and implementations for **out-of-core operations**. Moreover, they cover topics we only briefly touch, such as *Indexes* and *Optimizing Queries*. We encourage you to reference the book for further depth and insights into data storage.\n",
    "\n",
    "The later portions of this module reference the documentation for the [**SQLite** database](https://www.sqlite.org/index.html). We demonstrate SQLite's capabilities via calls from the Python database connector in the [`sqlite3` package](https://docs.python.org/3/library/sqlite3.html)."
   ]
  },
  {
   "cell_type": "markdown",
   "metadata": {
    "cell_style": "center",
    "toc": true
   },
   "source": [
    "<h1>Table of Contents<span class=\"tocSkip\"></span></h1>\n",
    "<div class=\"toc\"><ul class=\"toc-item\"><li><span><a href=\"#Introduction\" data-toc-modified-id=\"Introduction-1\"><span class=\"toc-item-num\">1&nbsp;&nbsp;</span>Introduction</a></span></li><li><span><a href=\"#Learning-Outcomes\" data-toc-modified-id=\"Learning-Outcomes-2\"><span class=\"toc-item-num\">2&nbsp;&nbsp;</span>Learning Outcomes</a></span></li><li><span><a href=\"#Introduction-to-Relational-Databases-and--SQL\" data-toc-modified-id=\"Introduction-to-Relational-Databases-and--SQL-3\"><span class=\"toc-item-num\">3&nbsp;&nbsp;</span>Introduction to Relational Databases and  SQL</a></span><ul class=\"toc-item\"><li><span><a href=\"#History\" data-toc-modified-id=\"History-3.1\"><span class=\"toc-item-num\">3.1&nbsp;&nbsp;</span>History</a></span></li><li><span><a href=\"#Table-basics\" data-toc-modified-id=\"Table-basics-3.2\"><span class=\"toc-item-num\">3.2&nbsp;&nbsp;</span>Table basics</a></span><ul class=\"toc-item\"><li><span><a href=\"#What-is-a-Schema?\" data-toc-modified-id=\"What-is-a-Schema?-3.2.1\"><span class=\"toc-item-num\">3.2.1&nbsp;&nbsp;</span>What is a Schema?</a></span><ul class=\"toc-item\"><li><span><a href=\"#Star-schema\" data-toc-modified-id=\"Star-schema-3.2.1.1\"><span class=\"toc-item-num\">3.2.1.1&nbsp;&nbsp;</span>Star schema</a></span></li><li><span><a href=\"#Snowflake-schema\" data-toc-modified-id=\"Snowflake-schema-3.2.1.2\"><span class=\"toc-item-num\">3.2.1.2&nbsp;&nbsp;</span>Snowflake schema</a></span></li></ul></li><li><span><a href=\"#Keys\" data-toc-modified-id=\"Keys-3.2.2\"><span class=\"toc-item-num\">3.2.2&nbsp;&nbsp;</span>Keys</a></span><ul class=\"toc-item\"><li><span><a href=\"#Primary-key\" data-toc-modified-id=\"Primary-key-3.2.2.1\"><span class=\"toc-item-num\">3.2.2.1&nbsp;&nbsp;</span>Primary key</a></span></li><li><span><a href=\"#Foreign-key\" data-toc-modified-id=\"Foreign-key-3.2.2.2\"><span class=\"toc-item-num\">3.2.2.2&nbsp;&nbsp;</span>Foreign key</a></span></li></ul></li><li><span><a href=\"#Database-table-relationships\" data-toc-modified-id=\"Database-table-relationships-3.2.3\"><span class=\"toc-item-num\">3.2.3&nbsp;&nbsp;</span>Database table relationships</a></span></li></ul></li><li><span><a href=\"#Relational-vs.-non-relational-databases\" data-toc-modified-id=\"Relational-vs.-non-relational-databases-3.3\"><span class=\"toc-item-num\">3.3&nbsp;&nbsp;</span>Relational vs. non-relational databases</a></span></li><li><span><a href=\"#Motivation\" data-toc-modified-id=\"Motivation-3.4\"><span class=\"toc-item-num\">3.4&nbsp;&nbsp;</span>Motivation</a></span><ul class=\"toc-item\"><li><span><a href=\"#What-is-SQL?\" data-toc-modified-id=\"What-is-SQL?-3.4.1\"><span class=\"toc-item-num\">3.4.1&nbsp;&nbsp;</span>What is SQL?</a></span></li><li><span><a href=\"#Why-should-we-learn-SQL?\" data-toc-modified-id=\"Why-should-we-learn-SQL?-3.4.2\"><span class=\"toc-item-num\">3.4.2&nbsp;&nbsp;</span>Why should we learn SQL?</a></span></li><li><span><a href=\"#What-can-SQL-do?\" data-toc-modified-id=\"What-can-SQL-do?-3.4.3\"><span class=\"toc-item-num\">3.4.3&nbsp;&nbsp;</span>What can SQL do?</a></span></li></ul></li></ul></li><li><span><a href=\"#SQL-Basics\" data-toc-modified-id=\"SQL-Basics-4\"><span class=\"toc-item-num\">4&nbsp;&nbsp;</span>SQL Basics</a></span><ul class=\"toc-item\"><li><span><a href=\"#Queries\" data-toc-modified-id=\"Queries-4.1\"><span class=\"toc-item-num\">4.1&nbsp;&nbsp;</span>Queries</a></span><ul class=\"toc-item\"><li><span><a href=\"#EXERCISE-1:-Basic-SQL-queries\" data-toc-modified-id=\"EXERCISE-1:-Basic-SQL-queries-4.1.1\"><span class=\"toc-item-num\">4.1.1&nbsp;&nbsp;</span><strong>EXERCISE 1:</strong> Basic SQL queries</a></span></li></ul></li></ul></li><li><span><a href=\"#References\" data-toc-modified-id=\"References-5\"><span class=\"toc-item-num\">5&nbsp;&nbsp;</span>References</a></span></li></ul></div>"
   ]
  },
  {
   "cell_type": "markdown",
   "metadata": {
    "cell_style": "center"
   },
   "source": [
    "## Introduction to Relational Databases and  SQL"
   ]
  },
  {
   "cell_type": "markdown",
   "metadata": {
    "cell_style": "center"
   },
   "source": [
    "### History"
   ]
  },
  {
   "cell_type": "markdown",
   "metadata": {
    "cell_style": "center"
   },
   "source": [
    "| Timeline | Events |\n",
    "| :---: | :--- |\n",
    "| 1950-1960's | Magnetic tapes developed for storage. Read sequentially, with forced ordering, but substantially larger than main memory. |\n",
    "| 1960-1970's | Introduction of hard disk reduced read time to 10's of milliseconds. Relational model of data proposed by E. F. Codd . |\n",
    "| 1980s | IBM introduced System-R which popularized the relational model and released the first relational database product, SQL/DS, effectively black-boxing implementation details when using disk for programming tasks. |\n",
    "| 1990's | Vendors began diversifying databases to be object-oriented, and parallelized, in order to meet newer and growing use-cases and workloads. This was further fueled by the development of the World Wide Web (WWW), growing demand for multi-user, more responsive systems with minimal down-time. |\n",
    "| 2000's | The use case for complex data grew, introducing XML and Web 2.0, growing use-cases further for streaming, and distributed applications of databases. |\n",
    "\n",
    "Growing adoption of technology to  facilitate new use cases and data workloads defined the evolution of relational databases.\n",
    "\n",
    "| Relational Databases | Non-Relational databases |\n",
    "| :---: | :---: |\n",
    "| ORACLE, MS SQL Server, Sybase, MySQL, MS Access, IBM DB2, Teradata, Netezza, SAP Hana, PostgresSQL, MariaDB (Google) | MongoDB, Cassandra, HBase, ORACLE NoSQL database, Redis, InfiniteGraph, Alchemy Database, ArangoDB, OrientDB |\n",
    "\n",
    "The main differences between SQL and noSQL databases can be defined by workload. As workloads change, companies opt for the right tool for the right job. This doesn't mean SQL is not sufficient, but rather more optimal performance can be gained by using different approaches. (i.e. documents, key-value pairs, arrays, objects, trees, graphs, or some mixture of the prior for logical organization of data as opposed to only lists.)\n",
    "\n",
    "Based on 2014 revenue, the NoSQL market leaders are MarkLogic, MongoDB, and Datastax. Based on 2015 popularity rankings, the most popular NoSQL databases are MongoDB, Apache Cassandra, and Redis. \n",
    "\n",
    "You will learn about noSQL databases in one of the next courses of the program."
   ]
  },
  {
   "cell_type": "markdown",
   "metadata": {
    "cell_style": "center"
   },
   "source": [
    "### Table basics"
   ]
  },
  {
   "cell_type": "markdown",
   "metadata": {
    "cell_style": "center"
   },
   "source": [
    "|Index| column 1 | column 2 | column 3 | column 4 | column 5 | column 6 |\n",
    "| --- | --- | --- | --- | --- | --- | --- | \n",
    "| *row 1* | cell value | cell value | cell value | cell value | cell value | cell value |\n",
    "| *row 2* | cell value | cell value | cell value | cell value | cell value | cell value |\n",
    "| *row 3* | cell value | cell value | cell value | cell value | cell value | cell value |"
   ]
  },
  {
   "cell_type": "markdown",
   "metadata": {
    "cell_style": "center"
   },
   "source": [
    "A **relational database** system contains one or more objects via tables and views.  The data is stored in **tables**, made of **columns** (*attributes*) and **rows** (*tuples*). Tables can either be referenced as is or be referenced using an index.\n",
    "\n",
    "**NOTE:** A tuple is a finite ordered list / sequence of elements. In the database, a tuple contains the data for a row, or a single record."
   ]
  },
  {
   "cell_type": "markdown",
   "metadata": {
    "cell_style": "center"
   },
   "source": [
    "| Terminology | Definition |\n",
    "| --- | :--- | \n",
    "| Row | Tuple or Record |\n",
    "| Column | Field or Attribute |\n",
    "| Table | Data set (columns & rows) |\n",
    "| View | Derived (from tables & or other views) |\n",
    "| Result Set | Derived as response to query |"
   ]
  },
  {
   "cell_type": "markdown",
   "metadata": {
    "cell_style": "center"
   },
   "source": [
    "Statisticians and data scientists often refer to *Columns as **Variables*** and *Rows as **Observations***."
   ]
  },
  {
   "cell_type": "markdown",
   "metadata": {
    "cell_style": "center"
   },
   "source": [
    "#### What is a Schema?"
   ]
  },
  {
   "cell_type": "markdown",
   "metadata": {
    "cell_style": "center"
   },
   "source": [
    "A relational database **schema** acts as the the definition of a table, by specifying the columns, attribute names and relationships within and across tables. A schema can be often depicted visually in modeling software as a network. A relational database schema helps analysts to organize and understand the structure of a database and acts as a typing mechanism to prevent ill-formed operations.\n",
    "\n",
    "A Schema is particularly useful for analysts when retrieving data, designing a new database, modifying an existing database, or building integration between databases. When new analysts start on a team, they will often request a schema of the database, to understand how to build queries."
   ]
  },
  {
   "cell_type": "markdown",
   "metadata": {
    "cell_style": "center"
   },
   "source": [
    "##### Star schema"
   ]
  },
  {
   "cell_type": "markdown",
   "metadata": {
    "cell_style": "center"
   },
   "source": [
    "A common schema structure for a database is a [**star schema**](https://en.wikipedia.org/wiki/Star_schema). The star schema consists of one or more fact tables referencing any number of dimension tables. **Fact tables** record measurements or metrics for a specific event. Fact tables generally consist of numeric values, and foreign keys to **dimensional data** where descriptive information is kept.\n",
    "Fact tables are generally assigned a **surrogate key** to ensure each row can be uniquely identified. This key is a simple **primary key**. Facts are measures specific to an event e.g. a sale.\n",
    "\n",
    "Categorical columns are moved into their own dimension tables, leaving only the facts in the table (then called a fact table). That is to say, the fact tables consists of the most important identifying keys, and the dimension tables store the actual data. "
   ]
  },
  {
   "cell_type": "markdown",
   "metadata": {
    "cell_style": "center"
   },
   "source": [
    "<figure>\n",
    "  <img src=\"https://upload.wikimedia.org/wikipedia/commons/d/d5/%D0%9F%D1%80%D0%B8%D0%BA%D0%BB%D0%B0%D0%B4_%D1%81%D1%85%D0%B5%D0%BC%D0%B8_%D0%B7%D1%96%D1%80%D0%BA%D0%B8.png\" alt=\"A visual representation of an example star schema. The schema is used to declare tables, attributes, and relationship between attributes.\" style=\"width:62%\">\n",
    "  <figcaption><strong>Image 1.</strong> A visual representation of an example star schema. The schema is used to declare tables, attributes, and relationship between attributes.</figcaption>\n",
    "</figure>"
   ]
  },
  {
   "cell_type": "markdown",
   "metadata": {},
   "source": [
    "The star schema on the image above shows the relationships between the fact table \"Fact_Sales\" and the dimension tables \"Dim_Date\", \"Dim_Store\" and \"Dim_Product\"."
   ]
  },
  {
   "cell_type": "markdown",
   "metadata": {
    "cell_style": "center"
   },
   "source": [
    "##### Snowflake schema"
   ]
  },
  {
   "cell_type": "markdown",
   "metadata": {},
   "source": [
    "[**Snowflake Schemas**](https://en.wikipedia.org/wiki/Snowflake_schema) are created by allowing the dimensions of a star schema to be broken down into further dimension tables. Snowflake Schemas save a little storage space by saving data separately from keys, instead of jointly. But, it complicates end user queries making it less popular than star schemas."
   ]
  },
  {
   "cell_type": "markdown",
   "metadata": {
    "cell_style": "center"
   },
   "source": [
    "![SnowFlake Schema](https://upload.wikimedia.org/wikipedia/commons/7/73/Snowflake-schema-example.png) \n",
    "\n",
    "**Image 2:** The schema on this image is a snowflake version of the star schema pictured on the image 1 above."
   ]
  },
  {
   "cell_type": "markdown",
   "metadata": {},
   "source": [
    "Let's look at the \"Dim_Store\" table in both schemas. \n",
    "\n",
    "In the star schema, this table has the following columns:\n",
    "- Id\n",
    "- Store_Number\n",
    "- State_Province\n",
    "- Country\n",
    "\n",
    "In the snowflake schema, \"Dim_Store\" table has the following columns:\n",
    "- Id\n",
    "- Store_Number\n",
    "- Geography_Id\n",
    "\n",
    "The store location data, which is represented by the \"State_Province\" and \"Country\" attributes in both schemas, in the snowflake schema can be found in a separate table, \"Dim_Geography.\" In the next section of this module, we will talk about the keys, which are \"Id\" and \"Geography_Id\" attributes."
   ]
  },
  {
   "cell_type": "markdown",
   "metadata": {
    "cell_style": "center"
   },
   "source": [
    "Notice that the snowflake schema query requires many more key references / lookups than the star schema version in order to fulfill even a simple query. The benefit of using the snowflake schema in this example is that the storage requirements are lower since the snowflake schema eliminates many duplicate values from the dimensions themselves. Or more simply, a trade-off occurs between the speed of delivering querying results and the speed of doing simple operations like add/delete/update rows. \n",
    "\n",
    "As such, the keys and identifiers are still given their own facts table, but now there is more than a depth of one. This is due to identifiers jumping to groups of identifiers. This occurs when a relationship/join between entities/tables has been materialized into a table or view. "
   ]
  },
  {
   "cell_type": "markdown",
   "metadata": {
    "cell_style": "center"
   },
   "source": [
    "#### Keys"
   ]
  },
  {
   "cell_type": "markdown",
   "metadata": {
    "cell_style": "center"
   },
   "source": [
    "The attributes used to identify rows are known as **keys**. *They should not be confused with **indexes***, as indexes are not a part of a table. Indexes are a mechanism for faster referencing, resulting in faster execution of queries. Keys are the logical links and relationships between tables."
   ]
  },
  {
   "cell_type": "markdown",
   "metadata": {
    "cell_style": "center"
   },
   "source": [
    "##### Primary key"
   ]
  },
  {
   "cell_type": "markdown",
   "metadata": {
    "cell_style": "center"
   },
   "source": [
    "A **primary key** is a column (or combination of columns) designated to uniquely identify all table records. *It must contain a unique value for each row*. It is either an existing table column or a column that is specifically generated by the database according to a defined sequence (usually just a simple counter incrementing by one). A primary key column cannot contain empty values. A table can only have ***one*** primary key. \n",
    "\n",
    "While tables should have a unique identifier, many databases do not strictly enforce this."
   ]
  },
  {
   "cell_type": "markdown",
   "metadata": {
    "cell_style": "center"
   },
   "source": [
    "##### Foreign key"
   ]
  },
  {
   "cell_type": "markdown",
   "metadata": {
    "cell_style": "center"
   },
   "source": [
    "A **foreign key** is a column (column, or collection of columns) in one table that uniquely identifies a row of another table. The foreign key is defined in a second table, but it refers to the primary key in the first table. A foreign key in one table points to a primary key in another table.\n",
    "\n",
    "If done correctly, the link between the primary key and the foreign key will always be maintained, so your database will never be left with orphaned records in the table. The purpose of a foreign key is to predictably reconstruct records split across tables via joins. \n",
    "\n",
    "For example, a store receipt connects a sale with at least three foreign keys.\n",
    "* an identifier for the seller \n",
    "* an item/inventory identifier\n",
    "* a transaction identifier\n",
    "\n",
    "These would be the same foreign keys required for processing a refund."
   ]
  },
  {
   "cell_type": "markdown",
   "metadata": {},
   "source": [
    "#### Database table relationships"
   ]
  },
  {
   "cell_type": "markdown",
   "metadata": {},
   "source": [
    "Keys direct how joins form between records, but aside from Primary and Foreign keys, attributes can reference other tables without needing to be unique. As a consequence, a few types of relationships are possible between referencing and referenced tables.\n",
    "\n",
    "| **Relationship Type** | **Description** |\n",
    "| ---: | :--- |\n",
    "| 1-to-1 | This relationship implies a unique link between tables such that two matching records do not match with any other record. Thus the reference is unique.|\n",
    "| One-to-Many | A record can match many records, not just one. Thus the reference is not unique. |\n",
    "| Many-to-Many | A record can match any number of records and vice versa. |\n",
    "\n",
    "Knowing the relationship between tables gives insight on how quickly queries can be answered. This is information that is not necessarily present in a schema, and must be teased out through analysis of not only the database, but the domain it is being used in."
   ]
  },
  {
   "cell_type": "markdown",
   "metadata": {
    "cell_style": "center"
   },
   "source": [
    "### Relational vs. non-relational databases"
   ]
  },
  {
   "cell_type": "markdown",
   "metadata": {},
   "source": [
    "Now that we learned the basics of a relational database system and familiarized ourselves with the concepts of a database schema, tables, and keys, let's take a look one more time at the differences between relational and non-relational databases."
   ]
  },
  {
   "cell_type": "markdown",
   "metadata": {
    "cell_style": "center"
   },
   "source": [
    "| Relational Databases | Non-Relational Databases |\n",
    "| :---: | :---: |\n",
    "|Data organized in tables and columns| \"NoSQL\" databases like MongoDB, don’t require designing data relations (no need for a data model) |\n",
    "|Have a concept of primary and foreign keys| Used as a \"data store\" for data than can change daily |\n",
    "|Mature technology (ORACLE, SQL Server, MySQL, etc.) | Used in big data and real-time web applications |\n",
    "| Work well for data with predefined structure | Many varieties such as key-value, document, graph |\n",
    "|   |Great for analytics (i.e. select customers who regularly spend in a certain category) |  \n",
    "\n",
    "Historically, NoSQL (non-relational) databases are older than relational databases. Older databases tended to be hierarchical databases. The key difference between relational databases and NoSQL, can be boiled down to the data structure used to underly the storage mechanism. In most cases, they will be one of the following.\n",
    "\n",
    "* key-value-pairs\n",
    "* lists\n",
    "* trees\n",
    "* networks / graphs"
   ]
  },
  {
   "cell_type": "markdown",
   "metadata": {
    "cell_style": "center"
   },
   "source": [
    "### Motivation"
   ]
  },
  {
   "cell_type": "markdown",
   "metadata": {
    "cell_style": "center"
   },
   "source": [
    "Now that we are aware of the history surrounding the technology, we can begin to understand why the technology has grown in adoption and usage."
   ]
  },
  {
   "cell_type": "markdown",
   "metadata": {
    "cell_style": "center"
   },
   "source": [
    "#### What is SQL?"
   ]
  },
  {
   "cell_type": "markdown",
   "metadata": {
    "cell_style": "center"
   },
   "source": [
    "**Structured Query Language (SQL)** is a standard language for accessing and manipulating databases. It is used to update / create / delete  databases, execute queries, and manage data access permissions, similar to how file permissions restrict usage of files.\n",
    "\n",
    "SQL is an ANSI (American National Standards Institute) standard and was initially designed for relational database management systems. Initially developed at IBM by Donald Chamberlin and Raymond Boyce in the early 1970s, ANSI SQL works with most SQL databases.\n",
    "\n",
    "The term **SQL database** (as opposed to noSQL) most often refers to a **relational database**. As we discussed above, a relational database is simply a collection of **relations**. Relations are a list of **tuples** or records of equivalent length and types. Tuples contain attributes of primitive data types, such as strings, dates, and numbers. The most common implementation of a relation is a table.\n",
    "\n",
    "It is important to note that while relational databases are the most well-formalized type of database, they are not the oldest. The oldest databases are actually **key-value stores**. These are the database analogs of Maps and Dictionaries. This is largely due to the ease of implementing them with normal file systems. An example of such a database in modern times would be Amazon's *S3*, which is specifically meant for storing large files (i.e. videos), made accessible by a string identifier."
   ]
  },
  {
   "cell_type": "markdown",
   "metadata": {
    "cell_style": "center"
   },
   "source": [
    "#### Why should we learn SQL?"
   ]
  },
  {
   "cell_type": "markdown",
   "metadata": {
    "cell_style": "center"
   },
   "source": [
    "Databases are such a widespread and widely used technology that the reason to learn them often boils down to self-sufficiency. A major part of a Data Scientist’s work involves data retrieval and data preparation for analysis. As such, SQL is required knowledge for manipulation and retrieval of data.\n",
    "\n",
    "For analysis purposes, Big Data is easier to work with as relational databases. Often companies will create some sort of *layer* to the data that is structured into tables and views to help with data analysis even if data is stored in the non-relational database.\n",
    "\n",
    "| Who works with SQL? |\n",
    "| :---: |\n",
    "| Database Developers |\n",
    "| Database Administrators |\n",
    "| Business Analysts |\n",
    "| Programmers |\n",
    "| Web Developers |\n",
    "| Data Scientists |\n",
    "| Statisticians |\n",
    "| Analysts |\n",
    "\n",
    "Working in a team with any of the above listed colleagues (or anyone who needs to retrieve data in large batches) becomes smoother if a common technology is adopted or understood by all. SQL is a prime candidate for this. "
   ]
  },
  {
   "cell_type": "markdown",
   "metadata": {
    "cell_style": "center"
   },
   "source": [
    "#### What can SQL do?"
   ]
  },
  {
   "cell_type": "markdown",
   "metadata": {
    "cell_style": "center"
   },
   "source": [
    "Primary use cases for SQL are:"
   ]
  },
  {
   "cell_type": "markdown",
   "metadata": {
    "cell_style": "center"
   },
   "source": [
    "* Retrieve data which can then be used for further analysis. \n",
    "  * For example, a data scientists could retrieve sales data from a databases, and further analyse it using R, Python, or other tools\n",
    "* Join tables and views to create new tables and views\n",
    "* Create new data/records/tables/views\n",
    "* Drop data/records/tables/views\n",
    "* Insert, update, create, delete data/records/tables/views\n",
    "* Create/delete/update views\n",
    "* Set permissions on tables, procedures, views, etc.\n",
    "* Create stored procedures (this is used for automation and workflows)\n",
    "  * For example, we want to score customers on a monthly basis into segments (based on a model that we have developed)"
   ]
  },
  {
   "cell_type": "markdown",
   "metadata": {
    "cell_style": "center"
   },
   "source": [
    "SQL commands generally execute queries against databases. The most basic task is **querying**. You specify **from** to tell the program what table(s) to retrieve data from and give additional clauses like **where** and **select** to narrow down what you want."
   ]
  },
  {
   "cell_type": "markdown",
   "metadata": {
    "cell_style": "center"
   },
   "source": [
    "## SQL Basics"
   ]
  },
  {
   "cell_type": "markdown",
   "metadata": {
    "cell_style": "center"
   },
   "source": [
    "At this point, we've only covered the motivation behind using SQL and the benefits it brings, as well as some constraints that would motivate someone to avoid using it. Ultimately, the utility of the tool depends on the problem domain. In this section we will begin introducing **Structured Query Language (SQL)**. SQL can be broken up into three sub-languages:\n",
    "\n",
    "* a language for querying (immutable operations)\n",
    "* a language for specifying a schema (declarations)\n",
    "* a language for making changes (mutable operations)\n",
    "\n",
    "In this section we will cover only the language for querying. To avoid confusion, it should be noted that **Procedural SQL** is an extension to SQL. Procedural SQL adds looping, decision-flow, variables, and functions to regular SQL, making it almost equivalent to a regular programming language. While this is a very useful variant of SQL, it is not the focus here.\n",
    "\n",
    "For the remainder of this module, we'll explore SQL using the [Chinook database](https://github.com/lerocha/chinook-database), which represents a digital media store. The database contains sales and purchasing information of records and albums. The database's visual schema below shows keys, foreign keys, tables, and columns. The direction of the foreign key reference is shown with the direction of keys between tables. Primary keys are marked by key icons in the table columns. \n",
    "\n",
    "![Chinook Database Schema](http://lh4.ggpht.com/_oKo6zFhdD98/SWFPtyfHJFI/AAAAAAAAAMc/GdrlzeBNsZM/s800/ChinookDatabaseSchema1.1.png)\n",
    "\n",
    "**Picture 3:** Chinook database schema.\n",
    "\n",
    "**NOTE**: Chinook doesn't use different names for foreign keys. This is a design decision of the Chinook database and not a constraint of SQL."
   ]
  },
  {
   "cell_type": "markdown",
   "metadata": {
    "collapsed": true
   },
   "source": [
    "To practice SQL queries, we will use the [**SQLite**](https://www.sqlite.org/index.html), an open source full-featured SQL database engine. If you would like to learn more about SQLite after completing this module or have a specific question, you can check the [SQLite Documentation page](https://www.sqlite.org/docs.html).\n",
    "\n",
    "We demonstrate SQLite's capabilities using the Python database connector in the [`sqlite3` package](https://docs.python.org/3/library/sqlite3.html), which will help us to run SQL queries in SQLite database.\n",
    "\n",
    "In addition to familiar `pnadas` or `time` libraries, other libraries that we import below are:\n",
    "- `requests` - used to make web requests (i.e. download online files)\n",
    "- `os` - used for accessing operating system resources in a cross-platform compatible way\n",
    "- `shutil` - used for simple file manipulation (i.e. copying, moving, etc.)"
   ]
  },
  {
   "cell_type": "code",
   "execution_count": 1,
   "metadata": {},
   "outputs": [],
   "source": [
    "import requests\n",
    "import os\n",
    "import shutil\n",
    "import sqlite3\n",
    "import pandas as pd\n",
    "from time import sleep\n",
    "\n",
    "# Code for grabbing our sqlite file off the internet\n",
    "global dump\n",
    "\n",
    "\"\"\"\n",
    "Used to download the Chinook Database.\n",
    "\"\"\"\n",
    "def download_file():\n",
    "    global dump\n",
    "    url = \"https://github.com/lerocha/chinook-database/raw/master/ChinookDatabase/DataSources/Chinook_Sqlite.sqlite\"\n",
    "    dump = requests.get(url, stream=True).raw\n",
    "\n",
    "'''\n",
    "Used to save the downloaded Chinook Database into an sqlite database file.\n",
    "'''\n",
    "def save_file():\n",
    "    global dump\n",
    "    location = os.path.relpath(\"exampledb.sqlite\")\n",
    "    with open(\"exampledb.sqlite\", 'wb') as location:\n",
    "        shutil.copyfileobj(dump, location)\n",
    "    del dump"
   ]
  },
  {
   "cell_type": "code",
   "execution_count": 2,
   "metadata": {},
   "outputs": [],
   "source": [
    "\"\"\"\n",
    "This code snippet downloads the Chinook database, connects to it, and prepares for queries to be executed.\n",
    "\"\"\"\n",
    "# Grabbing copy of database\n",
    "download_file()\n",
    "# Saving copy of database to a local file\n",
    "save_file()\n",
    "# Create a connection object that represents a database    \n",
    "conn = sqlite3.connect(\"exampledb.sqlite\")\n",
    "# Once the connection to the database is opened, we create a Cursor object to execute queries\n",
    "c = conn.cursor()"
   ]
  },
  {
   "cell_type": "markdown",
   "metadata": {},
   "source": [
    "After you executed both code cells above, you should be able to find the file **`exampledb.sqlite`** on your system, in the same folder as this notebook. This is the SQLite database with Chinook schema."
   ]
  },
  {
   "cell_type": "markdown",
   "metadata": {},
   "source": [
    "### Queries"
   ]
  },
  {
   "cell_type": "markdown",
   "metadata": {},
   "source": [
    "The following SQL queries are the most common and essential SQL operations:\n",
    "\n",
    "```\n",
    "\tSELECT [grab the columns needed] \n",
    "\tFROM [tables/views]  \n",
    "\tWHERE [apply relevant conditions/filters]\n",
    "```\n",
    "\n",
    "The vast majority of simple queries can be completed in exactly the same manner as above using only these three clauses. However, even with more clauses and operations, the general form of queries stay relatively simple. The full form of a query is the following:\n",
    "\n",
    "```\n",
    "SELECT [columns/expression [, ...]]\n",
    "FROM [table [, more tables, ...]]\n",
    "WHERE [condition [, ...]]\n",
    "GROUP BY [columns/expression [, ...]]\n",
    "HAVING [condition [, ...]]\n",
    "ORDER BY [columns/expression [, ...]]\n",
    "LIMIT [# of rows with offset]\n",
    "```\n",
    "\n",
    "It's helpful to note that the actual execution order of the clauses is generally the same as presented above, with the exception of the `SELECT` clause which is usually executed last. Additionally, nothing is stopping a user from [nesting queries](https://dev.mysql.com/doc/refman/5.7/en/subqueries.html). Nested queries are used for building up more complex queries.\n",
    "\n",
    "* The `GROUP BY` and `HAVING` clauses are generally reserved for queries calculating aggregates, like statistical summaries (i.e. average, sum, count, etc.). With `GROUP BY` alone, aggregates can be retrieved via `SELECT`. `HAVING` allows selection of rows with those aggregate properties. \n",
    "  * For examples, `GROUP BY` can be used to obtain the aggregate of column 2 while grouping on column 1. But when invoked with `HAVING`, the actual row/record **having** the aggregate value specified, can be returned, not just the aggregate value.\n",
    "* `ORDER BY` applies a sort / ranking on returned records. Depending on the database, a sort can have multiple nested orderings (i.e. sort by column 1 and use column 2 for when column 1 holds duplicate values).\n",
    "* `LIMIT` forces queries to be fixed in size. This is useful for answering top-K queries, or for providing support for paging results as is the case in most web applications, such as the paging of search results. \n",
    "\n",
    "**NOTE**: All these statements will be further explained in this module.\n",
    "\n",
    "But first things first: How do we explore the database? How do we know what tables and attributes we have available to us? Normally, this information can be found using a command like `SHOW db_name` or `SELECT * FROM schema` in the **database management system** (DBMS) command shell prompt. SQLite, which we use here, does not support these commands. For SQLite, we can find tables by querying a schema table, **`sqlite_master`**."
   ]
  },
  {
   "cell_type": "code",
   "execution_count": 3,
   "metadata": {},
   "outputs": [
    {
     "data": {
      "text/plain": [
       "[('table',\n",
       "  'Album',\n",
       "  'Album',\n",
       "  2,\n",
       "  'CREATE TABLE [Album]\\n(\\n    [AlbumId] INTEGER  NOT NULL,\\n    [Title] NVARCHAR(160)  NOT NULL,\\n    [ArtistId] INTEGER  NOT NULL,\\n    CONSTRAINT [PK_Album] PRIMARY KEY  ([AlbumId]),\\n    FOREIGN KEY ([ArtistId]) REFERENCES [Artist] ([ArtistId]) \\n\\t\\tON DELETE NO ACTION ON UPDATE NO ACTION\\n)'),\n",
       " ('table',\n",
       "  'Artist',\n",
       "  'Artist',\n",
       "  3,\n",
       "  'CREATE TABLE [Artist]\\n(\\n    [ArtistId] INTEGER  NOT NULL,\\n    [Name] NVARCHAR(120),\\n    CONSTRAINT [PK_Artist] PRIMARY KEY  ([ArtistId])\\n)'),\n",
       " ('table',\n",
       "  'Customer',\n",
       "  'Customer',\n",
       "  4,\n",
       "  'CREATE TABLE [Customer]\\n(\\n    [CustomerId] INTEGER  NOT NULL,\\n    [FirstName] NVARCHAR(40)  NOT NULL,\\n    [LastName] NVARCHAR(20)  NOT NULL,\\n    [Company] NVARCHAR(80),\\n    [Address] NVARCHAR(70),\\n    [City] NVARCHAR(40),\\n    [State] NVARCHAR(40),\\n    [Country] NVARCHAR(40),\\n    [PostalCode] NVARCHAR(10),\\n    [Phone] NVARCHAR(24),\\n    [Fax] NVARCHAR(24),\\n    [Email] NVARCHAR(60)  NOT NULL,\\n    [SupportRepId] INTEGER,\\n    CONSTRAINT [PK_Customer] PRIMARY KEY  ([CustomerId]),\\n    FOREIGN KEY ([SupportRepId]) REFERENCES [Employee] ([EmployeeId]) \\n\\t\\tON DELETE NO ACTION ON UPDATE NO ACTION\\n)'),\n",
       " ('table',\n",
       "  'Employee',\n",
       "  'Employee',\n",
       "  7,\n",
       "  'CREATE TABLE [Employee]\\n(\\n    [EmployeeId] INTEGER  NOT NULL,\\n    [LastName] NVARCHAR(20)  NOT NULL,\\n    [FirstName] NVARCHAR(20)  NOT NULL,\\n    [Title] NVARCHAR(30),\\n    [ReportsTo] INTEGER,\\n    [BirthDate] DATETIME,\\n    [HireDate] DATETIME,\\n    [Address] NVARCHAR(70),\\n    [City] NVARCHAR(40),\\n    [State] NVARCHAR(40),\\n    [Country] NVARCHAR(40),\\n    [PostalCode] NVARCHAR(10),\\n    [Phone] NVARCHAR(24),\\n    [Fax] NVARCHAR(24),\\n    [Email] NVARCHAR(60),\\n    CONSTRAINT [PK_Employee] PRIMARY KEY  ([EmployeeId]),\\n    FOREIGN KEY ([ReportsTo]) REFERENCES [Employee] ([EmployeeId]) \\n\\t\\tON DELETE NO ACTION ON UPDATE NO ACTION\\n)'),\n",
       " ('table',\n",
       "  'Genre',\n",
       "  'Genre',\n",
       "  9,\n",
       "  'CREATE TABLE [Genre]\\n(\\n    [GenreId] INTEGER  NOT NULL,\\n    [Name] NVARCHAR(120),\\n    CONSTRAINT [PK_Genre] PRIMARY KEY  ([GenreId])\\n)')]"
      ]
     },
     "execution_count": 3,
     "metadata": {},
     "output_type": "execute_result"
    }
   ],
   "source": [
    "\"\"\"\n",
    "Querying the schema table, `sqlite_master`. We do this if we know nothing about the database.\n",
    "\n",
    "NOTE: `LIMIT 5` only returns 5 rows of the query output.\n",
    "NOTE: `SELECT *` selects all columns. We use this because we have no idea what the attributes \n",
    "are called for `sqlite_master`.\n",
    "\"\"\"\n",
    "c.execute(\"SELECT * FROM sqlite_master LIMIT 5;\")\n",
    "output = c.fetchall()\n",
    "output"
   ]
  },
  {
   "cell_type": "markdown",
   "metadata": {},
   "source": [
    "All data is returned as a list of tuples / rows / records. The rows contain the following information in the following tuple."
   ]
  },
  {
   "cell_type": "markdown",
   "metadata": {},
   "source": [
    "```\n",
    "('table',\n",
    "  'Album',\n",
    "  'Album',\n",
    "  2,\n",
    "  'CREATE TABLE [Album]\\n(\\n    [AlbumId] INTEGER  NOT NULL,\\n    [Title] NVARCHAR(160)  NOT NULL,\\n    [ArtistId] INTEGER  NOT NULL,\\n    CONSTRAINT [PK_Album] PRIMARY KEY  ([AlbumId]),\\n    FOREIGN KEY ([ArtistId]) REFERENCES [Artist] ([ArtistId]) \\n\\t\\tON DELETE NO ACTION ON UPDATE NO ACTION\\n)')\n",
    "```"
   ]
  },
  {
   "cell_type": "markdown",
   "metadata": {},
   "source": [
    "| ***Attribute*** | ***Description*** | ***Example*** |\n",
    "| ---: | :--- | :--- |\n",
    "| **type** | The type of resource being tracked by the schema. | `'table'` |\n",
    "| **name** | The name of the resource being tracked by the schema. The name field will be the name of the table. | `'Album'` |\n",
    "| **tbl_name** | The table being referenced by a resource. For tables this will be the same as name. This attribute is specifically for indexing of tables, which we will not be discussing and you will not be expected to know. | `'Album'` |\n",
    "| **rootpage** | This is simply a unique identifier. We will not be covering it in this module in details. | `2` |\n",
    "|**sql**| This is the original SQL statement used to create the resource (in this example, table `Album`). We will discuss the statements used here later in the module. | `'CREATE TABLE [Album]\\n(\\n    [AlbumId] INTEGER  NOT NULL,\\n    [Title] NVARCHAR(160)  NOT NULL,\\n    [ArtistId] INTEGER  NOT NULL,\\n    CONSTRAINT [PK_Album] PRIMARY KEY  ([AlbumId]),\\n    FOREIGN KEY ([ArtistId]) REFERENCES [Artist] ([ArtistId]) \\n\\t\\tON DELETE NO ACTION ON UPDATE NO ACTION\\n)'` |"
   ]
  },
  {
   "cell_type": "markdown",
   "metadata": {},
   "source": [
    "In order to retrieve *specific* attribute information, we need to find attribute information using either another schema table, or a DBMS specific addition to SQL. The attribute **type** gives us a hint that not only tables make up the schema. \n",
    "\n",
    "Luckily for us, SQLite has a `PRAGMA` command and `<type>_info()` functions (like many other popular databases, such as Oracle's MySQL)."
   ]
  },
  {
   "cell_type": "code",
   "execution_count": 4,
   "metadata": {},
   "outputs": [
    {
     "data": {
      "text/plain": [
       "[(0, 'type', 'text', 0, None, 0),\n",
       " (1, 'name', 'text', 0, None, 0),\n",
       " (2, 'tbl_name', 'text', 0, None, 0),\n",
       " (3, 'rootpage', 'integer', 0, None, 0),\n",
       " (4, 'sql', 'text', 0, None, 0)]"
      ]
     },
     "execution_count": 4,
     "metadata": {},
     "output_type": "execute_result"
    }
   ],
   "source": [
    "\"\"\"\n",
    "Finding additional schema information (in order to run queries on the `sqlite_master` table).\n",
    "\"\"\"\n",
    "c.execute(\"PRAGMA table_info('sqlite_master');\")\n",
    "output = c.fetchall()\n",
    "output"
   ]
  },
  {
   "cell_type": "markdown",
   "metadata": {},
   "source": [
    "The output of the `PRAGMA` statement above is a list of attributes for each column in the `sqlite_master` table. The attributes include: the column ID, column name, data type, whether or not the column can be NULL, and the default value for the column.\n",
    "\n",
    "We need to select further on the attribute `'type'` to further narrow our original query on the schema table."
   ]
  },
  {
   "cell_type": "code",
   "execution_count": 5,
   "metadata": {},
   "outputs": [
    {
     "data": {
      "text/plain": [
       "[('table',\n",
       "  'Album',\n",
       "  'Album',\n",
       "  2,\n",
       "  'CREATE TABLE [Album]\\n(\\n    [AlbumId] INTEGER  NOT NULL,\\n    [Title] NVARCHAR(160)  NOT NULL,\\n    [ArtistId] INTEGER  NOT NULL,\\n    CONSTRAINT [PK_Album] PRIMARY KEY  ([AlbumId]),\\n    FOREIGN KEY ([ArtistId]) REFERENCES [Artist] ([ArtistId]) \\n\\t\\tON DELETE NO ACTION ON UPDATE NO ACTION\\n)'),\n",
       " ('table',\n",
       "  'Artist',\n",
       "  'Artist',\n",
       "  3,\n",
       "  'CREATE TABLE [Artist]\\n(\\n    [ArtistId] INTEGER  NOT NULL,\\n    [Name] NVARCHAR(120),\\n    CONSTRAINT [PK_Artist] PRIMARY KEY  ([ArtistId])\\n)'),\n",
       " ('table',\n",
       "  'Customer',\n",
       "  'Customer',\n",
       "  4,\n",
       "  'CREATE TABLE [Customer]\\n(\\n    [CustomerId] INTEGER  NOT NULL,\\n    [FirstName] NVARCHAR(40)  NOT NULL,\\n    [LastName] NVARCHAR(20)  NOT NULL,\\n    [Company] NVARCHAR(80),\\n    [Address] NVARCHAR(70),\\n    [City] NVARCHAR(40),\\n    [State] NVARCHAR(40),\\n    [Country] NVARCHAR(40),\\n    [PostalCode] NVARCHAR(10),\\n    [Phone] NVARCHAR(24),\\n    [Fax] NVARCHAR(24),\\n    [Email] NVARCHAR(60)  NOT NULL,\\n    [SupportRepId] INTEGER,\\n    CONSTRAINT [PK_Customer] PRIMARY KEY  ([CustomerId]),\\n    FOREIGN KEY ([SupportRepId]) REFERENCES [Employee] ([EmployeeId]) \\n\\t\\tON DELETE NO ACTION ON UPDATE NO ACTION\\n)'),\n",
       " ('table',\n",
       "  'Employee',\n",
       "  'Employee',\n",
       "  7,\n",
       "  'CREATE TABLE [Employee]\\n(\\n    [EmployeeId] INTEGER  NOT NULL,\\n    [LastName] NVARCHAR(20)  NOT NULL,\\n    [FirstName] NVARCHAR(20)  NOT NULL,\\n    [Title] NVARCHAR(30),\\n    [ReportsTo] INTEGER,\\n    [BirthDate] DATETIME,\\n    [HireDate] DATETIME,\\n    [Address] NVARCHAR(70),\\n    [City] NVARCHAR(40),\\n    [State] NVARCHAR(40),\\n    [Country] NVARCHAR(40),\\n    [PostalCode] NVARCHAR(10),\\n    [Phone] NVARCHAR(24),\\n    [Fax] NVARCHAR(24),\\n    [Email] NVARCHAR(60),\\n    CONSTRAINT [PK_Employee] PRIMARY KEY  ([EmployeeId]),\\n    FOREIGN KEY ([ReportsTo]) REFERENCES [Employee] ([EmployeeId]) \\n\\t\\tON DELETE NO ACTION ON UPDATE NO ACTION\\n)'),\n",
       " ('table',\n",
       "  'Genre',\n",
       "  'Genre',\n",
       "  9,\n",
       "  'CREATE TABLE [Genre]\\n(\\n    [GenreId] INTEGER  NOT NULL,\\n    [Name] NVARCHAR(120),\\n    CONSTRAINT [PK_Genre] PRIMARY KEY  ([GenreId])\\n)')]"
      ]
     },
     "execution_count": 5,
     "metadata": {},
     "output_type": "execute_result"
    }
   ],
   "source": [
    "\"\"\"\n",
    "Query for grabbing only tables.\n",
    "\n",
    "NOTE: single quotes are for string values in SQLite. But this is a norm in SQL as well. \n",
    "Double-quotes... not always so. We suggest avoiding using double-quotes for SQL queries.\n",
    "\"\"\" \n",
    "c.execute(\"SELECT * FROM sqlite_master WHERE type = 'table' LIMIT 5;\")\n",
    "output = c.fetchall()\n",
    "output"
   ]
  },
  {
   "cell_type": "markdown",
   "metadata": {},
   "source": [
    "Now we have all SQLite specific commands needed to explore our database. But just in case, take a minute to reconcile our output with a visual schema of the Chinook database. Refer to the **Picture 3** above for the Chinook database schema diagram.\n",
    "\n",
    "For example, the very first table in our output is the `Album` table:\n",
    "\n",
    "```\n",
    "('table',\n",
    "  'Album',\n",
    "  'Album',\n",
    "  2,\n",
    "  'CREATE TABLE [Album]\\n(\\n    [AlbumId] INTEGER  NOT NULL,\\n    [Title] NVARCHAR(160)  NOT NULL,\\n    [ArtistId] INTEGER  NOT NULL,\\n    CONSTRAINT [PK_Album] PRIMARY KEY  ([AlbumId]),\\n    FOREIGN KEY ([ArtistId]) REFERENCES [Artist] ([ArtistId]) \\n\\t\\tON DELETE NO ACTION ON UPDATE NO ACTION\\n)')\n",
    "```\n",
    "\n",
    "We can see from this output that the table has the following three columns:\n",
    "- `AlbumId` is the primary key\n",
    "- `Title`\n",
    "- `ArtistId` is the foreign key which references the table `Artist`\n",
    "\n",
    "Now take a look at the diagram, find the table `Album`, and compare the visual representation with this output.\n",
    "\n",
    "Let's take a look at the first five rows of data in the `Album` table."
   ]
  },
  {
   "cell_type": "code",
   "execution_count": 6,
   "metadata": {},
   "outputs": [
    {
     "data": {
      "text/plain": [
       "[(1, 'For Those About To Rock We Salute You', 1),\n",
       " (2, 'Balls to the Wall', 2),\n",
       " (3, 'Restless and Wild', 2),\n",
       " (4, 'Let There Be Rock', 1),\n",
       " (5, 'Big Ones', 3)]"
      ]
     },
     "execution_count": 6,
     "metadata": {},
     "output_type": "execute_result"
    }
   ],
   "source": [
    "\"\"\"\n",
    "We now repeat the actions from before, but now for specific tables.\n",
    "Selecting 5 rows from the 'Album' table.\n",
    "\"\"\"\n",
    "# NOTE: SQLite is case insensitive. This is usually true for most database managment systems.\n",
    "c.execute(\"SELECT * FROM album limit 5;\")\n",
    "output = c.fetchall()\n",
    "output"
   ]
  },
  {
   "cell_type": "code",
   "execution_count": 7,
   "metadata": {},
   "outputs": [
    {
     "data": {
      "text/plain": [
       "[(0, 'AlbumId', 'INTEGER', 1, None, 1),\n",
       " (1, 'Title', 'NVARCHAR(160)', 1, None, 0),\n",
       " (2, 'ArtistId', 'INTEGER', 1, None, 0)]"
      ]
     },
     "execution_count": 7,
     "metadata": {},
     "output_type": "execute_result"
    }
   ],
   "source": [
    "\"\"\"\n",
    "Finding out what the attributes of the table are, so we can properly query it.\n",
    "\"\"\"\n",
    "# NOTE: Get used to checking table attribute names and types, if you don't have a document laying out \n",
    "#the schema tables and attributes.\n",
    "c.execute(\"PRAGMA table_info('album');\")\n",
    "output = c.fetchall()\n",
    "output"
   ]
  },
  {
   "cell_type": "code",
   "execution_count": 8,
   "metadata": {},
   "outputs": [
    {
     "data": {
      "text/plain": [
       "[(0, 'ArtistId', 'INTEGER', 1, None, 1),\n",
       " (1, 'Name', 'NVARCHAR(120)', 0, None, 0)]"
      ]
     },
     "execution_count": 8,
     "metadata": {},
     "output_type": "execute_result"
    }
   ],
   "source": [
    "\"\"\"\n",
    "Now we do the same for another table.\n",
    "\"\"\"\n",
    "# We can extract only what we want\n",
    "c.execute(\" PRAGMA table_info('artist');\")\n",
    "c.fetchall()"
   ]
  },
  {
   "cell_type": "code",
   "execution_count": 9,
   "metadata": {},
   "outputs": [
    {
     "data": {
      "text/plain": [
       "[(1, 'For Those About To Rock We Salute You', 1, 1, 'AC/DC'),\n",
       " (2, 'Balls to the Wall', 2, 2, 'Accept'),\n",
       " (3, 'Restless and Wild', 2, 2, 'Accept'),\n",
       " (4, 'Let There Be Rock', 1, 1, 'AC/DC'),\n",
       " (5, 'Big Ones', 3, 3, 'Aerosmith')]"
      ]
     },
     "execution_count": 9,
     "metadata": {},
     "output_type": "execute_result"
    }
   ],
   "source": [
    "\"\"\"\n",
    "Using a WHERE clause to do a Boolean equality check, we can now query both tables, \n",
    "but also force a join with an equality check, similar to pandas dataframes.\n",
    "We access attributes in a similar way as accessing the attributes of Python objects.\n",
    "i.e., obj.attr, tblName.attrName, etc.\n",
    "\"\"\"\n",
    "c.execute(\"SELECT * FROM Album, Artist WHERE Album.ArtistID = Artist.ArtistID LIMIT 5;\")\n",
    "c.fetchall()"
   ]
  },
  {
   "cell_type": "code",
   "execution_count": 10,
   "metadata": {},
   "outputs": [
    {
     "data": {
      "text/plain": [
       "[('For Those About To Rock We Salute You', 'AC/DC'),\n",
       " ('Balls to the Wall', 'Accept'),\n",
       " ('Restless and Wild', 'Accept'),\n",
       " ('Let There Be Rock', 'AC/DC'),\n",
       " ('Big Ones', 'Aerosmith')]"
      ]
     },
     "execution_count": 10,
     "metadata": {},
     "output_type": "execute_result"
    }
   ],
   "source": [
    "\"\"\"\n",
    "Having the attribute names of both tables, we're now able to select only the columns we want.\n",
    "The query below essentially joins album titles with their artists.\n",
    "\"\"\"\n",
    "c.execute(\"SELECT Album.Title, Artist.Name FROM Album, Artist WHERE Album.ArtistID = Artist.ArtistID LIMIT 5;\")\n",
    "c.fetchall()"
   ]
  },
  {
   "cell_type": "markdown",
   "metadata": {},
   "source": [
    "We've just demonstrated how **join-select-project** (collectively, the most common operations) are used for reconstructing records (i.e., `SELECT ... FROM ... WHERE ...;`). \n",
    "But we are able to go further. Suppose a music agency's manager had to report on their companies top performers using the metric of albums released per artist. As seen above, we've already linked the relevent tables, `Album` and `Artist`. All that's left is to do the following.\n",
    "\n",
    "1. calculate performance metrics by tallying number of  albums by artist\n",
    "2. rank by performance\n",
    "3. retrieve the top-k performers\n",
    "\n",
    "This can all be done in one query."
   ]
  },
  {
   "cell_type": "code",
   "execution_count": 11,
   "metadata": {},
   "outputs": [
    {
     "data": {
      "text/plain": [
       "[('Iron Maiden', 21),\n",
       " ('Led Zeppelin', 14),\n",
       " ('Deep Purple', 11),\n",
       " ('Metallica', 10),\n",
       " ('U2', 10),\n",
       " ('Ozzy Osbourne', 6),\n",
       " ('Pearl Jam', 5),\n",
       " ('Various Artists', 4),\n",
       " ('Faith No More', 4),\n",
       " ('Foo Fighters', 4)]"
      ]
     },
     "execution_count": 11,
     "metadata": {},
     "output_type": "execute_result"
    }
   ],
   "source": [
    "c.execute(\" \" +\n",
    "          # NOTE: SELECT is executed last. So COUNT is in the context of a grouping, not the table\n",
    "          \"SELECT Artist.Name, COUNT(Album.AlbumID) AS performance \" + \n",
    "          \"FROM Album, Artist \" +\n",
    "          \"WHERE Album.ArtistID = Artist.ArtistID \" +\n",
    "          # Grouping by artists means we partition the table into containers for each artist\n",
    "          \"GROUP BY Artist.ArtistID \" +\n",
    "          # Each of those containers has a count aggregate computed. \n",
    "          #Note: this is actually unncessary for the query, we're just being thorough.\n",
    "          \"HAVING COUNT(Album.AlbumID)\" +\n",
    "          # Each container is sorted (not the row contents of the containers, but the actual containers/groupings)\n",
    "          \"ORDER BY COUNT(Album.AlbumID) DESC \" +\n",
    "          # We then limit by groupings / containers\n",
    "          \"LIMIT 10 \"+\n",
    "          # Remember: SELECT is executed last. So it is in the context of containers / groupings. \n",
    "          #Technically, Groupings always exist. By default, all records will be in one grouping unless \n",
    "          #otherwise specified.\n",
    "          \";\")\n",
    "\n",
    "c.fetchall()"
   ]
  },
  {
   "cell_type": "markdown",
   "metadata": {},
   "source": [
    "#### **EXERCISE 1:** Basic SQL queries"
   ]
  },
  {
   "cell_type": "markdown",
   "metadata": {},
   "source": [
    "For this exercise, we will look into the `Invoice` table. This tables contains data of all purchases by the store's customers. Let's take a quick look at the structure of the table so that we know what columns we can use in our queries:"
   ]
  },
  {
   "cell_type": "code",
   "execution_count": 12,
   "metadata": {},
   "outputs": [
    {
     "data": {
      "text/plain": [
       "[(0, 'InvoiceId', 'INTEGER', 1, None, 1),\n",
       " (1, 'CustomerId', 'INTEGER', 1, None, 0),\n",
       " (2, 'InvoiceDate', 'DATETIME', 1, None, 0),\n",
       " (3, 'BillingAddress', 'NVARCHAR(70)', 0, None, 0),\n",
       " (4, 'BillingCity', 'NVARCHAR(40)', 0, None, 0),\n",
       " (5, 'BillingState', 'NVARCHAR(40)', 0, None, 0),\n",
       " (6, 'BillingCountry', 'NVARCHAR(40)', 0, None, 0),\n",
       " (7, 'BillingPostalCode', 'NVARCHAR(10)', 0, None, 0),\n",
       " (8, 'Total', 'NUMERIC(10,2)', 1, None, 0)]"
      ]
     },
     "execution_count": 12,
     "metadata": {},
     "output_type": "execute_result"
    }
   ],
   "source": [
    "c.execute(\"PRAGMA table_info('Invoice');\")\n",
    "c.fetchall()"
   ]
  },
  {
   "cell_type": "markdown",
   "metadata": {},
   "source": [
    "**Task 1:** Let's start with the basic `SELECT` statements. Select first 5 rows from the `Invoice` table, all columns. To understand the output, compare the values with the table schema above."
   ]
  },
  {
   "cell_type": "code",
   "execution_count": null,
   "metadata": {
    "collapsed": true
   },
   "outputs": [],
   "source": [
    "# Type your code here:\n"
   ]
  },
  {
   "cell_type": "code",
   "execution_count": null,
   "metadata": {
    "collapsed": true
   },
   "outputs": [],
   "source": []
  },
  {
   "cell_type": "markdown",
   "metadata": {},
   "source": [
    "**Task 2:** In this task, calculate the number of invoices where the amount of the invoice (`Total`) greater than $5. The output should display the name of the country (`BillingCountry`) and the number of invoices."
   ]
  },
  {
   "cell_type": "code",
   "execution_count": null,
   "metadata": {
    "collapsed": true
   },
   "outputs": [],
   "source": [
    "# Type your code here:"
   ]
  },
  {
   "cell_type": "code",
   "execution_count": null,
   "metadata": {
    "collapsed": true
   },
   "outputs": [],
   "source": []
  },
  {
   "cell_type": "code",
   "execution_count": null,
   "metadata": {
    "collapsed": true
   },
   "outputs": [],
   "source": []
  },
  {
   "cell_type": "markdown",
   "metadata": {},
   "source": [
    "**Task 3:** Instead of the number of invoices where the amount of the invoice is greater than $5, let's calculate the total amount for all such invoices per country."
   ]
  },
  {
   "cell_type": "code",
   "execution_count": null,
   "metadata": {
    "collapsed": true
   },
   "outputs": [],
   "source": [
    "# Type your code here:"
   ]
  },
  {
   "cell_type": "code",
   "execution_count": null,
   "metadata": {
    "collapsed": true
   },
   "outputs": [],
   "source": []
  },
  {
   "cell_type": "code",
   "execution_count": null,
   "metadata": {
    "collapsed": true
   },
   "outputs": [],
   "source": []
  },
  {
   "cell_type": "code",
   "execution_count": null,
   "metadata": {
    "collapsed": true
   },
   "outputs": [],
   "source": []
  },
  {
   "cell_type": "markdown",
   "metadata": {},
   "source": [
    "**Solutions:**"
   ]
  },
  {
   "cell_type": "markdown",
   "metadata": {},
   "source": [
    "**Task 1:** This is a very basic `SELECT` statement to return the first 5 rows of data, all (**`*`**) columns: "
   ]
  },
  {
   "cell_type": "code",
   "execution_count": 13,
   "metadata": {},
   "outputs": [
    {
     "data": {
      "text/plain": [
       "[(1,\n",
       "  2,\n",
       "  '2009-01-01 00:00:00',\n",
       "  'Theodor-Heuss-Straße 34',\n",
       "  'Stuttgart',\n",
       "  None,\n",
       "  'Germany',\n",
       "  '70174',\n",
       "  1.98),\n",
       " (2,\n",
       "  4,\n",
       "  '2009-01-02 00:00:00',\n",
       "  'Ullevålsveien 14',\n",
       "  'Oslo',\n",
       "  None,\n",
       "  'Norway',\n",
       "  '0171',\n",
       "  3.96),\n",
       " (3,\n",
       "  8,\n",
       "  '2009-01-03 00:00:00',\n",
       "  'Grétrystraat 63',\n",
       "  'Brussels',\n",
       "  None,\n",
       "  'Belgium',\n",
       "  '1000',\n",
       "  5.94),\n",
       " (4,\n",
       "  14,\n",
       "  '2009-01-06 00:00:00',\n",
       "  '8210 111 ST NW',\n",
       "  'Edmonton',\n",
       "  'AB',\n",
       "  'Canada',\n",
       "  'T6G 2C7',\n",
       "  8.91),\n",
       " (5,\n",
       "  23,\n",
       "  '2009-01-11 00:00:00',\n",
       "  '69 Salem Street',\n",
       "  'Boston',\n",
       "  'MA',\n",
       "  'USA',\n",
       "  '2113',\n",
       "  13.86)]"
      ]
     },
     "execution_count": 13,
     "metadata": {},
     "output_type": "execute_result"
    }
   ],
   "source": [
    "c.execute(\"SELECT * from Invoice LIMIT 5;\")\n",
    "c.fetchall()"
   ]
  },
  {
   "cell_type": "markdown",
   "metadata": {},
   "source": [
    "**Task 2:** The statement below will return a list of countries with the corresponding count of the invoices with `Total` greater than $5.0."
   ]
  },
  {
   "cell_type": "code",
   "execution_count": 14,
   "metadata": {},
   "outputs": [
    {
     "data": {
      "text/plain": [
       "[('Argentina', 3),\n",
       " ('Australia', 3),\n",
       " ('Austria', 3),\n",
       " ('Belgium', 3),\n",
       " ('Brazil', 15),\n",
       " ('Canada', 24),\n",
       " ('Chile', 3),\n",
       " ('Czech Republic', 6),\n",
       " ('Denmark', 3),\n",
       " ('Finland', 4),\n",
       " ('France', 15),\n",
       " ('Germany', 12),\n",
       " ('Hungary', 3),\n",
       " ('India', 6),\n",
       " ('Ireland', 3),\n",
       " ('Italy', 3),\n",
       " ('Netherlands', 3),\n",
       " ('Norway', 3),\n",
       " ('Poland', 3),\n",
       " ('Portugal', 6),\n",
       " ('Spain', 3),\n",
       " ('Sweden', 3),\n",
       " ('USA', 40),\n",
       " ('United Kingdom', 9)]"
      ]
     },
     "execution_count": 14,
     "metadata": {},
     "output_type": "execute_result"
    }
   ],
   "source": [
    "c.execute(\"SELECT BillingCountry, COUNT(Total) from Invoice WHERE Total > 5.0 GROUP BY BillingCountry;\")\n",
    "c.fetchall()"
   ]
  },
  {
   "cell_type": "markdown",
   "metadata": {},
   "source": [
    "**Task 3:** For this task, we simply replace `COUNT()` with `SUM()`. We also add the `ORDER BY` statement to sort the results in the descending order to see the countries that spent the most at the top of the list:"
   ]
  },
  {
   "cell_type": "code",
   "execution_count": 15,
   "metadata": {},
   "outputs": [
    {
     "data": {
      "text/plain": [
       "[('USA', 406.19000000000017),\n",
       " ('Canada', 230.67999999999995),\n",
       " ('France', 146.54999999999998),\n",
       " ('Brazil', 143.54999999999998),\n",
       " ('Germany', 120.83999999999997),\n",
       " ('United Kingdom', 86.13),\n",
       " ('Czech Republic', 72.42),\n",
       " ('Portugal', 59.42),\n",
       " ('India', 57.42),\n",
       " ('Chile', 37.71),\n",
       " ('Hungary', 36.71),\n",
       " ('Ireland', 36.71),\n",
       " ('Finland', 36.67),\n",
       " ('Austria', 33.71),\n",
       " ('Netherlands', 31.71),\n",
       " ('Norway', 30.71),\n",
       " ('Sweden', 29.71),\n",
       " ('Argentina', 28.71),\n",
       " ('Australia', 28.71),\n",
       " ('Belgium', 28.71),\n",
       " ('Denmark', 28.71),\n",
       " ('Italy', 28.71),\n",
       " ('Poland', 28.71),\n",
       " ('Spain', 28.71)]"
      ]
     },
     "execution_count": 15,
     "metadata": {},
     "output_type": "execute_result"
    }
   ],
   "source": [
    "c.execute(\"SELECT BillingCountry, SUM(Total) from Invoice WHERE Total > 5 \\\n",
    "          GROUP BY BillingCountry ORDER BY SUM(Total) DESC;\")\n",
    "c.fetchall()"
   ]
  },
  {
   "cell_type": "code",
   "execution_count": 16,
   "metadata": {},
   "outputs": [
    {
     "data": {
      "text/plain": [
       "[('USA', 406.2),\n",
       " ('Canada', 230.7),\n",
       " ('France', 146.5),\n",
       " ('Brazil', 143.5),\n",
       " ('Germany', 120.8),\n",
       " ('United Kingdom', 86.1),\n",
       " ('Czech Republic', 72.4),\n",
       " ('Portugal', 59.4),\n",
       " ('India', 57.4),\n",
       " ('Chile', 37.7),\n",
       " ('Hungary', 36.7),\n",
       " ('Ireland', 36.7),\n",
       " ('Finland', 36.7),\n",
       " ('Austria', 33.7),\n",
       " ('Netherlands', 31.7),\n",
       " ('Norway', 30.7),\n",
       " ('Sweden', 29.7),\n",
       " ('Argentina', 28.7),\n",
       " ('Australia', 28.7),\n",
       " ('Belgium', 28.7),\n",
       " ('Denmark', 28.7),\n",
       " ('Italy', 28.7),\n",
       " ('Poland', 28.7),\n",
       " ('Spain', 28.7)]"
      ]
     },
     "execution_count": 16,
     "metadata": {},
     "output_type": "execute_result"
    }
   ],
   "source": [
    "# We can round the calculated amounts to one floating-point value to the right of the decimal point\n",
    "\n",
    "c.execute(\"SELECT BillingCountry, ROUND(SUM(Total),1) from Invoice WHERE Total > 5 \\\n",
    "          GROUP BY BillingCountry ORDER BY SUM(Total) DESC;\")\n",
    "c.fetchall()"
   ]
  },
  {
   "cell_type": "markdown",
   "metadata": {},
   "source": [
    "---\n",
    "\n",
    "This notebook makes up one part of this module. Now that you have completed this part, please proceed to the next notebook in this module.\n",
    "\n",
    "If you have any questions, please reach out to your peers using the discussion boards. If you and your peers are unable to come to a suitable conclusion, do not hesitate to reach out to your instructor on the designated discussion board.\n",
    "\n",
    "---"
   ]
  },
  {
   "cell_type": "markdown",
   "metadata": {},
   "source": [
    "## References\n",
    "\n",
    "\n",
    "Silberschatz, A., Korth, H.F., & Sudarshan, S. (2010) [_Database System Concepts_](https://books.google.ca/books?id=oKXEoAEACAAJ). McGraw Hill Higher Education.\n",
    "\n",
    "International team of developers. (2018). *SQLite Version 3.24.0 (2018-06-04)*. Retrieved from [https://www.sqlite.org/index.html](https://www.sqlite.org/index.html)\n",
    "\n",
    "Python Documentation (2018). *The Python Standard Library. 12.6. sqlite3*. Retrieved from [https://docs.python.org/3/library/sqlite3.html](https://docs.python.org/3/library/sqlite3.html)\n",
    "\n",
    "\n",
    "Wikipedia, The Free Encyclopedia (2018). Article _Star schema_. Retrieved from [https://en.wikipedia.org/wiki/Star_schema](https://en.wikipedia.org/wiki/Star_schema).\n",
    "\n",
    "Wikipedia, The Free Encyclopedia (2018). Article _Snowflake schema_. Retrieved from [https://en.wikipedia.org/wiki/Snowflake_schema](https://en.wikipedia.org/wiki/Snowflake_schema).\n",
    "\n",
    "Rocha, L., (2012). *Chinook Database:* Sample database for SQL Server, Oracle, MySQL, PostgreSQL, SQLite, DB2. Retrieved from [https://github.com/lerocha/chinook-database](https://github.com/lerocha/chinook-database)\n",
    "\n",
    "Oracle, (2011). MySQL 5.7 Reference Manual, *13.2.10 Subquery Syntax*. Retrieved from [https://dev.mysql.com/doc/refman/5.7/en/subqueries.html](https://dev.mysql.com/doc/refman/5.7/en/subqueries.html)\n"
   ]
  },
  {
   "cell_type": "code",
   "execution_count": null,
   "metadata": {},
   "outputs": [],
   "source": []
  }
 ],
 "metadata": {
  "anaconda-cloud": {},
  "kernelspec": {
   "display_name": "Python 3",
   "language": "python",
   "name": "python3"
  },
  "language_info": {
   "codemirror_mode": {
    "name": "ipython",
    "version": 3
   },
   "file_extension": ".py",
   "mimetype": "text/x-python",
   "name": "python",
   "nbconvert_exporter": "python",
   "pygments_lexer": "ipython3",
   "version": "3.6.0"
  },
  "latex_envs": {
   "LaTeX_envs_menu_present": true,
   "autoclose": false,
   "autocomplete": false,
   "bibliofile": "biblio.bib",
   "cite_by": "apalike",
   "current_citInitial": 1,
   "eqLabelWithNumbers": true,
   "eqNumInitial": 1,
   "hotkeys": {
    "equation": "Ctrl-E",
    "itemize": "Ctrl-I"
   },
   "labels_anchors": true,
   "latex_user_defs": false,
   "report_style_numbering": false,
   "user_envs_cfg": false
  },
  "nbTranslate": {
   "displayLangs": [
    "en"
   ],
   "hotkey": "alt-t",
   "langInMainMenu": true,
   "sourceLang": "en",
   "targetLang": "fr",
   "useGoogleTranslate": true
  },
  "toc": {
   "base_numbering": 1,
   "nav_menu": {},
   "number_sections": true,
   "sideBar": true,
   "skip_h1_title": true,
   "title_cell": "Table of Contents",
   "title_sidebar": "Table of Contents",
   "toc_cell": true,
   "toc_position": {
    "height": "calc(100% - 180px)",
    "left": "10px",
    "top": "150px",
    "width": "281px"
   },
   "toc_section_display": true,
   "toc_window_display": true
  },
  "varInspector": {
   "cols": {
    "lenName": 16,
    "lenType": 16,
    "lenVar": 40
   },
   "kernels_config": {
    "python": {
     "delete_cmd_postfix": "",
     "delete_cmd_prefix": "del ",
     "library": "var_list.py",
     "varRefreshCmd": "print(var_dic_list())"
    },
    "r": {
     "delete_cmd_postfix": ") ",
     "delete_cmd_prefix": "rm(",
     "library": "var_list.r",
     "varRefreshCmd": "cat(var_dic_list()) "
    }
   },
   "position": {
    "height": "1097px",
    "left": "2190px",
    "right": "20px",
    "top": "120px",
    "width": "337px"
   },
   "types_to_exclude": [
    "module",
    "function",
    "builtin_function_or_method",
    "instance",
    "_Feature"
   ],
   "window_display": false
  }
 },
 "nbformat": 4,
 "nbformat_minor": 2
}
