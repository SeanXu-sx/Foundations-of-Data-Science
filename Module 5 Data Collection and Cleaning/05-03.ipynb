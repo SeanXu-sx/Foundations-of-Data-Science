{
 "cells": [
  {
   "cell_type": "markdown",
   "metadata": {},
   "source": [
    "# Module 5: Data Collection & Cleaning Part 3"
   ]
  },
  {
   "cell_type": "markdown",
   "metadata": {},
   "source": [
    "This module consists of 3 parts.\n",
    "\n",
    "* Part 1 - Data Sources\n",
    "* Part 2 - Web Scraping\n",
    "* Part 3 - Data Preparation\n",
    "\n",
    "Each part is provided in a separate file. It is recommended that you follow the order of the files."
   ]
  },
  {
   "cell_type": "markdown",
   "metadata": {},
   "source": [
    "## Data Preparation \n",
    "\n",
    "Once data has been collected, it must be prepared prior to an analysis. In this section we cover how to go about preparing data for an analysis. Preparation includes the following.\n",
    "\n",
    "* Cleaning data\n",
    "* Handling missing data\n",
    "* Transforming data into meaningful indicators and measures\n",
    "\n",
    "\n",
    "### Tidy Data Makes It Easier\n",
    "\n",
    "**Tidy Data** (Wickham, 2014) is the concept of a standard way of mapping the meaning of a dataset to its structure. A dataset is messy or tidy depending on how rows, columns and tables align with observations,\n",
    "variables and types. We begin by defining what clean data actually means.\n",
    "\n",
    "#### Tidy Data\n",
    "\n",
    "In tidy data the following standardization applies.\n",
    "\n",
    "* Each dataset column represents one variable.\n",
    "* Each observation forms a row.\n",
    "* Each type of observational unit forms a table.\n",
    "\n",
    "In this module, the focus is put on a single dataset rather than the many connected datasets common in relational databases. By definition, *Messy data* is any other arrangement of the data.\n",
    "\n",
    "Tidy data eases variable extraction because of the standardized structure of the dataset. In tidy data,  each row represents an observation. It is the result of one treatment across all observations. Each column is a variable. For messy data, you need to use different strategies to extract different variables, slowing analysis and introducing errors. If you consider how many data analysis operations involve all of the values in a variable (i.e., every aggregation function for calculating statistical summaries), then the importance of simplified extraction becomes apparent. Tidy data is suited for vectorized programming (like the `pandas` library), because the layout ensures paired values across variables for an observation.\n",
    "\n",
    "One way of organizing variables is by their role or use in the analysis. For example, is the variable for indexing the observation (i.e., treatment type, observation time stamp), or is it an actual measured value of the observation? **Measured variables** are what we actually measure in an experiment. Indexes should come first, followed by measured variables, each ordered so that related variables are grouped together.\n",
    "\n",
    "#### Tidying Messy Datasets\n",
    "\n",
    "Real datasets are often not tidy. In this section we describe the most common problems\n",
    "with messy data.\n",
    "\n",
    "* Column headers are values, not variable names.\n",
    "* Multiple variables are stored in one column.\n",
    "* Variables are stored in both rows and columns.\n",
    "* Multiple types of observational units are stored in the same table.\n",
    "* A single observational unit is stored in multiple tables.\n",
    "\n",
    "Most messy datasets can be tidied with a small set of tools. The following subsections illustrate each problem and show how to tidy them.\n",
    "\n",
    "#### Column headers as values\n",
    "\n",
    "Most messy datasets are tabular data designed for presentation. Variables will form both the rows and columns, and column headers are values rather than variable names.\n",
    "\n",
    "In these situations, we need to turn columns into rows. In most software packages, this is known as a *reshaping* but more precisely known as *melting*. This operation simply introduces two new variables, while removing the columns converted into rows. One new variable holds the column header values as its range of values. The other new variable holds the value for that observation and where the first new variable has the appropriate column header as its value. Or to be more concise, multiple columns are converted into two columns which act as key-value pairs. \n",
    "\n",
    "![Reshape Operation](https://cdn-images-1.medium.com/max/1600/1*UUYfreWsYZRpeQ3AF6aESQ.png)\n",
    "\n",
    "A common use of this messy data format is to record observations over time (i.e., converting multiple columns specific to different time steps into two columns). Keeping the messy format reduces duplication because each time step would need its own row, and observation metadata would repeat over multiple rows for one observation."
   ]
  },
  {
   "cell_type": "code",
   "execution_count": 1,
   "metadata": {
    "run_control": {
     "marked": false
    }
   },
   "outputs": [],
   "source": [
    "# Setup code and importing libraries\n",
    "from bs4 import BeautifulSoup\n",
    "import numpy as np\n",
    "import pandas as pd\n",
    "import re as re\n",
    "np.random.seed(12345)\n",
    "import matplotlib.pyplot as plt\n",
    "plt.rc('figure', figsize=(10, 6))\n",
    "np.set_printoptions(precision=4, suppress=True)\n",
    "pd.options.display.max_rows = 6"
   ]
  },
  {
   "cell_type": "code",
   "execution_count": 2,
   "metadata": {},
   "outputs": [
    {
     "data": {
      "text/html": [
       "<div>\n",
       "<style scoped>\n",
       "    .dataframe tbody tr th:only-of-type {\n",
       "        vertical-align: middle;\n",
       "    }\n",
       "\n",
       "    .dataframe tbody tr th {\n",
       "        vertical-align: top;\n",
       "    }\n",
       "\n",
       "    .dataframe thead th {\n",
       "        text-align: right;\n",
       "    }\n",
       "</style>\n",
       "<table border=\"1\" class=\"dataframe\">\n",
       "  <thead>\n",
       "    <tr style=\"text-align: right;\">\n",
       "      <th></th>\n",
       "      <th>religion</th>\n",
       "      <th>&lt;$10k</th>\n",
       "      <th>$10-20k</th>\n",
       "      <th>$20-30k</th>\n",
       "      <th>$30-40k</th>\n",
       "      <th>$40-50k</th>\n",
       "      <th>$50-75k</th>\n",
       "      <th>$75-100k</th>\n",
       "      <th>$100-150k</th>\n",
       "      <th>&gt;150k</th>\n",
       "      <th>Don't know/refused</th>\n",
       "    </tr>\n",
       "  </thead>\n",
       "  <tbody>\n",
       "    <tr>\n",
       "      <th>0</th>\n",
       "      <td>Agnostic</td>\n",
       "      <td>27</td>\n",
       "      <td>34</td>\n",
       "      <td>60</td>\n",
       "      <td>81</td>\n",
       "      <td>76</td>\n",
       "      <td>137</td>\n",
       "      <td>122</td>\n",
       "      <td>109</td>\n",
       "      <td>84</td>\n",
       "      <td>96</td>\n",
       "    </tr>\n",
       "    <tr>\n",
       "      <th>1</th>\n",
       "      <td>Atheist</td>\n",
       "      <td>12</td>\n",
       "      <td>27</td>\n",
       "      <td>37</td>\n",
       "      <td>52</td>\n",
       "      <td>35</td>\n",
       "      <td>70</td>\n",
       "      <td>73</td>\n",
       "      <td>59</td>\n",
       "      <td>74</td>\n",
       "      <td>76</td>\n",
       "    </tr>\n",
       "    <tr>\n",
       "      <th>2</th>\n",
       "      <td>Buddhist</td>\n",
       "      <td>27</td>\n",
       "      <td>21</td>\n",
       "      <td>30</td>\n",
       "      <td>34</td>\n",
       "      <td>33</td>\n",
       "      <td>58</td>\n",
       "      <td>62</td>\n",
       "      <td>39</td>\n",
       "      <td>53</td>\n",
       "      <td>54</td>\n",
       "    </tr>\n",
       "    <tr>\n",
       "      <th>...</th>\n",
       "      <td>...</td>\n",
       "      <td>...</td>\n",
       "      <td>...</td>\n",
       "      <td>...</td>\n",
       "      <td>...</td>\n",
       "      <td>...</td>\n",
       "      <td>...</td>\n",
       "      <td>...</td>\n",
       "      <td>...</td>\n",
       "      <td>...</td>\n",
       "      <td>...</td>\n",
       "    </tr>\n",
       "    <tr>\n",
       "      <th>15</th>\n",
       "      <td>Other Faiths</td>\n",
       "      <td>20</td>\n",
       "      <td>33</td>\n",
       "      <td>40</td>\n",
       "      <td>46</td>\n",
       "      <td>49</td>\n",
       "      <td>63</td>\n",
       "      <td>46</td>\n",
       "      <td>40</td>\n",
       "      <td>41</td>\n",
       "      <td>71</td>\n",
       "    </tr>\n",
       "    <tr>\n",
       "      <th>16</th>\n",
       "      <td>Other World Religions</td>\n",
       "      <td>5</td>\n",
       "      <td>2</td>\n",
       "      <td>3</td>\n",
       "      <td>4</td>\n",
       "      <td>2</td>\n",
       "      <td>7</td>\n",
       "      <td>3</td>\n",
       "      <td>4</td>\n",
       "      <td>4</td>\n",
       "      <td>8</td>\n",
       "    </tr>\n",
       "    <tr>\n",
       "      <th>17</th>\n",
       "      <td>Unaffiliated</td>\n",
       "      <td>217</td>\n",
       "      <td>299</td>\n",
       "      <td>374</td>\n",
       "      <td>365</td>\n",
       "      <td>341</td>\n",
       "      <td>528</td>\n",
       "      <td>407</td>\n",
       "      <td>321</td>\n",
       "      <td>258</td>\n",
       "      <td>597</td>\n",
       "    </tr>\n",
       "  </tbody>\n",
       "</table>\n",
       "<p>18 rows × 11 columns</p>\n",
       "</div>"
      ],
      "text/plain": [
       "                 religion  <$10k  $10-20k  $20-30k  $30-40k  $40-50k  $50-75k  \\\n",
       "0                Agnostic     27       34       60       81       76      137   \n",
       "1                 Atheist     12       27       37       52       35       70   \n",
       "2                Buddhist     27       21       30       34       33       58   \n",
       "..                    ...    ...      ...      ...      ...      ...      ...   \n",
       "15           Other Faiths     20       33       40       46       49       63   \n",
       "16  Other World Religions      5        2        3        4        2        7   \n",
       "17           Unaffiliated    217      299      374      365      341      528   \n",
       "\n",
       "    $75-100k  $100-150k  >150k  Don't know/refused  \n",
       "0        122        109     84                  96  \n",
       "1         73         59     74                  76  \n",
       "2         62         39     53                  54  \n",
       "..       ...        ...    ...                 ...  \n",
       "15        46         40     41                  71  \n",
       "16         3          4      4                   8  \n",
       "17       407        321    258                 597  \n",
       "\n",
       "[18 rows x 11 columns]"
      ]
     },
     "execution_count": 2,
     "metadata": {},
     "output_type": "execute_result"
    }
   ],
   "source": [
    "import requests\n",
    "import io\n",
    "\n",
    "r = requests.get('https://raw.githubusercontent.com/tidyverse/tidyr/master/data-raw/relig_income.csv')\n",
    "snippet = pd.read_csv(filepath_or_buffer=io.StringIO(r.text))\n",
    "snippet"
   ]
  },
  {
   "cell_type": "code",
   "execution_count": 3,
   "metadata": {},
   "outputs": [
    {
     "data": {
      "text/html": [
       "<div>\n",
       "<style scoped>\n",
       "    .dataframe tbody tr th:only-of-type {\n",
       "        vertical-align: middle;\n",
       "    }\n",
       "\n",
       "    .dataframe tbody tr th {\n",
       "        vertical-align: top;\n",
       "    }\n",
       "\n",
       "    .dataframe thead th {\n",
       "        text-align: right;\n",
       "    }\n",
       "</style>\n",
       "<table border=\"1\" class=\"dataframe\">\n",
       "  <thead>\n",
       "    <tr style=\"text-align: right;\">\n",
       "      <th></th>\n",
       "      <th>religion</th>\n",
       "      <th>income</th>\n",
       "      <th>count</th>\n",
       "    </tr>\n",
       "  </thead>\n",
       "  <tbody>\n",
       "    <tr>\n",
       "      <th>0</th>\n",
       "      <td>Agnostic</td>\n",
       "      <td>&lt;$10k</td>\n",
       "      <td>27</td>\n",
       "    </tr>\n",
       "    <tr>\n",
       "      <th>1</th>\n",
       "      <td>Atheist</td>\n",
       "      <td>&lt;$10k</td>\n",
       "      <td>12</td>\n",
       "    </tr>\n",
       "    <tr>\n",
       "      <th>2</th>\n",
       "      <td>Buddhist</td>\n",
       "      <td>&lt;$10k</td>\n",
       "      <td>27</td>\n",
       "    </tr>\n",
       "    <tr>\n",
       "      <th>...</th>\n",
       "      <td>...</td>\n",
       "      <td>...</td>\n",
       "      <td>...</td>\n",
       "    </tr>\n",
       "    <tr>\n",
       "      <th>177</th>\n",
       "      <td>Other Faiths</td>\n",
       "      <td>Don't know/refused</td>\n",
       "      <td>71</td>\n",
       "    </tr>\n",
       "    <tr>\n",
       "      <th>178</th>\n",
       "      <td>Other World Religions</td>\n",
       "      <td>Don't know/refused</td>\n",
       "      <td>8</td>\n",
       "    </tr>\n",
       "    <tr>\n",
       "      <th>179</th>\n",
       "      <td>Unaffiliated</td>\n",
       "      <td>Don't know/refused</td>\n",
       "      <td>597</td>\n",
       "    </tr>\n",
       "  </tbody>\n",
       "</table>\n",
       "<p>180 rows × 3 columns</p>\n",
       "</div>"
      ],
      "text/plain": [
       "                  religion              income  count\n",
       "0                 Agnostic               <$10k     27\n",
       "1                  Atheist               <$10k     12\n",
       "2                 Buddhist               <$10k     27\n",
       "..                     ...                 ...    ...\n",
       "177           Other Faiths  Don't know/refused     71\n",
       "178  Other World Religions  Don't know/refused      8\n",
       "179           Unaffiliated  Don't know/refused    597\n",
       "\n",
       "[180 rows x 3 columns]"
      ]
     },
     "execution_count": 3,
     "metadata": {},
     "output_type": "execute_result"
    }
   ],
   "source": [
    "\"\"\"\n",
    "Reshaping the data\n",
    "\n",
    "**NOTE**: `id_vars` is not melted. Everything else is melted and reshaped.\n",
    "\"\"\"\n",
    "\n",
    "pd.melt(snippet, id_vars='religion', var_name='income', value_name='count')"
   ]
  },
  {
   "cell_type": "markdown",
   "metadata": {},
   "source": [
    "#### Multiple variables stored in one column\n",
    "\n",
    "Beyond melting, the column variable names often becomes a combination of multiple underlying variable names. \n",
    "\n",
    "In this situation, the column header string can be broken into pieces. For example, the variable names can be matched to a lookup table converting single compound value into multiple component values. \n",
    "\n",
    "Storing the values in this messy form results in having to store meta-data in a separate table, which makes it hard to correctly reconstruct data. By joining categories, the data has been partially summarized. But in tidy form, adding variables is easy. They are just additional columns.\n",
    "\n",
    "##### Example\n",
    "\n",
    "| Multiple Variable Census Category | One Variable Per Entry Census Category |\n",
    "| ---: | :--- |\n",
    "| `males18-35` | `males, 18-35` |\n",
    "\n",
    "\n",
    "#### Variables are stored in both rows and columns\n",
    "\n",
    "The most complicated form of messy data occurs when variables are stored in both rows and columns (i.e., a combination of prior two sections). Like before, reshaping is required. However, now the reverse operation of melting, *casting* / *unstacking*, is also needed (i.e., decomposing two columns acting as a key-value pair into a column per key). \n",
    "\n",
    "\n",
    "#### Multiple types in one table\n",
    "\n",
    "Datasets often involve values collected for multiple types of units. This means the table representation can be decomposed into two or more tables, and reconstructed by some type of join or Cartesian product. This is closely related to the idea of database normalization, where a fact is expressed in only one place.\n",
    "\n",
    "Normalization is useful for tidying and eliminating inconsistencies. However, analyses usually also requires denormalization or merging the datasets back into one table. Sometimes this is due to merging multiple data sources. Other times it is to present the analysis optimally.\n",
    "\n",
    "#### One type in multiple tables\n",
    "\n",
    "It is common to find data values regarding a single type of observational unit across multiple tables. These tables are often split up by another variable, so that each represents a single unit of measurement. As long as the record format is consistent, this is an easy problem to fix. Add a primary key on all tables so that types of observational units can be joined into one table. Once a single table is returned, additional tidying can be performed. \n",
    "\n",
    "Complications occur when the dataset structure changes over time. \n",
    "For example, the datasets may contain:\n",
    "\n",
    "* different variables\n",
    "* the same variables with different names\n",
    "* different file formats\n",
    "* different conventions for missing values \n",
    "\n",
    "This may require tidying each file individually or in small groups, and then combine them once\n",
    "tidied."
   ]
  },
  {
   "cell_type": "markdown",
   "metadata": {},
   "source": [
    "### Working with Strings\n",
    "\n",
    "Python has long been a popular data munging language in part due to its ease-of-use for *string* and text processing. Additionally, for situations where there are repetitive, logically deterministic, and complex string patterns, *regular expressions* are available for much stronger and precise matching capabilities across arrays of strings and text. `pandas` further augments the python text processing tools by enabling string and regular expressions to be applied concisely on whole arrays of data (while additionally handling missing data). In this section we focus on strings manipulation and introduce basic regular expressions."
   ]
  },
  {
   "cell_type": "markdown",
   "metadata": {},
   "source": [
    "#### Regular expressions\n",
    "\n",
    "Regular Expressions (a.k.a. regex) provide a flexible way to search or match string patterns in text. They essentially provide a miniature language for matching complex strings without relying on a stack memory.  Regexes can also be used with many of the last section's operations. We have in fact also seen them before when using `pandas`.\n",
    "\n",
    "Python’s built-in `re` module is responsible for matching  regular expressions to strings. It's functions belong into three categories.\n",
    "\n",
    "* pattern matching\n",
    "* substitution\n",
    "* splitting"
   ]
  },
  {
   "cell_type": "markdown",
   "metadata": {},
   "source": [
    "##### Syntax\n",
    "Regular expressions allow matching with more precision than traditional string matching functions. This is because a regular expression is actually compiled into a simple automata/program which has only one purpose: match on a string for the pattern used to compile the expression. A **regular expression** is the simplest program possible in both practical and theoretical terms. It is literally a program without any memory (i.e., stack, heap, swap, etc.). Regular expressions only have the ability to process data, they are theoretically incapable of storing data (*although most modern implementations don't adhere to this restriction*). As such, they are guaranteed to run at least as fast or faster than any alternative for matching strings.\n",
    "\n",
    "The restriction on regular expressions means only certain types of matches are possible. In this section we cover how to construct regular expressions. The subset of operations used in all regular expression libraries can be found below (Python Contributors, 2018).\n",
    "\n",
    "\n",
    "| Special Characters | Explanation | Example of matches |\n",
    "| --- | --- | --- |\n",
    "| `.` | This character will match against anything. It is essentially a wild card. By default, Python doesn't include new lines. | The regex `\".a\"` will match the following. `\"aa\"`, `\"Aa\"`, `\"ba\"`, `\"Ba\"`, `\"ca\"`, `\"da\"`, etc. But, it will also match strings like `\"aaa\"`, `\"Aat\"`, `\"taa\"` because the regex is matching for *substrings*.|\n",
    "|`^` | Matches the start of the string. | The regex `\"^s.a\"` will match the following. `\"saa\"`, `\"sAa\"`, `\"sba\"`, `\"sBa\"`, `\"sca\"`, `\"sda\"`, etc. But, it will not match `\"asda\"` because the string starts with `\"a\"`. |\n",
    "| `$` | Matches the end of the string or just before the newline at the end of the string. |The regex `\".a\"` will match the following. `\"aa\"`, `\"Aa\"`, `\"ba\"`, `\"Ba\"`, `\"ca\"`, `\"da\"`, etc. |\n",
    "| `?` | Matches 0 or 1 occurrences of a string. | The regex `\"columns?\"` will match both `\"column\"` and its plural, `\"columns\"`. |\n",
    "| `*` | Matches 0 or more occurrences of a string. | The regex `\"11*\"` will match `\"1\"` or any consecutive sequences of ones. |\n",
    "| `\\` | Escapes special characters, allowing them to be used for matching. | `\".\"` matches any character, but `\"\\.\"` matches any string containing a period. |\n",
    "| &#124; | Matches either the first or the second character, but not both nor neither. | `\"^a&#124;b$\"` only matches the strings `\"a\"` and `\"b\"`. |\n",
    "|`(...)`| Matches the substring as a whole. | The regex \"(1 &#124; 0)*\" matches any string containing a consecutive binary substring  of the same number or empty string. |\n",
    "| `[...]` | Allows matching only on characters specified  | `\"[01]*\"` matches all binary strings. The repetition (`*`) doesn't reapply on a fixed matched string but on the pattern. |\n",
    "\n",
    "There are more operators present in the `re` package \\cite{Kuchling2018}, but the above operations are present in almost all packages independent of implementation and programming language."
   ]
  },
  {
   "cell_type": "markdown",
   "metadata": {},
   "source": [
    "A common regex describing whitespace`\"\\s+\"` where spaces (`\" \"`), tabs (`\"\\t\"`), and new lines (`\"\\n\"`) are matched.\n",
    "(* i.e., `\"\\s\"` is equivalent to `\"( |\\t|\\n)\"` or `\"[ \\t\\n]\"` *)\n",
    "\n",
    "##### Usage\n",
    "\n",
    "Regular expressions are compiled prior to matching. Although there are convenience functions that compile per use, the program will incur a performance hit. *However*, Regular expressions are so efficient that you'll likely only notice the performance hit once reaching a scale of matching gigabytes of strings per second."
   ]
  },
  {
   "cell_type": "code",
   "execution_count": 4,
   "metadata": {
    "ExecuteTime": {
     "start_time": "2018-06-20T16:52:07.150Z"
    }
   },
   "outputs": [
    {
     "data": {
      "text/plain": [
       "re.compile(r'\\s+', re.UNICODE)"
      ]
     },
     "execution_count": 4,
     "metadata": {},
     "output_type": "execute_result"
    }
   ],
   "source": [
    "wsRegex = re.compile(\"\\s+\") # the plus just means one or more matches. same as '\"\\s\\s*\"'\n",
    "wsRegex"
   ]
  },
  {
   "cell_type": "markdown",
   "metadata": {},
   "source": [
    "Revisiting our string examples, we now perform the same tasks using regular expressions."
   ]
  },
  {
   "cell_type": "code",
   "execution_count": 5,
   "metadata": {
    "ExecuteTime": {
     "start_time": "2018-06-20T16:52:07.540Z"
    }
   },
   "outputs": [
    {
     "data": {
      "text/plain": [
       "['', 'Hello,', 'World,', 'How', 'are', 'you,', 'today?', '']"
      ]
     },
     "execution_count": 5,
     "metadata": {},
     "output_type": "execute_result"
    }
   ],
   "source": [
    "x = \"   Hello, World, How are you, today?   \"\n",
    "wsRegex.split(x)"
   ]
  },
  {
   "cell_type": "markdown",
   "metadata": {},
   "source": [
    "**NOTE**: Recall before how `x.split()` was not equal to `x.split(\" \")`. This was because one trims whitespace and then splits on *chunks* of whitespace, while the other only breaks on every character instance of whitespace. Similarly, `x.split()` is not the same as  `wsRegex.split(x)` because `wsRegex.split()` doesn't prepreocess the string by trimming whitespace from the beginning and end. The same non-equivalence can be seen between `x.split(\" \")`  and `wsRegex.split(x)` where one is separating on a character while the other on *substring matches*.\n",
    "\n",
    "An alternative would be to call `re.split('\\s+', x)`, where the regular expression is first compiled, then `split()` is called on the passed text. In our example we chose to compile the regex with `re.compile('\\s+')`, which returns a reusable regex object for faster matching throughput. As such, creating a regex object with `re.compile` is highly recommended. When applying the same expression on many strings, CPU cycles will be saved from the compilation.\n",
    "\n",
    "We can retrieve all patterns matching the regex using `findall()` method. Like before with the string methods, we can find an index of the match using `search()` and `match()`."
   ]
  },
  {
   "cell_type": "code",
   "execution_count": 6,
   "metadata": {
    "ExecuteTime": {
     "start_time": "2018-06-20T16:52:07.971Z"
    }
   },
   "outputs": [],
   "source": [
    "x = \"IoOo000OioIIoliol1l1|oo0Ii|1\"\n",
    "\n",
    "consOo = re.compile(\"[oO]+\")\n",
    "consIi = re.compile(\"[iI]+\")"
   ]
  },
  {
   "cell_type": "code",
   "execution_count": 7,
   "metadata": {
    "ExecuteTime": {
     "start_time": "2018-06-20T16:52:08.009Z"
    }
   },
   "outputs": [
    {
     "data": {
      "text/plain": [
       "['oOo', 'O', 'o', 'o', 'o', 'oo']"
      ]
     },
     "execution_count": 7,
     "metadata": {},
     "output_type": "execute_result"
    }
   ],
   "source": [
    "consOo.findall(x)"
   ]
  },
  {
   "cell_type": "markdown",
   "metadata": {},
   "source": [
    "While `findall()` returns all matches in a string as a list (not a set, so there are duplicates), `search()` returns only the *first* match. If groups are captured (i.e., by using `(...)`) then a list of tuples is returned. This is also true for all other functions where applicable.\n",
    "\n",
    "`match()` only matches at the beginning of the string. The `match()` function and `search()` both return the same type of match object. One is simply a convenience function that compiles the regex for you as well. The match object contains the end and start indexes of the matched substring."
   ]
  },
  {
   "cell_type": "code",
   "execution_count": 8,
   "metadata": {
    "ExecuteTime": {
     "start_time": "2018-06-20T16:52:08.430Z"
    }
   },
   "outputs": [
    {
     "data": {
      "text/plain": [
       "(1, 4)"
      ]
     },
     "execution_count": 8,
     "metadata": {},
     "output_type": "execute_result"
    }
   ],
   "source": [
    "z = consOo.search(x)\n",
    "z.span(0) #corresponds to start and end index of `oOo`"
   ]
  },
  {
   "cell_type": "markdown",
   "metadata": {},
   "source": [
    "The `sub()` function corresponds to the string function `replace()` by returning a new string where pattern occurrences are replaced by a newly specified string."
   ]
  },
  {
   "cell_type": "code",
   "execution_count": 9,
   "metadata": {
    "ExecuteTime": {
     "start_time": "2018-06-20T16:52:08.862Z"
    }
   },
   "outputs": [
    {
     "data": {
      "text/plain": [
       "'I , 000 , i , II , li , l1l1| , 0Ii|1'"
      ]
     },
     "execution_count": 9,
     "metadata": {},
     "output_type": "execute_result"
    }
   ],
   "source": [
    "consOo.sub(string=x, repl=\" , \")"
   ]
  },
  {
   "cell_type": "markdown",
   "metadata": {},
   "source": [
    "### Metadata\n",
    "\n",
    "While we have spent a considerable time going into detail about data, it is worth mentioning the uses of *metadata*. Metadata is simply data that describes and gives information about other data. Examples of metadata include the following.\n",
    "\n",
    "  * Database table and column names\n",
    "  * Tags in HTML and XML, such as the actual version of HTML\n",
    "  * Field labels on web pages\n",
    "  * Timestamps for when observations were recorded in a table\n",
    "  * Log-files containing events data for applications\n",
    "  * Data ownership and access information such as permissions\n",
    "  \n",
    "The most common use case for metadata is to decide if data from different sources that observe the same phenomena can be used together for an analysis. For example in Geographic Information Systems, map data is often stored not only in different formats, but often rely on completely different mathematical modelling (i.e., ellipsoid vs. sphere) for describing the earth depending on use cases. As such, Cartographers have a need for metadata so that data can be transformed appropriately for new projects."
   ]
  },
  {
   "cell_type": "markdown",
   "metadata": {},
   "source": [
    "### Reading/Writing NoSQL (some examples)\n",
    "\n",
    "A **NoSQL** database is a database which stores data in a non relational way (i.e. not modelled as a list of tuples)\n",
    "\n",
    "There are a number of tools that facilitate efficiently reading and writing large amounts of scientific data in binary format on disk. A popular industry-grade library for this is **hierarchical data format (HDF5)**, which enables data with repeated patterns to be stored more efficiently. For very large datasets that don’t fit into memory (nor even into a single computer hard drive), HDF5 can efficiently read and write small sections of much larger arrays. Objects contained in HDF5 can be retrieved in a `dict`-like fashion.\n",
    "\n",
    "Most NoSQL databases have the same retrieval mechanism as HDF5, in that they tend to just be key-value stores, similar to dictionaries / maps. If these stores allow key-value stores to nest dictionaries in values, then they become tree-structured databases (i.e., XML or JSON data).\n",
    "\n",
    "`pandas` supports `read_xxx()` and `to_xxx()` functions for use with these databases, assuming the help of their respective controllers for connecting to them in a programmatic way. \n",
    "\n",
    "What follows are a list of controllers for different databases compatible with `pandas`. "
   ]
  },
  {
   "cell_type": "code",
   "execution_count": 10,
   "metadata": {
    "ExecuteTime": {
     "start_time": "2018-06-20T16:52:10.257Z"
    }
   },
   "outputs": [],
   "source": [
    "## MongoDB:\n",
    "# import pymongo\n",
    "## CouchBase:\n",
    "# import couchbase\n",
    "## HDFS:\n",
    "# import hdfs\n",
    "## HBase:\n",
    "# import happybase"
   ]
  },
  {
   "cell_type": "markdown",
   "metadata": {},
   "source": [
    "Many more can be found in the `pandas` [reference documentation](https://pandas.pydata.org/pandas-docs/stable/) (Pandas contributors, 2018a).\n",
    "\n",
    "### Working with Missing Data\n",
    "\n",
    "Up to this point, we've touched lightly on how to relabel missing data via `NaN`'s or `NA`. But this task can become rather involved. For example, financial spreadsheets often mix reporting, calculation work-flow and data entry, resulting in multiple tables in one spreadsheet. Loading all this into `pandas` can be strange. Especially if cells have been merged.\n",
    "\n",
    "![A poorly organized spreadsheet](https://upload.wikimedia.org/wikipedia/commons/6/69/Pugh_excel_sheet.png) Source: https://commons.wikimedia.org/w/index.php?title=File:Pugh_excel_sheet.png&oldid=254194044 (CC-BY-SA-3.0)\n",
    "\n",
    "How do you sidestep introducing `NaN` and empty values in such a situation? Issues such as the following.\n",
    "\n",
    "* ignoring rows/columns\n",
    "* ignoring footers/headers\n",
    "* ignoring comments\n",
    "* formatting\n",
    "  * i.e., numeric data with thousands separated by commas\n",
    "\n",
    "Setting `NA` values for missing values and skipping rows, headers, footers are all handled on read. In fact, we've already used the parameters for handling them. But, lets recap with a more involved example."
   ]
  },
  {
   "cell_type": "code",
   "execution_count": 10,
   "metadata": {
    "ExecuteTime": {
     "start_time": "2018-06-20T16:52:10.668Z"
    }
   },
   "outputs": [
    {
     "data": {
      "text/html": [
       "<div>\n",
       "<style scoped>\n",
       "    .dataframe tbody tr th:only-of-type {\n",
       "        vertical-align: middle;\n",
       "    }\n",
       "\n",
       "    .dataframe tbody tr th {\n",
       "        vertical-align: top;\n",
       "    }\n",
       "\n",
       "    .dataframe thead th {\n",
       "        text-align: right;\n",
       "    }\n",
       "</style>\n",
       "<table border=\"1\" class=\"dataframe\">\n",
       "  <thead>\n",
       "    <tr style=\"text-align: right;\">\n",
       "      <th></th>\n",
       "      <th>a</th>\n",
       "      <th>b</th>\n",
       "      <th>c</th>\n",
       "      <th>d</th>\n",
       "    </tr>\n",
       "    <tr>\n",
       "      <th>message</th>\n",
       "      <th></th>\n",
       "      <th></th>\n",
       "      <th></th>\n",
       "      <th></th>\n",
       "    </tr>\n",
       "  </thead>\n",
       "  <tbody>\n",
       "    <tr>\n",
       "      <th># hey!</th>\n",
       "      <td>NaN</td>\n",
       "      <td>NaN</td>\n",
       "      <td>NaN</td>\n",
       "      <td>NaN</td>\n",
       "    </tr>\n",
       "    <tr>\n",
       "      <th>a</th>\n",
       "      <td>b</td>\n",
       "      <td>c</td>\n",
       "      <td>d</td>\n",
       "      <td>message</td>\n",
       "    </tr>\n",
       "    <tr>\n",
       "      <th># just wanted to make things more difficult for you</th>\n",
       "      <td>NaN</td>\n",
       "      <td>NaN</td>\n",
       "      <td>NaN</td>\n",
       "      <td>NaN</td>\n",
       "    </tr>\n",
       "    <tr>\n",
       "      <th>...</th>\n",
       "      <td>...</td>\n",
       "      <td>...</td>\n",
       "      <td>...</td>\n",
       "      <td>...</td>\n",
       "    </tr>\n",
       "    <tr>\n",
       "      <th># I'm not your buddy</th>\n",
       "      <td>guy!</td>\n",
       "      <td>NaN</td>\n",
       "      <td>NaN</td>\n",
       "      <td>NaN</td>\n",
       "    </tr>\n",
       "    <tr>\n",
       "      <th># He's not your guy</th>\n",
       "      <td>friend!</td>\n",
       "      <td>NaN</td>\n",
       "      <td>NaN</td>\n",
       "      <td>NaN</td>\n",
       "    </tr>\n",
       "    <tr>\n",
       "      <th># ...</th>\n",
       "      <td>NaN</td>\n",
       "      <td>NaN</td>\n",
       "      <td>NaN</td>\n",
       "      <td>NaN</td>\n",
       "    </tr>\n",
       "  </tbody>\n",
       "</table>\n",
       "<p>12 rows × 4 columns</p>\n",
       "</div>"
      ],
      "text/plain": [
       "                                                           a    b    c  \\\n",
       "message                                                                  \n",
       "# hey!                                                   NaN  NaN  NaN   \n",
       "a                                                          b    c    d   \n",
       "# just wanted to make things more difficult for...       NaN  NaN  NaN   \n",
       "...                                                      ...  ...  ...   \n",
       "# I'm not your buddy                                    guy!  NaN  NaN   \n",
       "# He's not your guy                                  friend!  NaN  NaN   \n",
       "# ...                                                    NaN  NaN  NaN   \n",
       "\n",
       "                                                          d  \n",
       "message                                                      \n",
       "# hey!                                                  NaN  \n",
       "a                                                   message  \n",
       "# just wanted to make things more difficult for...      NaN  \n",
       "...                                                     ...  \n",
       "# I'm not your buddy                                    NaN  \n",
       "# He's not your guy                                     NaN  \n",
       "# ...                                                   NaN  \n",
       "\n",
       "[12 rows x 4 columns]"
      ]
     },
     "execution_count": 10,
     "metadata": {},
     "output_type": "execute_result"
    }
   ],
   "source": [
    "dirtyDF = pd.read_csv(filepath_or_buffer = 'examples/ex4.csv', names=['message', 'a', 'b', 'c', 'd'], \n",
    "                      index_col=\"message\")\n",
    "\n",
    "dirtyDF"
   ]
  },
  {
   "cell_type": "code",
   "execution_count": 11,
   "metadata": {
    "ExecuteTime": {
     "start_time": "2018-06-20T16:52:10.720Z"
    }
   },
   "outputs": [
    {
     "data": {
      "text/html": [
       "<div>\n",
       "<style scoped>\n",
       "    .dataframe tbody tr th:only-of-type {\n",
       "        vertical-align: middle;\n",
       "    }\n",
       "\n",
       "    .dataframe tbody tr th {\n",
       "        vertical-align: top;\n",
       "    }\n",
       "\n",
       "    .dataframe thead th {\n",
       "        text-align: right;\n",
       "    }\n",
       "</style>\n",
       "<table border=\"1\" class=\"dataframe\">\n",
       "  <thead>\n",
       "    <tr style=\"text-align: right;\">\n",
       "      <th></th>\n",
       "      <th>a</th>\n",
       "      <th>b</th>\n",
       "      <th>c</th>\n",
       "      <th>d</th>\n",
       "    </tr>\n",
       "    <tr>\n",
       "      <th>message</th>\n",
       "      <th></th>\n",
       "      <th></th>\n",
       "      <th></th>\n",
       "      <th></th>\n",
       "    </tr>\n",
       "  </thead>\n",
       "  <tbody>\n",
       "    <tr>\n",
       "      <th>1</th>\n",
       "      <td>2</td>\n",
       "      <td>3</td>\n",
       "      <td>NaN</td>\n",
       "      <td>hello</td>\n",
       "    </tr>\n",
       "    <tr>\n",
       "      <th>5</th>\n",
       "      <td>6</td>\n",
       "      <td>7</td>\n",
       "      <td>8.0</td>\n",
       "      <td>world</td>\n",
       "    </tr>\n",
       "    <tr>\n",
       "      <th>9</th>\n",
       "      <td>10</td>\n",
       "      <td>11</td>\n",
       "      <td>12.0</td>\n",
       "      <td>foo</td>\n",
       "    </tr>\n",
       "  </tbody>\n",
       "</table>\n",
       "</div>"
      ],
      "text/plain": [
       "          a   b     c      d\n",
       "message                     \n",
       "1         2   3   NaN  hello\n",
       "5         6   7   8.0  world\n",
       "9        10  11  12.0    foo"
      ]
     },
     "execution_count": 11,
     "metadata": {},
     "output_type": "execute_result"
    }
   ],
   "source": [
    "cleanedDF = pd.read_csv(filepath_or_buffer = 'examples/ex4.csv',\n",
    "                  engine='python',\n",
    "                  sep=',',\n",
    "                  header=0, #lines containing headers. Sometimes they can be on multiple lines due to formatting (numbering starts from 0)\n",
    "                  names=['message', 'a', 'b', 'c', 'd'], # the names we want to use to index columns\n",
    "                  index_col=['message'], # what is indexing the columns?\n",
    "                  skiprows=[0,2,3,6, 7], #we don't skip any rows, just comments. But useful when columns and data separated by whitespace or metadata, such as line or page breaks\n",
    "                  skipfooter=3,\n",
    "                  na_values={'a': ['NaN'],\n",
    "                             'b': ['NaN'],\n",
    "                             'c': ['NaN'],\n",
    "                             'd': ['NaN'],\n",
    "                             'message': ['NA']} # what values from the columns are actually considered NA or NaN by pandas DataFrames.\n",
    "                 )\n",
    "cleanedDF"
   ]
  },
  {
   "cell_type": "markdown",
   "metadata": {},
   "source": [
    "Handling missing data, after the fact of having loaded it into `pandas`,  is also straight forward. The default N/A value is **`NaN` (Not a Number)** . In order to handle transformations specific to `NaN`, we make use of special selection functions."
   ]
  },
  {
   "cell_type": "code",
   "execution_count": 12,
   "metadata": {
    "ExecuteTime": {
     "start_time": "2018-06-20T16:52:11.156Z"
    }
   },
   "outputs": [
    {
     "data": {
      "text/html": [
       "<div>\n",
       "<style scoped>\n",
       "    .dataframe tbody tr th:only-of-type {\n",
       "        vertical-align: middle;\n",
       "    }\n",
       "\n",
       "    .dataframe tbody tr th {\n",
       "        vertical-align: top;\n",
       "    }\n",
       "\n",
       "    .dataframe thead th {\n",
       "        text-align: right;\n",
       "    }\n",
       "</style>\n",
       "<table border=\"1\" class=\"dataframe\">\n",
       "  <thead>\n",
       "    <tr style=\"text-align: right;\">\n",
       "      <th></th>\n",
       "      <th>a</th>\n",
       "      <th>b</th>\n",
       "      <th>c</th>\n",
       "      <th>d</th>\n",
       "    </tr>\n",
       "    <tr>\n",
       "      <th>message</th>\n",
       "      <th></th>\n",
       "      <th></th>\n",
       "      <th></th>\n",
       "      <th></th>\n",
       "    </tr>\n",
       "  </thead>\n",
       "  <tbody>\n",
       "    <tr>\n",
       "      <th>5</th>\n",
       "      <td>6</td>\n",
       "      <td>7</td>\n",
       "      <td>8.0</td>\n",
       "      <td>world</td>\n",
       "    </tr>\n",
       "    <tr>\n",
       "      <th>9</th>\n",
       "      <td>10</td>\n",
       "      <td>11</td>\n",
       "      <td>12.0</td>\n",
       "      <td>foo</td>\n",
       "    </tr>\n",
       "  </tbody>\n",
       "</table>\n",
       "</div>"
      ],
      "text/plain": [
       "          a   b     c      d\n",
       "message                     \n",
       "5         6   7   8.0  world\n",
       "9        10  11  12.0    foo"
      ]
     },
     "execution_count": 12,
     "metadata": {},
     "output_type": "execute_result"
    }
   ],
   "source": [
    "# drop any index with NA\n",
    "cleanedDF.dropna()"
   ]
  },
  {
   "cell_type": "code",
   "execution_count": 13,
   "metadata": {
    "ExecuteTime": {
     "start_time": "2018-06-20T16:52:11.211Z"
    }
   },
   "outputs": [
    {
     "data": {
      "text/html": [
       "<div>\n",
       "<style scoped>\n",
       "    .dataframe tbody tr th:only-of-type {\n",
       "        vertical-align: middle;\n",
       "    }\n",
       "\n",
       "    .dataframe tbody tr th {\n",
       "        vertical-align: top;\n",
       "    }\n",
       "\n",
       "    .dataframe thead th {\n",
       "        text-align: right;\n",
       "    }\n",
       "</style>\n",
       "<table border=\"1\" class=\"dataframe\">\n",
       "  <thead>\n",
       "    <tr style=\"text-align: right;\">\n",
       "      <th></th>\n",
       "      <th>a</th>\n",
       "      <th>b</th>\n",
       "      <th>c</th>\n",
       "      <th>d</th>\n",
       "    </tr>\n",
       "    <tr>\n",
       "      <th>message</th>\n",
       "      <th></th>\n",
       "      <th></th>\n",
       "      <th></th>\n",
       "      <th></th>\n",
       "    </tr>\n",
       "  </thead>\n",
       "  <tbody>\n",
       "    <tr>\n",
       "      <th>1</th>\n",
       "      <td>2</td>\n",
       "      <td>3</td>\n",
       "      <td>0</td>\n",
       "      <td>hello</td>\n",
       "    </tr>\n",
       "    <tr>\n",
       "      <th>5</th>\n",
       "      <td>6</td>\n",
       "      <td>7</td>\n",
       "      <td>8</td>\n",
       "      <td>world</td>\n",
       "    </tr>\n",
       "    <tr>\n",
       "      <th>9</th>\n",
       "      <td>10</td>\n",
       "      <td>11</td>\n",
       "      <td>12</td>\n",
       "      <td>foo</td>\n",
       "    </tr>\n",
       "  </tbody>\n",
       "</table>\n",
       "</div>"
      ],
      "text/plain": [
       "          a   b   c      d\n",
       "message                   \n",
       "1         2   3   0  hello\n",
       "5         6   7   8  world\n",
       "9        10  11  12    foo"
      ]
     },
     "execution_count": 13,
     "metadata": {},
     "output_type": "execute_result"
    }
   ],
   "source": [
    "# replace NA\n",
    "cleanedDF.fillna('0')"
   ]
  },
  {
   "cell_type": "code",
   "execution_count": 14,
   "metadata": {
    "ExecuteTime": {
     "start_time": "2018-06-20T16:52:11.258Z"
    }
   },
   "outputs": [
    {
     "data": {
      "text/html": [
       "<div>\n",
       "<style scoped>\n",
       "    .dataframe tbody tr th:only-of-type {\n",
       "        vertical-align: middle;\n",
       "    }\n",
       "\n",
       "    .dataframe tbody tr th {\n",
       "        vertical-align: top;\n",
       "    }\n",
       "\n",
       "    .dataframe thead th {\n",
       "        text-align: right;\n",
       "    }\n",
       "</style>\n",
       "<table border=\"1\" class=\"dataframe\">\n",
       "  <thead>\n",
       "    <tr style=\"text-align: right;\">\n",
       "      <th></th>\n",
       "      <th>a</th>\n",
       "      <th>b</th>\n",
       "      <th>c</th>\n",
       "      <th>d</th>\n",
       "    </tr>\n",
       "    <tr>\n",
       "      <th>message</th>\n",
       "      <th></th>\n",
       "      <th></th>\n",
       "      <th></th>\n",
       "      <th></th>\n",
       "    </tr>\n",
       "  </thead>\n",
       "  <tbody>\n",
       "    <tr>\n",
       "      <th>1</th>\n",
       "      <td>False</td>\n",
       "      <td>False</td>\n",
       "      <td>True</td>\n",
       "      <td>False</td>\n",
       "    </tr>\n",
       "    <tr>\n",
       "      <th>5</th>\n",
       "      <td>False</td>\n",
       "      <td>False</td>\n",
       "      <td>False</td>\n",
       "      <td>False</td>\n",
       "    </tr>\n",
       "    <tr>\n",
       "      <th>9</th>\n",
       "      <td>False</td>\n",
       "      <td>False</td>\n",
       "      <td>False</td>\n",
       "      <td>False</td>\n",
       "    </tr>\n",
       "  </tbody>\n",
       "</table>\n",
       "</div>"
      ],
      "text/plain": [
       "             a      b      c      d\n",
       "message                            \n",
       "1        False  False   True  False\n",
       "5        False  False  False  False\n",
       "9        False  False  False  False"
      ]
     },
     "execution_count": 14,
     "metadata": {},
     "output_type": "execute_result"
    }
   ],
   "source": [
    "cleanedDF.isnull()"
   ]
  },
  {
   "cell_type": "code",
   "execution_count": 15,
   "metadata": {
    "ExecuteTime": {
     "start_time": "2018-06-20T16:52:11.303Z"
    }
   },
   "outputs": [
    {
     "data": {
      "text/html": [
       "<div>\n",
       "<style scoped>\n",
       "    .dataframe tbody tr th:only-of-type {\n",
       "        vertical-align: middle;\n",
       "    }\n",
       "\n",
       "    .dataframe tbody tr th {\n",
       "        vertical-align: top;\n",
       "    }\n",
       "\n",
       "    .dataframe thead th {\n",
       "        text-align: right;\n",
       "    }\n",
       "</style>\n",
       "<table border=\"1\" class=\"dataframe\">\n",
       "  <thead>\n",
       "    <tr style=\"text-align: right;\">\n",
       "      <th></th>\n",
       "      <th>a</th>\n",
       "      <th>b</th>\n",
       "      <th>c</th>\n",
       "      <th>d</th>\n",
       "    </tr>\n",
       "    <tr>\n",
       "      <th>message</th>\n",
       "      <th></th>\n",
       "      <th></th>\n",
       "      <th></th>\n",
       "      <th></th>\n",
       "    </tr>\n",
       "  </thead>\n",
       "  <tbody>\n",
       "    <tr>\n",
       "      <th>1</th>\n",
       "      <td>True</td>\n",
       "      <td>True</td>\n",
       "      <td>False</td>\n",
       "      <td>True</td>\n",
       "    </tr>\n",
       "    <tr>\n",
       "      <th>5</th>\n",
       "      <td>True</td>\n",
       "      <td>True</td>\n",
       "      <td>True</td>\n",
       "      <td>True</td>\n",
       "    </tr>\n",
       "    <tr>\n",
       "      <th>9</th>\n",
       "      <td>True</td>\n",
       "      <td>True</td>\n",
       "      <td>True</td>\n",
       "      <td>True</td>\n",
       "    </tr>\n",
       "  </tbody>\n",
       "</table>\n",
       "</div>"
      ],
      "text/plain": [
       "            a     b      c     d\n",
       "message                         \n",
       "1        True  True  False  True\n",
       "5        True  True   True  True\n",
       "9        True  True   True  True"
      ]
     },
     "execution_count": 15,
     "metadata": {},
     "output_type": "execute_result"
    }
   ],
   "source": [
    "cleanedDF.notnull() # i.e. not isnull()"
   ]
  },
  {
   "cell_type": "markdown",
   "metadata": {},
   "source": [
    "Ultimately only a few things can be done with inspecting or removing missing values. Other functions should be sought where displacement is desired, such as `replace()`.\n",
    "\n",
    "#### Special Case of Imputation\n",
    "\n",
    "**Imputation** is the act of filling missing values with substituted values. However, it usually refers to filling missing data with representative values. \n",
    "\n",
    "i.e., \n",
    "* a marketing analyst might infer missing data from historical customer data based on geography, age, sex, and other defining characteristics for current market segments\n",
    "* a retail branch store might fill inventory orders ahead of time based on average or median demands from surrounding retail stores  \n",
    "\n",
    "This is different from assigning a meaningful zero. We are filling missing data with our best guess. Be aware that this is a form of *speculation*.\n",
    "\n",
    "`pandas` allows us to do this with ease."
   ]
  },
  {
   "cell_type": "code",
   "execution_count": 16,
   "metadata": {},
   "outputs": [
    {
     "data": {
      "text/plain": [
       "message\n",
       "1    10.0\n",
       "5     8.0\n",
       "9    12.0\n",
       "Name: c, dtype: float64"
      ]
     },
     "execution_count": 16,
     "metadata": {},
     "output_type": "execute_result"
    }
   ],
   "source": [
    "#cleanedDF['c'] = \n",
    "cleanedDF['c'].fillna(cleanedDF['c'].mean())"
   ]
  },
  {
   "cell_type": "markdown",
   "metadata": {},
   "source": [
    "*Don't forget to assign the new value.*"
   ]
  },
  {
   "cell_type": "code",
   "execution_count": 17,
   "metadata": {
    "scrolled": true
   },
   "outputs": [
    {
     "data": {
      "text/html": [
       "<div>\n",
       "<style scoped>\n",
       "    .dataframe tbody tr th:only-of-type {\n",
       "        vertical-align: middle;\n",
       "    }\n",
       "\n",
       "    .dataframe tbody tr th {\n",
       "        vertical-align: top;\n",
       "    }\n",
       "\n",
       "    .dataframe thead th {\n",
       "        text-align: right;\n",
       "    }\n",
       "</style>\n",
       "<table border=\"1\" class=\"dataframe\">\n",
       "  <thead>\n",
       "    <tr style=\"text-align: right;\">\n",
       "      <th></th>\n",
       "      <th>a</th>\n",
       "      <th>b</th>\n",
       "      <th>c</th>\n",
       "      <th>d</th>\n",
       "      <th>C</th>\n",
       "    </tr>\n",
       "    <tr>\n",
       "      <th>message</th>\n",
       "      <th></th>\n",
       "      <th></th>\n",
       "      <th></th>\n",
       "      <th></th>\n",
       "      <th></th>\n",
       "    </tr>\n",
       "  </thead>\n",
       "  <tbody>\n",
       "    <tr>\n",
       "      <th>1</th>\n",
       "      <td>2</td>\n",
       "      <td>3</td>\n",
       "      <td>NaN</td>\n",
       "      <td>hello</td>\n",
       "      <td>10.0</td>\n",
       "    </tr>\n",
       "    <tr>\n",
       "      <th>5</th>\n",
       "      <td>6</td>\n",
       "      <td>7</td>\n",
       "      <td>8.0</td>\n",
       "      <td>world</td>\n",
       "      <td>8.0</td>\n",
       "    </tr>\n",
       "    <tr>\n",
       "      <th>9</th>\n",
       "      <td>10</td>\n",
       "      <td>11</td>\n",
       "      <td>12.0</td>\n",
       "      <td>foo</td>\n",
       "      <td>12.0</td>\n",
       "    </tr>\n",
       "  </tbody>\n",
       "</table>\n",
       "</div>"
      ],
      "text/plain": [
       "          a   b     c      d     C\n",
       "message                           \n",
       "1         2   3   NaN  hello  10.0\n",
       "5         6   7   8.0  world   8.0\n",
       "9        10  11  12.0    foo  12.0"
      ]
     },
     "execution_count": 17,
     "metadata": {},
     "output_type": "execute_result"
    }
   ],
   "source": [
    "cleanedDF['C'] = cleanedDF['c'].fillna(cleanedDF['c'].mean())\n",
    "\n",
    "## Or alternatively,\n",
    "# cleanedDF['c'] = cleanedDF['c'].fillna(cleanedDF['c'].median())\n",
    "\n",
    "cleanedDF"
   ]
  },
  {
   "cell_type": "markdown",
   "metadata": {},
   "source": [
    "### Combining Data\n",
    "\n",
    "The most prominent operations for tabular data involve splicing, slicing, and generally putting together tables from different sources. We begin by covering simple concatenation and move on to join operations (Pandas contributors, 2018). \n",
    "\n",
    "Since a `DataFrame` has more than one dimension or axes, there is a vertical and horizontal concatenation operation.\n",
    "\n",
    "| Vertical Concatenation | Horizontal Concatenation |\n",
    "| :---: | :---: |\n",
    "| ![Vertical Concatenation](https://pandas.pydata.org/pandas-docs/stable/_images/merging_concat_basic.png) | ![Horizontal Concatenation](https://pandas.pydata.org/pandas-docs/stable/_images/merging_concat_axis1.png) |\n",
    "| | |\n"
   ]
  },
  {
   "cell_type": "code",
   "execution_count": 18,
   "metadata": {
    "ExecuteTime": {
     "start_time": "2018-06-20T16:52:12.142Z"
    }
   },
   "outputs": [
    {
     "data": {
      "text/html": [
       "<div>\n",
       "<style scoped>\n",
       "    .dataframe tbody tr th:only-of-type {\n",
       "        vertical-align: middle;\n",
       "    }\n",
       "\n",
       "    .dataframe tbody tr th {\n",
       "        vertical-align: top;\n",
       "    }\n",
       "\n",
       "    .dataframe thead th {\n",
       "        text-align: right;\n",
       "    }\n",
       "</style>\n",
       "<table border=\"1\" class=\"dataframe\">\n",
       "  <thead>\n",
       "    <tr style=\"text-align: right;\">\n",
       "      <th></th>\n",
       "      <th>Random base</th>\n",
       "      <th>random factor</th>\n",
       "      <th>random add</th>\n",
       "      <th>random exponent</th>\n",
       "    </tr>\n",
       "    <tr>\n",
       "      <th>sample</th>\n",
       "      <th></th>\n",
       "      <th></th>\n",
       "      <th></th>\n",
       "      <th></th>\n",
       "    </tr>\n",
       "  </thead>\n",
       "  <tbody>\n",
       "    <tr>\n",
       "      <th>1</th>\n",
       "      <td>0.001196</td>\n",
       "      <td>0.000564</td>\n",
       "      <td>0.482899</td>\n",
       "      <td>0.001570</td>\n",
       "    </tr>\n",
       "    <tr>\n",
       "      <th>2</th>\n",
       "      <td>0.131823</td>\n",
       "      <td>0.080914</td>\n",
       "      <td>0.267100</td>\n",
       "      <td>0.245351</td>\n",
       "    </tr>\n",
       "    <tr>\n",
       "      <th>3</th>\n",
       "      <td>0.311402</td>\n",
       "      <td>0.154805</td>\n",
       "      <td>0.418073</td>\n",
       "      <td>0.753292</td>\n",
       "    </tr>\n",
       "    <tr>\n",
       "      <th>...</th>\n",
       "      <td>...</td>\n",
       "      <td>...</td>\n",
       "      <td>...</td>\n",
       "      <td>...</td>\n",
       "    </tr>\n",
       "    <tr>\n",
       "      <th>27</th>\n",
       "      <td>0.112560</td>\n",
       "      <td>0.059998</td>\n",
       "      <td>0.447564</td>\n",
       "      <td>0.325946</td>\n",
       "    </tr>\n",
       "    <tr>\n",
       "      <th>28</th>\n",
       "      <td>0.855819</td>\n",
       "      <td>0.271771</td>\n",
       "      <td>1.772778</td>\n",
       "      <td>0.915513</td>\n",
       "    </tr>\n",
       "    <tr>\n",
       "      <th>29</th>\n",
       "      <td>0.945029</td>\n",
       "      <td>0.608312</td>\n",
       "      <td>1.842718</td>\n",
       "      <td>0.962441</td>\n",
       "    </tr>\n",
       "  </tbody>\n",
       "</table>\n",
       "<p>58 rows × 4 columns</p>\n",
       "</div>"
      ],
      "text/plain": [
       "        Random base  random factor  random add  random exponent\n",
       "sample                                                         \n",
       "1          0.001196       0.000564    0.482899         0.001570\n",
       "2          0.131823       0.080914    0.267100         0.245351\n",
       "3          0.311402       0.154805    0.418073         0.753292\n",
       "...             ...            ...         ...              ...\n",
       "27         0.112560       0.059998    0.447564         0.325946\n",
       "28         0.855819       0.271771    1.772778         0.915513\n",
       "29         0.945029       0.608312    1.842718         0.962441\n",
       "\n",
       "[58 rows x 4 columns]"
      ]
     },
     "execution_count": 18,
     "metadata": {},
     "output_type": "execute_result"
    }
   ],
   "source": [
    "df6 = pd.read_excel(\"examples/random.numbers.xlsx\", index_col=[0])\n",
    "\n",
    "# vertical concatenate along rows\n",
    "# **NOTE**: Don't get fooled by the table values. Remember to check dimensions and lengths.  \n",
    "# all rows are now repeated in sequence, to double the total number of rows\n",
    "pd.concat([df6, df6], axis=0)"
   ]
  },
  {
   "cell_type": "code",
   "execution_count": 19,
   "metadata": {
    "ExecuteTime": {
     "start_time": "2018-06-20T16:52:12.176Z"
    }
   },
   "outputs": [
    {
     "data": {
      "text/html": [
       "<div>\n",
       "<style scoped>\n",
       "    .dataframe tbody tr th:only-of-type {\n",
       "        vertical-align: middle;\n",
       "    }\n",
       "\n",
       "    .dataframe tbody tr th {\n",
       "        vertical-align: top;\n",
       "    }\n",
       "\n",
       "    .dataframe thead th {\n",
       "        text-align: right;\n",
       "    }\n",
       "</style>\n",
       "<table border=\"1\" class=\"dataframe\">\n",
       "  <thead>\n",
       "    <tr style=\"text-align: right;\">\n",
       "      <th></th>\n",
       "      <th>Random base</th>\n",
       "      <th>random factor</th>\n",
       "      <th>random add</th>\n",
       "      <th>random exponent</th>\n",
       "      <th>Random base</th>\n",
       "      <th>random factor</th>\n",
       "      <th>random add</th>\n",
       "      <th>random exponent</th>\n",
       "    </tr>\n",
       "    <tr>\n",
       "      <th>sample</th>\n",
       "      <th></th>\n",
       "      <th></th>\n",
       "      <th></th>\n",
       "      <th></th>\n",
       "      <th></th>\n",
       "      <th></th>\n",
       "      <th></th>\n",
       "      <th></th>\n",
       "    </tr>\n",
       "  </thead>\n",
       "  <tbody>\n",
       "    <tr>\n",
       "      <th>1</th>\n",
       "      <td>0.001196</td>\n",
       "      <td>0.000564</td>\n",
       "      <td>0.482899</td>\n",
       "      <td>0.001570</td>\n",
       "      <td>0.001196</td>\n",
       "      <td>0.000564</td>\n",
       "      <td>0.482899</td>\n",
       "      <td>0.001570</td>\n",
       "    </tr>\n",
       "    <tr>\n",
       "      <th>2</th>\n",
       "      <td>0.131823</td>\n",
       "      <td>0.080914</td>\n",
       "      <td>0.267100</td>\n",
       "      <td>0.245351</td>\n",
       "      <td>0.131823</td>\n",
       "      <td>0.080914</td>\n",
       "      <td>0.267100</td>\n",
       "      <td>0.245351</td>\n",
       "    </tr>\n",
       "    <tr>\n",
       "      <th>3</th>\n",
       "      <td>0.311402</td>\n",
       "      <td>0.154805</td>\n",
       "      <td>0.418073</td>\n",
       "      <td>0.753292</td>\n",
       "      <td>0.311402</td>\n",
       "      <td>0.154805</td>\n",
       "      <td>0.418073</td>\n",
       "      <td>0.753292</td>\n",
       "    </tr>\n",
       "    <tr>\n",
       "      <th>...</th>\n",
       "      <td>...</td>\n",
       "      <td>...</td>\n",
       "      <td>...</td>\n",
       "      <td>...</td>\n",
       "      <td>...</td>\n",
       "      <td>...</td>\n",
       "      <td>...</td>\n",
       "      <td>...</td>\n",
       "    </tr>\n",
       "    <tr>\n",
       "      <th>27</th>\n",
       "      <td>0.112560</td>\n",
       "      <td>0.059998</td>\n",
       "      <td>0.447564</td>\n",
       "      <td>0.325946</td>\n",
       "      <td>0.112560</td>\n",
       "      <td>0.059998</td>\n",
       "      <td>0.447564</td>\n",
       "      <td>0.325946</td>\n",
       "    </tr>\n",
       "    <tr>\n",
       "      <th>28</th>\n",
       "      <td>0.855819</td>\n",
       "      <td>0.271771</td>\n",
       "      <td>1.772778</td>\n",
       "      <td>0.915513</td>\n",
       "      <td>0.855819</td>\n",
       "      <td>0.271771</td>\n",
       "      <td>1.772778</td>\n",
       "      <td>0.915513</td>\n",
       "    </tr>\n",
       "    <tr>\n",
       "      <th>29</th>\n",
       "      <td>0.945029</td>\n",
       "      <td>0.608312</td>\n",
       "      <td>1.842718</td>\n",
       "      <td>0.962441</td>\n",
       "      <td>0.945029</td>\n",
       "      <td>0.608312</td>\n",
       "      <td>1.842718</td>\n",
       "      <td>0.962441</td>\n",
       "    </tr>\n",
       "  </tbody>\n",
       "</table>\n",
       "<p>29 rows × 8 columns</p>\n",
       "</div>"
      ],
      "text/plain": [
       "        Random base  random factor  random add  random exponent  Random base  \\\n",
       "sample                                                                         \n",
       "1          0.001196       0.000564    0.482899         0.001570     0.001196   \n",
       "2          0.131823       0.080914    0.267100         0.245351     0.131823   \n",
       "3          0.311402       0.154805    0.418073         0.753292     0.311402   \n",
       "...             ...            ...         ...              ...          ...   \n",
       "27         0.112560       0.059998    0.447564         0.325946     0.112560   \n",
       "28         0.855819       0.271771    1.772778         0.915513     0.855819   \n",
       "29         0.945029       0.608312    1.842718         0.962441     0.945029   \n",
       "\n",
       "        random factor  random add  random exponent  \n",
       "sample                                              \n",
       "1            0.000564    0.482899         0.001570  \n",
       "2            0.080914    0.267100         0.245351  \n",
       "3            0.154805    0.418073         0.753292  \n",
       "...               ...         ...              ...  \n",
       "27           0.059998    0.447564         0.325946  \n",
       "28           0.271771    1.772778         0.915513  \n",
       "29           0.608312    1.842718         0.962441  \n",
       "\n",
       "[29 rows x 8 columns]"
      ]
     },
     "execution_count": 19,
     "metadata": {},
     "output_type": "execute_result"
    }
   ],
   "source": [
    "# horizontal concatenate along columns. Harder to get fooled here due to the different visual.\n",
    "# But... How do we distinguish and access one table's columns from another?\n",
    "pd.concat([df6, df6], axis=1)"
   ]
  },
  {
   "cell_type": "code",
   "execution_count": 20,
   "metadata": {
    "ExecuteTime": {
     "start_time": "2018-06-20T16:52:12.213Z"
    }
   },
   "outputs": [
    {
     "data": {
      "text/html": [
       "<div>\n",
       "<style scoped>\n",
       "    .dataframe tbody tr th:only-of-type {\n",
       "        vertical-align: middle;\n",
       "    }\n",
       "\n",
       "    .dataframe tbody tr th {\n",
       "        vertical-align: top;\n",
       "    }\n",
       "\n",
       "    .dataframe thead tr th {\n",
       "        text-align: left;\n",
       "    }\n",
       "\n",
       "    .dataframe thead tr:last-of-type th {\n",
       "        text-align: right;\n",
       "    }\n",
       "</style>\n",
       "<table border=\"1\" class=\"dataframe\">\n",
       "  <thead>\n",
       "    <tr>\n",
       "      <th></th>\n",
       "      <th colspan=\"4\" halign=\"left\">f</th>\n",
       "      <th colspan=\"4\" halign=\"left\">s</th>\n",
       "    </tr>\n",
       "    <tr>\n",
       "      <th></th>\n",
       "      <th>Random base</th>\n",
       "      <th>random factor</th>\n",
       "      <th>random add</th>\n",
       "      <th>random exponent</th>\n",
       "      <th>Random base</th>\n",
       "      <th>random factor</th>\n",
       "      <th>random add</th>\n",
       "      <th>random exponent</th>\n",
       "    </tr>\n",
       "    <tr>\n",
       "      <th>sample</th>\n",
       "      <th></th>\n",
       "      <th></th>\n",
       "      <th></th>\n",
       "      <th></th>\n",
       "      <th></th>\n",
       "      <th></th>\n",
       "      <th></th>\n",
       "      <th></th>\n",
       "    </tr>\n",
       "  </thead>\n",
       "  <tbody>\n",
       "    <tr>\n",
       "      <th>1</th>\n",
       "      <td>0.001196</td>\n",
       "      <td>0.000564</td>\n",
       "      <td>0.482899</td>\n",
       "      <td>0.001570</td>\n",
       "      <td>0.001196</td>\n",
       "      <td>0.000564</td>\n",
       "      <td>0.482899</td>\n",
       "      <td>0.001570</td>\n",
       "    </tr>\n",
       "    <tr>\n",
       "      <th>2</th>\n",
       "      <td>0.131823</td>\n",
       "      <td>0.080914</td>\n",
       "      <td>0.267100</td>\n",
       "      <td>0.245351</td>\n",
       "      <td>0.131823</td>\n",
       "      <td>0.080914</td>\n",
       "      <td>0.267100</td>\n",
       "      <td>0.245351</td>\n",
       "    </tr>\n",
       "    <tr>\n",
       "      <th>3</th>\n",
       "      <td>0.311402</td>\n",
       "      <td>0.154805</td>\n",
       "      <td>0.418073</td>\n",
       "      <td>0.753292</td>\n",
       "      <td>0.311402</td>\n",
       "      <td>0.154805</td>\n",
       "      <td>0.418073</td>\n",
       "      <td>0.753292</td>\n",
       "    </tr>\n",
       "    <tr>\n",
       "      <th>...</th>\n",
       "      <td>...</td>\n",
       "      <td>...</td>\n",
       "      <td>...</td>\n",
       "      <td>...</td>\n",
       "      <td>...</td>\n",
       "      <td>...</td>\n",
       "      <td>...</td>\n",
       "      <td>...</td>\n",
       "    </tr>\n",
       "    <tr>\n",
       "      <th>27</th>\n",
       "      <td>0.112560</td>\n",
       "      <td>0.059998</td>\n",
       "      <td>0.447564</td>\n",
       "      <td>0.325946</td>\n",
       "      <td>0.112560</td>\n",
       "      <td>0.059998</td>\n",
       "      <td>0.447564</td>\n",
       "      <td>0.325946</td>\n",
       "    </tr>\n",
       "    <tr>\n",
       "      <th>28</th>\n",
       "      <td>0.855819</td>\n",
       "      <td>0.271771</td>\n",
       "      <td>1.772778</td>\n",
       "      <td>0.915513</td>\n",
       "      <td>0.855819</td>\n",
       "      <td>0.271771</td>\n",
       "      <td>1.772778</td>\n",
       "      <td>0.915513</td>\n",
       "    </tr>\n",
       "    <tr>\n",
       "      <th>29</th>\n",
       "      <td>0.945029</td>\n",
       "      <td>0.608312</td>\n",
       "      <td>1.842718</td>\n",
       "      <td>0.962441</td>\n",
       "      <td>0.945029</td>\n",
       "      <td>0.608312</td>\n",
       "      <td>1.842718</td>\n",
       "      <td>0.962441</td>\n",
       "    </tr>\n",
       "  </tbody>\n",
       "</table>\n",
       "<p>29 rows × 8 columns</p>\n",
       "</div>"
      ],
      "text/plain": [
       "                 f                                                    s  \\\n",
       "       Random base random factor random add random exponent Random base   \n",
       "sample                                                                    \n",
       "1         0.001196      0.000564   0.482899        0.001570    0.001196   \n",
       "2         0.131823      0.080914   0.267100        0.245351    0.131823   \n",
       "3         0.311402      0.154805   0.418073        0.753292    0.311402   \n",
       "...            ...           ...        ...             ...         ...   \n",
       "27        0.112560      0.059998   0.447564        0.325946    0.112560   \n",
       "28        0.855819      0.271771   1.772778        0.915513    0.855819   \n",
       "29        0.945029      0.608312   1.842718        0.962441    0.945029   \n",
       "\n",
       "                                                 \n",
       "       random factor random add random exponent  \n",
       "sample                                           \n",
       "1           0.000564   0.482899        0.001570  \n",
       "2           0.080914   0.267100        0.245351  \n",
       "3           0.154805   0.418073        0.753292  \n",
       "...              ...        ...             ...  \n",
       "27          0.059998   0.447564        0.325946  \n",
       "28          0.271771   1.772778        0.915513  \n",
       "29          0.608312   1.842718        0.962441  \n",
       "\n",
       "[29 rows x 8 columns]"
      ]
     },
     "execution_count": 20,
     "metadata": {},
     "output_type": "execute_result"
    }
   ],
   "source": [
    "# horizontal concatenate along columns, with hierarchal index. Now we can distinguish the two tables\n",
    "pd.concat([df6, df6], axis=1, keys=['f','s'])"
   ]
  },
  {
   "cell_type": "markdown",
   "metadata": {},
   "source": [
    "#### Relational Joins\n",
    "`pandas` provides `merge()` as the entry point to standard database join operations between `DataFrame` objects. `join()` is a special case of `merge()` known as the *inner join*. However, in `pandas`, `merge()` is a general operator, while `join()` is a `Dataframe` local operator. This means the `merge()` operation will automatically join on columns with the same name for inner joins. Inner joins imply an equality check for all shared columns between two tables.\n",
    "\n",
    "| Merge method | Description | Example |\n",
    "| --- | --- | --- |\n",
    "| left | Use keys from left frame only | ![Left join on both keys](https://pandas.pydata.org/pandas-docs/stable/_images/merging_merge_on_key_left.png)|\n",
    "| right | Use keys from right frame only | ![Right join on both keys](https://pandas.pydata.org/pandas-docs/stable/_images/merging_merge_on_key_right.png) |\n",
    "| outer | Use union of keys from both frames | ![Outer join on both keys](https://pandas.pydata.org/pandas-docs/stable/_images/merging_merge_on_key_outer.png) |\n",
    "| inner | Use intersection of keys from both frames | ![Inner join on both keys](https://pandas.pydata.org/pandas-docs/stable/_images/merging_merge_on_key_inner.png) |"
   ]
  },
  {
   "cell_type": "code",
   "execution_count": 21,
   "metadata": {
    "ExecuteTime": {
     "start_time": "2018-06-20T16:52:12.657Z"
    }
   },
   "outputs": [],
   "source": [
    "# randomly ordering\n",
    "x = df6.sample(frac=1, replace=False)\n",
    "y = df6.sample(frac=1, replace=False)"
   ]
  },
  {
   "cell_type": "code",
   "execution_count": 22,
   "metadata": {
    "ExecuteTime": {
     "start_time": "2018-06-20T16:52:12.691Z"
    }
   },
   "outputs": [
    {
     "data": {
      "text/html": [
       "<div>\n",
       "<style scoped>\n",
       "    .dataframe tbody tr th:only-of-type {\n",
       "        vertical-align: middle;\n",
       "    }\n",
       "\n",
       "    .dataframe tbody tr th {\n",
       "        vertical-align: top;\n",
       "    }\n",
       "\n",
       "    .dataframe thead th {\n",
       "        text-align: right;\n",
       "    }\n",
       "</style>\n",
       "<table border=\"1\" class=\"dataframe\">\n",
       "  <thead>\n",
       "    <tr style=\"text-align: right;\">\n",
       "      <th></th>\n",
       "      <th>Random base_x</th>\n",
       "      <th>random factor_x</th>\n",
       "      <th>random add_x</th>\n",
       "      <th>random exponent_x</th>\n",
       "      <th>Random base_y</th>\n",
       "      <th>random factor_y</th>\n",
       "      <th>random add_y</th>\n",
       "      <th>random exponent_y</th>\n",
       "    </tr>\n",
       "    <tr>\n",
       "      <th>sample</th>\n",
       "      <th></th>\n",
       "      <th></th>\n",
       "      <th></th>\n",
       "      <th></th>\n",
       "      <th></th>\n",
       "      <th></th>\n",
       "      <th></th>\n",
       "      <th></th>\n",
       "    </tr>\n",
       "  </thead>\n",
       "  <tbody>\n",
       "    <tr>\n",
       "      <th>1</th>\n",
       "      <td>0.001196</td>\n",
       "      <td>0.000564</td>\n",
       "      <td>0.482899</td>\n",
       "      <td>0.001570</td>\n",
       "      <td>0.001196</td>\n",
       "      <td>0.000564</td>\n",
       "      <td>0.482899</td>\n",
       "      <td>0.001570</td>\n",
       "    </tr>\n",
       "    <tr>\n",
       "      <th>2</th>\n",
       "      <td>0.131823</td>\n",
       "      <td>0.080914</td>\n",
       "      <td>0.267100</td>\n",
       "      <td>0.245351</td>\n",
       "      <td>0.131823</td>\n",
       "      <td>0.080914</td>\n",
       "      <td>0.267100</td>\n",
       "      <td>0.245351</td>\n",
       "    </tr>\n",
       "    <tr>\n",
       "      <th>3</th>\n",
       "      <td>0.311402</td>\n",
       "      <td>0.154805</td>\n",
       "      <td>0.418073</td>\n",
       "      <td>0.753292</td>\n",
       "      <td>0.311402</td>\n",
       "      <td>0.154805</td>\n",
       "      <td>0.418073</td>\n",
       "      <td>0.753292</td>\n",
       "    </tr>\n",
       "    <tr>\n",
       "      <th>...</th>\n",
       "      <td>...</td>\n",
       "      <td>...</td>\n",
       "      <td>...</td>\n",
       "      <td>...</td>\n",
       "      <td>...</td>\n",
       "      <td>...</td>\n",
       "      <td>...</td>\n",
       "      <td>...</td>\n",
       "    </tr>\n",
       "    <tr>\n",
       "      <th>27</th>\n",
       "      <td>0.112560</td>\n",
       "      <td>0.059998</td>\n",
       "      <td>0.447564</td>\n",
       "      <td>0.325946</td>\n",
       "      <td>0.112560</td>\n",
       "      <td>0.059998</td>\n",
       "      <td>0.447564</td>\n",
       "      <td>0.325946</td>\n",
       "    </tr>\n",
       "    <tr>\n",
       "      <th>28</th>\n",
       "      <td>0.855819</td>\n",
       "      <td>0.271771</td>\n",
       "      <td>1.772778</td>\n",
       "      <td>0.915513</td>\n",
       "      <td>0.855819</td>\n",
       "      <td>0.271771</td>\n",
       "      <td>1.772778</td>\n",
       "      <td>0.915513</td>\n",
       "    </tr>\n",
       "    <tr>\n",
       "      <th>29</th>\n",
       "      <td>0.945029</td>\n",
       "      <td>0.608312</td>\n",
       "      <td>1.842718</td>\n",
       "      <td>0.962441</td>\n",
       "      <td>0.945029</td>\n",
       "      <td>0.608312</td>\n",
       "      <td>1.842718</td>\n",
       "      <td>0.962441</td>\n",
       "    </tr>\n",
       "  </tbody>\n",
       "</table>\n",
       "<p>29 rows × 8 columns</p>\n",
       "</div>"
      ],
      "text/plain": [
       "        Random base_x  random factor_x  random add_x  random exponent_x  \\\n",
       "sample                                                                    \n",
       "1            0.001196         0.000564      0.482899           0.001570   \n",
       "2            0.131823         0.080914      0.267100           0.245351   \n",
       "3            0.311402         0.154805      0.418073           0.753292   \n",
       "...               ...              ...           ...                ...   \n",
       "27           0.112560         0.059998      0.447564           0.325946   \n",
       "28           0.855819         0.271771      1.772778           0.915513   \n",
       "29           0.945029         0.608312      1.842718           0.962441   \n",
       "\n",
       "        Random base_y  random factor_y  random add_y  random exponent_y  \n",
       "sample                                                                   \n",
       "1            0.001196         0.000564      0.482899           0.001570  \n",
       "2            0.131823         0.080914      0.267100           0.245351  \n",
       "3            0.311402         0.154805      0.418073           0.753292  \n",
       "...               ...              ...           ...                ...  \n",
       "27           0.112560         0.059998      0.447564           0.325946  \n",
       "28           0.855819         0.271771      1.772778           0.915513  \n",
       "29           0.945029         0.608312      1.842718           0.962441  \n",
       "\n",
       "[29 rows x 8 columns]"
      ]
     },
     "execution_count": 22,
     "metadata": {},
     "output_type": "execute_result"
    }
   ],
   "source": [
    "# merge doesn't assume \n",
    "j1 = x.merge(y, left_index=True, right_index=True, suffixes=('_x', '_y'), sort=True)\n",
    "# join assumes joining on the table index\n",
    "j2 = x.join(other=y, lsuffix='_x', rsuffix='_y', sort=True)\n",
    "#**NOTE**: j1 equals j2\n",
    "j2"
   ]
  },
  {
   "cell_type": "markdown",
   "metadata": {},
   "source": [
    "But one will quickly notice the example is similar for all other types of joins. This is due to the 1-to-1 relationship with the index. If we force a size difference between the joining tables, differences in joins would become noticeable (aside from paying attention to the index). "
   ]
  },
  {
   "cell_type": "code",
   "execution_count": 23,
   "metadata": {
    "ExecuteTime": {
     "start_time": "2018-06-20T16:52:13.613Z"
    }
   },
   "outputs": [],
   "source": [
    "# same keys and rows, but now has random duplicate and missing rows and index + a size difference.\n",
    "x = df6.sample(frac=0.5, replace=True)\n",
    "y = df6.sample(frac=2, replace=True)\n",
    "\n",
    "# each join type\n",
    "join_left = x.merge(y, left_index=True, right_index=True, suffixes=('_x', '_y'), sort=True, how='left')\n",
    "join_right = x.merge(y, left_index=True, right_index=True, suffixes=('_x', '_y'), sort=True, how='right')\n",
    "join_inner = x.merge(y, left_index=True, right_index=True, suffixes=('_x', '_y'), sort=True, how='inner')\n",
    "join_outer = x.merge(y, left_index=True, right_index=True, suffixes=('_x', '_y'), sort=True, how='outer')"
   ]
  },
  {
   "cell_type": "code",
   "execution_count": 24,
   "metadata": {
    "ExecuteTime": {
     "start_time": "2018-06-20T16:52:13.649Z"
    }
   },
   "outputs": [
    {
     "data": {
      "text/html": [
       "<div>\n",
       "<style scoped>\n",
       "    .dataframe tbody tr th:only-of-type {\n",
       "        vertical-align: middle;\n",
       "    }\n",
       "\n",
       "    .dataframe tbody tr th {\n",
       "        vertical-align: top;\n",
       "    }\n",
       "\n",
       "    .dataframe thead th {\n",
       "        text-align: right;\n",
       "    }\n",
       "</style>\n",
       "<table border=\"1\" class=\"dataframe\">\n",
       "  <thead>\n",
       "    <tr style=\"text-align: right;\">\n",
       "      <th></th>\n",
       "      <th>Random base_x</th>\n",
       "      <th>random factor_x</th>\n",
       "      <th>random add_x</th>\n",
       "      <th>random exponent_x</th>\n",
       "      <th>Random base_y</th>\n",
       "      <th>random factor_y</th>\n",
       "      <th>random add_y</th>\n",
       "      <th>random exponent_y</th>\n",
       "    </tr>\n",
       "    <tr>\n",
       "      <th>sample</th>\n",
       "      <th></th>\n",
       "      <th></th>\n",
       "      <th></th>\n",
       "      <th></th>\n",
       "      <th></th>\n",
       "      <th></th>\n",
       "      <th></th>\n",
       "      <th></th>\n",
       "    </tr>\n",
       "  </thead>\n",
       "  <tbody>\n",
       "    <tr>\n",
       "      <th>1</th>\n",
       "      <td>0.001196</td>\n",
       "      <td>0.000564</td>\n",
       "      <td>0.482899</td>\n",
       "      <td>0.001570</td>\n",
       "      <td>0.001196</td>\n",
       "      <td>0.000564</td>\n",
       "      <td>0.482899</td>\n",
       "      <td>0.001570</td>\n",
       "    </tr>\n",
       "    <tr>\n",
       "      <th>1</th>\n",
       "      <td>0.001196</td>\n",
       "      <td>0.000564</td>\n",
       "      <td>0.482899</td>\n",
       "      <td>0.001570</td>\n",
       "      <td>0.001196</td>\n",
       "      <td>0.000564</td>\n",
       "      <td>0.482899</td>\n",
       "      <td>0.001570</td>\n",
       "    </tr>\n",
       "    <tr>\n",
       "      <th>1</th>\n",
       "      <td>0.001196</td>\n",
       "      <td>0.000564</td>\n",
       "      <td>0.482899</td>\n",
       "      <td>0.001570</td>\n",
       "      <td>0.001196</td>\n",
       "      <td>0.000564</td>\n",
       "      <td>0.482899</td>\n",
       "      <td>0.001570</td>\n",
       "    </tr>\n",
       "    <tr>\n",
       "      <th>...</th>\n",
       "      <td>...</td>\n",
       "      <td>...</td>\n",
       "      <td>...</td>\n",
       "      <td>...</td>\n",
       "      <td>...</td>\n",
       "      <td>...</td>\n",
       "      <td>...</td>\n",
       "      <td>...</td>\n",
       "    </tr>\n",
       "    <tr>\n",
       "      <th>27</th>\n",
       "      <td>0.112560</td>\n",
       "      <td>0.059998</td>\n",
       "      <td>0.447564</td>\n",
       "      <td>0.325946</td>\n",
       "      <td>0.112560</td>\n",
       "      <td>0.059998</td>\n",
       "      <td>0.447564</td>\n",
       "      <td>0.325946</td>\n",
       "    </tr>\n",
       "    <tr>\n",
       "      <th>28</th>\n",
       "      <td>0.855819</td>\n",
       "      <td>0.271771</td>\n",
       "      <td>1.772778</td>\n",
       "      <td>0.915513</td>\n",
       "      <td>0.855819</td>\n",
       "      <td>0.271771</td>\n",
       "      <td>1.772778</td>\n",
       "      <td>0.915513</td>\n",
       "    </tr>\n",
       "    <tr>\n",
       "      <th>28</th>\n",
       "      <td>0.855819</td>\n",
       "      <td>0.271771</td>\n",
       "      <td>1.772778</td>\n",
       "      <td>0.915513</td>\n",
       "      <td>0.855819</td>\n",
       "      <td>0.271771</td>\n",
       "      <td>1.772778</td>\n",
       "      <td>0.915513</td>\n",
       "    </tr>\n",
       "  </tbody>\n",
       "</table>\n",
       "<p>34 rows × 8 columns</p>\n",
       "</div>"
      ],
      "text/plain": [
       "        Random base_x  random factor_x  random add_x  random exponent_x  \\\n",
       "sample                                                                    \n",
       "1            0.001196         0.000564      0.482899           0.001570   \n",
       "1            0.001196         0.000564      0.482899           0.001570   \n",
       "1            0.001196         0.000564      0.482899           0.001570   \n",
       "...               ...              ...           ...                ...   \n",
       "27           0.112560         0.059998      0.447564           0.325946   \n",
       "28           0.855819         0.271771      1.772778           0.915513   \n",
       "28           0.855819         0.271771      1.772778           0.915513   \n",
       "\n",
       "        Random base_y  random factor_y  random add_y  random exponent_y  \n",
       "sample                                                                   \n",
       "1            0.001196         0.000564      0.482899           0.001570  \n",
       "1            0.001196         0.000564      0.482899           0.001570  \n",
       "1            0.001196         0.000564      0.482899           0.001570  \n",
       "...               ...              ...           ...                ...  \n",
       "27           0.112560         0.059998      0.447564           0.325946  \n",
       "28           0.855819         0.271771      1.772778           0.915513  \n",
       "28           0.855819         0.271771      1.772778           0.915513  \n",
       "\n",
       "[34 rows x 8 columns]"
      ]
     },
     "execution_count": 24,
     "metadata": {},
     "output_type": "execute_result"
    }
   ],
   "source": [
    "# The left table values are preserved but the right table may have NaN values for values that couldn't join\n",
    "join_left"
   ]
  },
  {
   "cell_type": "code",
   "execution_count": 25,
   "metadata": {
    "ExecuteTime": {
     "start_time": "2018-06-20T16:52:13.680Z"
    }
   },
   "outputs": [
    {
     "data": {
      "text/html": [
       "<div>\n",
       "<style scoped>\n",
       "    .dataframe tbody tr th:only-of-type {\n",
       "        vertical-align: middle;\n",
       "    }\n",
       "\n",
       "    .dataframe tbody tr th {\n",
       "        vertical-align: top;\n",
       "    }\n",
       "\n",
       "    .dataframe thead th {\n",
       "        text-align: right;\n",
       "    }\n",
       "</style>\n",
       "<table border=\"1\" class=\"dataframe\">\n",
       "  <thead>\n",
       "    <tr style=\"text-align: right;\">\n",
       "      <th></th>\n",
       "      <th>Random base_x</th>\n",
       "      <th>random factor_x</th>\n",
       "      <th>random add_x</th>\n",
       "      <th>random exponent_x</th>\n",
       "      <th>Random base_y</th>\n",
       "      <th>random factor_y</th>\n",
       "      <th>random add_y</th>\n",
       "      <th>random exponent_y</th>\n",
       "    </tr>\n",
       "    <tr>\n",
       "      <th>sample</th>\n",
       "      <th></th>\n",
       "      <th></th>\n",
       "      <th></th>\n",
       "      <th></th>\n",
       "      <th></th>\n",
       "      <th></th>\n",
       "      <th></th>\n",
       "      <th></th>\n",
       "    </tr>\n",
       "  </thead>\n",
       "  <tbody>\n",
       "    <tr>\n",
       "      <th>1</th>\n",
       "      <td>0.001196</td>\n",
       "      <td>0.000564</td>\n",
       "      <td>0.482899</td>\n",
       "      <td>0.001570</td>\n",
       "      <td>0.001196</td>\n",
       "      <td>0.000564</td>\n",
       "      <td>0.482899</td>\n",
       "      <td>0.001570</td>\n",
       "    </tr>\n",
       "    <tr>\n",
       "      <th>1</th>\n",
       "      <td>0.001196</td>\n",
       "      <td>0.000564</td>\n",
       "      <td>0.482899</td>\n",
       "      <td>0.001570</td>\n",
       "      <td>0.001196</td>\n",
       "      <td>0.000564</td>\n",
       "      <td>0.482899</td>\n",
       "      <td>0.001570</td>\n",
       "    </tr>\n",
       "    <tr>\n",
       "      <th>1</th>\n",
       "      <td>0.001196</td>\n",
       "      <td>0.000564</td>\n",
       "      <td>0.482899</td>\n",
       "      <td>0.001570</td>\n",
       "      <td>0.001196</td>\n",
       "      <td>0.000564</td>\n",
       "      <td>0.482899</td>\n",
       "      <td>0.001570</td>\n",
       "    </tr>\n",
       "    <tr>\n",
       "      <th>...</th>\n",
       "      <td>...</td>\n",
       "      <td>...</td>\n",
       "      <td>...</td>\n",
       "      <td>...</td>\n",
       "      <td>...</td>\n",
       "      <td>...</td>\n",
       "      <td>...</td>\n",
       "      <td>...</td>\n",
       "    </tr>\n",
       "    <tr>\n",
       "      <th>28</th>\n",
       "      <td>0.855819</td>\n",
       "      <td>0.271771</td>\n",
       "      <td>1.772778</td>\n",
       "      <td>0.915513</td>\n",
       "      <td>0.855819</td>\n",
       "      <td>0.271771</td>\n",
       "      <td>1.772778</td>\n",
       "      <td>0.915513</td>\n",
       "    </tr>\n",
       "    <tr>\n",
       "      <th>29</th>\n",
       "      <td>NaN</td>\n",
       "      <td>NaN</td>\n",
       "      <td>NaN</td>\n",
       "      <td>NaN</td>\n",
       "      <td>0.945029</td>\n",
       "      <td>0.608312</td>\n",
       "      <td>1.842718</td>\n",
       "      <td>0.962441</td>\n",
       "    </tr>\n",
       "    <tr>\n",
       "      <th>29</th>\n",
       "      <td>NaN</td>\n",
       "      <td>NaN</td>\n",
       "      <td>NaN</td>\n",
       "      <td>NaN</td>\n",
       "      <td>0.945029</td>\n",
       "      <td>0.608312</td>\n",
       "      <td>1.842718</td>\n",
       "      <td>0.962441</td>\n",
       "    </tr>\n",
       "  </tbody>\n",
       "</table>\n",
       "<p>66 rows × 8 columns</p>\n",
       "</div>"
      ],
      "text/plain": [
       "        Random base_x  random factor_x  random add_x  random exponent_x  \\\n",
       "sample                                                                    \n",
       "1            0.001196         0.000564      0.482899           0.001570   \n",
       "1            0.001196         0.000564      0.482899           0.001570   \n",
       "1            0.001196         0.000564      0.482899           0.001570   \n",
       "...               ...              ...           ...                ...   \n",
       "28           0.855819         0.271771      1.772778           0.915513   \n",
       "29                NaN              NaN           NaN                NaN   \n",
       "29                NaN              NaN           NaN                NaN   \n",
       "\n",
       "        Random base_y  random factor_y  random add_y  random exponent_y  \n",
       "sample                                                                   \n",
       "1            0.001196         0.000564      0.482899           0.001570  \n",
       "1            0.001196         0.000564      0.482899           0.001570  \n",
       "1            0.001196         0.000564      0.482899           0.001570  \n",
       "...               ...              ...           ...                ...  \n",
       "28           0.855819         0.271771      1.772778           0.915513  \n",
       "29           0.945029         0.608312      1.842718           0.962441  \n",
       "29           0.945029         0.608312      1.842718           0.962441  \n",
       "\n",
       "[66 rows x 8 columns]"
      ]
     },
     "execution_count": 25,
     "metadata": {},
     "output_type": "execute_result"
    }
   ],
   "source": [
    "# The right table values are preserved but the left table may have NaN values for values that couldn't join\n",
    "join_right"
   ]
  },
  {
   "cell_type": "code",
   "execution_count": 26,
   "metadata": {
    "ExecuteTime": {
     "start_time": "2018-06-20T16:52:13.714Z"
    }
   },
   "outputs": [
    {
     "data": {
      "text/html": [
       "<div>\n",
       "<style scoped>\n",
       "    .dataframe tbody tr th:only-of-type {\n",
       "        vertical-align: middle;\n",
       "    }\n",
       "\n",
       "    .dataframe tbody tr th {\n",
       "        vertical-align: top;\n",
       "    }\n",
       "\n",
       "    .dataframe thead th {\n",
       "        text-align: right;\n",
       "    }\n",
       "</style>\n",
       "<table border=\"1\" class=\"dataframe\">\n",
       "  <thead>\n",
       "    <tr style=\"text-align: right;\">\n",
       "      <th></th>\n",
       "      <th>Random base_x</th>\n",
       "      <th>random factor_x</th>\n",
       "      <th>random add_x</th>\n",
       "      <th>random exponent_x</th>\n",
       "      <th>Random base_y</th>\n",
       "      <th>random factor_y</th>\n",
       "      <th>random add_y</th>\n",
       "      <th>random exponent_y</th>\n",
       "    </tr>\n",
       "    <tr>\n",
       "      <th>sample</th>\n",
       "      <th></th>\n",
       "      <th></th>\n",
       "      <th></th>\n",
       "      <th></th>\n",
       "      <th></th>\n",
       "      <th></th>\n",
       "      <th></th>\n",
       "      <th></th>\n",
       "    </tr>\n",
       "  </thead>\n",
       "  <tbody>\n",
       "    <tr>\n",
       "      <th>1</th>\n",
       "      <td>0.001196</td>\n",
       "      <td>0.000564</td>\n",
       "      <td>0.482899</td>\n",
       "      <td>0.001570</td>\n",
       "      <td>0.001196</td>\n",
       "      <td>0.000564</td>\n",
       "      <td>0.482899</td>\n",
       "      <td>0.001570</td>\n",
       "    </tr>\n",
       "    <tr>\n",
       "      <th>1</th>\n",
       "      <td>0.001196</td>\n",
       "      <td>0.000564</td>\n",
       "      <td>0.482899</td>\n",
       "      <td>0.001570</td>\n",
       "      <td>0.001196</td>\n",
       "      <td>0.000564</td>\n",
       "      <td>0.482899</td>\n",
       "      <td>0.001570</td>\n",
       "    </tr>\n",
       "    <tr>\n",
       "      <th>1</th>\n",
       "      <td>0.001196</td>\n",
       "      <td>0.000564</td>\n",
       "      <td>0.482899</td>\n",
       "      <td>0.001570</td>\n",
       "      <td>0.001196</td>\n",
       "      <td>0.000564</td>\n",
       "      <td>0.482899</td>\n",
       "      <td>0.001570</td>\n",
       "    </tr>\n",
       "    <tr>\n",
       "      <th>...</th>\n",
       "      <td>...</td>\n",
       "      <td>...</td>\n",
       "      <td>...</td>\n",
       "      <td>...</td>\n",
       "      <td>...</td>\n",
       "      <td>...</td>\n",
       "      <td>...</td>\n",
       "      <td>...</td>\n",
       "    </tr>\n",
       "    <tr>\n",
       "      <th>28</th>\n",
       "      <td>0.855819</td>\n",
       "      <td>0.271771</td>\n",
       "      <td>1.772778</td>\n",
       "      <td>0.915513</td>\n",
       "      <td>0.855819</td>\n",
       "      <td>0.271771</td>\n",
       "      <td>1.772778</td>\n",
       "      <td>0.915513</td>\n",
       "    </tr>\n",
       "    <tr>\n",
       "      <th>29</th>\n",
       "      <td>NaN</td>\n",
       "      <td>NaN</td>\n",
       "      <td>NaN</td>\n",
       "      <td>NaN</td>\n",
       "      <td>0.945029</td>\n",
       "      <td>0.608312</td>\n",
       "      <td>1.842718</td>\n",
       "      <td>0.962441</td>\n",
       "    </tr>\n",
       "    <tr>\n",
       "      <th>29</th>\n",
       "      <td>NaN</td>\n",
       "      <td>NaN</td>\n",
       "      <td>NaN</td>\n",
       "      <td>NaN</td>\n",
       "      <td>0.945029</td>\n",
       "      <td>0.608312</td>\n",
       "      <td>1.842718</td>\n",
       "      <td>0.962441</td>\n",
       "    </tr>\n",
       "  </tbody>\n",
       "</table>\n",
       "<p>68 rows × 8 columns</p>\n",
       "</div>"
      ],
      "text/plain": [
       "        Random base_x  random factor_x  random add_x  random exponent_x  \\\n",
       "sample                                                                    \n",
       "1            0.001196         0.000564      0.482899           0.001570   \n",
       "1            0.001196         0.000564      0.482899           0.001570   \n",
       "1            0.001196         0.000564      0.482899           0.001570   \n",
       "...               ...              ...           ...                ...   \n",
       "28           0.855819         0.271771      1.772778           0.915513   \n",
       "29                NaN              NaN           NaN                NaN   \n",
       "29                NaN              NaN           NaN                NaN   \n",
       "\n",
       "        Random base_y  random factor_y  random add_y  random exponent_y  \n",
       "sample                                                                   \n",
       "1            0.001196         0.000564      0.482899           0.001570  \n",
       "1            0.001196         0.000564      0.482899           0.001570  \n",
       "1            0.001196         0.000564      0.482899           0.001570  \n",
       "...               ...              ...           ...                ...  \n",
       "28           0.855819         0.271771      1.772778           0.915513  \n",
       "29           0.945029         0.608312      1.842718           0.962441  \n",
       "29           0.945029         0.608312      1.842718           0.962441  \n",
       "\n",
       "[68 rows x 8 columns]"
      ]
     },
     "execution_count": 26,
     "metadata": {},
     "output_type": "execute_result"
    }
   ],
   "source": [
    "# Both table values are preserved but both tables may have NaN values for values that couldn't join\n",
    "join_outer"
   ]
  },
  {
   "cell_type": "markdown",
   "metadata": {},
   "source": [
    "**NOTE**: `merge()` also has an `indicator` parameter that stores meta data on which table information came from when populating the joint row's value."
   ]
  },
  {
   "cell_type": "markdown",
   "metadata": {},
   "source": [
    "### Transforming Data\n",
    "\n",
    "To recap, we have covered loading and saving data, some basic element-wise transformations, and merging data. In this section we address in-memory transformations (instead of transforming on-load when initially being read by `pandas`), filtering, and cleaning. \n",
    "\n",
    "##### Duplication\n",
    "Duplicate rows may be found in a `DataFrame` for any number of reasons. One such scenario is following a `merge()` operation with a subset retrieval of columns. The resulting columns are not guaranteed to be unique. The `DataFrame` method `duplicated()` returns a `boolean` `Series` indicating whether each row is a duplicate or not."
   ]
  },
  {
   "cell_type": "code",
   "execution_count": 27,
   "metadata": {
    "ExecuteTime": {
     "start_time": "2018-06-20T16:52:14.580Z"
    }
   },
   "outputs": [
    {
     "data": {
      "text/html": [
       "<div>\n",
       "<style scoped>\n",
       "    .dataframe tbody tr th:only-of-type {\n",
       "        vertical-align: middle;\n",
       "    }\n",
       "\n",
       "    .dataframe tbody tr th {\n",
       "        vertical-align: top;\n",
       "    }\n",
       "\n",
       "    .dataframe thead th {\n",
       "        text-align: right;\n",
       "    }\n",
       "</style>\n",
       "<table border=\"1\" class=\"dataframe\">\n",
       "  <thead>\n",
       "    <tr style=\"text-align: right;\">\n",
       "      <th></th>\n",
       "      <th>k1</th>\n",
       "      <th>k2</th>\n",
       "    </tr>\n",
       "  </thead>\n",
       "  <tbody>\n",
       "    <tr>\n",
       "      <th>0</th>\n",
       "      <td>one</td>\n",
       "      <td>0</td>\n",
       "    </tr>\n",
       "    <tr>\n",
       "      <th>1</th>\n",
       "      <td>two</td>\n",
       "      <td>1</td>\n",
       "    </tr>\n",
       "    <tr>\n",
       "      <th>2</th>\n",
       "      <td>one</td>\n",
       "      <td>0</td>\n",
       "    </tr>\n",
       "    <tr>\n",
       "      <th>...</th>\n",
       "      <td>...</td>\n",
       "      <td>...</td>\n",
       "    </tr>\n",
       "    <tr>\n",
       "      <th>25</th>\n",
       "      <td>two</td>\n",
       "      <td>1</td>\n",
       "    </tr>\n",
       "    <tr>\n",
       "      <th>26</th>\n",
       "      <td>one</td>\n",
       "      <td>0</td>\n",
       "    </tr>\n",
       "    <tr>\n",
       "      <th>27</th>\n",
       "      <td>two</td>\n",
       "      <td>4</td>\n",
       "    </tr>\n",
       "  </tbody>\n",
       "</table>\n",
       "<p>28 rows × 2 columns</p>\n",
       "</div>"
      ],
      "text/plain": [
       "     k1  k2\n",
       "0   one   0\n",
       "1   two   1\n",
       "2   one   0\n",
       "..  ...  ..\n",
       "25  two   1\n",
       "26  one   0\n",
       "27  two   4\n",
       "\n",
       "[28 rows x 2 columns]"
      ]
     },
     "execution_count": 27,
     "metadata": {},
     "output_type": "execute_result"
    }
   ],
   "source": [
    "data = pd.DataFrame({'k1': ['one', 'two'] * 14,\n",
    "                     'k2': [0, 1, 0, 1, 1,\n",
    "                            1, 0, 3, 1, 1,\n",
    "                            0, 1, 3, 2, 1,\n",
    "                            1, 0, 1, 1, 1,\n",
    "                            3, 1, 2, 2, 1,\n",
    "                            1, 0, 4]})\n",
    "data"
   ]
  },
  {
   "cell_type": "code",
   "execution_count": 28,
   "metadata": {
    "ExecuteTime": {
     "start_time": "2018-06-20T16:52:14.629Z"
    }
   },
   "outputs": [
    {
     "data": {
      "text/plain": [
       "0     False\n",
       "1     False\n",
       "2      True\n",
       "      ...  \n",
       "25     True\n",
       "26     True\n",
       "27    False\n",
       "Length: 28, dtype: bool"
      ]
     },
     "execution_count": 28,
     "metadata": {},
     "output_type": "execute_result"
    }
   ],
   "source": [
    "data.duplicated()"
   ]
  },
  {
   "cell_type": "markdown",
   "metadata": {},
   "source": [
    "With this new function, we can now select duplicates. But pandas also provides us a convenient function, `drop_duplicates()`, for selecting unique values based on first or last occurrence. `drop_duplicates()` returns a `DataFrame` where the `duplicated()` returned array elements are `False`"
   ]
  },
  {
   "cell_type": "code",
   "execution_count": 29,
   "metadata": {
    "ExecuteTime": {
     "start_time": "2018-06-20T16:52:15.075Z"
    }
   },
   "outputs": [
    {
     "data": {
      "text/html": [
       "<div>\n",
       "<style scoped>\n",
       "    .dataframe tbody tr th:only-of-type {\n",
       "        vertical-align: middle;\n",
       "    }\n",
       "\n",
       "    .dataframe tbody tr th {\n",
       "        vertical-align: top;\n",
       "    }\n",
       "\n",
       "    .dataframe thead th {\n",
       "        text-align: right;\n",
       "    }\n",
       "</style>\n",
       "<table border=\"1\" class=\"dataframe\">\n",
       "  <thead>\n",
       "    <tr style=\"text-align: right;\">\n",
       "      <th></th>\n",
       "      <th>k1</th>\n",
       "      <th>k2</th>\n",
       "    </tr>\n",
       "  </thead>\n",
       "  <tbody>\n",
       "    <tr>\n",
       "      <th>0</th>\n",
       "      <td>one</td>\n",
       "      <td>0</td>\n",
       "    </tr>\n",
       "    <tr>\n",
       "      <th>1</th>\n",
       "      <td>two</td>\n",
       "      <td>1</td>\n",
       "    </tr>\n",
       "    <tr>\n",
       "      <th>4</th>\n",
       "      <td>one</td>\n",
       "      <td>1</td>\n",
       "    </tr>\n",
       "    <tr>\n",
       "      <th>...</th>\n",
       "      <td>...</td>\n",
       "      <td>...</td>\n",
       "    </tr>\n",
       "    <tr>\n",
       "      <th>13</th>\n",
       "      <td>two</td>\n",
       "      <td>2</td>\n",
       "    </tr>\n",
       "    <tr>\n",
       "      <th>22</th>\n",
       "      <td>one</td>\n",
       "      <td>2</td>\n",
       "    </tr>\n",
       "    <tr>\n",
       "      <th>27</th>\n",
       "      <td>two</td>\n",
       "      <td>4</td>\n",
       "    </tr>\n",
       "  </tbody>\n",
       "</table>\n",
       "<p>8 rows × 2 columns</p>\n",
       "</div>"
      ],
      "text/plain": [
       "     k1  k2\n",
       "0   one   0\n",
       "1   two   1\n",
       "4   one   1\n",
       "..  ...  ..\n",
       "13  two   2\n",
       "22  one   2\n",
       "27  two   4\n",
       "\n",
       "[8 rows x 2 columns]"
      ]
     },
     "execution_count": 29,
     "metadata": {},
     "output_type": "execute_result"
    }
   ],
   "source": [
    "data.drop_duplicates()"
   ]
  },
  {
   "cell_type": "markdown",
   "metadata": {},
   "source": [
    "Methods by default consider all of the columns present on the `DataFrame`. Alternatively, we can specify any subset of them to detect duplicates as well."
   ]
  },
  {
   "cell_type": "code",
   "execution_count": 30,
   "metadata": {
    "ExecuteTime": {
     "start_time": "2018-06-20T16:52:15.547Z"
    }
   },
   "outputs": [
    {
     "data": {
      "text/html": [
       "<div>\n",
       "<style scoped>\n",
       "    .dataframe tbody tr th:only-of-type {\n",
       "        vertical-align: middle;\n",
       "    }\n",
       "\n",
       "    .dataframe tbody tr th {\n",
       "        vertical-align: top;\n",
       "    }\n",
       "\n",
       "    .dataframe thead th {\n",
       "        text-align: right;\n",
       "    }\n",
       "</style>\n",
       "<table border=\"1\" class=\"dataframe\">\n",
       "  <thead>\n",
       "    <tr style=\"text-align: right;\">\n",
       "      <th></th>\n",
       "      <th>k1</th>\n",
       "      <th>k2</th>\n",
       "    </tr>\n",
       "  </thead>\n",
       "  <tbody>\n",
       "    <tr>\n",
       "      <th>0</th>\n",
       "      <td>one</td>\n",
       "      <td>0</td>\n",
       "    </tr>\n",
       "    <tr>\n",
       "      <th>1</th>\n",
       "      <td>two</td>\n",
       "      <td>1</td>\n",
       "    </tr>\n",
       "    <tr>\n",
       "      <th>7</th>\n",
       "      <td>two</td>\n",
       "      <td>3</td>\n",
       "    </tr>\n",
       "    <tr>\n",
       "      <th>13</th>\n",
       "      <td>two</td>\n",
       "      <td>2</td>\n",
       "    </tr>\n",
       "    <tr>\n",
       "      <th>27</th>\n",
       "      <td>two</td>\n",
       "      <td>4</td>\n",
       "    </tr>\n",
       "  </tbody>\n",
       "</table>\n",
       "</div>"
      ],
      "text/plain": [
       "     k1  k2\n",
       "0   one   0\n",
       "1   two   1\n",
       "7   two   3\n",
       "13  two   2\n",
       "27  two   4"
      ]
     },
     "execution_count": 30,
     "metadata": {},
     "output_type": "execute_result"
    }
   ],
   "source": [
    "data.drop_duplicates(subset=['k2'])"
   ]
  },
  {
   "cell_type": "markdown",
   "metadata": {},
   "source": [
    "Finally, `duplicated()` and `drop_duplicates()` by default keep the first observed instance of a value. But, we can also do the same for the last seen instance, for applications where the order matters.\n",
    "\n",
    "**NOTE**: In the above code example, the values of the first and last occurrences swap. As a result, \n",
    "`data.duplicated(keep=\"first\")` is ***not*** the same as `data.duplicated(keep=\"last\")`. This is because indexes are ignored when dropping duplicates, but an equality check includes index values. Additionally, order of occurrence also changes within the `DataFrame`. Thus `data.drop_duplicates(keep=\"first\")` does not equals `data.drop_duplicates(keep=\"last\")`."
   ]
  },
  {
   "cell_type": "markdown",
   "metadata": {},
   "source": [
    "##### Functional Mappings\n",
    "For many data sets, you may wish to perform some transformation based on the values in an `array`, `Series`, or column in a `DataFrame`."
   ]
  },
  {
   "cell_type": "code",
   "execution_count": 31,
   "metadata": {
    "ExecuteTime": {
     "start_time": "2018-06-20T16:52:17.029Z"
    }
   },
   "outputs": [
    {
     "data": {
      "text/html": [
       "<div>\n",
       "<style scoped>\n",
       "    .dataframe tbody tr th:only-of-type {\n",
       "        vertical-align: middle;\n",
       "    }\n",
       "\n",
       "    .dataframe tbody tr th {\n",
       "        vertical-align: top;\n",
       "    }\n",
       "\n",
       "    .dataframe thead th {\n",
       "        text-align: right;\n",
       "    }\n",
       "</style>\n",
       "<table border=\"1\" class=\"dataframe\">\n",
       "  <thead>\n",
       "    <tr style=\"text-align: right;\">\n",
       "      <th></th>\n",
       "      <th>food</th>\n",
       "      <th>ounces</th>\n",
       "    </tr>\n",
       "  </thead>\n",
       "  <tbody>\n",
       "    <tr>\n",
       "      <th>0</th>\n",
       "      <td>bacon</td>\n",
       "      <td>4.0</td>\n",
       "    </tr>\n",
       "    <tr>\n",
       "      <th>1</th>\n",
       "      <td>pulled pork</td>\n",
       "      <td>3.0</td>\n",
       "    </tr>\n",
       "    <tr>\n",
       "      <th>2</th>\n",
       "      <td>bacon</td>\n",
       "      <td>12.0</td>\n",
       "    </tr>\n",
       "    <tr>\n",
       "      <th>...</th>\n",
       "      <td>...</td>\n",
       "      <td>...</td>\n",
       "    </tr>\n",
       "    <tr>\n",
       "      <th>6</th>\n",
       "      <td>pastrami</td>\n",
       "      <td>3.0</td>\n",
       "    </tr>\n",
       "    <tr>\n",
       "      <th>7</th>\n",
       "      <td>honey ham</td>\n",
       "      <td>5.0</td>\n",
       "    </tr>\n",
       "    <tr>\n",
       "      <th>8</th>\n",
       "      <td>nova lox</td>\n",
       "      <td>6.0</td>\n",
       "    </tr>\n",
       "  </tbody>\n",
       "</table>\n",
       "<p>9 rows × 2 columns</p>\n",
       "</div>"
      ],
      "text/plain": [
       "           food  ounces\n",
       "0         bacon     4.0\n",
       "1   pulled pork     3.0\n",
       "2         bacon    12.0\n",
       "..          ...     ...\n",
       "6      pastrami     3.0\n",
       "7     honey ham     5.0\n",
       "8      nova lox     6.0\n",
       "\n",
       "[9 rows x 2 columns]"
      ]
     },
     "execution_count": 31,
     "metadata": {},
     "output_type": "execute_result"
    }
   ],
   "source": [
    "data = pd.DataFrame({'food': ['bacon', 'pulled pork', 'bacon',\n",
    "                              'Pastrami', 'corned beef', 'Bacon',\n",
    "                              'pastrami', 'honey ham', 'nova lox'],\n",
    "                     'ounces': [4, 3, 12, 6, 7.5, 8, 3, 5, 6]})\n",
    "data"
   ]
  },
  {
   "cell_type": "markdown",
   "metadata": {},
   "source": [
    "Suppose you wanted to add a column indicating the type of animal that each food came from. The `map()` method on a `Series` accepts a function or `dict`-like object containing a mapping. Using `map()` is a convenient way to perform element-wise transformations and other data-cleaning-related operations. \n",
    "\n",
    "Similarly, we can also transform measures and numerical data."
   ]
  },
  {
   "cell_type": "code",
   "execution_count": 32,
   "metadata": {
    "ExecuteTime": {
     "start_time": "2018-06-20T16:52:17.497Z"
    }
   },
   "outputs": [
    {
     "data": {
      "text/html": [
       "<div>\n",
       "<style scoped>\n",
       "    .dataframe tbody tr th:only-of-type {\n",
       "        vertical-align: middle;\n",
       "    }\n",
       "\n",
       "    .dataframe tbody tr th {\n",
       "        vertical-align: top;\n",
       "    }\n",
       "\n",
       "    .dataframe thead th {\n",
       "        text-align: right;\n",
       "    }\n",
       "</style>\n",
       "<table border=\"1\" class=\"dataframe\">\n",
       "  <thead>\n",
       "    <tr style=\"text-align: right;\">\n",
       "      <th></th>\n",
       "      <th>food</th>\n",
       "      <th>ounces</th>\n",
       "      <th>grams</th>\n",
       "      <th>animal</th>\n",
       "    </tr>\n",
       "  </thead>\n",
       "  <tbody>\n",
       "    <tr>\n",
       "      <th>0</th>\n",
       "      <td>bacon</td>\n",
       "      <td>4.0</td>\n",
       "      <td>113.3980</td>\n",
       "      <td>pig</td>\n",
       "    </tr>\n",
       "    <tr>\n",
       "      <th>1</th>\n",
       "      <td>pulled pork</td>\n",
       "      <td>3.0</td>\n",
       "      <td>85.0485</td>\n",
       "      <td>pig</td>\n",
       "    </tr>\n",
       "    <tr>\n",
       "      <th>2</th>\n",
       "      <td>bacon</td>\n",
       "      <td>12.0</td>\n",
       "      <td>340.1940</td>\n",
       "      <td>pig</td>\n",
       "    </tr>\n",
       "    <tr>\n",
       "      <th>...</th>\n",
       "      <td>...</td>\n",
       "      <td>...</td>\n",
       "      <td>...</td>\n",
       "      <td>...</td>\n",
       "    </tr>\n",
       "    <tr>\n",
       "      <th>6</th>\n",
       "      <td>pastrami</td>\n",
       "      <td>3.0</td>\n",
       "      <td>85.0485</td>\n",
       "      <td>cow</td>\n",
       "    </tr>\n",
       "    <tr>\n",
       "      <th>7</th>\n",
       "      <td>honey ham</td>\n",
       "      <td>5.0</td>\n",
       "      <td>141.7475</td>\n",
       "      <td>pig</td>\n",
       "    </tr>\n",
       "    <tr>\n",
       "      <th>8</th>\n",
       "      <td>nova lox</td>\n",
       "      <td>6.0</td>\n",
       "      <td>170.0970</td>\n",
       "      <td>salmon</td>\n",
       "    </tr>\n",
       "  </tbody>\n",
       "</table>\n",
       "<p>9 rows × 4 columns</p>\n",
       "</div>"
      ],
      "text/plain": [
       "           food  ounces     grams  animal\n",
       "0         bacon     4.0  113.3980     pig\n",
       "1   pulled pork     3.0   85.0485     pig\n",
       "2         bacon    12.0  340.1940     pig\n",
       "..          ...     ...       ...     ...\n",
       "6      pastrami     3.0   85.0485     cow\n",
       "7     honey ham     5.0  141.7475     pig\n",
       "8      nova lox     6.0  170.0970  salmon\n",
       "\n",
       "[9 rows x 4 columns]"
      ]
     },
     "execution_count": 32,
     "metadata": {},
     "output_type": "execute_result"
    }
   ],
   "source": [
    "meat_to_animal = {\n",
    "  'bacon': 'pig',\n",
    "  'pulled pork': 'pig',\n",
    "  'pastrami': 'cow',\n",
    "  'corned beef': 'cow',\n",
    "  'honey ham': 'pig',\n",
    "  'nova lox': 'salmon'\n",
    "}\n",
    "\n",
    "data['grams'] = data['ounces'].map(lambda x : x*28.3495)\n",
    "data['animal'] = data['food'].str.lower().map(meat_to_animal)\n",
    "data"
   ]
  },
  {
   "cell_type": "code",
   "execution_count": 33,
   "metadata": {
    "ExecuteTime": {
     "start_time": "2018-06-20T16:52:17.542Z"
    }
   },
   "outputs": [
    {
     "data": {
      "text/plain": [
       "0    113.3980\n",
       "1     85.0485\n",
       "2    340.1940\n",
       "       ...   \n",
       "6     85.0485\n",
       "7    141.7475\n",
       "8    170.0970\n",
       "Name: ounces, Length: 9, dtype: float64"
      ]
     },
     "execution_count": 33,
     "metadata": {},
     "output_type": "execute_result"
    }
   ],
   "source": [
    "data['ounces'].map(lambda x : x*28.3495)"
   ]
  },
  {
   "cell_type": "markdown",
   "metadata": {},
   "source": [
    "Now we have a powerful tool for manipulating and populating data. Whereas before we were only cleaning or replacing values, now we can inject calculations into a `DataFrame` with more granularity and a common interface for array-like objects.\n",
    "*We are no longer limited to broad sweeping transformations.*\n",
    "\n",
    "\t\n",
    "##### Filling\n",
    "  \n",
    "While `map()` is technically sufficient  for replacing / reassigning values, such as with duplicates, convenience functions exist for the more repetitive use cases. In this section we look at `fillna()` and `replace()`. \n",
    "\n",
    "Filling in missing data with the `fillna()` method can be thought of as a special case of more general value replacement. Similarly to `merge()` and `join()`, `replace()` is more general than `fillna()`."
   ]
  },
  {
   "cell_type": "code",
   "execution_count": 34,
   "metadata": {
    "ExecuteTime": {
     "start_time": "2018-06-20T16:52:18.006Z"
    }
   },
   "outputs": [
    {
     "data": {
      "text/html": [
       "<div>\n",
       "<style scoped>\n",
       "    .dataframe tbody tr th:only-of-type {\n",
       "        vertical-align: middle;\n",
       "    }\n",
       "\n",
       "    .dataframe tbody tr th {\n",
       "        vertical-align: top;\n",
       "    }\n",
       "\n",
       "    .dataframe thead th {\n",
       "        text-align: right;\n",
       "    }\n",
       "</style>\n",
       "<table border=\"1\" class=\"dataframe\">\n",
       "  <thead>\n",
       "    <tr style=\"text-align: right;\">\n",
       "      <th></th>\n",
       "      <th>a</th>\n",
       "      <th>b</th>\n",
       "      <th>c</th>\n",
       "      <th>d</th>\n",
       "    </tr>\n",
       "    <tr>\n",
       "      <th>message</th>\n",
       "      <th></th>\n",
       "      <th></th>\n",
       "      <th></th>\n",
       "      <th></th>\n",
       "    </tr>\n",
       "  </thead>\n",
       "  <tbody>\n",
       "    <tr>\n",
       "      <th>hello</th>\n",
       "      <td>NaN</td>\n",
       "      <td>2</td>\n",
       "      <td>3</td>\n",
       "      <td>4</td>\n",
       "    </tr>\n",
       "    <tr>\n",
       "      <th>world</th>\n",
       "      <td>5.0</td>\n",
       "      <td>6</td>\n",
       "      <td>7</td>\n",
       "      <td>8</td>\n",
       "    </tr>\n",
       "    <tr>\n",
       "      <th>NaN</th>\n",
       "      <td>9.0</td>\n",
       "      <td>10</td>\n",
       "      <td>11</td>\n",
       "      <td>12</td>\n",
       "    </tr>\n",
       "  </tbody>\n",
       "</table>\n",
       "</div>"
      ],
      "text/plain": [
       "           a   b   c   d\n",
       "message                 \n",
       "hello    NaN   2   3   4\n",
       "world    5.0   6   7   8\n",
       "NaN      9.0  10  11  12"
      ]
     },
     "execution_count": 34,
     "metadata": {},
     "output_type": "execute_result"
    }
   ],
   "source": [
    "df4 = pd.read_csv(filepath_or_buffer = 'examples/ex1.csv',\n",
    "                  sep=',',\n",
    "                  header=0, #lines containing headers. Sometimes they can be on multiple lines due to formatting (numbering starts from 0)\n",
    "                  names=['a', 'b', 'c', 'd', 'message'], # the names we want to use to index columns\n",
    "                  index_col='message', # what is indexing the columns?\n",
    "                  skiprows=0, #we don't skip any rows, only comments. But this is useful when columns and data separated by whitespace or metadata. Or if page breaks are in the data.\n",
    "                  nrows=3, #we grab all the rows\n",
    "                  na_values={'message': ['foo', 'NA'], 'a': ['1'], 'b': ['1'], 'c': ['1'], 'd': ['1']} # what values from the files are actually not available or not expressible\n",
    "                 )\n",
    "df4"
   ]
  },
  {
   "cell_type": "code",
   "execution_count": 35,
   "metadata": {
    "ExecuteTime": {
     "start_time": "2018-06-20T16:52:18.061Z"
    },
    "scrolled": true
   },
   "outputs": [
    {
     "data": {
      "text/html": [
       "<div>\n",
       "<style scoped>\n",
       "    .dataframe tbody tr th:only-of-type {\n",
       "        vertical-align: middle;\n",
       "    }\n",
       "\n",
       "    .dataframe tbody tr th {\n",
       "        vertical-align: top;\n",
       "    }\n",
       "\n",
       "    .dataframe thead th {\n",
       "        text-align: right;\n",
       "    }\n",
       "</style>\n",
       "<table border=\"1\" class=\"dataframe\">\n",
       "  <thead>\n",
       "    <tr style=\"text-align: right;\">\n",
       "      <th></th>\n",
       "      <th>a</th>\n",
       "      <th>b</th>\n",
       "      <th>c</th>\n",
       "      <th>d</th>\n",
       "    </tr>\n",
       "    <tr>\n",
       "      <th>message</th>\n",
       "      <th></th>\n",
       "      <th></th>\n",
       "      <th></th>\n",
       "      <th></th>\n",
       "    </tr>\n",
       "  </thead>\n",
       "  <tbody>\n",
       "    <tr>\n",
       "      <th>hello</th>\n",
       "      <td>0.0</td>\n",
       "      <td>2</td>\n",
       "      <td>3</td>\n",
       "      <td>4</td>\n",
       "    </tr>\n",
       "    <tr>\n",
       "      <th>world</th>\n",
       "      <td>5.0</td>\n",
       "      <td>6</td>\n",
       "      <td>7</td>\n",
       "      <td>8</td>\n",
       "    </tr>\n",
       "    <tr>\n",
       "      <th>NaN</th>\n",
       "      <td>9.0</td>\n",
       "      <td>10</td>\n",
       "      <td>11</td>\n",
       "      <td>12</td>\n",
       "    </tr>\n",
       "  </tbody>\n",
       "</table>\n",
       "</div>"
      ],
      "text/plain": [
       "           a   b   c   d\n",
       "message                 \n",
       "hello    0.0   2   3   4\n",
       "world    5.0   6   7   8\n",
       "NaN      9.0  10  11  12"
      ]
     },
     "execution_count": 35,
     "metadata": {},
     "output_type": "execute_result"
    }
   ],
   "source": [
    "df4.fillna(0) # only applies to values, not indexes"
   ]
  },
  {
   "cell_type": "markdown",
   "metadata": {},
   "source": [
    "`replace()` allows replacing multiple values at once, passing a list and then the substitute value. Or, to use a different replacement for each value, a list of substitutes can be used. The argument passed can also be a `dict`."
   ]
  },
  {
   "cell_type": "code",
   "execution_count": 36,
   "metadata": {
    "ExecuteTime": {
     "start_time": "2018-06-20T16:52:18.559Z"
    }
   },
   "outputs": [
    {
     "data": {
      "text/html": [
       "<div>\n",
       "<style scoped>\n",
       "    .dataframe tbody tr th:only-of-type {\n",
       "        vertical-align: middle;\n",
       "    }\n",
       "\n",
       "    .dataframe tbody tr th {\n",
       "        vertical-align: top;\n",
       "    }\n",
       "\n",
       "    .dataframe thead th {\n",
       "        text-align: right;\n",
       "    }\n",
       "</style>\n",
       "<table border=\"1\" class=\"dataframe\">\n",
       "  <thead>\n",
       "    <tr style=\"text-align: right;\">\n",
       "      <th></th>\n",
       "      <th>a</th>\n",
       "      <th>b</th>\n",
       "      <th>c</th>\n",
       "      <th>d</th>\n",
       "    </tr>\n",
       "    <tr>\n",
       "      <th>message</th>\n",
       "      <th></th>\n",
       "      <th></th>\n",
       "      <th></th>\n",
       "      <th></th>\n",
       "    </tr>\n",
       "  </thead>\n",
       "  <tbody>\n",
       "    <tr>\n",
       "      <th>hello</th>\n",
       "      <td>0.0</td>\n",
       "      <td>2</td>\n",
       "      <td>3</td>\n",
       "      <td>4</td>\n",
       "    </tr>\n",
       "    <tr>\n",
       "      <th>world</th>\n",
       "      <td>5.0</td>\n",
       "      <td>6</td>\n",
       "      <td>7</td>\n",
       "      <td>8</td>\n",
       "    </tr>\n",
       "    <tr>\n",
       "      <th>NaN</th>\n",
       "      <td>9.0</td>\n",
       "      <td>10</td>\n",
       "      <td>11</td>\n",
       "      <td>12</td>\n",
       "    </tr>\n",
       "  </tbody>\n",
       "</table>\n",
       "</div>"
      ],
      "text/plain": [
       "           a   b   c   d\n",
       "message                 \n",
       "hello    0.0   2   3   4\n",
       "world    5.0   6   7   8\n",
       "NaN      9.0  10  11  12"
      ]
     },
     "execution_count": 36,
     "metadata": {},
     "output_type": "execute_result"
    }
   ],
   "source": [
    "# Replacing a NaN value. Equivalent to last example.\n",
    "df4.replace(np.nan, 0)"
   ]
  },
  {
   "cell_type": "code",
   "execution_count": 37,
   "metadata": {
    "ExecuteTime": {
     "start_time": "2018-06-20T16:52:18.601Z"
    }
   },
   "outputs": [
    {
     "data": {
      "text/html": [
       "<div>\n",
       "<style scoped>\n",
       "    .dataframe tbody tr th:only-of-type {\n",
       "        vertical-align: middle;\n",
       "    }\n",
       "\n",
       "    .dataframe tbody tr th {\n",
       "        vertical-align: top;\n",
       "    }\n",
       "\n",
       "    .dataframe thead th {\n",
       "        text-align: right;\n",
       "    }\n",
       "</style>\n",
       "<table border=\"1\" class=\"dataframe\">\n",
       "  <thead>\n",
       "    <tr style=\"text-align: right;\">\n",
       "      <th></th>\n",
       "      <th>a</th>\n",
       "      <th>b</th>\n",
       "      <th>c</th>\n",
       "      <th>d</th>\n",
       "    </tr>\n",
       "    <tr>\n",
       "      <th>message</th>\n",
       "      <th></th>\n",
       "      <th></th>\n",
       "      <th></th>\n",
       "      <th></th>\n",
       "    </tr>\n",
       "  </thead>\n",
       "  <tbody>\n",
       "    <tr>\n",
       "      <th>hello</th>\n",
       "      <td>0.0</td>\n",
       "      <td>2</td>\n",
       "      <td>3</td>\n",
       "      <td>4</td>\n",
       "    </tr>\n",
       "    <tr>\n",
       "      <th>world</th>\n",
       "      <td>5.0</td>\n",
       "      <td>6</td>\n",
       "      <td>7</td>\n",
       "      <td>8</td>\n",
       "    </tr>\n",
       "    <tr>\n",
       "      <th>NaN</th>\n",
       "      <td>9000.0</td>\n",
       "      <td>10</td>\n",
       "      <td>11</td>\n",
       "      <td>-12</td>\n",
       "    </tr>\n",
       "  </tbody>\n",
       "</table>\n",
       "</div>"
      ],
      "text/plain": [
       "              a   b   c   d\n",
       "message                    \n",
       "hello       0.0   2   3   4\n",
       "world       5.0   6   7   8\n",
       "NaN      9000.0  10  11 -12"
      ]
     },
     "execution_count": 37,
     "metadata": {},
     "output_type": "execute_result"
    }
   ],
   "source": [
    "# Replacing with a list of substitutes.\n",
    "df4.replace([np.nan, 9], [0, 9000]).replace({12:-12})"
   ]
  },
  {
   "cell_type": "markdown",
   "metadata": {},
   "source": [
    "##### Binning\n",
    "Situations may arise where a semi-quantitative analysis is required by grouping values into ordinal categories via ranges. Continuous data is often discretized or otherwise separated into **bins** for analysis by  using the `cut()` function in `pandas`.  `cut()` returns a object which can be treated as a `String` array representing the bins. Internally, it contains a *levels* array indicating the distinct *category* names for bins along with a labeling for columns associated with each set of bins."
   ]
  },
  {
   "cell_type": "code",
   "execution_count": 38,
   "metadata": {
    "ExecuteTime": {
     "start_time": "2018-06-20T16:52:19.081Z"
    }
   },
   "outputs": [
    {
     "data": {
      "text/plain": [
       "message\n",
       "hello       (0, 5]\n",
       "world      (5, 10]\n",
       "NaN      (10, 100]\n",
       "Name: d, dtype: category\n",
       "Categories (5, interval[int64]): [(-110, -5] < (-5, 0] < (0, 5] < (5, 10] < (10, 100]]"
      ]
     },
     "execution_count": 38,
     "metadata": {},
     "output_type": "execute_result"
    }
   ],
   "source": [
    "bins = [-100 -10, -5, 0, 5, 10, 100]\n",
    "pd.cut(df4[\"d\"], bins, right=True, labels=None)"
   ]
  },
  {
   "cell_type": "markdown",
   "metadata": {},
   "source": [
    "The ranges are consistent with mathematical notation for intervals, a `(` means that the side is open while the `]` means it is closed (inclusive). Which side is closed can be changed by passing `right=False`. Bin names can be assigned by passing a list or array to the `labels` option.\n",
    "\n",
    "If `cut()` is passed an integer number of `bins` instead of a list of breaks, it will compute equal-length bins based on the minimum and maximum values in the data."
   ]
  },
  {
   "cell_type": "code",
   "execution_count": 39,
   "metadata": {
    "ExecuteTime": {
     "start_time": "2018-06-20T16:52:19.559Z"
    }
   },
   "outputs": [
    {
     "data": {
      "text/plain": [
       "(message\n",
       " hello    a\n",
       " world    e\n",
       " NaN      j\n",
       " Name: d, dtype: category\n",
       " Categories (10, object): [a < b < c < d ... g < h < i < j], message\n",
       " hello    (3.992, 4.8]\n",
       " world      (7.2, 8.0]\n",
       " NaN      (11.2, 12.0]\n",
       " Name: d, dtype: category\n",
       " Categories (10, interval[float64]): [(3.992, 4.8] < (4.8, 5.6] < (5.6, 6.4] < (6.4, 7.2] ... (8.8, 9.6] < (9.6, 10.4] < (10.4, 11.2] < (11.2, 12.0]])"
      ]
     },
     "execution_count": 39,
     "metadata": {},
     "output_type": "execute_result"
    }
   ],
   "source": [
    "#Unlike before, we've now set bins for the category levels\n",
    "a = pd.cut(df4[\"d\"], 10, right=True, labels=\"a b c d e f g h i j\".split(\" \"))\n",
    "b = pd.cut(df4[\"d\"], 10, right=True, labels=None)\n",
    "(a,\n",
    " b)"
   ]
  },
  {
   "cell_type": "markdown",
   "metadata": {},
   "source": [
    "A related function, `qcut()`, bins the data based on sample **[quantiles](https://en.wikipedia.org/wiki/Quantile)**.  Quantiles are cut points that divide a probability distribution into chunks with specific uniform frequencies of occurrences. Similarly to `cut()` you can pass your own quantiles via values between 0 and 1."
   ]
  },
  {
   "cell_type": "code",
   "execution_count": 40,
   "metadata": {
    "ExecuteTime": {
     "start_time": "2018-06-20T16:52:20.704Z"
    }
   },
   "outputs": [
    {
     "data": {
      "text/plain": [
       "message\n",
       "hello     0\n",
       "world    49\n",
       "NaN      99\n",
       "Name: d, dtype: category\n",
       "Categories (100, int64): [0 < 1 < 2 < 3 ... 96 < 97 < 98 < 99]"
      ]
     },
     "execution_count": 40,
     "metadata": {},
     "output_type": "execute_result"
    }
   ],
   "source": [
    "pd.qcut(df4[\"d\"], 100, labels=list(range(0, 100))) # percentiles"
   ]
  },
  {
   "cell_type": "markdown",
   "metadata": {},
   "source": [
    "##### Permutations\n",
    "Permuting (randomly reordering) a `Series` or the rows in a `DataFrame` is easy to do using the `numpy.random.permutation()` function."
   ]
  },
  {
   "cell_type": "code",
   "execution_count": 41,
   "metadata": {
    "ExecuteTime": {
     "start_time": "2018-06-20T16:52:21.168Z"
    }
   },
   "outputs": [
    {
     "data": {
      "text/plain": [
       "array([1, 3, 2, 4, 0])"
      ]
     },
     "execution_count": 41,
     "metadata": {},
     "output_type": "execute_result"
    }
   ],
   "source": [
    "df = pd.DataFrame(np.arange(5 * 4).reshape((5, 4)))\n",
    "sampler = np.random.permutation(5)\n",
    "sampler"
   ]
  },
  {
   "cell_type": "code",
   "execution_count": 42,
   "metadata": {
    "ExecuteTime": {
     "start_time": "2018-06-20T16:52:21.205Z"
    }
   },
   "outputs": [
    {
     "data": {
      "text/html": [
       "<div>\n",
       "<style scoped>\n",
       "    .dataframe tbody tr th:only-of-type {\n",
       "        vertical-align: middle;\n",
       "    }\n",
       "\n",
       "    .dataframe tbody tr th {\n",
       "        vertical-align: top;\n",
       "    }\n",
       "\n",
       "    .dataframe thead th {\n",
       "        text-align: right;\n",
       "    }\n",
       "</style>\n",
       "<table border=\"1\" class=\"dataframe\">\n",
       "  <thead>\n",
       "    <tr style=\"text-align: right;\">\n",
       "      <th></th>\n",
       "      <th>0</th>\n",
       "      <th>1</th>\n",
       "      <th>2</th>\n",
       "      <th>3</th>\n",
       "    </tr>\n",
       "  </thead>\n",
       "  <tbody>\n",
       "    <tr>\n",
       "      <th>1</th>\n",
       "      <td>4</td>\n",
       "      <td>5</td>\n",
       "      <td>6</td>\n",
       "      <td>7</td>\n",
       "    </tr>\n",
       "    <tr>\n",
       "      <th>3</th>\n",
       "      <td>12</td>\n",
       "      <td>13</td>\n",
       "      <td>14</td>\n",
       "      <td>15</td>\n",
       "    </tr>\n",
       "    <tr>\n",
       "      <th>2</th>\n",
       "      <td>8</td>\n",
       "      <td>9</td>\n",
       "      <td>10</td>\n",
       "      <td>11</td>\n",
       "    </tr>\n",
       "    <tr>\n",
       "      <th>4</th>\n",
       "      <td>16</td>\n",
       "      <td>17</td>\n",
       "      <td>18</td>\n",
       "      <td>19</td>\n",
       "    </tr>\n",
       "    <tr>\n",
       "      <th>0</th>\n",
       "      <td>0</td>\n",
       "      <td>1</td>\n",
       "      <td>2</td>\n",
       "      <td>3</td>\n",
       "    </tr>\n",
       "  </tbody>\n",
       "</table>\n",
       "</div>"
      ],
      "text/plain": [
       "    0   1   2   3\n",
       "1   4   5   6   7\n",
       "3  12  13  14  15\n",
       "2   8   9  10  11\n",
       "4  16  17  18  19\n",
       "0   0   1   2   3"
      ]
     },
     "execution_count": 42,
     "metadata": {},
     "output_type": "execute_result"
    }
   ],
   "source": [
    "df.take(sampler) # take the sample of rows"
   ]
  },
  {
   "cell_type": "code",
   "execution_count": 43,
   "metadata": {
    "ExecuteTime": {
     "start_time": "2018-06-20T16:52:21.250Z"
    }
   },
   "outputs": [
    {
     "data": {
      "text/html": [
       "<div>\n",
       "<style scoped>\n",
       "    .dataframe tbody tr th:only-of-type {\n",
       "        vertical-align: middle;\n",
       "    }\n",
       "\n",
       "    .dataframe tbody tr th {\n",
       "        vertical-align: top;\n",
       "    }\n",
       "\n",
       "    .dataframe thead th {\n",
       "        text-align: right;\n",
       "    }\n",
       "</style>\n",
       "<table border=\"1\" class=\"dataframe\">\n",
       "  <thead>\n",
       "    <tr style=\"text-align: right;\">\n",
       "      <th></th>\n",
       "      <th>0</th>\n",
       "      <th>1</th>\n",
       "      <th>2</th>\n",
       "      <th>3</th>\n",
       "    </tr>\n",
       "  </thead>\n",
       "  <tbody>\n",
       "    <tr>\n",
       "      <th>3</th>\n",
       "      <td>12</td>\n",
       "      <td>13</td>\n",
       "      <td>14</td>\n",
       "      <td>15</td>\n",
       "    </tr>\n",
       "    <tr>\n",
       "      <th>2</th>\n",
       "      <td>8</td>\n",
       "      <td>9</td>\n",
       "      <td>10</td>\n",
       "      <td>11</td>\n",
       "    </tr>\n",
       "    <tr>\n",
       "      <th>4</th>\n",
       "      <td>16</td>\n",
       "      <td>17</td>\n",
       "      <td>18</td>\n",
       "      <td>19</td>\n",
       "    </tr>\n",
       "    <tr>\n",
       "      <th>...</th>\n",
       "      <td>...</td>\n",
       "      <td>...</td>\n",
       "      <td>...</td>\n",
       "      <td>...</td>\n",
       "    </tr>\n",
       "    <tr>\n",
       "      <th>4</th>\n",
       "      <td>16</td>\n",
       "      <td>17</td>\n",
       "      <td>18</td>\n",
       "      <td>19</td>\n",
       "    </tr>\n",
       "    <tr>\n",
       "      <th>1</th>\n",
       "      <td>4</td>\n",
       "      <td>5</td>\n",
       "      <td>6</td>\n",
       "      <td>7</td>\n",
       "    </tr>\n",
       "    <tr>\n",
       "      <th>1</th>\n",
       "      <td>4</td>\n",
       "      <td>5</td>\n",
       "      <td>6</td>\n",
       "      <td>7</td>\n",
       "    </tr>\n",
       "  </tbody>\n",
       "</table>\n",
       "<p>10 rows × 4 columns</p>\n",
       "</div>"
      ],
      "text/plain": [
       "     0   1   2   3\n",
       "3   12  13  14  15\n",
       "2    8   9  10  11\n",
       "4   16  17  18  19\n",
       "..  ..  ..  ..  ..\n",
       "4   16  17  18  19\n",
       "1    4   5   6   7\n",
       "1    4   5   6   7\n",
       "\n",
       "[10 rows x 4 columns]"
      ]
     },
     "execution_count": 43,
     "metadata": {},
     "output_type": "execute_result"
    }
   ],
   "source": [
    "df.sample(n=10, replace=True) #sample with replacement 10 rows"
   ]
  },
  {
   "cell_type": "markdown",
   "metadata": {},
   "source": [
    "Why would you ever use such functions? For running data simulations, generating trials, and splitting machine learning datasets in a fair way."
   ]
  },
  {
   "cell_type": "markdown",
   "metadata": {},
   "source": [
    "## Exercise 1"
   ]
  },
  {
   "cell_type": "markdown",
   "metadata": {},
   "source": [
    " We're going to do something a bit different from our normal data preparation. \n",
    " \n",
    "Try to **make** the following data dirty. Think about what kind of changes would make the data difficult to analyze. \n",
    "\n",
    "The point of this exercise is simple. Most data cleaning frameworks view cleaning data as a simple sequence of operations to transform dirty data to become clean. But, this means that the same functions should also have inverse functions, allowing the data-cleaning process to run in reverse. Think about which operations would act as the inverse as you obfuscate."
   ]
  },
  {
   "cell_type": "code",
   "execution_count": 44,
   "metadata": {},
   "outputs": [
    {
     "data": {
      "text/html": [
       "<div>\n",
       "<style scoped>\n",
       "    .dataframe tbody tr th:only-of-type {\n",
       "        vertical-align: middle;\n",
       "    }\n",
       "\n",
       "    .dataframe tbody tr th {\n",
       "        vertical-align: top;\n",
       "    }\n",
       "\n",
       "    .dataframe thead th {\n",
       "        text-align: right;\n",
       "    }\n",
       "</style>\n",
       "<table border=\"1\" class=\"dataframe\">\n",
       "  <thead>\n",
       "    <tr style=\"text-align: right;\">\n",
       "      <th></th>\n",
       "      <th>A</th>\n",
       "      <th>B</th>\n",
       "      <th>C</th>\n",
       "      <th>D</th>\n",
       "    </tr>\n",
       "  </thead>\n",
       "  <tbody>\n",
       "    <tr>\n",
       "      <th>0</th>\n",
       "      <td>776364</td>\n",
       "      <td>142597</td>\n",
       "      <td>424433</td>\n",
       "      <td>734334</td>\n",
       "    </tr>\n",
       "    <tr>\n",
       "      <th>1</th>\n",
       "      <td>492034</td>\n",
       "      <td>972627</td>\n",
       "      <td>853464</td>\n",
       "      <td>145584</td>\n",
       "    </tr>\n",
       "    <tr>\n",
       "      <th>2</th>\n",
       "      <td>623529</td>\n",
       "      <td>959907</td>\n",
       "      <td>347141</td>\n",
       "      <td>208179</td>\n",
       "    </tr>\n",
       "    <tr>\n",
       "      <th>...</th>\n",
       "      <td>...</td>\n",
       "      <td>...</td>\n",
       "      <td>...</td>\n",
       "      <td>...</td>\n",
       "    </tr>\n",
       "    <tr>\n",
       "      <th>97</th>\n",
       "      <td>650469</td>\n",
       "      <td>710972</td>\n",
       "      <td>809574</td>\n",
       "      <td>244190</td>\n",
       "    </tr>\n",
       "    <tr>\n",
       "      <th>98</th>\n",
       "      <td>299894</td>\n",
       "      <td>921512</td>\n",
       "      <td>62198</td>\n",
       "      <td>451341</td>\n",
       "    </tr>\n",
       "    <tr>\n",
       "      <th>99</th>\n",
       "      <td>74501</td>\n",
       "      <td>708802</td>\n",
       "      <td>108318</td>\n",
       "      <td>115369</td>\n",
       "    </tr>\n",
       "  </tbody>\n",
       "</table>\n",
       "<p>100 rows × 4 columns</p>\n",
       "</div>"
      ],
      "text/plain": [
       "         A       B       C       D\n",
       "0   776364  142597  424433  734334\n",
       "1   492034  972627  853464  145584\n",
       "2   623529  959907  347141  208179\n",
       "..     ...     ...     ...     ...\n",
       "97  650469  710972  809574  244190\n",
       "98  299894  921512   62198  451341\n",
       "99   74501  708802  108318  115369\n",
       "\n",
       "[100 rows x 4 columns]"
      ]
     },
     "execution_count": 44,
     "metadata": {},
     "output_type": "execute_result"
    }
   ],
   "source": [
    "cleanData = pd.DataFrame(np.random.randint(0,1000000,size=(100, 4)), columns=list('ABCD'))\n",
    "cleanData"
   ]
  },
  {
   "cell_type": "code",
   "execution_count": 45,
   "metadata": {},
   "outputs": [],
   "source": [
    "def yourFunction(x):\n",
    "    # YOUR CODE HERE\n",
    "    return(x)"
   ]
  },
  {
   "cell_type": "code",
   "execution_count": 46,
   "metadata": {},
   "outputs": [
    {
     "data": {
      "text/html": [
       "<div>\n",
       "<style scoped>\n",
       "    .dataframe tbody tr th:only-of-type {\n",
       "        vertical-align: middle;\n",
       "    }\n",
       "\n",
       "    .dataframe tbody tr th {\n",
       "        vertical-align: top;\n",
       "    }\n",
       "\n",
       "    .dataframe thead th {\n",
       "        text-align: right;\n",
       "    }\n",
       "</style>\n",
       "<table border=\"1\" class=\"dataframe\">\n",
       "  <thead>\n",
       "    <tr style=\"text-align: right;\">\n",
       "      <th></th>\n",
       "      <th>A</th>\n",
       "      <th>B</th>\n",
       "      <th>C</th>\n",
       "      <th>D</th>\n",
       "    </tr>\n",
       "  </thead>\n",
       "  <tbody>\n",
       "    <tr>\n",
       "      <th>0</th>\n",
       "      <td>776364</td>\n",
       "      <td>142597</td>\n",
       "      <td>424433</td>\n",
       "      <td>734334</td>\n",
       "    </tr>\n",
       "    <tr>\n",
       "      <th>1</th>\n",
       "      <td>492034</td>\n",
       "      <td>972627</td>\n",
       "      <td>853464</td>\n",
       "      <td>145584</td>\n",
       "    </tr>\n",
       "    <tr>\n",
       "      <th>2</th>\n",
       "      <td>623529</td>\n",
       "      <td>959907</td>\n",
       "      <td>347141</td>\n",
       "      <td>208179</td>\n",
       "    </tr>\n",
       "    <tr>\n",
       "      <th>...</th>\n",
       "      <td>...</td>\n",
       "      <td>...</td>\n",
       "      <td>...</td>\n",
       "      <td>...</td>\n",
       "    </tr>\n",
       "    <tr>\n",
       "      <th>97</th>\n",
       "      <td>650469</td>\n",
       "      <td>710972</td>\n",
       "      <td>809574</td>\n",
       "      <td>244190</td>\n",
       "    </tr>\n",
       "    <tr>\n",
       "      <th>98</th>\n",
       "      <td>299894</td>\n",
       "      <td>921512</td>\n",
       "      <td>62198</td>\n",
       "      <td>451341</td>\n",
       "    </tr>\n",
       "    <tr>\n",
       "      <th>99</th>\n",
       "      <td>74501</td>\n",
       "      <td>708802</td>\n",
       "      <td>108318</td>\n",
       "      <td>115369</td>\n",
       "    </tr>\n",
       "  </tbody>\n",
       "</table>\n",
       "<p>100 rows × 4 columns</p>\n",
       "</div>"
      ],
      "text/plain": [
       "         A       B       C       D\n",
       "0   776364  142597  424433  734334\n",
       "1   492034  972627  853464  145584\n",
       "2   623529  959907  347141  208179\n",
       "..     ...     ...     ...     ...\n",
       "97  650469  710972  809574  244190\n",
       "98  299894  921512   62198  451341\n",
       "99   74501  708802  108318  115369\n",
       "\n",
       "[100 rows x 4 columns]"
      ]
     },
     "execution_count": 46,
     "metadata": {},
     "output_type": "execute_result"
    }
   ],
   "source": [
    "dirtyData = yourFunction(cleanData)\n",
    "dirtyData"
   ]
  },
  {
   "cell_type": "code",
   "execution_count": 47,
   "metadata": {},
   "outputs": [
    {
     "data": {
      "text/html": [
       "<div>\n",
       "<style scoped>\n",
       "    .dataframe tbody tr th:only-of-type {\n",
       "        vertical-align: middle;\n",
       "    }\n",
       "\n",
       "    .dataframe tbody tr th {\n",
       "        vertical-align: top;\n",
       "    }\n",
       "\n",
       "    .dataframe thead th {\n",
       "        text-align: right;\n",
       "    }\n",
       "</style>\n",
       "<table border=\"1\" class=\"dataframe\">\n",
       "  <thead>\n",
       "    <tr style=\"text-align: right;\">\n",
       "      <th></th>\n",
       "      <th>0</th>\n",
       "      <th>1</th>\n",
       "      <th>2</th>\n",
       "      <th>3</th>\n",
       "      <th>4</th>\n",
       "      <th>5</th>\n",
       "      <th>6</th>\n",
       "      <th>7</th>\n",
       "      <th>8</th>\n",
       "      <th>9</th>\n",
       "      <th>...</th>\n",
       "      <th>90</th>\n",
       "      <th>91</th>\n",
       "      <th>92</th>\n",
       "      <th>93</th>\n",
       "      <th>94</th>\n",
       "      <th>95</th>\n",
       "      <th>96</th>\n",
       "      <th>97</th>\n",
       "      <th>98</th>\n",
       "      <th>99</th>\n",
       "    </tr>\n",
       "  </thead>\n",
       "  <tbody>\n",
       "    <tr>\n",
       "      <th>A</th>\n",
       "      <td>(775602.343, 776393.139]</td>\n",
       "      <td>(491706.365, 492497.161]</td>\n",
       "      <td>(622978.6, 623769.396]</td>\n",
       "      <td>(505149.907, 505940.703]</td>\n",
       "      <td>(649865.684, 650656.481]</td>\n",
       "      <td>(290844.029, 291634.826]</td>\n",
       "      <td>(177760.116, 178550.912]</td>\n",
       "      <td>(864962.358, 865753.155]</td>\n",
       "      <td>(774811.546, 775602.343]</td>\n",
       "      <td>(324848.283, 325639.079]</td>\n",
       "      <td>...</td>\n",
       "      <td>(301124.385, 301915.182]</td>\n",
       "      <td>(993862.203, 994653.0]</td>\n",
       "      <td>(758204.818, 758995.614]</td>\n",
       "      <td>(883941.476, 884732.273]</td>\n",
       "      <td>(63094.609, 63885.406]</td>\n",
       "      <td>(794581.461, 795372.258]</td>\n",
       "      <td>(39370.712, 40161.508]</td>\n",
       "      <td>(649865.684, 650656.481]</td>\n",
       "      <td>(299542.792, 300333.588]</td>\n",
       "      <td>(74165.762, 74956.558]</td>\n",
       "    </tr>\n",
       "    <tr>\n",
       "      <th>B</th>\n",
       "      <td>142597</td>\n",
       "      <td>972627</td>\n",
       "      <td>959907</td>\n",
       "      <td>484973</td>\n",
       "      <td>672317</td>\n",
       "      <td>649996</td>\n",
       "      <td>743652</td>\n",
       "      <td>854553</td>\n",
       "      <td>276030</td>\n",
       "      <td>904434</td>\n",
       "      <td>...</td>\n",
       "      <td>48988</td>\n",
       "      <td>17851</td>\n",
       "      <td>288268</td>\n",
       "      <td>766495</td>\n",
       "      <td>989580</td>\n",
       "      <td>298363</td>\n",
       "      <td>723967</td>\n",
       "      <td>710972</td>\n",
       "      <td>921512</td>\n",
       "      <td>708802</td>\n",
       "    </tr>\n",
       "    <tr>\n",
       "      <th>C</th>\n",
       "      <td>[424041.573, 424450.701)</td>\n",
       "      <td>[853217.668, 853626.797)</td>\n",
       "      <td>[347125.361, 347534.49)</td>\n",
       "      <td>[895357.933, 895767.061)</td>\n",
       "      <td>[937498.197, 937907.326)</td>\n",
       "      <td>[200657.256, 201066.385)</td>\n",
       "      <td>[527142.026, 527551.155)</td>\n",
       "      <td>[568054.905, 568464.034)</td>\n",
       "      <td>[622059.904, 622469.033)</td>\n",
       "      <td>[766073.237, 766482.365)</td>\n",
       "      <td>...</td>\n",
       "      <td>[96329.416, 96738.545)</td>\n",
       "      <td>[993139.712, 993548.841)</td>\n",
       "      <td>[847080.736, 847489.865)</td>\n",
       "      <td>[101238.962, 101648.09)</td>\n",
       "      <td>[318895.475, 319304.604)</td>\n",
       "      <td>[402357.747, 402766.876)</td>\n",
       "      <td>[996821.871, 998190.407)</td>\n",
       "      <td>[809440.888, 809850.017)</td>\n",
       "      <td>[61962.598, 62371.727)</td>\n",
       "      <td>[108194.151, 108603.28)</td>\n",
       "    </tr>\n",
       "    <tr>\n",
       "      <th>D</th>\n",
       "      <td>734334</td>\n",
       "      <td>145584</td>\n",
       "      <td>208179</td>\n",
       "      <td>626766</td>\n",
       "      <td>274200</td>\n",
       "      <td>523915</td>\n",
       "      <td>102361</td>\n",
       "      <td>979169</td>\n",
       "      <td>684662</td>\n",
       "      <td>939725</td>\n",
       "      <td>...</td>\n",
       "      <td>847275</td>\n",
       "      <td>56684</td>\n",
       "      <td>157678</td>\n",
       "      <td>981417</td>\n",
       "      <td>235949</td>\n",
       "      <td>331766</td>\n",
       "      <td>565867</td>\n",
       "      <td>244190</td>\n",
       "      <td>451341</td>\n",
       "      <td>115369</td>\n",
       "    </tr>\n",
       "  </tbody>\n",
       "</table>\n",
       "<p>4 rows × 100 columns</p>\n",
       "</div>"
      ],
      "text/plain": [
       "                         0                         1   \\\n",
       "A  (775602.343, 776393.139]  (491706.365, 492497.161]   \n",
       "B                    142597                    972627   \n",
       "C  [424041.573, 424450.701)  [853217.668, 853626.797)   \n",
       "D                    734334                    145584   \n",
       "\n",
       "                        2                         3   \\\n",
       "A   (622978.6, 623769.396]  (505149.907, 505940.703]   \n",
       "B                   959907                    484973   \n",
       "C  [347125.361, 347534.49)  [895357.933, 895767.061)   \n",
       "D                   208179                    626766   \n",
       "\n",
       "                         4                         5   \\\n",
       "A  (649865.684, 650656.481]  (290844.029, 291634.826]   \n",
       "B                    672317                    649996   \n",
       "C  [937498.197, 937907.326)  [200657.256, 201066.385)   \n",
       "D                    274200                    523915   \n",
       "\n",
       "                         6                         7   \\\n",
       "A  (177760.116, 178550.912]  (864962.358, 865753.155]   \n",
       "B                    743652                    854553   \n",
       "C  [527142.026, 527551.155)  [568054.905, 568464.034)   \n",
       "D                    102361                    979169   \n",
       "\n",
       "                         8                         9   ...  \\\n",
       "A  (774811.546, 775602.343]  (324848.283, 325639.079]  ...   \n",
       "B                    276030                    904434  ...   \n",
       "C  [622059.904, 622469.033)  [766073.237, 766482.365)  ...   \n",
       "D                    684662                    939725  ...   \n",
       "\n",
       "                         90                        91  \\\n",
       "A  (301124.385, 301915.182]    (993862.203, 994653.0]   \n",
       "B                     48988                     17851   \n",
       "C    [96329.416, 96738.545)  [993139.712, 993548.841)   \n",
       "D                    847275                     56684   \n",
       "\n",
       "                         92                        93  \\\n",
       "A  (758204.818, 758995.614]  (883941.476, 884732.273]   \n",
       "B                    288268                    766495   \n",
       "C  [847080.736, 847489.865)   [101238.962, 101648.09)   \n",
       "D                    157678                    981417   \n",
       "\n",
       "                         94                        95  \\\n",
       "A    (63094.609, 63885.406]  (794581.461, 795372.258]   \n",
       "B                    989580                    298363   \n",
       "C  [318895.475, 319304.604)  [402357.747, 402766.876)   \n",
       "D                    235949                    331766   \n",
       "\n",
       "                         96                        97  \\\n",
       "A    (39370.712, 40161.508]  (649865.684, 650656.481]   \n",
       "B                    723967                    710972   \n",
       "C  [996821.871, 998190.407)  [809440.888, 809850.017)   \n",
       "D                    565867                    244190   \n",
       "\n",
       "                         98                       99  \n",
       "A  (299542.792, 300333.588]   (74165.762, 74956.558]  \n",
       "B                    921512                   708802  \n",
       "C    [61962.598, 62371.727)  [108194.151, 108603.28)  \n",
       "D                    451341                   115369  \n",
       "\n",
       "[4 rows x 100 columns]"
      ]
     },
     "execution_count": 47,
     "metadata": {},
     "output_type": "execute_result"
    }
   ],
   "source": [
    "### A SOLUTION\n",
    "\n",
    "def yourFunction(x):\n",
    "    #lose some precision\n",
    "    categorizeSome = x\n",
    "    categorizeSome[\"A\"] = pd.cut(categorizeSome[\"A\"], 1234, right=True, labels=None)\n",
    "    # uncomparable scales\n",
    "    categorizeSome[\"C\"] = pd.cut(categorizeSome[\"C\"], 2345, right=False, labels=None)\n",
    "    # transpose for column orientation access\n",
    "    longForm = categorizeSome.T\n",
    "    # add some noise\n",
    "    noisyLongForm = longForm + pd.DataFrame(np.random.randint(0,1,size=(100, 4)), columns=list('ABCD')).T\n",
    "    return(noisyLongForm)\n",
    "    \n",
    "yourFunction(cleanData)\n"
   ]
  },
  {
   "cell_type": "markdown",
   "metadata": {},
   "source": [
    "## End of Module\n",
    " \n",
    "You have reached the end of this module.\n",
    "\n",
    "If you have any questions, please reach out to your peers using the discussion boards. If you\n",
    "and your peers are unable to come to a suitable conclusion, do not hesitate to reach out to\n",
    "your instructor on the designated discussion board.\n",
    "\n",
    "When you are comfortable with the content, and have practiced to your satisfaction, you may\n",
    "proceed to any related assignments, and to the next module.\n",
    "\n",
    "## Links\n",
    "\n",
    "* http://blog.miguelgrinberg.com/post/easy-web-scraping-with-python\n",
    "  * About scraping using other python libraries, as well as crawling entire websites.\n",
    "* http://scrapy.org/\n",
    "  * About writing scrapers as configeration files via scrapy.\n",
    "* https://docs.python.org/2/library/urllib2.html\n",
    "  * Documentation for urlib2 library\n",
    "* http://docs.python-requests.org/en/latest/\n",
    "* The Absolute Minimum Every Software Developer Absolutely, Positively Must Know About Unicode and Character Sets (No Excuses!)\n",
    "  * https://www.joelonsoftware.com/2003/10/08/the-absolute-minimum-every-software-developer-absolutely-positively-must-know-about-unicode-and-character-sets-no-excuses/\n",
    "* http://import.io\n",
    "  * A web-based platform for extracting data from websites without writing any code.\n",
    "* http://www.crummy.com/software/BeautifulSoup/\n",
    "  * Popular alternative to lxml for web/screen scraping\n",
    "* http://pbpython.com/web-scraping-mn-budget.html\n",
    "  * Tutorial using BeautifulSoup with requests library, pandas, numpy and mathplotlib\n",
    "* Python Regular Expressions Cheat Sheet\n",
    "  * https://pycon2016.regex.training/cheat-sheet"
   ]
  },
  {
   "cell_type": "markdown",
   "metadata": {},
   "source": [
    "# References\n",
    "\n",
    "Andrew M., (2018). Regular expression howto.  [online](https://docs.python.org/3.5/howto/regex.html)\n",
    "\n",
    "McKinney, W. (2017). Python for data analysis: Data wrangling with Pandas, NumPy, and IPython (2nd Ed.). O'Reilly Media\n",
    "\n",
    "Pandas contributors, (2018a). Pandas: powerful python data analysis toolkit — pandas 0.23.2 documentation. [online](https://pandas.pydata.org/pandas-docs/stable/)\n",
    "\n",
    "Pandas contributors, (2018b). Merge, join, and concatenate. [online](http://pandas.pydata.org/pandas-docs/stable/merging.html)\n",
    "\n",
    "Python contributors, 2018. 6.2. re - regular expression operations.  [online](https://docs.python.org/3.5/library/re.html#re-syntax)\n",
    "\n",
    "Wickham H. (2014). Tidy data. Journal of Statistical Software, vol. 59, number 1, pp. 1--23,  2014."
   ]
  }
 ],
 "metadata": {
  "anaconda-cloud": {},
  "hide_input": false,
  "kernelspec": {
   "display_name": "Python 3",
   "language": "python",
   "name": "python3"
  },
  "language_info": {
   "codemirror_mode": {
    "name": "ipython",
    "version": 3
   },
   "file_extension": ".py",
   "mimetype": "text/x-python",
   "name": "python",
   "nbconvert_exporter": "python",
   "pygments_lexer": "ipython3",
   "version": "3.6.0"
  },
  "latex_envs": {
   "LaTeX_envs_menu_present": true,
   "autoclose": true,
   "autocomplete": true,
   "bibliofile": "biblio.bib",
   "cite_by": "apalike",
   "current_citInitial": 1,
   "eqLabelWithNumbers": true,
   "eqNumInitial": 1,
   "hotkeys": {
    "equation": "Ctrl-E",
    "itemize": "Ctrl-I"
   },
   "labels_anchors": false,
   "latex_user_defs": false,
   "report_style_numbering": false,
   "user_envs_cfg": false
  },
  "nbTranslate": {
   "displayLangs": [
    "*"
   ],
   "hotkey": "alt-t",
   "langInMainMenu": true,
   "sourceLang": "en",
   "targetLang": "fr",
   "useGoogleTranslate": true
  },
  "toc": {
   "base_numbering": 1,
   "nav_menu": {
    "height": "496px",
    "width": "386px"
   },
   "number_sections": false,
   "sideBar": true,
   "skip_h1_title": false,
   "title_cell": "Table of Contents",
   "title_sidebar": "Contents",
   "toc_cell": false,
   "toc_position": {
    "height": "calc(100% - 180px)",
    "left": "10px",
    "top": "150px",
    "width": "374px"
   },
   "toc_section_display": true,
   "toc_window_display": false
  },
  "varInspector": {
   "cols": {
    "lenName": 16,
    "lenType": 16,
    "lenVar": 40
   },
   "kernels_config": {
    "python": {
     "delete_cmd_postfix": "",
     "delete_cmd_prefix": "del ",
     "library": "var_list.py",
     "varRefreshCmd": "print(var_dic_list())"
    },
    "r": {
     "delete_cmd_postfix": ") ",
     "delete_cmd_prefix": "rm(",
     "library": "var_list.r",
     "varRefreshCmd": "cat(var_dic_list()) "
    }
   },
   "types_to_exclude": [
    "module",
    "function",
    "builtin_function_or_method",
    "instance",
    "_Feature"
   ],
   "window_display": false
  }
 },
 "nbformat": 4,
 "nbformat_minor": 2
}
