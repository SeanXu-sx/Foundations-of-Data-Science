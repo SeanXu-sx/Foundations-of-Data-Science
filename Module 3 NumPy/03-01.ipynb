{
 "cells": [
  {
   "cell_type": "markdown",
   "metadata": {},
   "source": [
    "# Module 3 Part 1: NumPy Basics"
   ]
  },
  {
   "cell_type": "markdown",
   "metadata": {},
   "source": [
    "## Introduction"
   ]
  },
  {
   "cell_type": "markdown",
   "metadata": {},
   "source": [
    "The key topic we are discussing in this module - NumPy, or Numerical Python package.\n",
    "We will continue working with Python and learn commonly used functions of NumPy package."
   ]
  },
  {
   "cell_type": "markdown",
   "metadata": {},
   "source": [
    "## Learning Outcomes"
   ]
  },
  {
   "cell_type": "markdown",
   "metadata": {},
   "source": [
    "In this module, you will:\n",
    "* Build further your Python skills\n",
    "* Use the NumPy data analysis library to work with large arrays"
   ]
  },
  {
   "cell_type": "markdown",
   "metadata": {},
   "source": [
    "This module consists of 2 parts:\n",
    "\n",
    "- **Part 1** - NumPy Basics\n",
    "- **Part 2** - Operations with NumPy Arrays\n",
    "\n",
    "Each part is provided in a separate notebook file. It is recommended that you follow the order of the notebooks."
   ]
  },
  {
   "cell_type": "markdown",
   "metadata": {},
   "source": [
    "## Readings and Resources"
   ]
  },
  {
   "cell_type": "markdown",
   "metadata": {},
   "source": [
    "The majority of the notebook content draws from the recommended readings. We invite you to further supplement this notebook with the following recommended texts:\n",
    "\n",
    "McKinney, W. (2017). NumPy Basics: Arrays and Vectorized Computation In *Python for Data Analysis* (pp 85-119). O-Reilly: Boston\n",
    "\n",
    "SciPy community (2018). *Quickstart tutorial.* Retrieved from the following [web page](https://docs.scipy.org/doc/numpy/user/quickstart.html)."
   ]
  },
  {
   "cell_type": "markdown",
   "metadata": {},
   "source": [
    "## NumPy Basics"
   ]
  },
  {
   "cell_type": "markdown",
   "metadata": {},
   "source": [
    "### Preparing the Data: NumPy"
   ]
  },
  {
   "cell_type": "markdown",
   "metadata": {},
   "source": [
    "<figure>\n",
    "    <img src=\"dataScienceProcess.png\" alt=\"This image shows the stages of creating a model from start to finish.\" style=\"width: 100%;\"> (Course Authors, 2018)\n",
    "    <figcaption><em>This image shows the stages of creating a model from start to finish.</em></figcaption>\n",
    "</figure>\n",
    "\n",
    "In the last module, you learned about the basic syntax of Python, including various data types, and how to read / write files. In the rest of the course, you will learn how to use libraries within Python to help you understand and analyze your data. \n",
    "\n",
    "In this module, we will be learning about NumPy. This library allows you to create large matrices and arrays from imported data. For example, if you import data in the form of a list, by using NumPy you can turn it into a matrix or array. This will allow you to easily organize and understand what data points make up your sample. Further, once your data is organized in a matrix or array you can apply the mathematical functions available within NumPy to draw some preliminary conclusions about your dataset."
   ]
  },
  {
   "cell_type": "markdown",
   "metadata": {},
   "source": [
    "<a id=\"NumPy_Introduction\"></a>\n",
    "\n",
    "### NumPy introduction"
   ]
  },
  {
   "cell_type": "markdown",
   "metadata": {},
   "source": [
    "**NumPy** stands for **Numerical Python** or **Numeric Python**. NumPy is the core Python library for scientific computing. Most computational packages providing scientific functionality use NumPy’s array objects.\n",
    "\n",
    "Some of the features of NumPy:\n",
    "* NumPy arrays are n-dimensional array objects, a core component of scientific and numerical computation in Python\n",
    "* NumPy provides tools for integrating with existing C, C++ and Fortran code\n",
    "* NumPy also provides tools to perform linear algebra, generate random numbers and tools for reading/writing array data to disk and working with memory-mapped files\n",
    "\n",
    "More about NumPy can be found at [numpy.org](http://www.numpy.org/# \"NumPy\") (NumPy developers, 2018).\n"
   ]
  },
  {
   "cell_type": "markdown",
   "metadata": {},
   "source": [
    "One of the reasons NumPy is so important for numerical computations in Python is because it is designed for efficiency on large arrays of data. There are a number of reasons for this:\n",
    "\n",
    "* NumPy internally stores data in a contiguous block of memory, independent of other built-in Python objects. NumPy’s library of algorithms written in the C language can operate on this memory without any type checking or other overhead. NumPy arrays also use much less memory than built-in Python sequences.\n",
    "* NumPy operations perform complex computations on entire arrays without the need for Python `for` loops."
   ]
  },
  {
   "cell_type": "markdown",
   "metadata": {},
   "source": [
    "<a id=\"Numpy_ndarray\"></a>\n",
    "\n",
    "### The NumPy `ndarray`: a multidimensional array object"
   ]
  },
  {
   "cell_type": "markdown",
   "metadata": {},
   "source": [
    "NumPy's main tool which is used for scientific computations is a multidimensional array object,  N-dimensional, or `ndarray`, a high-performance data structure build for efficient computation of arrays and matrices.\n",
    "\n",
    "NumPy arrays allow us to perform mathematical operations on blocks of data using syntax that we would use for the same type of operations between scalars.\n",
    "\n",
    "It is important to note that NumPy’s arrays are **homogeneous structures**. Usually the elements in the arrays are numbers, but this doesn't have to be the case. However, all elements of the array should be of the same type. "
   ]
  },
  {
   "cell_type": "markdown",
   "metadata": {},
   "source": [
    "Here are some important terms that will help us to work with NumPy arrays:\n",
    "- NumPy `dimensions` are called `axes`. \n",
    "- The number of dimensions is the `rank` of the array. You can say that the number of axes defines the rank of the array.\n",
    "- The `shape` of an array is a tuple of integers showing the size of the array along each dimension. \n",
    "\n",
    "**NOTE**: These terms are relative to the NumPy array *instance* in question. It is possible to nest general Python objects as elements of Numpy arrays. Numpy is blind to the data-dimensions of the object in each NumPy array element, unless they are of a type recognized by NumPy. For example, a scalar (one dimensional element), string (categorical data, thus zero or one dimension), or a NumPy array (arbitrary dimension) would be consistent with the terms above. These terms would no longer be consistent if used with tuples. \"*Dimension*\" in a data context refers to the number of array elements used to span a finite numerical space. \"*Dimension*\" in an array context refers to the number of indexes needed to traverse the `ndarray`.  Keep this in mind when going forward.\n",
    "\n",
    "We will review all these features in the next section."
   ]
  },
  {
   "cell_type": "markdown",
   "metadata": {},
   "source": [
    "<a id=\"Creating_Arrays\"></a>\n",
    "\n",
    "### Creating NumPy arrays"
   ]
  },
  {
   "cell_type": "markdown",
   "metadata": {},
   "source": [
    "NumPy arrays can be created:\n",
    "- from other Python structures, for example lists or tuples using an `array()` function\n",
    "- using `random` functions to create an array of random data, or using `range()` function to create an array of a sequence of numbers\n",
    "- using `zeros()`, `ones()` or `empty()` functions to create arrays of `0`s or `1`s or an array of uninitialized empty elements\n",
    "\n",
    "Let's create several arrays using these functions. "
   ]
  },
  {
   "cell_type": "markdown",
   "metadata": {},
   "source": [
    "#### Create NumPy arrays from lists, an overview of array properties"
   ]
  },
  {
   "cell_type": "markdown",
   "metadata": {},
   "source": [
    "The main NumPy library is `numpy` which we need to import to be able to use NumPy functionality."
   ]
  },
  {
   "cell_type": "code",
   "execution_count": 1,
   "metadata": {},
   "outputs": [],
   "source": [
    "import numpy as np"
   ]
  },
  {
   "cell_type": "markdown",
   "metadata": {},
   "source": [
    "Numerical data arranged in an array-like structure in Python can be converted to arrays using the `array()` function. The most obvious examples of array-like structures are lists and tuples. "
   ]
  },
  {
   "cell_type": "code",
   "execution_count": 2,
   "metadata": {},
   "outputs": [
    {
     "data": {
      "text/plain": [
       "array([  8,   3,  34, 111])"
      ]
     },
     "execution_count": 2,
     "metadata": {},
     "output_type": "execute_result"
    }
   ],
   "source": [
    "# First, we will use a simple list of 4 integer numbers to create an array\n",
    "\n",
    "list_int = [8, 3, 34, 111]\n",
    "a_int = np.array(list_int)\n",
    "a_int"
   ]
  },
  {
   "cell_type": "markdown",
   "metadata": {},
   "source": [
    "The **`rank`** of the array `a_int` is 1, it is a one-dimensional array of numbers. To check the rank of the array, use **`ndim`**, which outputs the number of axes (dimensions) of the array. \n",
    "\n",
    "To see what those dimensions are, use `.shape`. The output is a tuple of integers indicating the size of the array in each dimension."
   ]
  },
  {
   "cell_type": "code",
   "execution_count": 3,
   "metadata": {},
   "outputs": [
    {
     "data": {
      "text/plain": [
       "1"
      ]
     },
     "execution_count": 3,
     "metadata": {},
     "output_type": "execute_result"
    }
   ],
   "source": [
    "# The rank of the array, or the number of dimensions (axes):\n",
    "\n",
    "a_int.ndim"
   ]
  },
  {
   "cell_type": "code",
   "execution_count": 4,
   "metadata": {},
   "outputs": [
    {
     "data": {
      "text/plain": [
       "(4,)"
      ]
     },
     "execution_count": 4,
     "metadata": {},
     "output_type": "execute_result"
    }
   ],
   "source": [
    "# The size of the array in each dimension. \n",
    "# For a 1-dimensional array, this represents the number of elements along a single axis:\n",
    "\n",
    "a_int.shape"
   ]
  },
  {
   "cell_type": "markdown",
   "metadata": {},
   "source": [
    "We can check the type of the object using `type()` function, just like we did in the previous modules:"
   ]
  },
  {
   "cell_type": "code",
   "execution_count": 5,
   "metadata": {},
   "outputs": [
    {
     "data": {
      "text/plain": [
       "numpy.ndarray"
      ]
     },
     "execution_count": 5,
     "metadata": {},
     "output_type": "execute_result"
    }
   ],
   "source": [
    "type(a_int)  # NumPy’s array class is called ndarray."
   ]
  },
  {
   "cell_type": "markdown",
   "metadata": {},
   "source": [
    "**`dtype`** returns an object describing the type of the elements in the array."
   ]
  },
  {
   "cell_type": "code",
   "execution_count": 6,
   "metadata": {},
   "outputs": [
    {
     "data": {
      "text/plain": [
       "dtype('int64')"
      ]
     },
     "execution_count": 6,
     "metadata": {},
     "output_type": "execute_result"
    }
   ],
   "source": [
    "a_int.dtype"
   ]
  },
  {
   "cell_type": "markdown",
   "metadata": {},
   "source": [
    "This array was created from a list of integers, hence the array is of integer type."
   ]
  },
  {
   "cell_type": "markdown",
   "metadata": {},
   "source": [
    "To create a 2-dimensional array, we can use a list of lists. Below, we will create an array with 2 rows and 3 columns."
   ]
  },
  {
   "cell_type": "code",
   "execution_count": 7,
   "metadata": {},
   "outputs": [
    {
     "data": {
      "text/plain": [
       "array([[1.5, 2. , 3. ],\n",
       "       [4. , 5. , 6. ]])"
      ]
     },
     "execution_count": 7,
     "metadata": {},
     "output_type": "execute_result"
    }
   ],
   "source": [
    "list_2dim = [[1.5,2,3], [4,5,6]]\n",
    "a_2dim = np.array(list_2dim)\n",
    "a_2dim"
   ]
  },
  {
   "cell_type": "markdown",
   "metadata": {},
   "source": [
    "For a matrix with `n` rows and `m` columns, shape will be `(n,m)`:"
   ]
  },
  {
   "cell_type": "code",
   "execution_count": 8,
   "metadata": {},
   "outputs": [
    {
     "name": "stdout",
     "output_type": "stream",
     "text": [
      "2\n",
      "(2, 3)\n"
     ]
    }
   ],
   "source": [
    "print(a_2dim.ndim)  # number of dimensions\n",
    "print(a_2dim.shape) # the size of the array in each dimension"
   ]
  },
  {
   "cell_type": "markdown",
   "metadata": {},
   "source": [
    "`a_2dim` array has been created from a nested list of integers and floating point numbers. You can see above that each element of the array has decimal point after the number indicating the floating point data type."
   ]
  },
  {
   "cell_type": "code",
   "execution_count": 9,
   "metadata": {},
   "outputs": [
    {
     "data": {
      "text/plain": [
       "dtype('float64')"
      ]
     },
     "execution_count": 9,
     "metadata": {},
     "output_type": "execute_result"
    }
   ],
   "source": [
    "a_2dim.dtype"
   ]
  },
  {
   "cell_type": "markdown",
   "metadata": {},
   "source": [
    "We can create a NumPy array from a mix of tuples and lists:"
   ]
  },
  {
   "cell_type": "code",
   "execution_count": 10,
   "metadata": {},
   "outputs": [
    {
     "data": {
      "text/plain": [
       "array([[1.  , 2.  ],\n",
       "       [0.  , 0.  ],\n",
       "       [5.78, 3.  ]])"
      ]
     },
     "execution_count": 10,
     "metadata": {},
     "output_type": "execute_result"
    }
   ],
   "source": [
    "a_mix = np.array([[1, 2.0], [0, 0],(5.78, 3.)])\n",
    "a_mix"
   ]
  },
  {
   "cell_type": "markdown",
   "metadata": {},
   "source": [
    "The type of the array can be explicitly specified at creation time:"
   ]
  },
  {
   "cell_type": "code",
   "execution_count": 11,
   "metadata": {},
   "outputs": [
    {
     "data": {
      "text/plain": [
       "array([[1., 2.],\n",
       "       [3., 4.]])"
      ]
     },
     "execution_count": 11,
     "metadata": {},
     "output_type": "execute_result"
    }
   ],
   "source": [
    "a_intfloat = np.array([[1, 2], [3, 4]], dtype = float)\n",
    "a_intfloat"
   ]
  },
  {
   "cell_type": "markdown",
   "metadata": {},
   "source": [
    "Even though the elements of the nested list were all integers, the array created using this list is of `float64` type:"
   ]
  },
  {
   "cell_type": "code",
   "execution_count": 12,
   "metadata": {},
   "outputs": [
    {
     "data": {
      "text/plain": [
       "dtype('float64')"
      ]
     },
     "execution_count": 12,
     "metadata": {},
     "output_type": "execute_result"
    }
   ],
   "source": [
    "a_intfloat.dtype"
   ]
  },
  {
   "cell_type": "markdown",
   "metadata": {},
   "source": [
    "#### **EXERCISE 1:** Creating NumPy arrays from lists"
   ]
  },
  {
   "cell_type": "markdown",
   "metadata": {},
   "source": [
    "1). Create a 1-dimesional array of numbers from a list [2, 5.5, 3.1415, 0]. What type will be the resulting array?"
   ]
  },
  {
   "cell_type": "code",
   "execution_count": 4,
   "metadata": {},
   "outputs": [
    {
     "data": {
      "text/plain": [
       "array([2.    , 5.5   , 3.1415, 0.    ])"
      ]
     },
     "execution_count": 4,
     "metadata": {},
     "output_type": "execute_result"
    }
   ],
   "source": [
    "# Type your code here:\n",
    "a = np.array([2, 5.5, 3.1415, 0])\n",
    "a"
   ]
  },
  {
   "cell_type": "markdown",
   "metadata": {},
   "source": [
    "2). Create a 2-dimensional array of integers"
   ]
  },
  {
   "cell_type": "code",
   "execution_count": 10,
   "metadata": {},
   "outputs": [
    {
     "data": {
      "text/plain": [
       "array([[1., 2., 3.],\n",
       "       [4., 5., 6.]])"
      ]
     },
     "execution_count": 10,
     "metadata": {},
     "output_type": "execute_result"
    }
   ],
   "source": [
    "# Type your code here:\n",
    "b = np.array([[1,2,3], [4,5,6]], dtype = float)\n",
    "b"
   ]
  },
  {
   "cell_type": "code",
   "execution_count": null,
   "metadata": {
    "collapsed": true
   },
   "outputs": [],
   "source": []
  },
  {
   "cell_type": "code",
   "execution_count": null,
   "metadata": {
    "collapsed": true
   },
   "outputs": [],
   "source": []
  },
  {
   "cell_type": "code",
   "execution_count": 15,
   "metadata": {},
   "outputs": [
    {
     "data": {
      "text/plain": [
       "array([2.    , 5.5   , 3.1415, 0.    ])"
      ]
     },
     "execution_count": 15,
     "metadata": {},
     "output_type": "execute_result"
    }
   ],
   "source": [
    "# 1). Solution:\n",
    "\n",
    "list_numbers = [2, 5.5, 3.1415, 0]\n",
    "array_numbers = np.array(list_numbers)\n",
    "array_numbers"
   ]
  },
  {
   "cell_type": "code",
   "execution_count": 16,
   "metadata": {},
   "outputs": [
    {
     "data": {
      "text/plain": [
       "dtype('float64')"
      ]
     },
     "execution_count": 16,
     "metadata": {},
     "output_type": "execute_result"
    }
   ],
   "source": [
    "# Created array will have dtype = 'float64'\n",
    "# because the second and third elements of the list used to create an array are floating point numbers\n",
    "\n",
    "array_numbers.dtype"
   ]
  },
  {
   "cell_type": "code",
   "execution_count": 17,
   "metadata": {},
   "outputs": [
    {
     "data": {
      "text/plain": [
       "array([[2, 5, 3, 0],\n",
       "       [2, 5, 3, 0]])"
      ]
     },
     "execution_count": 17,
     "metadata": {},
     "output_type": "execute_result"
    }
   ],
   "source": [
    "# 2). Solution:\n",
    "\n",
    "ar_int_numbers1 = np.array([[2, 5.5, 3.1415, 0], [2, 5.5, 3.1415, 0]], dtype=int)\n",
    "ar_int_numbers1"
   ]
  },
  {
   "cell_type": "code",
   "execution_count": 18,
   "metadata": {},
   "outputs": [
    {
     "data": {
      "text/plain": [
       "array([[ 2,  5,  3],\n",
       "       [ 5, 12, 24]])"
      ]
     },
     "execution_count": 18,
     "metadata": {},
     "output_type": "execute_result"
    }
   ],
   "source": [
    "# We could have created an array using only integers as an input:\n",
    "\n",
    "ar_int_numbers2 = np.array([[2, 5, 3], [5, 12, 24]])\n",
    "ar_int_numbers2"
   ]
  },
  {
   "cell_type": "code",
   "execution_count": 19,
   "metadata": {},
   "outputs": [
    {
     "data": {
      "text/plain": [
       "dtype('int64')"
      ]
     },
     "execution_count": 19,
     "metadata": {},
     "output_type": "execute_result"
    }
   ],
   "source": [
    "ar_int_numbers1.dtype"
   ]
  },
  {
   "cell_type": "code",
   "execution_count": 20,
   "metadata": {},
   "outputs": [
    {
     "data": {
      "text/plain": [
       "dtype('int64')"
      ]
     },
     "execution_count": 20,
     "metadata": {},
     "output_type": "execute_result"
    }
   ],
   "source": [
    "ar_int_numbers2.dtype"
   ]
  },
  {
   "cell_type": "markdown",
   "metadata": {},
   "source": [
    "#### Creating NumPy array using `arange()`, `linspace()` and `random()` functions"
   ]
  },
  {
   "cell_type": "markdown",
   "metadata": {},
   "source": [
    "To create sequences of numbers, NumPy provides a function analogous to **`range()`** that returns arrays. The function **`arange()`** returns arrays with regularly incrementing values."
   ]
  },
  {
   "cell_type": "code",
   "execution_count": 21,
   "metadata": {},
   "outputs": [
    {
     "data": {
      "text/plain": [
       "array([0, 1, 2, 3, 4, 5, 6, 7, 8, 9])"
      ]
     },
     "execution_count": 21,
     "metadata": {},
     "output_type": "execute_result"
    }
   ],
   "source": [
    "# This will create an array of integers from 0 to 9\n",
    "\n",
    "np.arange(10)"
   ]
  },
  {
   "cell_type": "code",
   "execution_count": 22,
   "metadata": {},
   "outputs": [
    {
     "data": {
      "text/plain": [
       "array([2., 3., 4., 5., 6., 7., 8., 9.])"
      ]
     },
     "execution_count": 22,
     "metadata": {},
     "output_type": "execute_result"
    }
   ],
   "source": [
    "# An array of floating point numbers, from 2.0 to 9.0 (10 is excluded), with increment of 1.0\n",
    "\n",
    "np.arange(2, 10, dtype=float)"
   ]
  },
  {
   "cell_type": "code",
   "execution_count": 23,
   "metadata": {},
   "outputs": [
    {
     "data": {
      "text/plain": [
       "array([0. , 0.3, 0.6, 0.9, 1.2, 1.5, 1.8, 2.1, 2.4, 2.7, 3. , 3.3, 3.6,\n",
       "       3.9, 4.2, 4.5, 4.8, 5.1, 5.4, 5.7, 6. , 6.3, 6.6, 6.9, 7.2, 7.5,\n",
       "       7.8, 8.1, 8.4, 8.7, 9. , 9.3, 9.6, 9.9])"
      ]
     },
     "execution_count": 23,
     "metadata": {},
     "output_type": "execute_result"
    }
   ],
   "source": [
    "# An array of numbers from 0 to 10 (exclusive) with 0.3 increment\n",
    "\n",
    "np.arange(0, 10, 0.3)     # start, end (exclusive), step"
   ]
  },
  {
   "cell_type": "markdown",
   "metadata": {},
   "source": [
    "As we can see from the example above, when `arange()` function is used with floating point arguments, it is difficult to estimate the number of elements in the resulting array. \n",
    "\n",
    "If you need to create an array with the predefined number of elements between a start and an end point, use function `linspace()`. Function `linspace()` receives as an argument the number of elements that we want, instead of the step: `linspace(start, stop, number of elements)`."
   ]
  },
  {
   "cell_type": "code",
   "execution_count": 24,
   "metadata": {},
   "outputs": [
    {
     "data": {
      "text/plain": [
       "array([0.4       , 0.51666667, 0.63333333, 0.75      , 0.86666667,\n",
       "       0.98333333, 1.1       ])"
      ]
     },
     "execution_count": 24,
     "metadata": {},
     "output_type": "execute_result"
    }
   ],
   "source": [
    "np.linspace(0.4, 1.1, 7)    # create an array of 7 elements from 0.4 to 1.1 (inclusive)"
   ]
  },
  {
   "cell_type": "code",
   "execution_count": 25,
   "metadata": {},
   "outputs": [
    {
     "data": {
      "text/plain": [
       "array([0.4, 0.5, 0.6, 0.7, 0.8, 0.9, 1. ])"
      ]
     },
     "execution_count": 25,
     "metadata": {},
     "output_type": "execute_result"
    }
   ],
   "source": [
    "# If the end point should not be included, use endpoint=False parameter\n",
    "\n",
    "np.linspace(0.4, 1.1, 7, endpoint = False)"
   ]
  },
  {
   "cell_type": "markdown",
   "metadata": {},
   "source": [
    "To generate an array with some random data, we can use `np.random.randn()` function. The sequence of numbers created using this function will be normally distributed around its mean. For a complete list of functions for random sampling, refer to the NumPy documentation, [`numpy.random` package](https://docs.scipy.org/doc/numpy/reference/routines.random.html).  (SciPy community, 2018)"
   ]
  },
  {
   "cell_type": "code",
   "execution_count": 26,
   "metadata": {},
   "outputs": [
    {
     "data": {
      "text/plain": [
       "array([ 0.05939082, -0.49575749,  0.54485679, -1.07434219])"
      ]
     },
     "execution_count": 26,
     "metadata": {},
     "output_type": "execute_result"
    }
   ],
   "source": [
    "np.random.randn(4)  # 1-dimensional array of 4 normally distributed numbers"
   ]
  },
  {
   "cell_type": "code",
   "execution_count": 27,
   "metadata": {},
   "outputs": [
    {
     "data": {
      "text/plain": [
       "array([[ 0.94412535,  2.16498226, -1.30516753],\n",
       "       [-0.53715055, -0.96661248,  0.09073315]])"
      ]
     },
     "execution_count": 27,
     "metadata": {},
     "output_type": "execute_result"
    }
   ],
   "source": [
    "# creating 2x3 2-dimensional array of random numbers:\n",
    "\n",
    "np.random.randn(2, 3)"
   ]
  },
  {
   "cell_type": "markdown",
   "metadata": {},
   "source": [
    "#### **EXERCISE 2:** Creating NumPy arrays of random numbers and ranges"
   ]
  },
  {
   "cell_type": "markdown",
   "metadata": {},
   "source": [
    "1). Create two arrays of 5 numbers from 5 to 25 using `arange()` and `linspace()` functions"
   ]
  },
  {
   "cell_type": "code",
   "execution_count": 13,
   "metadata": {},
   "outputs": [
    {
     "data": {
      "text/plain": [
       "array([ 5, 10, 15, 20, 25])"
      ]
     },
     "execution_count": 13,
     "metadata": {},
     "output_type": "execute_result"
    }
   ],
   "source": [
    "# type your code here (`arange`)\n",
    "array_one = np.arange(5, 26, 5)\n",
    "array_one"
   ]
  },
  {
   "cell_type": "code",
   "execution_count": 15,
   "metadata": {},
   "outputs": [
    {
     "data": {
      "text/plain": [
       "array([ 5, 10, 15, 20, 25])"
      ]
     },
     "execution_count": 15,
     "metadata": {},
     "output_type": "execute_result"
    }
   ],
   "source": [
    "# type your code here (`linspace`)\n",
    "array_two = np.linspace(5, 25, 5, dtype = int)\n",
    "array_two"
   ]
  },
  {
   "cell_type": "markdown",
   "metadata": {},
   "source": [
    "2). Create an array of random numbers with dimensions 2x3 "
   ]
  },
  {
   "cell_type": "code",
   "execution_count": 30,
   "metadata": {
    "collapsed": true
   },
   "outputs": [],
   "source": [
    "# Type your code here:"
   ]
  },
  {
   "cell_type": "code",
   "execution_count": 30,
   "metadata": {},
   "outputs": [
    {
     "data": {
      "text/plain": [
       "array([[ 0.95008842, -0.15135721, -0.10321885],\n",
       "       [ 0.4105985 ,  0.14404357,  1.45427351]])"
      ]
     },
     "execution_count": 30,
     "metadata": {},
     "output_type": "execute_result"
    }
   ],
   "source": [
    "a = np.random.randn(2, 3)\n",
    "a"
   ]
  },
  {
   "cell_type": "code",
   "execution_count": null,
   "metadata": {
    "collapsed": true
   },
   "outputs": [],
   "source": []
  },
  {
   "cell_type": "code",
   "execution_count": null,
   "metadata": {
    "collapsed": true
   },
   "outputs": [],
   "source": []
  },
  {
   "cell_type": "code",
   "execution_count": 31,
   "metadata": {},
   "outputs": [
    {
     "data": {
      "text/plain": [
       "array([ 5, 10, 15, 20, 25])"
      ]
     },
     "execution_count": 31,
     "metadata": {},
     "output_type": "execute_result"
    }
   ],
   "source": [
    "# 1). Solution:\n",
    "\n",
    "arange_array = np.arange(5,26,5)\n",
    "arange_array"
   ]
  },
  {
   "cell_type": "markdown",
   "metadata": {},
   "source": [
    "In the solution above, we had to use a number greater than 25 as an endpoint, if we wanted 25 to be in the resulting array, per the exercise requirement."
   ]
  },
  {
   "cell_type": "code",
   "execution_count": 32,
   "metadata": {},
   "outputs": [
    {
     "data": {
      "text/plain": [
       "array([ 5, 10, 15, 20, 25])"
      ]
     },
     "execution_count": 32,
     "metadata": {},
     "output_type": "execute_result"
    }
   ],
   "source": [
    "linspace_array = np.linspace(5, 25, 5, dtype = int)\n",
    "linspace_array"
   ]
  },
  {
   "cell_type": "code",
   "execution_count": 22,
   "metadata": {},
   "outputs": [
    {
     "data": {
      "text/plain": [
       "array([[ 0.95008842, -0.15135721, -0.10321885],\n",
       "       [ 0.4105985 ,  0.14404357,  1.45427351]])"
      ]
     },
     "execution_count": 22,
     "metadata": {},
     "output_type": "execute_result"
    }
   ],
   "source": [
    "# 2). Solution:\n",
    "np.random.randn(2, 3)"
   ]
  },
  {
   "cell_type": "markdown",
   "metadata": {},
   "source": [
    "#### Creating NumPy arrays of 1s and 0s"
   ]
  },
  {
   "cell_type": "markdown",
   "metadata": {},
   "source": [
    "Often, in scientific computations, the elements of an array are originally unknown, but its size is known. For this scenario, NumPy has several functions to create arrays with initial placeholder content. \n",
    "\n",
    "The function `zeros()` creates an array full of zeros, the function `ones()` creates an array full of ones, and the function `empty()` creates an array without populating its elements with any predefined numbers. Hence, the initial content of this array is random and depends on the state of the memory. By default, the `dtype` of the created array is `float64`.\n",
    "\n",
    "In all cases, note that to define the shape of future array, we are passing tuples. For example, in the line below, we are passing a tuple (4,7) to create a 2-dimensional array of zeros with shape (4,7):"
   ]
  },
  {
   "cell_type": "code",
   "execution_count": 34,
   "metadata": {},
   "outputs": [
    {
     "data": {
      "text/plain": [
       "array([[0., 0., 0., 0., 0., 0., 0.],\n",
       "       [0., 0., 0., 0., 0., 0., 0.],\n",
       "       [0., 0., 0., 0., 0., 0., 0.],\n",
       "       [0., 0., 0., 0., 0., 0., 0.]])"
      ]
     },
     "execution_count": 34,
     "metadata": {},
     "output_type": "execute_result"
    }
   ],
   "source": [
    "array_zeros = np.zeros((4,7))\n",
    "array_zeros"
   ]
  },
  {
   "cell_type": "code",
   "execution_count": 35,
   "metadata": {},
   "outputs": [
    {
     "data": {
      "text/plain": [
       "(4, 7)"
      ]
     },
     "execution_count": 35,
     "metadata": {},
     "output_type": "execute_result"
    }
   ],
   "source": [
    "array_zeros.shape"
   ]
  },
  {
   "cell_type": "code",
   "execution_count": 36,
   "metadata": {},
   "outputs": [
    {
     "data": {
      "text/plain": [
       "array([[[1, 1, 1, 1],\n",
       "        [1, 1, 1, 1],\n",
       "        [1, 1, 1, 1]],\n",
       "\n",
       "       [[1, 1, 1, 1],\n",
       "        [1, 1, 1, 1],\n",
       "        [1, 1, 1, 1]]], dtype=int16)"
      ]
     },
     "execution_count": 36,
     "metadata": {},
     "output_type": "execute_result"
    }
   ],
   "source": [
    "# Create a 3-dimensional array, 2x3x4, of ones, of type integer\n",
    "\n",
    "np.ones((2, 3, 4), dtype = np.int16)"
   ]
  },
  {
   "cell_type": "code",
   "execution_count": 37,
   "metadata": {},
   "outputs": [
    {
     "data": {
      "text/plain": [
       "array([[ 2.68156159e+154, -2.68678775e+154,  3.95252517e-323,\n",
       "         0.00000000e+000,  0.00000000e+000],\n",
       "       [ 0.00000000e+000,  0.00000000e+000,  0.00000000e+000,\n",
       "         0.00000000e+000,  0.00000000e+000],\n",
       "       [ 0.00000000e+000,  0.00000000e+000,  0.00000000e+000,\n",
       "         0.00000000e+000,  0.00000000e+000]])"
      ]
     },
     "execution_count": 37,
     "metadata": {},
     "output_type": "execute_result"
    }
   ],
   "source": [
    "# Create an empty array, a placeholder\n",
    "\n",
    "np.empty((3, 5))"
   ]
  },
  {
   "cell_type": "markdown",
   "metadata": {},
   "source": [
    "<a id=\"Array_data_types\"></a>\n",
    "\n",
    "### Review of array data types"
   ]
  },
  {
   "cell_type": "markdown",
   "metadata": {},
   "source": [
    "In the previous section, we were able to create an array of a certain data type. For example, by using parameter `dtype=float`, we can create an array of all floating point numbers regardless of what is the data type of the numbers used to create an array.\n",
    "\n",
    "What if we need to convert (or _cast_) an array from one data type to another data type after it was created? It can be done with `astype()` method:"
   ]
  },
  {
   "cell_type": "code",
   "execution_count": 38,
   "metadata": {},
   "outputs": [
    {
     "data": {
      "text/plain": [
       "dtype('int64')"
      ]
     },
     "execution_count": 38,
     "metadata": {},
     "output_type": "execute_result"
    }
   ],
   "source": [
    "arr_int = np.array([1, 2, 3, 4, 5])\n",
    "arr_int.dtype"
   ]
  },
  {
   "cell_type": "code",
   "execution_count": 39,
   "metadata": {},
   "outputs": [
    {
     "data": {
      "text/plain": [
       "dtype('float64')"
      ]
     },
     "execution_count": 39,
     "metadata": {},
     "output_type": "execute_result"
    }
   ],
   "source": [
    "arr_float = arr_int.astype(np.float64)\n",
    "arr_float.dtype"
   ]
  },
  {
   "cell_type": "markdown",
   "metadata": {},
   "source": [
    "**NOTE:** Be careful when casting an array of floating point numbers to integers, - NumPy will simply truncate the decimal part of the number:"
   ]
  },
  {
   "cell_type": "code",
   "execution_count": 40,
   "metadata": {},
   "outputs": [
    {
     "data": {
      "text/plain": [
       "dtype('float64')"
      ]
     },
     "execution_count": 40,
     "metadata": {},
     "output_type": "execute_result"
    }
   ],
   "source": [
    "arr_float2 = np.array ([4.3, 5.34, 6.89, 0.3])\n",
    "arr_float2.dtype"
   ]
  },
  {
   "cell_type": "code",
   "execution_count": 41,
   "metadata": {},
   "outputs": [
    {
     "data": {
      "text/plain": [
       "array([4, 5, 6, 0], dtype=int32)"
      ]
     },
     "execution_count": 41,
     "metadata": {},
     "output_type": "execute_result"
    }
   ],
   "source": [
    "arr_int2 = arr_float2.astype(np.int32)\n",
    "arr_int2"
   ]
  },
  {
   "cell_type": "code",
   "execution_count": 41,
   "metadata": {},
   "outputs": [
    {
     "data": {
      "text/plain": [
       "array([1, 2, 3])"
      ]
     },
     "execution_count": 41,
     "metadata": {},
     "output_type": "execute_result"
    }
   ],
   "source": [
    "a = np.array([1.,2.,3.])\n",
    "b = a.astype(int)\n",
    "b"
   ]
  },
  {
   "cell_type": "markdown",
   "metadata": {},
   "source": [
    "`astype()` method can be used to convert numbers represented as strings to numeric form"
   ]
  },
  {
   "cell_type": "code",
   "execution_count": 42,
   "metadata": {},
   "outputs": [
    {
     "data": {
      "text/plain": [
       "array(['3.14', '4.56', '7.89', '32'], dtype='<U4')"
      ]
     },
     "execution_count": 42,
     "metadata": {},
     "output_type": "execute_result"
    }
   ],
   "source": [
    "arr_str = np.array(['3.14','4.56','7.89', '32'])\n",
    "arr_str"
   ]
  },
  {
   "cell_type": "code",
   "execution_count": 43,
   "metadata": {},
   "outputs": [
    {
     "data": {
      "text/plain": [
       "array([ 3.14,  4.56,  7.89, 32.  ])"
      ]
     },
     "execution_count": 43,
     "metadata": {},
     "output_type": "execute_result"
    }
   ],
   "source": [
    "arr_str.astype(np.float)"
   ]
  },
  {
   "cell_type": "markdown",
   "metadata": {},
   "source": [
    "**End of Part 1.**\n",
    "\n",
    "\n",
    "This notebook makes up one part of this module. Now that you have completed this part, please proceed to the next notebook in this module.\n",
    "\n",
    "If you have any questions, please reach out to your peers using the discussion boards. If you and your peers are unable to come to a suitable conclusion, do not hesitate to reach out to your instructor on the designated discussion board."
   ]
  },
  {
   "cell_type": "markdown",
   "metadata": {},
   "source": [
    "## References"
   ]
  },
  {
   "cell_type": "markdown",
   "metadata": {},
   "source": [
    "NumPy developers (2018). *NumPy*. Retrieved from [http://www.numpy.org/#](http://www.numpy.org/#)\n",
    "\n",
    "SciPy community (2018). *Random Sampling*. Retrieved from [https://docs.scipy.org/doc/numpy/reference/routines.random.html](https://docs.scipy.org/doc/numpy/reference/routines.random.html)"
   ]
  }
 ],
 "metadata": {
  "anaconda-cloud": {},
  "kernelspec": {
   "display_name": "Python 3",
   "language": "python",
   "name": "python3"
  },
  "language_info": {
   "codemirror_mode": {
    "name": "ipython",
    "version": 3
   },
   "file_extension": ".py",
   "mimetype": "text/x-python",
   "name": "python",
   "nbconvert_exporter": "python",
   "pygments_lexer": "ipython3",
   "version": "3.7.6"
  },
  "nbTranslate": {
   "displayLangs": [
    "en"
   ],
   "hotkey": "alt-t",
   "langInMainMenu": true,
   "sourceLang": "en",
   "targetLang": "fr",
   "useGoogleTranslate": true
  },
  "toc": {
   "base_numbering": 1,
   "nav_menu": {},
   "number_sections": true,
   "sideBar": true,
   "skip_h1_title": true,
   "title_cell": "Table of Contents",
   "title_sidebar": "Contents",
   "toc_cell": true,
   "toc_position": {
    "height": "calc(100% - 180px)",
    "left": "10px",
    "top": "150px",
    "width": "323px"
   },
   "toc_section_display": true,
   "toc_window_display": true
  },
  "varInspector": {
   "cols": {
    "lenName": 16,
    "lenType": 16,
    "lenVar": 40
   },
   "kernels_config": {
    "python": {
     "delete_cmd_postfix": "",
     "delete_cmd_prefix": "del ",
     "library": "var_list.py",
     "varRefreshCmd": "print(var_dic_list())"
    },
    "r": {
     "delete_cmd_postfix": ") ",
     "delete_cmd_prefix": "rm(",
     "library": "var_list.r",
     "varRefreshCmd": "cat(var_dic_list()) "
    }
   },
   "position": {
    "height": "1013px",
    "left": "2190px",
    "right": "20px",
    "top": "120px",
    "width": "354px"
   },
   "types_to_exclude": [
    "module",
    "function",
    "builtin_function_or_method",
    "instance",
    "_Feature"
   ],
   "window_display": true
  }
 },
 "nbformat": 4,
 "nbformat_minor": 2
}
